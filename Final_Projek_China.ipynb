{
  "nbformat": 4,
  "nbformat_minor": 0,
  "metadata": {
    "colab": {
      "provenance": [],
      "collapsed_sections": [
        "gUQZFJD1suA5"
      ],
      "include_colab_link": true
    },
    "kernelspec": {
      "name": "python3",
      "display_name": "Python 3"
    },
    "language_info": {
      "name": "python"
    }
  },
  "cells": [
    {
      "cell_type": "markdown",
      "metadata": {
        "id": "view-in-github",
        "colab_type": "text"
      },
      "source": [
        "<a href=\"https://colab.research.google.com/github/MirzaBanana/C5026201057/blob/main/Final_Projek_China.ipynb\" target=\"_parent\"><img src=\"https://colab.research.google.com/assets/colab-badge.svg\" alt=\"Open In Colab\"/></a>"
      ]
    },
    {
      "cell_type": "markdown",
      "source": [
        "# Group China Final Project"
      ],
      "metadata": {
        "id": "NibLMo0BAzCc"
      }
    },
    {
      "cell_type": "markdown",
      "source": [
        "# Import Libraries"
      ],
      "metadata": {
        "id": "fPDkfD8iAgzp"
      }
    },
    {
      "cell_type": "code",
      "source": [
        "'''!pip install pycaret\n",
        "!pip install -U numba'''"
      ],
      "metadata": {
        "colab": {
          "base_uri": "https://localhost:8080/",
          "height": 35
        },
        "id": "flglTcjsuUAO",
        "outputId": "231581e9-2ab5-4c33-ac83-2eafc8a53342"
      },
      "execution_count": null,
      "outputs": [
        {
          "output_type": "execute_result",
          "data": {
            "text/plain": [
              "'!pip install pycaret\\n!pip install -U numba'"
            ],
            "application/vnd.google.colaboratory.intrinsic+json": {
              "type": "string"
            }
          },
          "metadata": {},
          "execution_count": 381
        }
      ]
    },
    {
      "cell_type": "code",
      "source": [
        "!python -m pip install scikit-optimize"
      ],
      "metadata": {
        "colab": {
          "base_uri": "https://localhost:8080/"
        },
        "id": "P2ihDG3-uWNK",
        "outputId": "acbfc06b-8e01-4e17-c6a1-26af4eb4c6b5"
      },
      "execution_count": null,
      "outputs": [
        {
          "output_type": "stream",
          "name": "stdout",
          "text": [
            "Looking in indexes: https://pypi.org/simple, https://us-python.pkg.dev/colab-wheels/public/simple/\n",
            "Requirement already satisfied: scikit-optimize in /usr/local/lib/python3.7/dist-packages (0.9.0)\n",
            "Requirement already satisfied: numpy>=1.13.3 in /usr/local/lib/python3.7/dist-packages (from scikit-optimize) (1.21.6)\n",
            "Requirement already satisfied: scikit-learn>=0.20.0 in /usr/local/lib/python3.7/dist-packages (from scikit-optimize) (1.0.2)\n",
            "Requirement already satisfied: joblib>=0.11 in /usr/local/lib/python3.7/dist-packages (from scikit-optimize) (1.2.0)\n",
            "Requirement already satisfied: pyaml>=16.9 in /usr/local/lib/python3.7/dist-packages (from scikit-optimize) (21.10.1)\n",
            "Requirement already satisfied: scipy>=0.19.1 in /usr/local/lib/python3.7/dist-packages (from scikit-optimize) (1.7.3)\n",
            "Requirement already satisfied: PyYAML in /usr/local/lib/python3.7/dist-packages (from pyaml>=16.9->scikit-optimize) (6.0)\n",
            "Requirement already satisfied: threadpoolctl>=2.0.0 in /usr/local/lib/python3.7/dist-packages (from scikit-learn>=0.20.0->scikit-optimize) (3.1.0)\n"
          ]
        }
      ]
    },
    {
      "cell_type": "code",
      "source": [
        "#Import Library\n",
        "import pandas as pd\n",
        "import numpy as np\n",
        "import csv\n",
        "import matplotlib.pyplot as plt\n",
        "import seaborn as sns\n",
        "import datetime\n",
        "import json\n",
        "from sklearn.preprocessing import OneHotEncoder\n",
        "from sklearn.model_selection import train_test_split\n",
        "from imblearn.over_sampling import SMOTE, SMOTENC\n",
        "from imblearn.under_sampling import RandomUnderSampler\n",
        "from imblearn.over_sampling import RandomOverSampler\n",
        "from sklearn.preprocessing import StandardScaler\n",
        "from sklearn.preprocessing import MinMaxScaler\n",
        "from sklearn.linear_model import LogisticRegression, RidgeClassifier, SGDClassifier,  RidgeClassifierCV, LogisticRegressionCV\n",
        "from sklearn.ensemble import RandomForestClassifier, GradientBoostingClassifier\n",
        "from sklearn.tree import DecisionTreeClassifier\n",
        "from sklearn.neighbors import KNeighborsClassifier\n",
        "from sklearn.svm import SVC\n",
        "from sklearn.metrics import *\n",
        "from skopt import gp_minimize\n",
        "from skopt.space.space import Integer, Real, Categorical\n",
        "from sklearn.pipeline import Pipeline\n",
        "from sklearn.impute import KNNImputer\n",
        "from sklearn.model_selection import GridSearchCV, RandomizedSearchCV\n",
        "import warnings\n",
        "warnings.filterwarnings('ignore')"
      ],
      "metadata": {
        "id": "_ZDIOcoAWzTn"
      },
      "execution_count": null,
      "outputs": []
    },
    {
      "cell_type": "markdown",
      "metadata": {
        "id": "gUQZFJD1suA5"
      },
      "source": [
        "# Data Collecting"
      ]
    },
    {
      "cell_type": "code",
      "execution_count": null,
      "metadata": {
        "colab": {
          "base_uri": "https://localhost:8080/"
        },
        "outputId": "f9a66235-63b0-4c48-b9bc-cde58e8b22fe",
        "id": "A3lsaq9SsuA7"
      },
      "outputs": [
        {
          "output_type": "stream",
          "name": "stdout",
          "text": [
            "Drive already mounted at /content/drive; to attempt to forcibly remount, call drive.mount(\"/content/drive\", force_remount=True).\n"
          ]
        }
      ],
      "source": [
        "from google.colab import drive\n",
        "drive.mount('/content/drive')"
      ]
    },
    {
      "cell_type": "code",
      "execution_count": null,
      "metadata": {
        "colab": {
          "base_uri": "https://localhost:8080/"
        },
        "outputId": "e27517a4-6199-44ef-ad05-f760ffcf4cda",
        "id": "qLGkTG9ysuA8"
      },
      "outputs": [
        {
          "output_type": "stream",
          "name": "stderr",
          "text": [
            "b'Skipping line 6044: expected 10 fields, saw 11\\nSkipping line 6569: expected 10 fields, saw 11\\nSkipping line 7399: expected 10 fields, saw 11\\nSkipping line 7939: expected 10 fields, saw 11\\nSkipping line 9026: expected 10 fields, saw 11\\nSkipping line 10264: expected 10 fields, saw 11\\nSkipping line 10427: expected 10 fields, saw 11\\nSkipping line 10905: expected 10 fields, saw 11\\nSkipping line 11373: expected 10 fields, saw 11\\nSkipping line 11945: expected 10 fields, saw 11\\nSkipping line 14112: expected 10 fields, saw 11\\nSkipping line 14532: expected 10 fields, saw 11\\nSkipping line 15076: expected 10 fields, saw 12\\nSkipping line 29906: expected 10 fields, saw 11\\nSkipping line 31625: expected 10 fields, saw 11\\nSkipping line 33020: expected 10 fields, saw 11\\nSkipping line 35748: expected 10 fields, saw 11\\nSkipping line 35962: expected 10 fields, saw 11\\nSkipping line 37770: expected 10 fields, saw 11\\nSkipping line 38105: expected 10 fields, saw 11\\nSkipping line 38275: expected 10 fields, saw 11\\nSkipping line 38404: expected 10 fields, saw 12\\n'\n"
          ]
        }
      ],
      "source": [
        "customer = pd.read_csv(\"/content/drive/MyDrive/Mockup Datasets/customer.csv\")\n",
        "transaction = pd.read_csv(\"/content/drive/MyDrive/Mockup Datasets/transactions.csv\")\n",
        "product = pd.read_csv(\"/content/drive/MyDrive/Mockup Datasets/product.csv\",error_bad_lines=False)"
      ]
    },
    {
      "cell_type": "code",
      "execution_count": null,
      "metadata": {
        "id": "yCt7cnRoQiQH",
        "colab": {
          "base_uri": "https://localhost:8080/"
        },
        "outputId": "fe6abfdb-ab2f-4c83-e29f-03b36b817403"
      },
      "outputs": [
        {
          "output_type": "stream",
          "name": "stdout",
          "text": [
            "<class 'pandas.core.frame.DataFrame'>\n",
            "RangeIndex: 100000 entries, 0 to 99999\n",
            "Data columns (total 15 columns):\n",
            " #   Column              Non-Null Count   Dtype  \n",
            "---  ------              --------------   -----  \n",
            " 0   customer_id         100000 non-null  int64  \n",
            " 1   first_name          100000 non-null  object \n",
            " 2   last_name           100000 non-null  object \n",
            " 3   username            100000 non-null  object \n",
            " 4   email               100000 non-null  object \n",
            " 5   gender              100000 non-null  object \n",
            " 6   birthdate           100000 non-null  object \n",
            " 7   device_type         100000 non-null  object \n",
            " 8   device_id           100000 non-null  object \n",
            " 9   device_version      100000 non-null  object \n",
            " 10  home_location_lat   100000 non-null  float64\n",
            " 11  home_location_long  100000 non-null  float64\n",
            " 12  home_location       100000 non-null  object \n",
            " 13  home_country        100000 non-null  object \n",
            " 14  first_join_date     100000 non-null  object \n",
            "dtypes: float64(2), int64(1), object(12)\n",
            "memory usage: 11.4+ MB\n"
          ]
        }
      ],
      "source": [
        "customer.info()"
      ]
    },
    {
      "cell_type": "code",
      "execution_count": null,
      "metadata": {
        "id": "jSCERHPJSXXi",
        "colab": {
          "base_uri": "https://localhost:8080/",
          "height": 311
        },
        "outputId": "57618667-605e-476b-8806-8a9b249f1184"
      },
      "outputs": [
        {
          "output_type": "execute_result",
          "data": {
            "text/plain": [
              "       customer_id gender device_type                             device_id  \\\n",
              "35824        27408      F     Android  2f1c7e88-e1d7-448e-a49d-d4c487d2e66d   \n",
              "6021         20571      F     Android  fb9e35b2-a02d-4a56-bfeb-6c0add3b3903   \n",
              "76963         1737      M     Android  3f838637-42cc-417b-969c-abc987e0a464   \n",
              "\n",
              "        birthdate     home_location first_join_date  \n",
              "35824  1998-10-03      Jakarta Raya      2020-11-03  \n",
              "6021   1990-08-30        Jawa Timur      2021-12-26  \n",
              "76963  1994-04-15  Kalimantan Barat      2021-11-27  "
            ],
            "text/html": [
              "\n",
              "  <div id=\"df-6321fbf7-1c29-46f6-a5fe-c3b0047b1a9f\">\n",
              "    <div class=\"colab-df-container\">\n",
              "      <div>\n",
              "<style scoped>\n",
              "    .dataframe tbody tr th:only-of-type {\n",
              "        vertical-align: middle;\n",
              "    }\n",
              "\n",
              "    .dataframe tbody tr th {\n",
              "        vertical-align: top;\n",
              "    }\n",
              "\n",
              "    .dataframe thead th {\n",
              "        text-align: right;\n",
              "    }\n",
              "</style>\n",
              "<table border=\"1\" class=\"dataframe\">\n",
              "  <thead>\n",
              "    <tr style=\"text-align: right;\">\n",
              "      <th></th>\n",
              "      <th>customer_id</th>\n",
              "      <th>gender</th>\n",
              "      <th>device_type</th>\n",
              "      <th>device_id</th>\n",
              "      <th>birthdate</th>\n",
              "      <th>home_location</th>\n",
              "      <th>first_join_date</th>\n",
              "    </tr>\n",
              "  </thead>\n",
              "  <tbody>\n",
              "    <tr>\n",
              "      <th>35824</th>\n",
              "      <td>27408</td>\n",
              "      <td>F</td>\n",
              "      <td>Android</td>\n",
              "      <td>2f1c7e88-e1d7-448e-a49d-d4c487d2e66d</td>\n",
              "      <td>1998-10-03</td>\n",
              "      <td>Jakarta Raya</td>\n",
              "      <td>2020-11-03</td>\n",
              "    </tr>\n",
              "    <tr>\n",
              "      <th>6021</th>\n",
              "      <td>20571</td>\n",
              "      <td>F</td>\n",
              "      <td>Android</td>\n",
              "      <td>fb9e35b2-a02d-4a56-bfeb-6c0add3b3903</td>\n",
              "      <td>1990-08-30</td>\n",
              "      <td>Jawa Timur</td>\n",
              "      <td>2021-12-26</td>\n",
              "    </tr>\n",
              "    <tr>\n",
              "      <th>76963</th>\n",
              "      <td>1737</td>\n",
              "      <td>M</td>\n",
              "      <td>Android</td>\n",
              "      <td>3f838637-42cc-417b-969c-abc987e0a464</td>\n",
              "      <td>1994-04-15</td>\n",
              "      <td>Kalimantan Barat</td>\n",
              "      <td>2021-11-27</td>\n",
              "    </tr>\n",
              "  </tbody>\n",
              "</table>\n",
              "</div>\n",
              "      <button class=\"colab-df-convert\" onclick=\"convertToInteractive('df-6321fbf7-1c29-46f6-a5fe-c3b0047b1a9f')\"\n",
              "              title=\"Convert this dataframe to an interactive table.\"\n",
              "              style=\"display:none;\">\n",
              "        \n",
              "  <svg xmlns=\"http://www.w3.org/2000/svg\" height=\"24px\"viewBox=\"0 0 24 24\"\n",
              "       width=\"24px\">\n",
              "    <path d=\"M0 0h24v24H0V0z\" fill=\"none\"/>\n",
              "    <path d=\"M18.56 5.44l.94 2.06.94-2.06 2.06-.94-2.06-.94-.94-2.06-.94 2.06-2.06.94zm-11 1L8.5 8.5l.94-2.06 2.06-.94-2.06-.94L8.5 2.5l-.94 2.06-2.06.94zm10 10l.94 2.06.94-2.06 2.06-.94-2.06-.94-.94-2.06-.94 2.06-2.06.94z\"/><path d=\"M17.41 7.96l-1.37-1.37c-.4-.4-.92-.59-1.43-.59-.52 0-1.04.2-1.43.59L10.3 9.45l-7.72 7.72c-.78.78-.78 2.05 0 2.83L4 21.41c.39.39.9.59 1.41.59.51 0 1.02-.2 1.41-.59l7.78-7.78 2.81-2.81c.8-.78.8-2.07 0-2.86zM5.41 20L4 18.59l7.72-7.72 1.47 1.35L5.41 20z\"/>\n",
              "  </svg>\n",
              "      </button>\n",
              "      \n",
              "  <style>\n",
              "    .colab-df-container {\n",
              "      display:flex;\n",
              "      flex-wrap:wrap;\n",
              "      gap: 12px;\n",
              "    }\n",
              "\n",
              "    .colab-df-convert {\n",
              "      background-color: #E8F0FE;\n",
              "      border: none;\n",
              "      border-radius: 50%;\n",
              "      cursor: pointer;\n",
              "      display: none;\n",
              "      fill: #1967D2;\n",
              "      height: 32px;\n",
              "      padding: 0 0 0 0;\n",
              "      width: 32px;\n",
              "    }\n",
              "\n",
              "    .colab-df-convert:hover {\n",
              "      background-color: #E2EBFA;\n",
              "      box-shadow: 0px 1px 2px rgba(60, 64, 67, 0.3), 0px 1px 3px 1px rgba(60, 64, 67, 0.15);\n",
              "      fill: #174EA6;\n",
              "    }\n",
              "\n",
              "    [theme=dark] .colab-df-convert {\n",
              "      background-color: #3B4455;\n",
              "      fill: #D2E3FC;\n",
              "    }\n",
              "\n",
              "    [theme=dark] .colab-df-convert:hover {\n",
              "      background-color: #434B5C;\n",
              "      box-shadow: 0px 1px 3px 1px rgba(0, 0, 0, 0.15);\n",
              "      filter: drop-shadow(0px 1px 2px rgba(0, 0, 0, 0.3));\n",
              "      fill: #FFFFFF;\n",
              "    }\n",
              "  </style>\n",
              "\n",
              "      <script>\n",
              "        const buttonEl =\n",
              "          document.querySelector('#df-6321fbf7-1c29-46f6-a5fe-c3b0047b1a9f button.colab-df-convert');\n",
              "        buttonEl.style.display =\n",
              "          google.colab.kernel.accessAllowed ? 'block' : 'none';\n",
              "\n",
              "        async function convertToInteractive(key) {\n",
              "          const element = document.querySelector('#df-6321fbf7-1c29-46f6-a5fe-c3b0047b1a9f');\n",
              "          const dataTable =\n",
              "            await google.colab.kernel.invokeFunction('convertToInteractive',\n",
              "                                                     [key], {});\n",
              "          if (!dataTable) return;\n",
              "\n",
              "          const docLinkHtml = 'Like what you see? Visit the ' +\n",
              "            '<a target=\"_blank\" href=https://colab.research.google.com/notebooks/data_table.ipynb>data table notebook</a>'\n",
              "            + ' to learn more about interactive tables.';\n",
              "          element.innerHTML = '';\n",
              "          dataTable['output_type'] = 'display_data';\n",
              "          await google.colab.output.renderOutput(dataTable, element);\n",
              "          const docLink = document.createElement('div');\n",
              "          docLink.innerHTML = docLinkHtml;\n",
              "          element.appendChild(docLink);\n",
              "        }\n",
              "      </script>\n",
              "    </div>\n",
              "  </div>\n",
              "  "
            ]
          },
          "metadata": {},
          "execution_count": 387
        }
      ],
      "source": [
        "customer = customer[['customer_id','gender','device_type','device_id','birthdate','home_location','first_join_date']]\n",
        "customer.sample(3)"
      ]
    },
    {
      "cell_type": "code",
      "execution_count": null,
      "metadata": {
        "id": "26LAzS7dQliu",
        "colab": {
          "base_uri": "https://localhost:8080/"
        },
        "outputId": "2a7aef2d-674b-474a-94d3-b6881000dace"
      },
      "outputs": [
        {
          "output_type": "stream",
          "name": "stdout",
          "text": [
            "<class 'pandas.core.frame.DataFrame'>\n",
            "RangeIndex: 852584 entries, 0 to 852583\n",
            "Data columns (total 14 columns):\n",
            " #   Column                  Non-Null Count   Dtype  \n",
            "---  ------                  --------------   -----  \n",
            " 0   created_at              852584 non-null  object \n",
            " 1   customer_id             852584 non-null  int64  \n",
            " 2   booking_id              852584 non-null  object \n",
            " 3   session_id              852584 non-null  object \n",
            " 4   product_metadata        852584 non-null  object \n",
            " 5   payment_method          852584 non-null  object \n",
            " 6   payment_status          852584 non-null  object \n",
            " 7   promo_amount            852584 non-null  int64  \n",
            " 8   promo_code              326536 non-null  object \n",
            " 9   shipment_fee            852584 non-null  int64  \n",
            " 10  shipment_date_limit     852584 non-null  object \n",
            " 11  shipment_location_lat   852584 non-null  float64\n",
            " 12  shipment_location_long  852584 non-null  float64\n",
            " 13  total_amount            852584 non-null  int64  \n",
            "dtypes: float64(2), int64(4), object(8)\n",
            "memory usage: 91.1+ MB\n"
          ]
        }
      ],
      "source": [
        "transaction.info()"
      ]
    },
    {
      "cell_type": "code",
      "execution_count": null,
      "metadata": {
        "id": "KJwYjVjAS-b0",
        "colab": {
          "base_uri": "https://localhost:8080/",
          "height": 311
        },
        "outputId": "71dfd3b0-479c-45ba-a8a7-6a98a8b2d22a"
      },
      "outputs": [
        {
          "output_type": "execute_result",
          "data": {
            "text/plain": [
              "                         created_at  customer_id  \\\n",
              "537133  2021-04-04T05:28:45.497080Z        65138   \n",
              "360175  2019-07-27T05:22:29.329144Z        96351   \n",
              "344228  2018-10-29T18:48:30.019905Z        82491   \n",
              "\n",
              "                                  booking_id  \\\n",
              "537133  355bf8eb-4b43-4dc2-98c0-e218b58ef219   \n",
              "360175  41ea8db1-ccc4-4ebb-b40c-371c76b6c7a6   \n",
              "344228  6313d2e4-3fc9-4b4c-a31d-e7cc3bda2340   \n",
              "\n",
              "                                  session_id payment_status  promo_amount  \\\n",
              "537133  a733264a-8205-4d05-a25b-31ef825c32c2        Success             0   \n",
              "360175  d7e2ee41-a4c3-4bc3-a5d2-b458649251b2        Success             0   \n",
              "344228  fa2dcada-38a8-46b2-a6dd-419580ce5712        Success          3879   \n",
              "\n",
              "       promo_code  total_amount  \n",
              "537133        NaN        465788  \n",
              "360175        NaN        249298  \n",
              "344228    BUYMORE        216945  "
            ],
            "text/html": [
              "\n",
              "  <div id=\"df-59e0d85e-b143-473d-b216-f0e358298c05\">\n",
              "    <div class=\"colab-df-container\">\n",
              "      <div>\n",
              "<style scoped>\n",
              "    .dataframe tbody tr th:only-of-type {\n",
              "        vertical-align: middle;\n",
              "    }\n",
              "\n",
              "    .dataframe tbody tr th {\n",
              "        vertical-align: top;\n",
              "    }\n",
              "\n",
              "    .dataframe thead th {\n",
              "        text-align: right;\n",
              "    }\n",
              "</style>\n",
              "<table border=\"1\" class=\"dataframe\">\n",
              "  <thead>\n",
              "    <tr style=\"text-align: right;\">\n",
              "      <th></th>\n",
              "      <th>created_at</th>\n",
              "      <th>customer_id</th>\n",
              "      <th>booking_id</th>\n",
              "      <th>session_id</th>\n",
              "      <th>payment_status</th>\n",
              "      <th>promo_amount</th>\n",
              "      <th>promo_code</th>\n",
              "      <th>total_amount</th>\n",
              "    </tr>\n",
              "  </thead>\n",
              "  <tbody>\n",
              "    <tr>\n",
              "      <th>537133</th>\n",
              "      <td>2021-04-04T05:28:45.497080Z</td>\n",
              "      <td>65138</td>\n",
              "      <td>355bf8eb-4b43-4dc2-98c0-e218b58ef219</td>\n",
              "      <td>a733264a-8205-4d05-a25b-31ef825c32c2</td>\n",
              "      <td>Success</td>\n",
              "      <td>0</td>\n",
              "      <td>NaN</td>\n",
              "      <td>465788</td>\n",
              "    </tr>\n",
              "    <tr>\n",
              "      <th>360175</th>\n",
              "      <td>2019-07-27T05:22:29.329144Z</td>\n",
              "      <td>96351</td>\n",
              "      <td>41ea8db1-ccc4-4ebb-b40c-371c76b6c7a6</td>\n",
              "      <td>d7e2ee41-a4c3-4bc3-a5d2-b458649251b2</td>\n",
              "      <td>Success</td>\n",
              "      <td>0</td>\n",
              "      <td>NaN</td>\n",
              "      <td>249298</td>\n",
              "    </tr>\n",
              "    <tr>\n",
              "      <th>344228</th>\n",
              "      <td>2018-10-29T18:48:30.019905Z</td>\n",
              "      <td>82491</td>\n",
              "      <td>6313d2e4-3fc9-4b4c-a31d-e7cc3bda2340</td>\n",
              "      <td>fa2dcada-38a8-46b2-a6dd-419580ce5712</td>\n",
              "      <td>Success</td>\n",
              "      <td>3879</td>\n",
              "      <td>BUYMORE</td>\n",
              "      <td>216945</td>\n",
              "    </tr>\n",
              "  </tbody>\n",
              "</table>\n",
              "</div>\n",
              "      <button class=\"colab-df-convert\" onclick=\"convertToInteractive('df-59e0d85e-b143-473d-b216-f0e358298c05')\"\n",
              "              title=\"Convert this dataframe to an interactive table.\"\n",
              "              style=\"display:none;\">\n",
              "        \n",
              "  <svg xmlns=\"http://www.w3.org/2000/svg\" height=\"24px\"viewBox=\"0 0 24 24\"\n",
              "       width=\"24px\">\n",
              "    <path d=\"M0 0h24v24H0V0z\" fill=\"none\"/>\n",
              "    <path d=\"M18.56 5.44l.94 2.06.94-2.06 2.06-.94-2.06-.94-.94-2.06-.94 2.06-2.06.94zm-11 1L8.5 8.5l.94-2.06 2.06-.94-2.06-.94L8.5 2.5l-.94 2.06-2.06.94zm10 10l.94 2.06.94-2.06 2.06-.94-2.06-.94-.94-2.06-.94 2.06-2.06.94z\"/><path d=\"M17.41 7.96l-1.37-1.37c-.4-.4-.92-.59-1.43-.59-.52 0-1.04.2-1.43.59L10.3 9.45l-7.72 7.72c-.78.78-.78 2.05 0 2.83L4 21.41c.39.39.9.59 1.41.59.51 0 1.02-.2 1.41-.59l7.78-7.78 2.81-2.81c.8-.78.8-2.07 0-2.86zM5.41 20L4 18.59l7.72-7.72 1.47 1.35L5.41 20z\"/>\n",
              "  </svg>\n",
              "      </button>\n",
              "      \n",
              "  <style>\n",
              "    .colab-df-container {\n",
              "      display:flex;\n",
              "      flex-wrap:wrap;\n",
              "      gap: 12px;\n",
              "    }\n",
              "\n",
              "    .colab-df-convert {\n",
              "      background-color: #E8F0FE;\n",
              "      border: none;\n",
              "      border-radius: 50%;\n",
              "      cursor: pointer;\n",
              "      display: none;\n",
              "      fill: #1967D2;\n",
              "      height: 32px;\n",
              "      padding: 0 0 0 0;\n",
              "      width: 32px;\n",
              "    }\n",
              "\n",
              "    .colab-df-convert:hover {\n",
              "      background-color: #E2EBFA;\n",
              "      box-shadow: 0px 1px 2px rgba(60, 64, 67, 0.3), 0px 1px 3px 1px rgba(60, 64, 67, 0.15);\n",
              "      fill: #174EA6;\n",
              "    }\n",
              "\n",
              "    [theme=dark] .colab-df-convert {\n",
              "      background-color: #3B4455;\n",
              "      fill: #D2E3FC;\n",
              "    }\n",
              "\n",
              "    [theme=dark] .colab-df-convert:hover {\n",
              "      background-color: #434B5C;\n",
              "      box-shadow: 0px 1px 3px 1px rgba(0, 0, 0, 0.15);\n",
              "      filter: drop-shadow(0px 1px 2px rgba(0, 0, 0, 0.3));\n",
              "      fill: #FFFFFF;\n",
              "    }\n",
              "  </style>\n",
              "\n",
              "      <script>\n",
              "        const buttonEl =\n",
              "          document.querySelector('#df-59e0d85e-b143-473d-b216-f0e358298c05 button.colab-df-convert');\n",
              "        buttonEl.style.display =\n",
              "          google.colab.kernel.accessAllowed ? 'block' : 'none';\n",
              "\n",
              "        async function convertToInteractive(key) {\n",
              "          const element = document.querySelector('#df-59e0d85e-b143-473d-b216-f0e358298c05');\n",
              "          const dataTable =\n",
              "            await google.colab.kernel.invokeFunction('convertToInteractive',\n",
              "                                                     [key], {});\n",
              "          if (!dataTable) return;\n",
              "\n",
              "          const docLinkHtml = 'Like what you see? Visit the ' +\n",
              "            '<a target=\"_blank\" href=https://colab.research.google.com/notebooks/data_table.ipynb>data table notebook</a>'\n",
              "            + ' to learn more about interactive tables.';\n",
              "          element.innerHTML = '';\n",
              "          dataTable['output_type'] = 'display_data';\n",
              "          await google.colab.output.renderOutput(dataTable, element);\n",
              "          const docLink = document.createElement('div');\n",
              "          docLink.innerHTML = docLinkHtml;\n",
              "          element.appendChild(docLink);\n",
              "        }\n",
              "      </script>\n",
              "    </div>\n",
              "  </div>\n",
              "  "
            ]
          },
          "metadata": {},
          "execution_count": 389
        }
      ],
      "source": [
        "transaction = transaction[['created_at','customer_id','booking_id','session_id','payment_status','promo_amount','promo_code','total_amount']]\n",
        "transaction.sample(3)"
      ]
    },
    {
      "cell_type": "code",
      "execution_count": null,
      "metadata": {
        "id": "9JCMHwYFQo6u",
        "colab": {
          "base_uri": "https://localhost:8080/"
        },
        "outputId": "407e96cd-bdba-4c24-a42c-45a597d3e0ae"
      },
      "outputs": [
        {
          "output_type": "stream",
          "name": "stdout",
          "text": [
            "<class 'pandas.core.frame.DataFrame'>\n",
            "RangeIndex: 44424 entries, 0 to 44423\n",
            "Data columns (total 10 columns):\n",
            " #   Column              Non-Null Count  Dtype  \n",
            "---  ------              --------------  -----  \n",
            " 0   id                  44424 non-null  int64  \n",
            " 1   gender              44424 non-null  object \n",
            " 2   masterCategory      44424 non-null  object \n",
            " 3   subCategory         44424 non-null  object \n",
            " 4   articleType         44424 non-null  object \n",
            " 5   baseColour          44409 non-null  object \n",
            " 6   season              44403 non-null  object \n",
            " 7   year                44423 non-null  float64\n",
            " 8   usage               44107 non-null  object \n",
            " 9   productDisplayName  44417 non-null  object \n",
            "dtypes: float64(1), int64(1), object(8)\n",
            "memory usage: 3.4+ MB\n"
          ]
        }
      ],
      "source": [
        "product.info()"
      ]
    },
    {
      "cell_type": "code",
      "execution_count": null,
      "metadata": {
        "id": "61jwDuDYTor2",
        "colab": {
          "base_uri": "https://localhost:8080/",
          "height": 277
        },
        "outputId": "cd3767d8-bfb0-4391-bc5b-9072709fef8a"
      },
      "outputs": [
        {
          "output_type": "execute_result",
          "data": {
            "text/plain": [
              "          id gender masterCategory subCategory articleType baseColour  season  \\\n",
              "23085  27476  Women        Apparel   Innerwear         Bra      Black  Winter   \n",
              "18882  45281  Women    Accessories     Wallets     Wallets        Red  Summer   \n",
              "14712  31881  Women    Accessories      Stoles      Stoles       Blue  Summer   \n",
              "\n",
              "         year   usage                      productDisplayName  \n",
              "23085  2015.0  Casual  Jockey Essence Black Seamless Bra 2003  \n",
              "18882  2012.0  Casual            Lino Perros Women Red Wallet  \n",
              "14712  2012.0  Casual               Fabindia Women Blue Stole  "
            ],
            "text/html": [
              "\n",
              "  <div id=\"df-8bfee916-fe3c-400f-9696-370187550bee\">\n",
              "    <div class=\"colab-df-container\">\n",
              "      <div>\n",
              "<style scoped>\n",
              "    .dataframe tbody tr th:only-of-type {\n",
              "        vertical-align: middle;\n",
              "    }\n",
              "\n",
              "    .dataframe tbody tr th {\n",
              "        vertical-align: top;\n",
              "    }\n",
              "\n",
              "    .dataframe thead th {\n",
              "        text-align: right;\n",
              "    }\n",
              "</style>\n",
              "<table border=\"1\" class=\"dataframe\">\n",
              "  <thead>\n",
              "    <tr style=\"text-align: right;\">\n",
              "      <th></th>\n",
              "      <th>id</th>\n",
              "      <th>gender</th>\n",
              "      <th>masterCategory</th>\n",
              "      <th>subCategory</th>\n",
              "      <th>articleType</th>\n",
              "      <th>baseColour</th>\n",
              "      <th>season</th>\n",
              "      <th>year</th>\n",
              "      <th>usage</th>\n",
              "      <th>productDisplayName</th>\n",
              "    </tr>\n",
              "  </thead>\n",
              "  <tbody>\n",
              "    <tr>\n",
              "      <th>23085</th>\n",
              "      <td>27476</td>\n",
              "      <td>Women</td>\n",
              "      <td>Apparel</td>\n",
              "      <td>Innerwear</td>\n",
              "      <td>Bra</td>\n",
              "      <td>Black</td>\n",
              "      <td>Winter</td>\n",
              "      <td>2015.0</td>\n",
              "      <td>Casual</td>\n",
              "      <td>Jockey Essence Black Seamless Bra 2003</td>\n",
              "    </tr>\n",
              "    <tr>\n",
              "      <th>18882</th>\n",
              "      <td>45281</td>\n",
              "      <td>Women</td>\n",
              "      <td>Accessories</td>\n",
              "      <td>Wallets</td>\n",
              "      <td>Wallets</td>\n",
              "      <td>Red</td>\n",
              "      <td>Summer</td>\n",
              "      <td>2012.0</td>\n",
              "      <td>Casual</td>\n",
              "      <td>Lino Perros Women Red Wallet</td>\n",
              "    </tr>\n",
              "    <tr>\n",
              "      <th>14712</th>\n",
              "      <td>31881</td>\n",
              "      <td>Women</td>\n",
              "      <td>Accessories</td>\n",
              "      <td>Stoles</td>\n",
              "      <td>Stoles</td>\n",
              "      <td>Blue</td>\n",
              "      <td>Summer</td>\n",
              "      <td>2012.0</td>\n",
              "      <td>Casual</td>\n",
              "      <td>Fabindia Women Blue Stole</td>\n",
              "    </tr>\n",
              "  </tbody>\n",
              "</table>\n",
              "</div>\n",
              "      <button class=\"colab-df-convert\" onclick=\"convertToInteractive('df-8bfee916-fe3c-400f-9696-370187550bee')\"\n",
              "              title=\"Convert this dataframe to an interactive table.\"\n",
              "              style=\"display:none;\">\n",
              "        \n",
              "  <svg xmlns=\"http://www.w3.org/2000/svg\" height=\"24px\"viewBox=\"0 0 24 24\"\n",
              "       width=\"24px\">\n",
              "    <path d=\"M0 0h24v24H0V0z\" fill=\"none\"/>\n",
              "    <path d=\"M18.56 5.44l.94 2.06.94-2.06 2.06-.94-2.06-.94-.94-2.06-.94 2.06-2.06.94zm-11 1L8.5 8.5l.94-2.06 2.06-.94-2.06-.94L8.5 2.5l-.94 2.06-2.06.94zm10 10l.94 2.06.94-2.06 2.06-.94-2.06-.94-.94-2.06-.94 2.06-2.06.94z\"/><path d=\"M17.41 7.96l-1.37-1.37c-.4-.4-.92-.59-1.43-.59-.52 0-1.04.2-1.43.59L10.3 9.45l-7.72 7.72c-.78.78-.78 2.05 0 2.83L4 21.41c.39.39.9.59 1.41.59.51 0 1.02-.2 1.41-.59l7.78-7.78 2.81-2.81c.8-.78.8-2.07 0-2.86zM5.41 20L4 18.59l7.72-7.72 1.47 1.35L5.41 20z\"/>\n",
              "  </svg>\n",
              "      </button>\n",
              "      \n",
              "  <style>\n",
              "    .colab-df-container {\n",
              "      display:flex;\n",
              "      flex-wrap:wrap;\n",
              "      gap: 12px;\n",
              "    }\n",
              "\n",
              "    .colab-df-convert {\n",
              "      background-color: #E8F0FE;\n",
              "      border: none;\n",
              "      border-radius: 50%;\n",
              "      cursor: pointer;\n",
              "      display: none;\n",
              "      fill: #1967D2;\n",
              "      height: 32px;\n",
              "      padding: 0 0 0 0;\n",
              "      width: 32px;\n",
              "    }\n",
              "\n",
              "    .colab-df-convert:hover {\n",
              "      background-color: #E2EBFA;\n",
              "      box-shadow: 0px 1px 2px rgba(60, 64, 67, 0.3), 0px 1px 3px 1px rgba(60, 64, 67, 0.15);\n",
              "      fill: #174EA6;\n",
              "    }\n",
              "\n",
              "    [theme=dark] .colab-df-convert {\n",
              "      background-color: #3B4455;\n",
              "      fill: #D2E3FC;\n",
              "    }\n",
              "\n",
              "    [theme=dark] .colab-df-convert:hover {\n",
              "      background-color: #434B5C;\n",
              "      box-shadow: 0px 1px 3px 1px rgba(0, 0, 0, 0.15);\n",
              "      filter: drop-shadow(0px 1px 2px rgba(0, 0, 0, 0.3));\n",
              "      fill: #FFFFFF;\n",
              "    }\n",
              "  </style>\n",
              "\n",
              "      <script>\n",
              "        const buttonEl =\n",
              "          document.querySelector('#df-8bfee916-fe3c-400f-9696-370187550bee button.colab-df-convert');\n",
              "        buttonEl.style.display =\n",
              "          google.colab.kernel.accessAllowed ? 'block' : 'none';\n",
              "\n",
              "        async function convertToInteractive(key) {\n",
              "          const element = document.querySelector('#df-8bfee916-fe3c-400f-9696-370187550bee');\n",
              "          const dataTable =\n",
              "            await google.colab.kernel.invokeFunction('convertToInteractive',\n",
              "                                                     [key], {});\n",
              "          if (!dataTable) return;\n",
              "\n",
              "          const docLinkHtml = 'Like what you see? Visit the ' +\n",
              "            '<a target=\"_blank\" href=https://colab.research.google.com/notebooks/data_table.ipynb>data table notebook</a>'\n",
              "            + ' to learn more about interactive tables.';\n",
              "          element.innerHTML = '';\n",
              "          dataTable['output_type'] = 'display_data';\n",
              "          await google.colab.output.renderOutput(dataTable, element);\n",
              "          const docLink = document.createElement('div');\n",
              "          docLink.innerHTML = docLinkHtml;\n",
              "          element.appendChild(docLink);\n",
              "        }\n",
              "      </script>\n",
              "    </div>\n",
              "  </div>\n",
              "  "
            ]
          },
          "metadata": {},
          "execution_count": 391
        }
      ],
      "source": [
        "product.sample(3)"
      ]
    },
    {
      "cell_type": "markdown",
      "metadata": {
        "id": "g3hBroq0BuBk"
      },
      "source": [
        "# Data Cleansing"
      ]
    },
    {
      "cell_type": "markdown",
      "metadata": {
        "id": "cWNncVShEDdI"
      },
      "source": [
        "##Missing Value"
      ]
    },
    {
      "cell_type": "code",
      "execution_count": null,
      "metadata": {
        "id": "Qu3pVGtFES73",
        "colab": {
          "base_uri": "https://localhost:8080/"
        },
        "outputId": "a642b1e3-996f-4645-d2f1-184059802b06"
      },
      "outputs": [
        {
          "output_type": "execute_result",
          "data": {
            "text/plain": [
              "customer_id        0\n",
              "gender             0\n",
              "device_type        0\n",
              "device_id          0\n",
              "birthdate          0\n",
              "home_location      0\n",
              "first_join_date    0\n",
              "dtype: int64"
            ]
          },
          "metadata": {},
          "execution_count": 392
        }
      ],
      "source": [
        "customer.isna().sum()"
      ]
    },
    {
      "cell_type": "code",
      "execution_count": null,
      "metadata": {
        "id": "-scKX8HxEjCT",
        "colab": {
          "base_uri": "https://localhost:8080/"
        },
        "outputId": "8f3e383c-8805-4268-f6dc-a6b0a24e9810"
      },
      "outputs": [
        {
          "output_type": "execute_result",
          "data": {
            "text/plain": [
              "created_at             0\n",
              "customer_id            0\n",
              "booking_id             0\n",
              "session_id             0\n",
              "payment_status         0\n",
              "promo_amount           0\n",
              "promo_code        526048\n",
              "total_amount           0\n",
              "dtype: int64"
            ]
          },
          "metadata": {},
          "execution_count": 393
        }
      ],
      "source": [
        "transaction.isna().sum()"
      ]
    },
    {
      "cell_type": "code",
      "execution_count": null,
      "metadata": {
        "id": "WdiR4P0eErgd",
        "colab": {
          "base_uri": "https://localhost:8080/"
        },
        "outputId": "e0b95f40-f7f8-45c1-8105-7130372352a5"
      },
      "outputs": [
        {
          "output_type": "execute_result",
          "data": {
            "text/plain": [
              "created_at        0\n",
              "customer_id       0\n",
              "booking_id        0\n",
              "session_id        0\n",
              "payment_status    0\n",
              "promo_amount      0\n",
              "promo_code        0\n",
              "total_amount      0\n",
              "dtype: int64"
            ]
          },
          "metadata": {},
          "execution_count": 394
        }
      ],
      "source": [
        "transaction['promo_code'].fillna('Without Promo',inplace=True)\n",
        "transaction.isna().sum()"
      ]
    },
    {
      "cell_type": "code",
      "execution_count": null,
      "metadata": {
        "id": "AiXFESpeE8K9",
        "colab": {
          "base_uri": "https://localhost:8080/"
        },
        "outputId": "fbe4ae7a-3a2e-44f5-a045-8253068ec9fd"
      },
      "outputs": [
        {
          "output_type": "execute_result",
          "data": {
            "text/plain": [
              "id                      0\n",
              "gender                  0\n",
              "masterCategory          0\n",
              "subCategory             0\n",
              "articleType             0\n",
              "baseColour             15\n",
              "season                 21\n",
              "year                    1\n",
              "usage                 317\n",
              "productDisplayName      7\n",
              "dtype: int64"
            ]
          },
          "metadata": {},
          "execution_count": 395
        }
      ],
      "source": [
        "product.isna().sum()"
      ]
    },
    {
      "cell_type": "code",
      "execution_count": null,
      "metadata": {
        "id": "jn7EzkxxFCms",
        "colab": {
          "base_uri": "https://localhost:8080/"
        },
        "outputId": "7eee7582-fc5a-48ce-c086-7c03c82c3a1d"
      },
      "outputs": [
        {
          "output_type": "execute_result",
          "data": {
            "text/plain": [
              "id                    0\n",
              "gender                0\n",
              "masterCategory        0\n",
              "subCategory           0\n",
              "articleType           0\n",
              "baseColour            0\n",
              "season                0\n",
              "year                  0\n",
              "usage                 0\n",
              "productDisplayName    0\n",
              "dtype: int64"
            ]
          },
          "metadata": {},
          "execution_count": 396
        }
      ],
      "source": [
        "product['baseColour'].fillna('No Color',inplace=True)\n",
        "product['season'].fillna('No Season',inplace=True)\n",
        "product['year'].fillna(0,inplace=True)\n",
        "product['usage'].fillna('No Usage',inplace=True)\n",
        "product['productDisplayName'].fillna('No Display Name',inplace=True)\n",
        "product.isna().sum()"
      ]
    },
    {
      "cell_type": "markdown",
      "source": [
        "##Cleaning Data"
      ],
      "metadata": {
        "id": "VwyJJ0OKvZRI"
      }
    },
    {
      "cell_type": "code",
      "source": [
        "#Mengubah tipe data sesuai isinya yaitu tanggal\n",
        "customer['birthdate'] = pd.to_datetime(customer['birthdate'])\n",
        "customer['first_join_date'] = pd.to_datetime(customer['first_join_date'])\n",
        "customer.info()"
      ],
      "metadata": {
        "colab": {
          "base_uri": "https://localhost:8080/"
        },
        "id": "1v9swSicvgeM",
        "outputId": "6e6a103d-02f4-4561-e8b2-22ae043e4ae0"
      },
      "execution_count": null,
      "outputs": [
        {
          "output_type": "stream",
          "name": "stdout",
          "text": [
            "<class 'pandas.core.frame.DataFrame'>\n",
            "RangeIndex: 100000 entries, 0 to 99999\n",
            "Data columns (total 7 columns):\n",
            " #   Column           Non-Null Count   Dtype         \n",
            "---  ------           --------------   -----         \n",
            " 0   customer_id      100000 non-null  int64         \n",
            " 1   gender           100000 non-null  object        \n",
            " 2   device_type      100000 non-null  object        \n",
            " 3   device_id        100000 non-null  object        \n",
            " 4   birthdate        100000 non-null  datetime64[ns]\n",
            " 5   home_location    100000 non-null  object        \n",
            " 6   first_join_date  100000 non-null  datetime64[ns]\n",
            "dtypes: datetime64[ns](2), int64(1), object(4)\n",
            "memory usage: 5.3+ MB\n"
          ]
        }
      ]
    },
    {
      "cell_type": "code",
      "source": [
        "#Mengisi data kosong pada tahun dan mengubah tipe data dari object menjadi date time\n",
        "product['year'].fillna(2012, inplace=True)\n",
        "product['year'] = pd.to_datetime(product['year']).dt.year\n",
        "product.head()"
      ],
      "metadata": {
        "colab": {
          "base_uri": "https://localhost:8080/",
          "height": 354
        },
        "id": "VkiK8ZIevlt-",
        "outputId": "88e3ce02-d45a-472c-97e6-89327718755a"
      },
      "execution_count": null,
      "outputs": [
        {
          "output_type": "execute_result",
          "data": {
            "text/plain": [
              "      id gender masterCategory subCategory  articleType baseColour  season  \\\n",
              "0  15970    Men        Apparel     Topwear       Shirts  Navy Blue    Fall   \n",
              "1  39386    Men        Apparel  Bottomwear        Jeans       Blue  Summer   \n",
              "2  59263  Women    Accessories     Watches      Watches     Silver  Winter   \n",
              "3  21379    Men        Apparel  Bottomwear  Track Pants      Black    Fall   \n",
              "4  53759    Men        Apparel     Topwear      Tshirts       Grey  Summer   \n",
              "\n",
              "   year   usage                             productDisplayName  \n",
              "0  1970  Casual               Turtle Check Men Navy Blue Shirt  \n",
              "1  1970  Casual             Peter England Men Party Blue Jeans  \n",
              "2  1970  Casual                       Titan Women Silver Watch  \n",
              "3  1970  Casual  Manchester United Men Solid Black Track Pants  \n",
              "4  1970  Casual                          Puma Men Grey T-shirt  "
            ],
            "text/html": [
              "\n",
              "  <div id=\"df-13987f55-a27c-46cd-8f73-1252a410a35f\">\n",
              "    <div class=\"colab-df-container\">\n",
              "      <div>\n",
              "<style scoped>\n",
              "    .dataframe tbody tr th:only-of-type {\n",
              "        vertical-align: middle;\n",
              "    }\n",
              "\n",
              "    .dataframe tbody tr th {\n",
              "        vertical-align: top;\n",
              "    }\n",
              "\n",
              "    .dataframe thead th {\n",
              "        text-align: right;\n",
              "    }\n",
              "</style>\n",
              "<table border=\"1\" class=\"dataframe\">\n",
              "  <thead>\n",
              "    <tr style=\"text-align: right;\">\n",
              "      <th></th>\n",
              "      <th>id</th>\n",
              "      <th>gender</th>\n",
              "      <th>masterCategory</th>\n",
              "      <th>subCategory</th>\n",
              "      <th>articleType</th>\n",
              "      <th>baseColour</th>\n",
              "      <th>season</th>\n",
              "      <th>year</th>\n",
              "      <th>usage</th>\n",
              "      <th>productDisplayName</th>\n",
              "    </tr>\n",
              "  </thead>\n",
              "  <tbody>\n",
              "    <tr>\n",
              "      <th>0</th>\n",
              "      <td>15970</td>\n",
              "      <td>Men</td>\n",
              "      <td>Apparel</td>\n",
              "      <td>Topwear</td>\n",
              "      <td>Shirts</td>\n",
              "      <td>Navy Blue</td>\n",
              "      <td>Fall</td>\n",
              "      <td>1970</td>\n",
              "      <td>Casual</td>\n",
              "      <td>Turtle Check Men Navy Blue Shirt</td>\n",
              "    </tr>\n",
              "    <tr>\n",
              "      <th>1</th>\n",
              "      <td>39386</td>\n",
              "      <td>Men</td>\n",
              "      <td>Apparel</td>\n",
              "      <td>Bottomwear</td>\n",
              "      <td>Jeans</td>\n",
              "      <td>Blue</td>\n",
              "      <td>Summer</td>\n",
              "      <td>1970</td>\n",
              "      <td>Casual</td>\n",
              "      <td>Peter England Men Party Blue Jeans</td>\n",
              "    </tr>\n",
              "    <tr>\n",
              "      <th>2</th>\n",
              "      <td>59263</td>\n",
              "      <td>Women</td>\n",
              "      <td>Accessories</td>\n",
              "      <td>Watches</td>\n",
              "      <td>Watches</td>\n",
              "      <td>Silver</td>\n",
              "      <td>Winter</td>\n",
              "      <td>1970</td>\n",
              "      <td>Casual</td>\n",
              "      <td>Titan Women Silver Watch</td>\n",
              "    </tr>\n",
              "    <tr>\n",
              "      <th>3</th>\n",
              "      <td>21379</td>\n",
              "      <td>Men</td>\n",
              "      <td>Apparel</td>\n",
              "      <td>Bottomwear</td>\n",
              "      <td>Track Pants</td>\n",
              "      <td>Black</td>\n",
              "      <td>Fall</td>\n",
              "      <td>1970</td>\n",
              "      <td>Casual</td>\n",
              "      <td>Manchester United Men Solid Black Track Pants</td>\n",
              "    </tr>\n",
              "    <tr>\n",
              "      <th>4</th>\n",
              "      <td>53759</td>\n",
              "      <td>Men</td>\n",
              "      <td>Apparel</td>\n",
              "      <td>Topwear</td>\n",
              "      <td>Tshirts</td>\n",
              "      <td>Grey</td>\n",
              "      <td>Summer</td>\n",
              "      <td>1970</td>\n",
              "      <td>Casual</td>\n",
              "      <td>Puma Men Grey T-shirt</td>\n",
              "    </tr>\n",
              "  </tbody>\n",
              "</table>\n",
              "</div>\n",
              "      <button class=\"colab-df-convert\" onclick=\"convertToInteractive('df-13987f55-a27c-46cd-8f73-1252a410a35f')\"\n",
              "              title=\"Convert this dataframe to an interactive table.\"\n",
              "              style=\"display:none;\">\n",
              "        \n",
              "  <svg xmlns=\"http://www.w3.org/2000/svg\" height=\"24px\"viewBox=\"0 0 24 24\"\n",
              "       width=\"24px\">\n",
              "    <path d=\"M0 0h24v24H0V0z\" fill=\"none\"/>\n",
              "    <path d=\"M18.56 5.44l.94 2.06.94-2.06 2.06-.94-2.06-.94-.94-2.06-.94 2.06-2.06.94zm-11 1L8.5 8.5l.94-2.06 2.06-.94-2.06-.94L8.5 2.5l-.94 2.06-2.06.94zm10 10l.94 2.06.94-2.06 2.06-.94-2.06-.94-.94-2.06-.94 2.06-2.06.94z\"/><path d=\"M17.41 7.96l-1.37-1.37c-.4-.4-.92-.59-1.43-.59-.52 0-1.04.2-1.43.59L10.3 9.45l-7.72 7.72c-.78.78-.78 2.05 0 2.83L4 21.41c.39.39.9.59 1.41.59.51 0 1.02-.2 1.41-.59l7.78-7.78 2.81-2.81c.8-.78.8-2.07 0-2.86zM5.41 20L4 18.59l7.72-7.72 1.47 1.35L5.41 20z\"/>\n",
              "  </svg>\n",
              "      </button>\n",
              "      \n",
              "  <style>\n",
              "    .colab-df-container {\n",
              "      display:flex;\n",
              "      flex-wrap:wrap;\n",
              "      gap: 12px;\n",
              "    }\n",
              "\n",
              "    .colab-df-convert {\n",
              "      background-color: #E8F0FE;\n",
              "      border: none;\n",
              "      border-radius: 50%;\n",
              "      cursor: pointer;\n",
              "      display: none;\n",
              "      fill: #1967D2;\n",
              "      height: 32px;\n",
              "      padding: 0 0 0 0;\n",
              "      width: 32px;\n",
              "    }\n",
              "\n",
              "    .colab-df-convert:hover {\n",
              "      background-color: #E2EBFA;\n",
              "      box-shadow: 0px 1px 2px rgba(60, 64, 67, 0.3), 0px 1px 3px 1px rgba(60, 64, 67, 0.15);\n",
              "      fill: #174EA6;\n",
              "    }\n",
              "\n",
              "    [theme=dark] .colab-df-convert {\n",
              "      background-color: #3B4455;\n",
              "      fill: #D2E3FC;\n",
              "    }\n",
              "\n",
              "    [theme=dark] .colab-df-convert:hover {\n",
              "      background-color: #434B5C;\n",
              "      box-shadow: 0px 1px 3px 1px rgba(0, 0, 0, 0.15);\n",
              "      filter: drop-shadow(0px 1px 2px rgba(0, 0, 0, 0.3));\n",
              "      fill: #FFFFFF;\n",
              "    }\n",
              "  </style>\n",
              "\n",
              "      <script>\n",
              "        const buttonEl =\n",
              "          document.querySelector('#df-13987f55-a27c-46cd-8f73-1252a410a35f button.colab-df-convert');\n",
              "        buttonEl.style.display =\n",
              "          google.colab.kernel.accessAllowed ? 'block' : 'none';\n",
              "\n",
              "        async function convertToInteractive(key) {\n",
              "          const element = document.querySelector('#df-13987f55-a27c-46cd-8f73-1252a410a35f');\n",
              "          const dataTable =\n",
              "            await google.colab.kernel.invokeFunction('convertToInteractive',\n",
              "                                                     [key], {});\n",
              "          if (!dataTable) return;\n",
              "\n",
              "          const docLinkHtml = 'Like what you see? Visit the ' +\n",
              "            '<a target=\"_blank\" href=https://colab.research.google.com/notebooks/data_table.ipynb>data table notebook</a>'\n",
              "            + ' to learn more about interactive tables.';\n",
              "          element.innerHTML = '';\n",
              "          dataTable['output_type'] = 'display_data';\n",
              "          await google.colab.output.renderOutput(dataTable, element);\n",
              "          const docLink = document.createElement('div');\n",
              "          docLink.innerHTML = docLinkHtml;\n",
              "          element.appendChild(docLink);\n",
              "        }\n",
              "      </script>\n",
              "    </div>\n",
              "  </div>\n",
              "  "
            ]
          },
          "metadata": {},
          "execution_count": 398
        }
      ]
    },
    {
      "cell_type": "code",
      "source": [
        "product['season'] = product['season'].fillna('Summer', limit = 6)\n",
        "for i in ['Fall', 'Winter', 'Spring']:\n",
        "  product['season'] = product['season'].fillna(i, limit = 5)\n",
        "\n",
        "product['season'].value_counts().to_frame()"
      ],
      "metadata": {
        "colab": {
          "base_uri": "https://localhost:8080/",
          "height": 206
        },
        "id": "ooD7k7BAwjW8",
        "outputId": "659ac3dd-be4c-49b5-91f3-0c9194f2becd"
      },
      "execution_count": null,
      "outputs": [
        {
          "output_type": "execute_result",
          "data": {
            "text/plain": [
              "           season\n",
              "Summer      21472\n",
              "Fall        11431\n",
              "Winter       8517\n",
              "Spring       2983\n",
              "No Season      21"
            ],
            "text/html": [
              "\n",
              "  <div id=\"df-90b09d97-6f62-4cd0-a4bd-e418ffd45213\">\n",
              "    <div class=\"colab-df-container\">\n",
              "      <div>\n",
              "<style scoped>\n",
              "    .dataframe tbody tr th:only-of-type {\n",
              "        vertical-align: middle;\n",
              "    }\n",
              "\n",
              "    .dataframe tbody tr th {\n",
              "        vertical-align: top;\n",
              "    }\n",
              "\n",
              "    .dataframe thead th {\n",
              "        text-align: right;\n",
              "    }\n",
              "</style>\n",
              "<table border=\"1\" class=\"dataframe\">\n",
              "  <thead>\n",
              "    <tr style=\"text-align: right;\">\n",
              "      <th></th>\n",
              "      <th>season</th>\n",
              "    </tr>\n",
              "  </thead>\n",
              "  <tbody>\n",
              "    <tr>\n",
              "      <th>Summer</th>\n",
              "      <td>21472</td>\n",
              "    </tr>\n",
              "    <tr>\n",
              "      <th>Fall</th>\n",
              "      <td>11431</td>\n",
              "    </tr>\n",
              "    <tr>\n",
              "      <th>Winter</th>\n",
              "      <td>8517</td>\n",
              "    </tr>\n",
              "    <tr>\n",
              "      <th>Spring</th>\n",
              "      <td>2983</td>\n",
              "    </tr>\n",
              "    <tr>\n",
              "      <th>No Season</th>\n",
              "      <td>21</td>\n",
              "    </tr>\n",
              "  </tbody>\n",
              "</table>\n",
              "</div>\n",
              "      <button class=\"colab-df-convert\" onclick=\"convertToInteractive('df-90b09d97-6f62-4cd0-a4bd-e418ffd45213')\"\n",
              "              title=\"Convert this dataframe to an interactive table.\"\n",
              "              style=\"display:none;\">\n",
              "        \n",
              "  <svg xmlns=\"http://www.w3.org/2000/svg\" height=\"24px\"viewBox=\"0 0 24 24\"\n",
              "       width=\"24px\">\n",
              "    <path d=\"M0 0h24v24H0V0z\" fill=\"none\"/>\n",
              "    <path d=\"M18.56 5.44l.94 2.06.94-2.06 2.06-.94-2.06-.94-.94-2.06-.94 2.06-2.06.94zm-11 1L8.5 8.5l.94-2.06 2.06-.94-2.06-.94L8.5 2.5l-.94 2.06-2.06.94zm10 10l.94 2.06.94-2.06 2.06-.94-2.06-.94-.94-2.06-.94 2.06-2.06.94z\"/><path d=\"M17.41 7.96l-1.37-1.37c-.4-.4-.92-.59-1.43-.59-.52 0-1.04.2-1.43.59L10.3 9.45l-7.72 7.72c-.78.78-.78 2.05 0 2.83L4 21.41c.39.39.9.59 1.41.59.51 0 1.02-.2 1.41-.59l7.78-7.78 2.81-2.81c.8-.78.8-2.07 0-2.86zM5.41 20L4 18.59l7.72-7.72 1.47 1.35L5.41 20z\"/>\n",
              "  </svg>\n",
              "      </button>\n",
              "      \n",
              "  <style>\n",
              "    .colab-df-container {\n",
              "      display:flex;\n",
              "      flex-wrap:wrap;\n",
              "      gap: 12px;\n",
              "    }\n",
              "\n",
              "    .colab-df-convert {\n",
              "      background-color: #E8F0FE;\n",
              "      border: none;\n",
              "      border-radius: 50%;\n",
              "      cursor: pointer;\n",
              "      display: none;\n",
              "      fill: #1967D2;\n",
              "      height: 32px;\n",
              "      padding: 0 0 0 0;\n",
              "      width: 32px;\n",
              "    }\n",
              "\n",
              "    .colab-df-convert:hover {\n",
              "      background-color: #E2EBFA;\n",
              "      box-shadow: 0px 1px 2px rgba(60, 64, 67, 0.3), 0px 1px 3px 1px rgba(60, 64, 67, 0.15);\n",
              "      fill: #174EA6;\n",
              "    }\n",
              "\n",
              "    [theme=dark] .colab-df-convert {\n",
              "      background-color: #3B4455;\n",
              "      fill: #D2E3FC;\n",
              "    }\n",
              "\n",
              "    [theme=dark] .colab-df-convert:hover {\n",
              "      background-color: #434B5C;\n",
              "      box-shadow: 0px 1px 3px 1px rgba(0, 0, 0, 0.15);\n",
              "      filter: drop-shadow(0px 1px 2px rgba(0, 0, 0, 0.3));\n",
              "      fill: #FFFFFF;\n",
              "    }\n",
              "  </style>\n",
              "\n",
              "      <script>\n",
              "        const buttonEl =\n",
              "          document.querySelector('#df-90b09d97-6f62-4cd0-a4bd-e418ffd45213 button.colab-df-convert');\n",
              "        buttonEl.style.display =\n",
              "          google.colab.kernel.accessAllowed ? 'block' : 'none';\n",
              "\n",
              "        async function convertToInteractive(key) {\n",
              "          const element = document.querySelector('#df-90b09d97-6f62-4cd0-a4bd-e418ffd45213');\n",
              "          const dataTable =\n",
              "            await google.colab.kernel.invokeFunction('convertToInteractive',\n",
              "                                                     [key], {});\n",
              "          if (!dataTable) return;\n",
              "\n",
              "          const docLinkHtml = 'Like what you see? Visit the ' +\n",
              "            '<a target=\"_blank\" href=https://colab.research.google.com/notebooks/data_table.ipynb>data table notebook</a>'\n",
              "            + ' to learn more about interactive tables.';\n",
              "          element.innerHTML = '';\n",
              "          dataTable['output_type'] = 'display_data';\n",
              "          await google.colab.output.renderOutput(dataTable, element);\n",
              "          const docLink = document.createElement('div');\n",
              "          docLink.innerHTML = docLinkHtml;\n",
              "          element.appendChild(docLink);\n",
              "        }\n",
              "      </script>\n",
              "    </div>\n",
              "  </div>\n",
              "  "
            ]
          },
          "metadata": {},
          "execution_count": 399
        }
      ]
    },
    {
      "cell_type": "code",
      "source": [
        "product['baseColour'].value_counts().to_frame()"
      ],
      "metadata": {
        "colab": {
          "base_uri": "https://localhost:8080/",
          "height": 1000
        },
        "id": "NeQDK6Aew2UU",
        "outputId": "368a06e7-6ec3-4ace-ca18-afbdb0076a1f"
      },
      "execution_count": null,
      "outputs": [
        {
          "output_type": "execute_result",
          "data": {
            "text/plain": [
              "                   baseColour\n",
              "Black                    9728\n",
              "White                    5538\n",
              "Blue                     4918\n",
              "Brown                    3494\n",
              "Grey                     2741\n",
              "Red                      2455\n",
              "Green                    2115\n",
              "Pink                     1860\n",
              "Navy Blue                1789\n",
              "Purple                   1640\n",
              "Silver                   1090\n",
              "Yellow                    778\n",
              "Beige                     749\n",
              "Gold                      628\n",
              "Maroon                    581\n",
              "Orange                    530\n",
              "Olive                     410\n",
              "Multi                     394\n",
              "Cream                     390\n",
              "Steel                     315\n",
              "Charcoal                  228\n",
              "Peach                     195\n",
              "Off White                 182\n",
              "Skin                      179\n",
              "Lavender                  162\n",
              "Grey Melange              146\n",
              "Khaki                     139\n",
              "Magenta                   129\n",
              "Teal                      120\n",
              "Tan                       114\n",
              "Mustard                    97\n",
              "Bronze                     95\n",
              "Copper                     86\n",
              "Turquoise Blue             69\n",
              "Rust                       66\n",
              "Burgundy                   45\n",
              "Metallic                   43\n",
              "Coffee Brown               31\n",
              "Mauve                      29\n",
              "Rose                       28\n",
              "Nude                       23\n",
              "Sea Green                  22\n",
              "Mushroom Brown             16\n",
              "No Color                   15\n",
              "Taupe                      11\n",
              "Lime Green                  6\n",
              "Fluorescent Green           5"
            ],
            "text/html": [
              "\n",
              "  <div id=\"df-699f56f0-b5df-4a11-b123-35f139fc0253\">\n",
              "    <div class=\"colab-df-container\">\n",
              "      <div>\n",
              "<style scoped>\n",
              "    .dataframe tbody tr th:only-of-type {\n",
              "        vertical-align: middle;\n",
              "    }\n",
              "\n",
              "    .dataframe tbody tr th {\n",
              "        vertical-align: top;\n",
              "    }\n",
              "\n",
              "    .dataframe thead th {\n",
              "        text-align: right;\n",
              "    }\n",
              "</style>\n",
              "<table border=\"1\" class=\"dataframe\">\n",
              "  <thead>\n",
              "    <tr style=\"text-align: right;\">\n",
              "      <th></th>\n",
              "      <th>baseColour</th>\n",
              "    </tr>\n",
              "  </thead>\n",
              "  <tbody>\n",
              "    <tr>\n",
              "      <th>Black</th>\n",
              "      <td>9728</td>\n",
              "    </tr>\n",
              "    <tr>\n",
              "      <th>White</th>\n",
              "      <td>5538</td>\n",
              "    </tr>\n",
              "    <tr>\n",
              "      <th>Blue</th>\n",
              "      <td>4918</td>\n",
              "    </tr>\n",
              "    <tr>\n",
              "      <th>Brown</th>\n",
              "      <td>3494</td>\n",
              "    </tr>\n",
              "    <tr>\n",
              "      <th>Grey</th>\n",
              "      <td>2741</td>\n",
              "    </tr>\n",
              "    <tr>\n",
              "      <th>Red</th>\n",
              "      <td>2455</td>\n",
              "    </tr>\n",
              "    <tr>\n",
              "      <th>Green</th>\n",
              "      <td>2115</td>\n",
              "    </tr>\n",
              "    <tr>\n",
              "      <th>Pink</th>\n",
              "      <td>1860</td>\n",
              "    </tr>\n",
              "    <tr>\n",
              "      <th>Navy Blue</th>\n",
              "      <td>1789</td>\n",
              "    </tr>\n",
              "    <tr>\n",
              "      <th>Purple</th>\n",
              "      <td>1640</td>\n",
              "    </tr>\n",
              "    <tr>\n",
              "      <th>Silver</th>\n",
              "      <td>1090</td>\n",
              "    </tr>\n",
              "    <tr>\n",
              "      <th>Yellow</th>\n",
              "      <td>778</td>\n",
              "    </tr>\n",
              "    <tr>\n",
              "      <th>Beige</th>\n",
              "      <td>749</td>\n",
              "    </tr>\n",
              "    <tr>\n",
              "      <th>Gold</th>\n",
              "      <td>628</td>\n",
              "    </tr>\n",
              "    <tr>\n",
              "      <th>Maroon</th>\n",
              "      <td>581</td>\n",
              "    </tr>\n",
              "    <tr>\n",
              "      <th>Orange</th>\n",
              "      <td>530</td>\n",
              "    </tr>\n",
              "    <tr>\n",
              "      <th>Olive</th>\n",
              "      <td>410</td>\n",
              "    </tr>\n",
              "    <tr>\n",
              "      <th>Multi</th>\n",
              "      <td>394</td>\n",
              "    </tr>\n",
              "    <tr>\n",
              "      <th>Cream</th>\n",
              "      <td>390</td>\n",
              "    </tr>\n",
              "    <tr>\n",
              "      <th>Steel</th>\n",
              "      <td>315</td>\n",
              "    </tr>\n",
              "    <tr>\n",
              "      <th>Charcoal</th>\n",
              "      <td>228</td>\n",
              "    </tr>\n",
              "    <tr>\n",
              "      <th>Peach</th>\n",
              "      <td>195</td>\n",
              "    </tr>\n",
              "    <tr>\n",
              "      <th>Off White</th>\n",
              "      <td>182</td>\n",
              "    </tr>\n",
              "    <tr>\n",
              "      <th>Skin</th>\n",
              "      <td>179</td>\n",
              "    </tr>\n",
              "    <tr>\n",
              "      <th>Lavender</th>\n",
              "      <td>162</td>\n",
              "    </tr>\n",
              "    <tr>\n",
              "      <th>Grey Melange</th>\n",
              "      <td>146</td>\n",
              "    </tr>\n",
              "    <tr>\n",
              "      <th>Khaki</th>\n",
              "      <td>139</td>\n",
              "    </tr>\n",
              "    <tr>\n",
              "      <th>Magenta</th>\n",
              "      <td>129</td>\n",
              "    </tr>\n",
              "    <tr>\n",
              "      <th>Teal</th>\n",
              "      <td>120</td>\n",
              "    </tr>\n",
              "    <tr>\n",
              "      <th>Tan</th>\n",
              "      <td>114</td>\n",
              "    </tr>\n",
              "    <tr>\n",
              "      <th>Mustard</th>\n",
              "      <td>97</td>\n",
              "    </tr>\n",
              "    <tr>\n",
              "      <th>Bronze</th>\n",
              "      <td>95</td>\n",
              "    </tr>\n",
              "    <tr>\n",
              "      <th>Copper</th>\n",
              "      <td>86</td>\n",
              "    </tr>\n",
              "    <tr>\n",
              "      <th>Turquoise Blue</th>\n",
              "      <td>69</td>\n",
              "    </tr>\n",
              "    <tr>\n",
              "      <th>Rust</th>\n",
              "      <td>66</td>\n",
              "    </tr>\n",
              "    <tr>\n",
              "      <th>Burgundy</th>\n",
              "      <td>45</td>\n",
              "    </tr>\n",
              "    <tr>\n",
              "      <th>Metallic</th>\n",
              "      <td>43</td>\n",
              "    </tr>\n",
              "    <tr>\n",
              "      <th>Coffee Brown</th>\n",
              "      <td>31</td>\n",
              "    </tr>\n",
              "    <tr>\n",
              "      <th>Mauve</th>\n",
              "      <td>29</td>\n",
              "    </tr>\n",
              "    <tr>\n",
              "      <th>Rose</th>\n",
              "      <td>28</td>\n",
              "    </tr>\n",
              "    <tr>\n",
              "      <th>Nude</th>\n",
              "      <td>23</td>\n",
              "    </tr>\n",
              "    <tr>\n",
              "      <th>Sea Green</th>\n",
              "      <td>22</td>\n",
              "    </tr>\n",
              "    <tr>\n",
              "      <th>Mushroom Brown</th>\n",
              "      <td>16</td>\n",
              "    </tr>\n",
              "    <tr>\n",
              "      <th>No Color</th>\n",
              "      <td>15</td>\n",
              "    </tr>\n",
              "    <tr>\n",
              "      <th>Taupe</th>\n",
              "      <td>11</td>\n",
              "    </tr>\n",
              "    <tr>\n",
              "      <th>Lime Green</th>\n",
              "      <td>6</td>\n",
              "    </tr>\n",
              "    <tr>\n",
              "      <th>Fluorescent Green</th>\n",
              "      <td>5</td>\n",
              "    </tr>\n",
              "  </tbody>\n",
              "</table>\n",
              "</div>\n",
              "      <button class=\"colab-df-convert\" onclick=\"convertToInteractive('df-699f56f0-b5df-4a11-b123-35f139fc0253')\"\n",
              "              title=\"Convert this dataframe to an interactive table.\"\n",
              "              style=\"display:none;\">\n",
              "        \n",
              "  <svg xmlns=\"http://www.w3.org/2000/svg\" height=\"24px\"viewBox=\"0 0 24 24\"\n",
              "       width=\"24px\">\n",
              "    <path d=\"M0 0h24v24H0V0z\" fill=\"none\"/>\n",
              "    <path d=\"M18.56 5.44l.94 2.06.94-2.06 2.06-.94-2.06-.94-.94-2.06-.94 2.06-2.06.94zm-11 1L8.5 8.5l.94-2.06 2.06-.94-2.06-.94L8.5 2.5l-.94 2.06-2.06.94zm10 10l.94 2.06.94-2.06 2.06-.94-2.06-.94-.94-2.06-.94 2.06-2.06.94z\"/><path d=\"M17.41 7.96l-1.37-1.37c-.4-.4-.92-.59-1.43-.59-.52 0-1.04.2-1.43.59L10.3 9.45l-7.72 7.72c-.78.78-.78 2.05 0 2.83L4 21.41c.39.39.9.59 1.41.59.51 0 1.02-.2 1.41-.59l7.78-7.78 2.81-2.81c.8-.78.8-2.07 0-2.86zM5.41 20L4 18.59l7.72-7.72 1.47 1.35L5.41 20z\"/>\n",
              "  </svg>\n",
              "      </button>\n",
              "      \n",
              "  <style>\n",
              "    .colab-df-container {\n",
              "      display:flex;\n",
              "      flex-wrap:wrap;\n",
              "      gap: 12px;\n",
              "    }\n",
              "\n",
              "    .colab-df-convert {\n",
              "      background-color: #E8F0FE;\n",
              "      border: none;\n",
              "      border-radius: 50%;\n",
              "      cursor: pointer;\n",
              "      display: none;\n",
              "      fill: #1967D2;\n",
              "      height: 32px;\n",
              "      padding: 0 0 0 0;\n",
              "      width: 32px;\n",
              "    }\n",
              "\n",
              "    .colab-df-convert:hover {\n",
              "      background-color: #E2EBFA;\n",
              "      box-shadow: 0px 1px 2px rgba(60, 64, 67, 0.3), 0px 1px 3px 1px rgba(60, 64, 67, 0.15);\n",
              "      fill: #174EA6;\n",
              "    }\n",
              "\n",
              "    [theme=dark] .colab-df-convert {\n",
              "      background-color: #3B4455;\n",
              "      fill: #D2E3FC;\n",
              "    }\n",
              "\n",
              "    [theme=dark] .colab-df-convert:hover {\n",
              "      background-color: #434B5C;\n",
              "      box-shadow: 0px 1px 3px 1px rgba(0, 0, 0, 0.15);\n",
              "      filter: drop-shadow(0px 1px 2px rgba(0, 0, 0, 0.3));\n",
              "      fill: #FFFFFF;\n",
              "    }\n",
              "  </style>\n",
              "\n",
              "      <script>\n",
              "        const buttonEl =\n",
              "          document.querySelector('#df-699f56f0-b5df-4a11-b123-35f139fc0253 button.colab-df-convert');\n",
              "        buttonEl.style.display =\n",
              "          google.colab.kernel.accessAllowed ? 'block' : 'none';\n",
              "\n",
              "        async function convertToInteractive(key) {\n",
              "          const element = document.querySelector('#df-699f56f0-b5df-4a11-b123-35f139fc0253');\n",
              "          const dataTable =\n",
              "            await google.colab.kernel.invokeFunction('convertToInteractive',\n",
              "                                                     [key], {});\n",
              "          if (!dataTable) return;\n",
              "\n",
              "          const docLinkHtml = 'Like what you see? Visit the ' +\n",
              "            '<a target=\"_blank\" href=https://colab.research.google.com/notebooks/data_table.ipynb>data table notebook</a>'\n",
              "            + ' to learn more about interactive tables.';\n",
              "          element.innerHTML = '';\n",
              "          dataTable['output_type'] = 'display_data';\n",
              "          await google.colab.output.renderOutput(dataTable, element);\n",
              "          const docLink = document.createElement('div');\n",
              "          docLink.innerHTML = docLinkHtml;\n",
              "          element.appendChild(docLink);\n",
              "        }\n",
              "      </script>\n",
              "    </div>\n",
              "  </div>\n",
              "  "
            ]
          },
          "metadata": {},
          "execution_count": 400
        }
      ]
    },
    {
      "cell_type": "code",
      "source": [
        "product['productDisplayName'] = product['productDisplayName'].fillna('Not Displayed')\n",
        "for name in product[product['baseColour'].isnull()]['productDisplayName']:\n",
        "  if('Blue' in name):\n",
        "    product['baseColour'] = product['baseColour'].fillna('Blue', limit = 1)\n",
        "  elif('Black' in name):\n",
        "    product['baseColour'] = product['baseColour'].fillna('Black', limit = 1)\n",
        "  elif('GUESS' in name):\n",
        "    product['baseColour'] = product['baseColour'].fillna('Green', limit = 1)\n",
        "    product['baseColour'] = product['baseColour'].fillna('Gold', limit = 2)\n",
        "  else:\n",
        "    product['baseColour'] = product['baseColour'].fillna('White', limit = 1)"
      ],
      "metadata": {
        "id": "3x6ULRiswrhj"
      },
      "execution_count": null,
      "outputs": []
    },
    {
      "cell_type": "code",
      "source": [
        "transaction['created_at'] = pd.to_datetime(transaction['created_at'])\n",
        "transaction['promo_code'].fillna('Not Used', inplace=True)\n",
        "transaction.head()"
      ],
      "metadata": {
        "colab": {
          "base_uri": "https://localhost:8080/",
          "height": 391
        },
        "id": "vcG9z3KuvuMu",
        "outputId": "b48dcc5e-55d8-4cb2-b47d-0a42681b25c1"
      },
      "execution_count": null,
      "outputs": [
        {
          "output_type": "execute_result",
          "data": {
            "text/plain": [
              "                        created_at  customer_id  \\\n",
              "0 2018-07-29 15:22:01.458193+00:00         5868   \n",
              "1 2018-07-30 12:40:22.365620+00:00         4774   \n",
              "2 2018-09-15 11:51:17.365620+00:00         4774   \n",
              "3 2018-11-01 11:23:48.365620+00:00         4774   \n",
              "4 2018-12-18 11:20:30.365620+00:00         4774   \n",
              "\n",
              "                             booking_id                            session_id  \\\n",
              "0  186e2bee-0637-4710-8981-50c2d737bc42  3abaa6ce-e320-4e51-9469-d9f3fa328e86   \n",
              "1  caadb57b-e808-4f94-9e96-8a7d4c9898db  2ee5ead1-f13e-4759-92df-7ff48475e970   \n",
              "2  6000fffb-9c1a-4f4a-9296-bc8f6b622b50  93325fb6-eb00-4268-bb0e-6471795a0ad0   \n",
              "3  f5e530a7-4350-4cd1-a3bc-525b5037bcab  bcad5a61-1b67-448d-8ff4-781d67bc56e4   \n",
              "4  0efc0594-dbbf-4f9a-b0b0-a488cfddf8a2  df1042ab-13e6-4072-b9d2-64a81974c51a   \n",
              "\n",
              "  payment_status  promo_amount     promo_code  total_amount  \n",
              "0        Success          1415    WEEKENDSERU        199832  \n",
              "1        Success             0  Without Promo        155526  \n",
              "2        Success             0  Without Promo        550696  \n",
              "3        Success             0  Without Promo        271012  \n",
              "4        Success             0  Without Promo        198753  "
            ],
            "text/html": [
              "\n",
              "  <div id=\"df-7c8ab5ae-dfca-4d95-8d7f-d106f8dc5a4e\">\n",
              "    <div class=\"colab-df-container\">\n",
              "      <div>\n",
              "<style scoped>\n",
              "    .dataframe tbody tr th:only-of-type {\n",
              "        vertical-align: middle;\n",
              "    }\n",
              "\n",
              "    .dataframe tbody tr th {\n",
              "        vertical-align: top;\n",
              "    }\n",
              "\n",
              "    .dataframe thead th {\n",
              "        text-align: right;\n",
              "    }\n",
              "</style>\n",
              "<table border=\"1\" class=\"dataframe\">\n",
              "  <thead>\n",
              "    <tr style=\"text-align: right;\">\n",
              "      <th></th>\n",
              "      <th>created_at</th>\n",
              "      <th>customer_id</th>\n",
              "      <th>booking_id</th>\n",
              "      <th>session_id</th>\n",
              "      <th>payment_status</th>\n",
              "      <th>promo_amount</th>\n",
              "      <th>promo_code</th>\n",
              "      <th>total_amount</th>\n",
              "    </tr>\n",
              "  </thead>\n",
              "  <tbody>\n",
              "    <tr>\n",
              "      <th>0</th>\n",
              "      <td>2018-07-29 15:22:01.458193+00:00</td>\n",
              "      <td>5868</td>\n",
              "      <td>186e2bee-0637-4710-8981-50c2d737bc42</td>\n",
              "      <td>3abaa6ce-e320-4e51-9469-d9f3fa328e86</td>\n",
              "      <td>Success</td>\n",
              "      <td>1415</td>\n",
              "      <td>WEEKENDSERU</td>\n",
              "      <td>199832</td>\n",
              "    </tr>\n",
              "    <tr>\n",
              "      <th>1</th>\n",
              "      <td>2018-07-30 12:40:22.365620+00:00</td>\n",
              "      <td>4774</td>\n",
              "      <td>caadb57b-e808-4f94-9e96-8a7d4c9898db</td>\n",
              "      <td>2ee5ead1-f13e-4759-92df-7ff48475e970</td>\n",
              "      <td>Success</td>\n",
              "      <td>0</td>\n",
              "      <td>Without Promo</td>\n",
              "      <td>155526</td>\n",
              "    </tr>\n",
              "    <tr>\n",
              "      <th>2</th>\n",
              "      <td>2018-09-15 11:51:17.365620+00:00</td>\n",
              "      <td>4774</td>\n",
              "      <td>6000fffb-9c1a-4f4a-9296-bc8f6b622b50</td>\n",
              "      <td>93325fb6-eb00-4268-bb0e-6471795a0ad0</td>\n",
              "      <td>Success</td>\n",
              "      <td>0</td>\n",
              "      <td>Without Promo</td>\n",
              "      <td>550696</td>\n",
              "    </tr>\n",
              "    <tr>\n",
              "      <th>3</th>\n",
              "      <td>2018-11-01 11:23:48.365620+00:00</td>\n",
              "      <td>4774</td>\n",
              "      <td>f5e530a7-4350-4cd1-a3bc-525b5037bcab</td>\n",
              "      <td>bcad5a61-1b67-448d-8ff4-781d67bc56e4</td>\n",
              "      <td>Success</td>\n",
              "      <td>0</td>\n",
              "      <td>Without Promo</td>\n",
              "      <td>271012</td>\n",
              "    </tr>\n",
              "    <tr>\n",
              "      <th>4</th>\n",
              "      <td>2018-12-18 11:20:30.365620+00:00</td>\n",
              "      <td>4774</td>\n",
              "      <td>0efc0594-dbbf-4f9a-b0b0-a488cfddf8a2</td>\n",
              "      <td>df1042ab-13e6-4072-b9d2-64a81974c51a</td>\n",
              "      <td>Success</td>\n",
              "      <td>0</td>\n",
              "      <td>Without Promo</td>\n",
              "      <td>198753</td>\n",
              "    </tr>\n",
              "  </tbody>\n",
              "</table>\n",
              "</div>\n",
              "      <button class=\"colab-df-convert\" onclick=\"convertToInteractive('df-7c8ab5ae-dfca-4d95-8d7f-d106f8dc5a4e')\"\n",
              "              title=\"Convert this dataframe to an interactive table.\"\n",
              "              style=\"display:none;\">\n",
              "        \n",
              "  <svg xmlns=\"http://www.w3.org/2000/svg\" height=\"24px\"viewBox=\"0 0 24 24\"\n",
              "       width=\"24px\">\n",
              "    <path d=\"M0 0h24v24H0V0z\" fill=\"none\"/>\n",
              "    <path d=\"M18.56 5.44l.94 2.06.94-2.06 2.06-.94-2.06-.94-.94-2.06-.94 2.06-2.06.94zm-11 1L8.5 8.5l.94-2.06 2.06-.94-2.06-.94L8.5 2.5l-.94 2.06-2.06.94zm10 10l.94 2.06.94-2.06 2.06-.94-2.06-.94-.94-2.06-.94 2.06-2.06.94z\"/><path d=\"M17.41 7.96l-1.37-1.37c-.4-.4-.92-.59-1.43-.59-.52 0-1.04.2-1.43.59L10.3 9.45l-7.72 7.72c-.78.78-.78 2.05 0 2.83L4 21.41c.39.39.9.59 1.41.59.51 0 1.02-.2 1.41-.59l7.78-7.78 2.81-2.81c.8-.78.8-2.07 0-2.86zM5.41 20L4 18.59l7.72-7.72 1.47 1.35L5.41 20z\"/>\n",
              "  </svg>\n",
              "      </button>\n",
              "      \n",
              "  <style>\n",
              "    .colab-df-container {\n",
              "      display:flex;\n",
              "      flex-wrap:wrap;\n",
              "      gap: 12px;\n",
              "    }\n",
              "\n",
              "    .colab-df-convert {\n",
              "      background-color: #E8F0FE;\n",
              "      border: none;\n",
              "      border-radius: 50%;\n",
              "      cursor: pointer;\n",
              "      display: none;\n",
              "      fill: #1967D2;\n",
              "      height: 32px;\n",
              "      padding: 0 0 0 0;\n",
              "      width: 32px;\n",
              "    }\n",
              "\n",
              "    .colab-df-convert:hover {\n",
              "      background-color: #E2EBFA;\n",
              "      box-shadow: 0px 1px 2px rgba(60, 64, 67, 0.3), 0px 1px 3px 1px rgba(60, 64, 67, 0.15);\n",
              "      fill: #174EA6;\n",
              "    }\n",
              "\n",
              "    [theme=dark] .colab-df-convert {\n",
              "      background-color: #3B4455;\n",
              "      fill: #D2E3FC;\n",
              "    }\n",
              "\n",
              "    [theme=dark] .colab-df-convert:hover {\n",
              "      background-color: #434B5C;\n",
              "      box-shadow: 0px 1px 3px 1px rgba(0, 0, 0, 0.15);\n",
              "      filter: drop-shadow(0px 1px 2px rgba(0, 0, 0, 0.3));\n",
              "      fill: #FFFFFF;\n",
              "    }\n",
              "  </style>\n",
              "\n",
              "      <script>\n",
              "        const buttonEl =\n",
              "          document.querySelector('#df-7c8ab5ae-dfca-4d95-8d7f-d106f8dc5a4e button.colab-df-convert');\n",
              "        buttonEl.style.display =\n",
              "          google.colab.kernel.accessAllowed ? 'block' : 'none';\n",
              "\n",
              "        async function convertToInteractive(key) {\n",
              "          const element = document.querySelector('#df-7c8ab5ae-dfca-4d95-8d7f-d106f8dc5a4e');\n",
              "          const dataTable =\n",
              "            await google.colab.kernel.invokeFunction('convertToInteractive',\n",
              "                                                     [key], {});\n",
              "          if (!dataTable) return;\n",
              "\n",
              "          const docLinkHtml = 'Like what you see? Visit the ' +\n",
              "            '<a target=\"_blank\" href=https://colab.research.google.com/notebooks/data_table.ipynb>data table notebook</a>'\n",
              "            + ' to learn more about interactive tables.';\n",
              "          element.innerHTML = '';\n",
              "          dataTable['output_type'] = 'display_data';\n",
              "          await google.colab.output.renderOutput(dataTable, element);\n",
              "          const docLink = document.createElement('div');\n",
              "          docLink.innerHTML = docLinkHtml;\n",
              "          element.appendChild(docLink);\n",
              "        }\n",
              "      </script>\n",
              "    </div>\n",
              "  </div>\n",
              "  "
            ]
          },
          "metadata": {},
          "execution_count": 402
        }
      ]
    },
    {
      "cell_type": "code",
      "source": [
        "customer.isnull().sum()"
      ],
      "metadata": {
        "colab": {
          "base_uri": "https://localhost:8080/"
        },
        "id": "B5v6ZPUawXZn",
        "outputId": "64865b03-970c-4755-d199-16ac2390cdec"
      },
      "execution_count": null,
      "outputs": [
        {
          "output_type": "execute_result",
          "data": {
            "text/plain": [
              "customer_id        0\n",
              "gender             0\n",
              "device_type        0\n",
              "device_id          0\n",
              "birthdate          0\n",
              "home_location      0\n",
              "first_join_date    0\n",
              "dtype: int64"
            ]
          },
          "metadata": {},
          "execution_count": 403
        }
      ]
    },
    {
      "cell_type": "code",
      "source": [
        "product.isnull().sum()"
      ],
      "metadata": {
        "colab": {
          "base_uri": "https://localhost:8080/"
        },
        "id": "qLquy17ewZts",
        "outputId": "050e7036-89f2-4752-b2f1-48eb7b2bb29a"
      },
      "execution_count": null,
      "outputs": [
        {
          "output_type": "execute_result",
          "data": {
            "text/plain": [
              "id                    0\n",
              "gender                0\n",
              "masterCategory        0\n",
              "subCategory           0\n",
              "articleType           0\n",
              "baseColour            0\n",
              "season                0\n",
              "year                  0\n",
              "usage                 0\n",
              "productDisplayName    0\n",
              "dtype: int64"
            ]
          },
          "metadata": {},
          "execution_count": 404
        }
      ]
    },
    {
      "cell_type": "code",
      "source": [
        "product_sort = product[product['usage'].isnull()].sort_values('masterCategory').reset_index(drop=True)\n",
        "product_sort"
      ],
      "metadata": {
        "colab": {
          "base_uri": "https://localhost:8080/",
          "height": 49
        },
        "id": "VOeGoiZOxJlP",
        "outputId": "ff23781f-a1f4-4152-a1b2-70f7fbb91796"
      },
      "execution_count": null,
      "outputs": [
        {
          "output_type": "execute_result",
          "data": {
            "text/plain": [
              "Empty DataFrame\n",
              "Columns: [id, gender, masterCategory, subCategory, articleType, baseColour, season, year, usage, productDisplayName]\n",
              "Index: []"
            ],
            "text/html": [
              "\n",
              "  <div id=\"df-5dc048d9-d816-4149-9b06-6921a420d809\">\n",
              "    <div class=\"colab-df-container\">\n",
              "      <div>\n",
              "<style scoped>\n",
              "    .dataframe tbody tr th:only-of-type {\n",
              "        vertical-align: middle;\n",
              "    }\n",
              "\n",
              "    .dataframe tbody tr th {\n",
              "        vertical-align: top;\n",
              "    }\n",
              "\n",
              "    .dataframe thead th {\n",
              "        text-align: right;\n",
              "    }\n",
              "</style>\n",
              "<table border=\"1\" class=\"dataframe\">\n",
              "  <thead>\n",
              "    <tr style=\"text-align: right;\">\n",
              "      <th></th>\n",
              "      <th>id</th>\n",
              "      <th>gender</th>\n",
              "      <th>masterCategory</th>\n",
              "      <th>subCategory</th>\n",
              "      <th>articleType</th>\n",
              "      <th>baseColour</th>\n",
              "      <th>season</th>\n",
              "      <th>year</th>\n",
              "      <th>usage</th>\n",
              "      <th>productDisplayName</th>\n",
              "    </tr>\n",
              "  </thead>\n",
              "  <tbody>\n",
              "  </tbody>\n",
              "</table>\n",
              "</div>\n",
              "      <button class=\"colab-df-convert\" onclick=\"convertToInteractive('df-5dc048d9-d816-4149-9b06-6921a420d809')\"\n",
              "              title=\"Convert this dataframe to an interactive table.\"\n",
              "              style=\"display:none;\">\n",
              "        \n",
              "  <svg xmlns=\"http://www.w3.org/2000/svg\" height=\"24px\"viewBox=\"0 0 24 24\"\n",
              "       width=\"24px\">\n",
              "    <path d=\"M0 0h24v24H0V0z\" fill=\"none\"/>\n",
              "    <path d=\"M18.56 5.44l.94 2.06.94-2.06 2.06-.94-2.06-.94-.94-2.06-.94 2.06-2.06.94zm-11 1L8.5 8.5l.94-2.06 2.06-.94-2.06-.94L8.5 2.5l-.94 2.06-2.06.94zm10 10l.94 2.06.94-2.06 2.06-.94-2.06-.94-.94-2.06-.94 2.06-2.06.94z\"/><path d=\"M17.41 7.96l-1.37-1.37c-.4-.4-.92-.59-1.43-.59-.52 0-1.04.2-1.43.59L10.3 9.45l-7.72 7.72c-.78.78-.78 2.05 0 2.83L4 21.41c.39.39.9.59 1.41.59.51 0 1.02-.2 1.41-.59l7.78-7.78 2.81-2.81c.8-.78.8-2.07 0-2.86zM5.41 20L4 18.59l7.72-7.72 1.47 1.35L5.41 20z\"/>\n",
              "  </svg>\n",
              "      </button>\n",
              "      \n",
              "  <style>\n",
              "    .colab-df-container {\n",
              "      display:flex;\n",
              "      flex-wrap:wrap;\n",
              "      gap: 12px;\n",
              "    }\n",
              "\n",
              "    .colab-df-convert {\n",
              "      background-color: #E8F0FE;\n",
              "      border: none;\n",
              "      border-radius: 50%;\n",
              "      cursor: pointer;\n",
              "      display: none;\n",
              "      fill: #1967D2;\n",
              "      height: 32px;\n",
              "      padding: 0 0 0 0;\n",
              "      width: 32px;\n",
              "    }\n",
              "\n",
              "    .colab-df-convert:hover {\n",
              "      background-color: #E2EBFA;\n",
              "      box-shadow: 0px 1px 2px rgba(60, 64, 67, 0.3), 0px 1px 3px 1px rgba(60, 64, 67, 0.15);\n",
              "      fill: #174EA6;\n",
              "    }\n",
              "\n",
              "    [theme=dark] .colab-df-convert {\n",
              "      background-color: #3B4455;\n",
              "      fill: #D2E3FC;\n",
              "    }\n",
              "\n",
              "    [theme=dark] .colab-df-convert:hover {\n",
              "      background-color: #434B5C;\n",
              "      box-shadow: 0px 1px 3px 1px rgba(0, 0, 0, 0.15);\n",
              "      filter: drop-shadow(0px 1px 2px rgba(0, 0, 0, 0.3));\n",
              "      fill: #FFFFFF;\n",
              "    }\n",
              "  </style>\n",
              "\n",
              "      <script>\n",
              "        const buttonEl =\n",
              "          document.querySelector('#df-5dc048d9-d816-4149-9b06-6921a420d809 button.colab-df-convert');\n",
              "        buttonEl.style.display =\n",
              "          google.colab.kernel.accessAllowed ? 'block' : 'none';\n",
              "\n",
              "        async function convertToInteractive(key) {\n",
              "          const element = document.querySelector('#df-5dc048d9-d816-4149-9b06-6921a420d809');\n",
              "          const dataTable =\n",
              "            await google.colab.kernel.invokeFunction('convertToInteractive',\n",
              "                                                     [key], {});\n",
              "          if (!dataTable) return;\n",
              "\n",
              "          const docLinkHtml = 'Like what you see? Visit the ' +\n",
              "            '<a target=\"_blank\" href=https://colab.research.google.com/notebooks/data_table.ipynb>data table notebook</a>'\n",
              "            + ' to learn more about interactive tables.';\n",
              "          element.innerHTML = '';\n",
              "          dataTable['output_type'] = 'display_data';\n",
              "          await google.colab.output.renderOutput(dataTable, element);\n",
              "          const docLink = document.createElement('div');\n",
              "          docLink.innerHTML = docLinkHtml;\n",
              "          element.appendChild(docLink);\n",
              "        }\n",
              "      </script>\n",
              "    </div>\n",
              "  </div>\n",
              "  "
            ]
          },
          "metadata": {},
          "execution_count": 405
        }
      ]
    },
    {
      "cell_type": "code",
      "source": [
        "for masterCategory in product_sort['masterCategory']:\n",
        "  if masterCategory == 'Accessories':\n",
        "    product['usage'].fillna('Other Stuff', limit=1, inplace=True)\n",
        "  elif masterCategory == 'Apparel':\n",
        "    product['usage'].fillna('Casual', limit=1, inplace=True)\n",
        "  else:\n",
        "    product['usage'].fillna('Cosmetics', limit=1, inplace=True)\n",
        "product.info()"
      ],
      "metadata": {
        "colab": {
          "base_uri": "https://localhost:8080/"
        },
        "id": "6DxPXqOSxNSD",
        "outputId": "6496d5fa-efa8-4733-d57e-fd3f11f1acc7"
      },
      "execution_count": null,
      "outputs": [
        {
          "output_type": "stream",
          "name": "stdout",
          "text": [
            "<class 'pandas.core.frame.DataFrame'>\n",
            "RangeIndex: 44424 entries, 0 to 44423\n",
            "Data columns (total 10 columns):\n",
            " #   Column              Non-Null Count  Dtype \n",
            "---  ------              --------------  ----- \n",
            " 0   id                  44424 non-null  int64 \n",
            " 1   gender              44424 non-null  object\n",
            " 2   masterCategory      44424 non-null  object\n",
            " 3   subCategory         44424 non-null  object\n",
            " 4   articleType         44424 non-null  object\n",
            " 5   baseColour          44424 non-null  object\n",
            " 6   season              44424 non-null  object\n",
            " 7   year                44424 non-null  int64 \n",
            " 8   usage               44424 non-null  object\n",
            " 9   productDisplayName  44424 non-null  object\n",
            "dtypes: int64(2), object(8)\n",
            "memory usage: 3.4+ MB\n"
          ]
        }
      ]
    },
    {
      "cell_type": "code",
      "source": [
        "transaction.isnull().sum()"
      ],
      "metadata": {
        "colab": {
          "base_uri": "https://localhost:8080/"
        },
        "id": "vjnsfuGAxS-P",
        "outputId": "113243b4-661e-4cb4-fee6-516689090588"
      },
      "execution_count": null,
      "outputs": [
        {
          "output_type": "execute_result",
          "data": {
            "text/plain": [
              "created_at        0\n",
              "customer_id       0\n",
              "booking_id        0\n",
              "session_id        0\n",
              "payment_status    0\n",
              "promo_amount      0\n",
              "promo_code        0\n",
              "total_amount      0\n",
              "dtype: int64"
            ]
          },
          "metadata": {},
          "execution_count": 407
        }
      ]
    },
    {
      "cell_type": "markdown",
      "source": [
        "##Merging Data"
      ],
      "metadata": {
        "id": "X2FbvObmxZ2s"
      }
    },
    {
      "cell_type": "code",
      "source": [
        "customer_selected = customer[['customer_id', 'gender', 'birthdate','device_type', 'first_join_date']]\n",
        "data = pd.merge(transaction, customer_selected , on='customer_id')\n",
        "data"
      ],
      "metadata": {
        "colab": {
          "base_uri": "https://localhost:8080/",
          "height": 696
        },
        "id": "71xgtWpcxZMA",
        "outputId": "dcfbba09-0d35-4900-b369-691654f9ed67"
      },
      "execution_count": null,
      "outputs": [
        {
          "output_type": "execute_result",
          "data": {
            "text/plain": [
              "                             created_at  customer_id  \\\n",
              "0      2018-07-29 15:22:01.458193+00:00         5868   \n",
              "1      2018-07-30 12:40:22.365620+00:00         4774   \n",
              "2      2018-09-15 11:51:17.365620+00:00         4774   \n",
              "3      2018-11-01 11:23:48.365620+00:00         4774   \n",
              "4      2018-12-18 11:20:30.365620+00:00         4774   \n",
              "...                                 ...          ...   \n",
              "852579 2021-09-21 22:10:05.074873+00:00        25121   \n",
              "852580 2021-12-09 07:35:18.222046+00:00        34829   \n",
              "852581 2021-12-11 01:20:36.944593+00:00        99645   \n",
              "852582 2019-12-18 11:01:09.623382+00:00        87319   \n",
              "852583 2019-12-19 12:47:14.701215+00:00        58180   \n",
              "\n",
              "                                  booking_id  \\\n",
              "0       186e2bee-0637-4710-8981-50c2d737bc42   \n",
              "1       caadb57b-e808-4f94-9e96-8a7d4c9898db   \n",
              "2       6000fffb-9c1a-4f4a-9296-bc8f6b622b50   \n",
              "3       f5e530a7-4350-4cd1-a3bc-525b5037bcab   \n",
              "4       0efc0594-dbbf-4f9a-b0b0-a488cfddf8a2   \n",
              "...                                      ...   \n",
              "852579  66f02fa4-c62e-497a-8b6e-be239009b50a   \n",
              "852580  ccde6b83-ee42-4cce-b2cd-976574886eac   \n",
              "852581  5bcd3434-1dc6-44bb-ae63-fd19714cbd6c   \n",
              "852582  af7f291a-b01b-4bfd-89a9-237b16368b15   \n",
              "852583  b242e188-5f94-4448-a038-c5865842374b   \n",
              "\n",
              "                                  session_id payment_status  promo_amount  \\\n",
              "0       3abaa6ce-e320-4e51-9469-d9f3fa328e86        Success          1415   \n",
              "1       2ee5ead1-f13e-4759-92df-7ff48475e970        Success             0   \n",
              "2       93325fb6-eb00-4268-bb0e-6471795a0ad0        Success             0   \n",
              "3       bcad5a61-1b67-448d-8ff4-781d67bc56e4        Success             0   \n",
              "4       df1042ab-13e6-4072-b9d2-64a81974c51a        Success             0   \n",
              "...                                      ...            ...           ...   \n",
              "852579  484eecde-9f4a-42de-a8df-7ce6668101f4         Failed             0   \n",
              "852580  954e1211-4d45-4d0b-ba84-53e80119592c        Success          5010   \n",
              "852581  e6e6c108-abd0-49a2-b0a5-691117f9cfe1        Success          2181   \n",
              "852582  bb6e5426-a3f3-426a-b99d-79173eaa234b        Success          4503   \n",
              "852583  5e3183df-198b-40e0-b861-27ef694a832a        Success          4724   \n",
              "\n",
              "           promo_code  total_amount gender  birthdate device_type  \\\n",
              "0         WEEKENDSERU        199832      F 2000-08-20     Android   \n",
              "1       Without Promo        155526      F 1996-03-15     Android   \n",
              "2       Without Promo        550696      F 1996-03-15     Android   \n",
              "3       Without Promo        271012      F 1996-03-15     Android   \n",
              "4       Without Promo        198753      F 1996-03-15     Android   \n",
              "...               ...           ...    ...        ...         ...   \n",
              "852579  Without Promo        226820      M 1993-05-19     Android   \n",
              "852580         AZ2022        359203      F 2006-04-21     Android   \n",
              "852581    WEEKENDSERU       1158159      F 1991-03-17     Android   \n",
              "852582         AZ2022        184143      F 2007-10-26         iOS   \n",
              "852583        BUYMORE        365963      F 2003-11-04     Android   \n",
              "\n",
              "       first_join_date  \n",
              "0           2018-07-28  \n",
              "1           2018-07-28  \n",
              "2           2018-07-28  \n",
              "3           2018-07-28  \n",
              "4           2018-07-28  \n",
              "...                ...  \n",
              "852579      2020-11-12  \n",
              "852580      2021-12-08  \n",
              "852581      2021-12-08  \n",
              "852582      2019-12-18  \n",
              "852583      2019-12-18  \n",
              "\n",
              "[852584 rows x 12 columns]"
            ],
            "text/html": [
              "\n",
              "  <div id=\"df-73b12056-c61c-4282-be2c-c4a9591e5249\">\n",
              "    <div class=\"colab-df-container\">\n",
              "      <div>\n",
              "<style scoped>\n",
              "    .dataframe tbody tr th:only-of-type {\n",
              "        vertical-align: middle;\n",
              "    }\n",
              "\n",
              "    .dataframe tbody tr th {\n",
              "        vertical-align: top;\n",
              "    }\n",
              "\n",
              "    .dataframe thead th {\n",
              "        text-align: right;\n",
              "    }\n",
              "</style>\n",
              "<table border=\"1\" class=\"dataframe\">\n",
              "  <thead>\n",
              "    <tr style=\"text-align: right;\">\n",
              "      <th></th>\n",
              "      <th>created_at</th>\n",
              "      <th>customer_id</th>\n",
              "      <th>booking_id</th>\n",
              "      <th>session_id</th>\n",
              "      <th>payment_status</th>\n",
              "      <th>promo_amount</th>\n",
              "      <th>promo_code</th>\n",
              "      <th>total_amount</th>\n",
              "      <th>gender</th>\n",
              "      <th>birthdate</th>\n",
              "      <th>device_type</th>\n",
              "      <th>first_join_date</th>\n",
              "    </tr>\n",
              "  </thead>\n",
              "  <tbody>\n",
              "    <tr>\n",
              "      <th>0</th>\n",
              "      <td>2018-07-29 15:22:01.458193+00:00</td>\n",
              "      <td>5868</td>\n",
              "      <td>186e2bee-0637-4710-8981-50c2d737bc42</td>\n",
              "      <td>3abaa6ce-e320-4e51-9469-d9f3fa328e86</td>\n",
              "      <td>Success</td>\n",
              "      <td>1415</td>\n",
              "      <td>WEEKENDSERU</td>\n",
              "      <td>199832</td>\n",
              "      <td>F</td>\n",
              "      <td>2000-08-20</td>\n",
              "      <td>Android</td>\n",
              "      <td>2018-07-28</td>\n",
              "    </tr>\n",
              "    <tr>\n",
              "      <th>1</th>\n",
              "      <td>2018-07-30 12:40:22.365620+00:00</td>\n",
              "      <td>4774</td>\n",
              "      <td>caadb57b-e808-4f94-9e96-8a7d4c9898db</td>\n",
              "      <td>2ee5ead1-f13e-4759-92df-7ff48475e970</td>\n",
              "      <td>Success</td>\n",
              "      <td>0</td>\n",
              "      <td>Without Promo</td>\n",
              "      <td>155526</td>\n",
              "      <td>F</td>\n",
              "      <td>1996-03-15</td>\n",
              "      <td>Android</td>\n",
              "      <td>2018-07-28</td>\n",
              "    </tr>\n",
              "    <tr>\n",
              "      <th>2</th>\n",
              "      <td>2018-09-15 11:51:17.365620+00:00</td>\n",
              "      <td>4774</td>\n",
              "      <td>6000fffb-9c1a-4f4a-9296-bc8f6b622b50</td>\n",
              "      <td>93325fb6-eb00-4268-bb0e-6471795a0ad0</td>\n",
              "      <td>Success</td>\n",
              "      <td>0</td>\n",
              "      <td>Without Promo</td>\n",
              "      <td>550696</td>\n",
              "      <td>F</td>\n",
              "      <td>1996-03-15</td>\n",
              "      <td>Android</td>\n",
              "      <td>2018-07-28</td>\n",
              "    </tr>\n",
              "    <tr>\n",
              "      <th>3</th>\n",
              "      <td>2018-11-01 11:23:48.365620+00:00</td>\n",
              "      <td>4774</td>\n",
              "      <td>f5e530a7-4350-4cd1-a3bc-525b5037bcab</td>\n",
              "      <td>bcad5a61-1b67-448d-8ff4-781d67bc56e4</td>\n",
              "      <td>Success</td>\n",
              "      <td>0</td>\n",
              "      <td>Without Promo</td>\n",
              "      <td>271012</td>\n",
              "      <td>F</td>\n",
              "      <td>1996-03-15</td>\n",
              "      <td>Android</td>\n",
              "      <td>2018-07-28</td>\n",
              "    </tr>\n",
              "    <tr>\n",
              "      <th>4</th>\n",
              "      <td>2018-12-18 11:20:30.365620+00:00</td>\n",
              "      <td>4774</td>\n",
              "      <td>0efc0594-dbbf-4f9a-b0b0-a488cfddf8a2</td>\n",
              "      <td>df1042ab-13e6-4072-b9d2-64a81974c51a</td>\n",
              "      <td>Success</td>\n",
              "      <td>0</td>\n",
              "      <td>Without Promo</td>\n",
              "      <td>198753</td>\n",
              "      <td>F</td>\n",
              "      <td>1996-03-15</td>\n",
              "      <td>Android</td>\n",
              "      <td>2018-07-28</td>\n",
              "    </tr>\n",
              "    <tr>\n",
              "      <th>...</th>\n",
              "      <td>...</td>\n",
              "      <td>...</td>\n",
              "      <td>...</td>\n",
              "      <td>...</td>\n",
              "      <td>...</td>\n",
              "      <td>...</td>\n",
              "      <td>...</td>\n",
              "      <td>...</td>\n",
              "      <td>...</td>\n",
              "      <td>...</td>\n",
              "      <td>...</td>\n",
              "      <td>...</td>\n",
              "    </tr>\n",
              "    <tr>\n",
              "      <th>852579</th>\n",
              "      <td>2021-09-21 22:10:05.074873+00:00</td>\n",
              "      <td>25121</td>\n",
              "      <td>66f02fa4-c62e-497a-8b6e-be239009b50a</td>\n",
              "      <td>484eecde-9f4a-42de-a8df-7ce6668101f4</td>\n",
              "      <td>Failed</td>\n",
              "      <td>0</td>\n",
              "      <td>Without Promo</td>\n",
              "      <td>226820</td>\n",
              "      <td>M</td>\n",
              "      <td>1993-05-19</td>\n",
              "      <td>Android</td>\n",
              "      <td>2020-11-12</td>\n",
              "    </tr>\n",
              "    <tr>\n",
              "      <th>852580</th>\n",
              "      <td>2021-12-09 07:35:18.222046+00:00</td>\n",
              "      <td>34829</td>\n",
              "      <td>ccde6b83-ee42-4cce-b2cd-976574886eac</td>\n",
              "      <td>954e1211-4d45-4d0b-ba84-53e80119592c</td>\n",
              "      <td>Success</td>\n",
              "      <td>5010</td>\n",
              "      <td>AZ2022</td>\n",
              "      <td>359203</td>\n",
              "      <td>F</td>\n",
              "      <td>2006-04-21</td>\n",
              "      <td>Android</td>\n",
              "      <td>2021-12-08</td>\n",
              "    </tr>\n",
              "    <tr>\n",
              "      <th>852581</th>\n",
              "      <td>2021-12-11 01:20:36.944593+00:00</td>\n",
              "      <td>99645</td>\n",
              "      <td>5bcd3434-1dc6-44bb-ae63-fd19714cbd6c</td>\n",
              "      <td>e6e6c108-abd0-49a2-b0a5-691117f9cfe1</td>\n",
              "      <td>Success</td>\n",
              "      <td>2181</td>\n",
              "      <td>WEEKENDSERU</td>\n",
              "      <td>1158159</td>\n",
              "      <td>F</td>\n",
              "      <td>1991-03-17</td>\n",
              "      <td>Android</td>\n",
              "      <td>2021-12-08</td>\n",
              "    </tr>\n",
              "    <tr>\n",
              "      <th>852582</th>\n",
              "      <td>2019-12-18 11:01:09.623382+00:00</td>\n",
              "      <td>87319</td>\n",
              "      <td>af7f291a-b01b-4bfd-89a9-237b16368b15</td>\n",
              "      <td>bb6e5426-a3f3-426a-b99d-79173eaa234b</td>\n",
              "      <td>Success</td>\n",
              "      <td>4503</td>\n",
              "      <td>AZ2022</td>\n",
              "      <td>184143</td>\n",
              "      <td>F</td>\n",
              "      <td>2007-10-26</td>\n",
              "      <td>iOS</td>\n",
              "      <td>2019-12-18</td>\n",
              "    </tr>\n",
              "    <tr>\n",
              "      <th>852583</th>\n",
              "      <td>2019-12-19 12:47:14.701215+00:00</td>\n",
              "      <td>58180</td>\n",
              "      <td>b242e188-5f94-4448-a038-c5865842374b</td>\n",
              "      <td>5e3183df-198b-40e0-b861-27ef694a832a</td>\n",
              "      <td>Success</td>\n",
              "      <td>4724</td>\n",
              "      <td>BUYMORE</td>\n",
              "      <td>365963</td>\n",
              "      <td>F</td>\n",
              "      <td>2003-11-04</td>\n",
              "      <td>Android</td>\n",
              "      <td>2019-12-18</td>\n",
              "    </tr>\n",
              "  </tbody>\n",
              "</table>\n",
              "<p>852584 rows × 12 columns</p>\n",
              "</div>\n",
              "      <button class=\"colab-df-convert\" onclick=\"convertToInteractive('df-73b12056-c61c-4282-be2c-c4a9591e5249')\"\n",
              "              title=\"Convert this dataframe to an interactive table.\"\n",
              "              style=\"display:none;\">\n",
              "        \n",
              "  <svg xmlns=\"http://www.w3.org/2000/svg\" height=\"24px\"viewBox=\"0 0 24 24\"\n",
              "       width=\"24px\">\n",
              "    <path d=\"M0 0h24v24H0V0z\" fill=\"none\"/>\n",
              "    <path d=\"M18.56 5.44l.94 2.06.94-2.06 2.06-.94-2.06-.94-.94-2.06-.94 2.06-2.06.94zm-11 1L8.5 8.5l.94-2.06 2.06-.94-2.06-.94L8.5 2.5l-.94 2.06-2.06.94zm10 10l.94 2.06.94-2.06 2.06-.94-2.06-.94-.94-2.06-.94 2.06-2.06.94z\"/><path d=\"M17.41 7.96l-1.37-1.37c-.4-.4-.92-.59-1.43-.59-.52 0-1.04.2-1.43.59L10.3 9.45l-7.72 7.72c-.78.78-.78 2.05 0 2.83L4 21.41c.39.39.9.59 1.41.59.51 0 1.02-.2 1.41-.59l7.78-7.78 2.81-2.81c.8-.78.8-2.07 0-2.86zM5.41 20L4 18.59l7.72-7.72 1.47 1.35L5.41 20z\"/>\n",
              "  </svg>\n",
              "      </button>\n",
              "      \n",
              "  <style>\n",
              "    .colab-df-container {\n",
              "      display:flex;\n",
              "      flex-wrap:wrap;\n",
              "      gap: 12px;\n",
              "    }\n",
              "\n",
              "    .colab-df-convert {\n",
              "      background-color: #E8F0FE;\n",
              "      border: none;\n",
              "      border-radius: 50%;\n",
              "      cursor: pointer;\n",
              "      display: none;\n",
              "      fill: #1967D2;\n",
              "      height: 32px;\n",
              "      padding: 0 0 0 0;\n",
              "      width: 32px;\n",
              "    }\n",
              "\n",
              "    .colab-df-convert:hover {\n",
              "      background-color: #E2EBFA;\n",
              "      box-shadow: 0px 1px 2px rgba(60, 64, 67, 0.3), 0px 1px 3px 1px rgba(60, 64, 67, 0.15);\n",
              "      fill: #174EA6;\n",
              "    }\n",
              "\n",
              "    [theme=dark] .colab-df-convert {\n",
              "      background-color: #3B4455;\n",
              "      fill: #D2E3FC;\n",
              "    }\n",
              "\n",
              "    [theme=dark] .colab-df-convert:hover {\n",
              "      background-color: #434B5C;\n",
              "      box-shadow: 0px 1px 3px 1px rgba(0, 0, 0, 0.15);\n",
              "      filter: drop-shadow(0px 1px 2px rgba(0, 0, 0, 0.3));\n",
              "      fill: #FFFFFF;\n",
              "    }\n",
              "  </style>\n",
              "\n",
              "      <script>\n",
              "        const buttonEl =\n",
              "          document.querySelector('#df-73b12056-c61c-4282-be2c-c4a9591e5249 button.colab-df-convert');\n",
              "        buttonEl.style.display =\n",
              "          google.colab.kernel.accessAllowed ? 'block' : 'none';\n",
              "\n",
              "        async function convertToInteractive(key) {\n",
              "          const element = document.querySelector('#df-73b12056-c61c-4282-be2c-c4a9591e5249');\n",
              "          const dataTable =\n",
              "            await google.colab.kernel.invokeFunction('convertToInteractive',\n",
              "                                                     [key], {});\n",
              "          if (!dataTable) return;\n",
              "\n",
              "          const docLinkHtml = 'Like what you see? Visit the ' +\n",
              "            '<a target=\"_blank\" href=https://colab.research.google.com/notebooks/data_table.ipynb>data table notebook</a>'\n",
              "            + ' to learn more about interactive tables.';\n",
              "          element.innerHTML = '';\n",
              "          dataTable['output_type'] = 'display_data';\n",
              "          await google.colab.output.renderOutput(dataTable, element);\n",
              "          const docLink = document.createElement('div');\n",
              "          docLink.innerHTML = docLinkHtml;\n",
              "          element.appendChild(docLink);\n",
              "        }\n",
              "      </script>\n",
              "    </div>\n",
              "  </div>\n",
              "  "
            ]
          },
          "metadata": {},
          "execution_count": 408
        }
      ]
    },
    {
      "cell_type": "code",
      "source": [
        "transaction['payment_status'].value_counts().to_frame()"
      ],
      "metadata": {
        "colab": {
          "base_uri": "https://localhost:8080/",
          "height": 112
        },
        "id": "37h0PvqHxkLF",
        "outputId": "a8413887-2703-46f9-f565-53b197c3653e"
      },
      "execution_count": null,
      "outputs": [
        {
          "output_type": "execute_result",
          "data": {
            "text/plain": [
              "         payment_status\n",
              "Success          815964\n",
              "Failed            36620"
            ],
            "text/html": [
              "\n",
              "  <div id=\"df-f04c4c95-a15e-4a40-a01a-0102445f11b9\">\n",
              "    <div class=\"colab-df-container\">\n",
              "      <div>\n",
              "<style scoped>\n",
              "    .dataframe tbody tr th:only-of-type {\n",
              "        vertical-align: middle;\n",
              "    }\n",
              "\n",
              "    .dataframe tbody tr th {\n",
              "        vertical-align: top;\n",
              "    }\n",
              "\n",
              "    .dataframe thead th {\n",
              "        text-align: right;\n",
              "    }\n",
              "</style>\n",
              "<table border=\"1\" class=\"dataframe\">\n",
              "  <thead>\n",
              "    <tr style=\"text-align: right;\">\n",
              "      <th></th>\n",
              "      <th>payment_status</th>\n",
              "    </tr>\n",
              "  </thead>\n",
              "  <tbody>\n",
              "    <tr>\n",
              "      <th>Success</th>\n",
              "      <td>815964</td>\n",
              "    </tr>\n",
              "    <tr>\n",
              "      <th>Failed</th>\n",
              "      <td>36620</td>\n",
              "    </tr>\n",
              "  </tbody>\n",
              "</table>\n",
              "</div>\n",
              "      <button class=\"colab-df-convert\" onclick=\"convertToInteractive('df-f04c4c95-a15e-4a40-a01a-0102445f11b9')\"\n",
              "              title=\"Convert this dataframe to an interactive table.\"\n",
              "              style=\"display:none;\">\n",
              "        \n",
              "  <svg xmlns=\"http://www.w3.org/2000/svg\" height=\"24px\"viewBox=\"0 0 24 24\"\n",
              "       width=\"24px\">\n",
              "    <path d=\"M0 0h24v24H0V0z\" fill=\"none\"/>\n",
              "    <path d=\"M18.56 5.44l.94 2.06.94-2.06 2.06-.94-2.06-.94-.94-2.06-.94 2.06-2.06.94zm-11 1L8.5 8.5l.94-2.06 2.06-.94-2.06-.94L8.5 2.5l-.94 2.06-2.06.94zm10 10l.94 2.06.94-2.06 2.06-.94-2.06-.94-.94-2.06-.94 2.06-2.06.94z\"/><path d=\"M17.41 7.96l-1.37-1.37c-.4-.4-.92-.59-1.43-.59-.52 0-1.04.2-1.43.59L10.3 9.45l-7.72 7.72c-.78.78-.78 2.05 0 2.83L4 21.41c.39.39.9.59 1.41.59.51 0 1.02-.2 1.41-.59l7.78-7.78 2.81-2.81c.8-.78.8-2.07 0-2.86zM5.41 20L4 18.59l7.72-7.72 1.47 1.35L5.41 20z\"/>\n",
              "  </svg>\n",
              "      </button>\n",
              "      \n",
              "  <style>\n",
              "    .colab-df-container {\n",
              "      display:flex;\n",
              "      flex-wrap:wrap;\n",
              "      gap: 12px;\n",
              "    }\n",
              "\n",
              "    .colab-df-convert {\n",
              "      background-color: #E8F0FE;\n",
              "      border: none;\n",
              "      border-radius: 50%;\n",
              "      cursor: pointer;\n",
              "      display: none;\n",
              "      fill: #1967D2;\n",
              "      height: 32px;\n",
              "      padding: 0 0 0 0;\n",
              "      width: 32px;\n",
              "    }\n",
              "\n",
              "    .colab-df-convert:hover {\n",
              "      background-color: #E2EBFA;\n",
              "      box-shadow: 0px 1px 2px rgba(60, 64, 67, 0.3), 0px 1px 3px 1px rgba(60, 64, 67, 0.15);\n",
              "      fill: #174EA6;\n",
              "    }\n",
              "\n",
              "    [theme=dark] .colab-df-convert {\n",
              "      background-color: #3B4455;\n",
              "      fill: #D2E3FC;\n",
              "    }\n",
              "\n",
              "    [theme=dark] .colab-df-convert:hover {\n",
              "      background-color: #434B5C;\n",
              "      box-shadow: 0px 1px 3px 1px rgba(0, 0, 0, 0.15);\n",
              "      filter: drop-shadow(0px 1px 2px rgba(0, 0, 0, 0.3));\n",
              "      fill: #FFFFFF;\n",
              "    }\n",
              "  </style>\n",
              "\n",
              "      <script>\n",
              "        const buttonEl =\n",
              "          document.querySelector('#df-f04c4c95-a15e-4a40-a01a-0102445f11b9 button.colab-df-convert');\n",
              "        buttonEl.style.display =\n",
              "          google.colab.kernel.accessAllowed ? 'block' : 'none';\n",
              "\n",
              "        async function convertToInteractive(key) {\n",
              "          const element = document.querySelector('#df-f04c4c95-a15e-4a40-a01a-0102445f11b9');\n",
              "          const dataTable =\n",
              "            await google.colab.kernel.invokeFunction('convertToInteractive',\n",
              "                                                     [key], {});\n",
              "          if (!dataTable) return;\n",
              "\n",
              "          const docLinkHtml = 'Like what you see? Visit the ' +\n",
              "            '<a target=\"_blank\" href=https://colab.research.google.com/notebooks/data_table.ipynb>data table notebook</a>'\n",
              "            + ' to learn more about interactive tables.';\n",
              "          element.innerHTML = '';\n",
              "          dataTable['output_type'] = 'display_data';\n",
              "          await google.colab.output.renderOutput(dataTable, element);\n",
              "          const docLink = document.createElement('div');\n",
              "          docLink.innerHTML = docLinkHtml;\n",
              "          element.appendChild(docLink);\n",
              "        }\n",
              "      </script>\n",
              "    </div>\n",
              "  </div>\n",
              "  "
            ]
          },
          "metadata": {},
          "execution_count": 409
        }
      ]
    },
    {
      "cell_type": "code",
      "source": [
        "data = data[data['payment_status'] == 'Success']\n",
        "data.head()"
      ],
      "metadata": {
        "colab": {
          "base_uri": "https://localhost:8080/",
          "height": 391
        },
        "id": "5DtMei5Kxof4",
        "outputId": "311d5921-9bf8-4e8e-e535-be9131d734ff"
      },
      "execution_count": null,
      "outputs": [
        {
          "output_type": "execute_result",
          "data": {
            "text/plain": [
              "                        created_at  customer_id  \\\n",
              "0 2018-07-29 15:22:01.458193+00:00         5868   \n",
              "1 2018-07-30 12:40:22.365620+00:00         4774   \n",
              "2 2018-09-15 11:51:17.365620+00:00         4774   \n",
              "3 2018-11-01 11:23:48.365620+00:00         4774   \n",
              "4 2018-12-18 11:20:30.365620+00:00         4774   \n",
              "\n",
              "                             booking_id                            session_id  \\\n",
              "0  186e2bee-0637-4710-8981-50c2d737bc42  3abaa6ce-e320-4e51-9469-d9f3fa328e86   \n",
              "1  caadb57b-e808-4f94-9e96-8a7d4c9898db  2ee5ead1-f13e-4759-92df-7ff48475e970   \n",
              "2  6000fffb-9c1a-4f4a-9296-bc8f6b622b50  93325fb6-eb00-4268-bb0e-6471795a0ad0   \n",
              "3  f5e530a7-4350-4cd1-a3bc-525b5037bcab  bcad5a61-1b67-448d-8ff4-781d67bc56e4   \n",
              "4  0efc0594-dbbf-4f9a-b0b0-a488cfddf8a2  df1042ab-13e6-4072-b9d2-64a81974c51a   \n",
              "\n",
              "  payment_status  promo_amount     promo_code  total_amount gender  birthdate  \\\n",
              "0        Success          1415    WEEKENDSERU        199832      F 2000-08-20   \n",
              "1        Success             0  Without Promo        155526      F 1996-03-15   \n",
              "2        Success             0  Without Promo        550696      F 1996-03-15   \n",
              "3        Success             0  Without Promo        271012      F 1996-03-15   \n",
              "4        Success             0  Without Promo        198753      F 1996-03-15   \n",
              "\n",
              "  device_type first_join_date  \n",
              "0     Android      2018-07-28  \n",
              "1     Android      2018-07-28  \n",
              "2     Android      2018-07-28  \n",
              "3     Android      2018-07-28  \n",
              "4     Android      2018-07-28  "
            ],
            "text/html": [
              "\n",
              "  <div id=\"df-cb7c445f-8b9e-4444-9d6c-198a4791a8fa\">\n",
              "    <div class=\"colab-df-container\">\n",
              "      <div>\n",
              "<style scoped>\n",
              "    .dataframe tbody tr th:only-of-type {\n",
              "        vertical-align: middle;\n",
              "    }\n",
              "\n",
              "    .dataframe tbody tr th {\n",
              "        vertical-align: top;\n",
              "    }\n",
              "\n",
              "    .dataframe thead th {\n",
              "        text-align: right;\n",
              "    }\n",
              "</style>\n",
              "<table border=\"1\" class=\"dataframe\">\n",
              "  <thead>\n",
              "    <tr style=\"text-align: right;\">\n",
              "      <th></th>\n",
              "      <th>created_at</th>\n",
              "      <th>customer_id</th>\n",
              "      <th>booking_id</th>\n",
              "      <th>session_id</th>\n",
              "      <th>payment_status</th>\n",
              "      <th>promo_amount</th>\n",
              "      <th>promo_code</th>\n",
              "      <th>total_amount</th>\n",
              "      <th>gender</th>\n",
              "      <th>birthdate</th>\n",
              "      <th>device_type</th>\n",
              "      <th>first_join_date</th>\n",
              "    </tr>\n",
              "  </thead>\n",
              "  <tbody>\n",
              "    <tr>\n",
              "      <th>0</th>\n",
              "      <td>2018-07-29 15:22:01.458193+00:00</td>\n",
              "      <td>5868</td>\n",
              "      <td>186e2bee-0637-4710-8981-50c2d737bc42</td>\n",
              "      <td>3abaa6ce-e320-4e51-9469-d9f3fa328e86</td>\n",
              "      <td>Success</td>\n",
              "      <td>1415</td>\n",
              "      <td>WEEKENDSERU</td>\n",
              "      <td>199832</td>\n",
              "      <td>F</td>\n",
              "      <td>2000-08-20</td>\n",
              "      <td>Android</td>\n",
              "      <td>2018-07-28</td>\n",
              "    </tr>\n",
              "    <tr>\n",
              "      <th>1</th>\n",
              "      <td>2018-07-30 12:40:22.365620+00:00</td>\n",
              "      <td>4774</td>\n",
              "      <td>caadb57b-e808-4f94-9e96-8a7d4c9898db</td>\n",
              "      <td>2ee5ead1-f13e-4759-92df-7ff48475e970</td>\n",
              "      <td>Success</td>\n",
              "      <td>0</td>\n",
              "      <td>Without Promo</td>\n",
              "      <td>155526</td>\n",
              "      <td>F</td>\n",
              "      <td>1996-03-15</td>\n",
              "      <td>Android</td>\n",
              "      <td>2018-07-28</td>\n",
              "    </tr>\n",
              "    <tr>\n",
              "      <th>2</th>\n",
              "      <td>2018-09-15 11:51:17.365620+00:00</td>\n",
              "      <td>4774</td>\n",
              "      <td>6000fffb-9c1a-4f4a-9296-bc8f6b622b50</td>\n",
              "      <td>93325fb6-eb00-4268-bb0e-6471795a0ad0</td>\n",
              "      <td>Success</td>\n",
              "      <td>0</td>\n",
              "      <td>Without Promo</td>\n",
              "      <td>550696</td>\n",
              "      <td>F</td>\n",
              "      <td>1996-03-15</td>\n",
              "      <td>Android</td>\n",
              "      <td>2018-07-28</td>\n",
              "    </tr>\n",
              "    <tr>\n",
              "      <th>3</th>\n",
              "      <td>2018-11-01 11:23:48.365620+00:00</td>\n",
              "      <td>4774</td>\n",
              "      <td>f5e530a7-4350-4cd1-a3bc-525b5037bcab</td>\n",
              "      <td>bcad5a61-1b67-448d-8ff4-781d67bc56e4</td>\n",
              "      <td>Success</td>\n",
              "      <td>0</td>\n",
              "      <td>Without Promo</td>\n",
              "      <td>271012</td>\n",
              "      <td>F</td>\n",
              "      <td>1996-03-15</td>\n",
              "      <td>Android</td>\n",
              "      <td>2018-07-28</td>\n",
              "    </tr>\n",
              "    <tr>\n",
              "      <th>4</th>\n",
              "      <td>2018-12-18 11:20:30.365620+00:00</td>\n",
              "      <td>4774</td>\n",
              "      <td>0efc0594-dbbf-4f9a-b0b0-a488cfddf8a2</td>\n",
              "      <td>df1042ab-13e6-4072-b9d2-64a81974c51a</td>\n",
              "      <td>Success</td>\n",
              "      <td>0</td>\n",
              "      <td>Without Promo</td>\n",
              "      <td>198753</td>\n",
              "      <td>F</td>\n",
              "      <td>1996-03-15</td>\n",
              "      <td>Android</td>\n",
              "      <td>2018-07-28</td>\n",
              "    </tr>\n",
              "  </tbody>\n",
              "</table>\n",
              "</div>\n",
              "      <button class=\"colab-df-convert\" onclick=\"convertToInteractive('df-cb7c445f-8b9e-4444-9d6c-198a4791a8fa')\"\n",
              "              title=\"Convert this dataframe to an interactive table.\"\n",
              "              style=\"display:none;\">\n",
              "        \n",
              "  <svg xmlns=\"http://www.w3.org/2000/svg\" height=\"24px\"viewBox=\"0 0 24 24\"\n",
              "       width=\"24px\">\n",
              "    <path d=\"M0 0h24v24H0V0z\" fill=\"none\"/>\n",
              "    <path d=\"M18.56 5.44l.94 2.06.94-2.06 2.06-.94-2.06-.94-.94-2.06-.94 2.06-2.06.94zm-11 1L8.5 8.5l.94-2.06 2.06-.94-2.06-.94L8.5 2.5l-.94 2.06-2.06.94zm10 10l.94 2.06.94-2.06 2.06-.94-2.06-.94-.94-2.06-.94 2.06-2.06.94z\"/><path d=\"M17.41 7.96l-1.37-1.37c-.4-.4-.92-.59-1.43-.59-.52 0-1.04.2-1.43.59L10.3 9.45l-7.72 7.72c-.78.78-.78 2.05 0 2.83L4 21.41c.39.39.9.59 1.41.59.51 0 1.02-.2 1.41-.59l7.78-7.78 2.81-2.81c.8-.78.8-2.07 0-2.86zM5.41 20L4 18.59l7.72-7.72 1.47 1.35L5.41 20z\"/>\n",
              "  </svg>\n",
              "      </button>\n",
              "      \n",
              "  <style>\n",
              "    .colab-df-container {\n",
              "      display:flex;\n",
              "      flex-wrap:wrap;\n",
              "      gap: 12px;\n",
              "    }\n",
              "\n",
              "    .colab-df-convert {\n",
              "      background-color: #E8F0FE;\n",
              "      border: none;\n",
              "      border-radius: 50%;\n",
              "      cursor: pointer;\n",
              "      display: none;\n",
              "      fill: #1967D2;\n",
              "      height: 32px;\n",
              "      padding: 0 0 0 0;\n",
              "      width: 32px;\n",
              "    }\n",
              "\n",
              "    .colab-df-convert:hover {\n",
              "      background-color: #E2EBFA;\n",
              "      box-shadow: 0px 1px 2px rgba(60, 64, 67, 0.3), 0px 1px 3px 1px rgba(60, 64, 67, 0.15);\n",
              "      fill: #174EA6;\n",
              "    }\n",
              "\n",
              "    [theme=dark] .colab-df-convert {\n",
              "      background-color: #3B4455;\n",
              "      fill: #D2E3FC;\n",
              "    }\n",
              "\n",
              "    [theme=dark] .colab-df-convert:hover {\n",
              "      background-color: #434B5C;\n",
              "      box-shadow: 0px 1px 3px 1px rgba(0, 0, 0, 0.15);\n",
              "      filter: drop-shadow(0px 1px 2px rgba(0, 0, 0, 0.3));\n",
              "      fill: #FFFFFF;\n",
              "    }\n",
              "  </style>\n",
              "\n",
              "      <script>\n",
              "        const buttonEl =\n",
              "          document.querySelector('#df-cb7c445f-8b9e-4444-9d6c-198a4791a8fa button.colab-df-convert');\n",
              "        buttonEl.style.display =\n",
              "          google.colab.kernel.accessAllowed ? 'block' : 'none';\n",
              "\n",
              "        async function convertToInteractive(key) {\n",
              "          const element = document.querySelector('#df-cb7c445f-8b9e-4444-9d6c-198a4791a8fa');\n",
              "          const dataTable =\n",
              "            await google.colab.kernel.invokeFunction('convertToInteractive',\n",
              "                                                     [key], {});\n",
              "          if (!dataTable) return;\n",
              "\n",
              "          const docLinkHtml = 'Like what you see? Visit the ' +\n",
              "            '<a target=\"_blank\" href=https://colab.research.google.com/notebooks/data_table.ipynb>data table notebook</a>'\n",
              "            + ' to learn more about interactive tables.';\n",
              "          element.innerHTML = '';\n",
              "          dataTable['output_type'] = 'display_data';\n",
              "          await google.colab.output.renderOutput(dataTable, element);\n",
              "          const docLink = document.createElement('div');\n",
              "          docLink.innerHTML = docLinkHtml;\n",
              "          element.appendChild(docLink);\n",
              "        }\n",
              "      </script>\n",
              "    </div>\n",
              "  </div>\n",
              "  "
            ]
          },
          "metadata": {},
          "execution_count": 410
        }
      ]
    },
    {
      "cell_type": "code",
      "source": [
        "data['created_at'] = pd.to_datetime(data['created_at']).dt.date\n",
        "data['created_at'] = pd.to_datetime(data['created_at'])\n",
        "data = data[data['created_at'].between('2017-08-01', '2022-07-31')]\n",
        "data['since_join'] = 2022 - data['first_join_date'].dt.year\n",
        "data['age'] = 2022 - data['birthdate'].dt.year\n",
        "data = data.rename(columns={'device_type':'deviceType'})\n",
        "data.info()"
      ],
      "metadata": {
        "colab": {
          "base_uri": "https://localhost:8080/"
        },
        "id": "-GXUUFFexvcj",
        "outputId": "7f3b4bdd-2f94-4abf-a6ec-39426cde7abb"
      },
      "execution_count": null,
      "outputs": [
        {
          "output_type": "stream",
          "name": "stdout",
          "text": [
            "<class 'pandas.core.frame.DataFrame'>\n",
            "Int64Index: 796828 entries, 0 to 852583\n",
            "Data columns (total 14 columns):\n",
            " #   Column           Non-Null Count   Dtype         \n",
            "---  ------           --------------   -----         \n",
            " 0   created_at       796828 non-null  datetime64[ns]\n",
            " 1   customer_id      796828 non-null  int64         \n",
            " 2   booking_id       796828 non-null  object        \n",
            " 3   session_id       796828 non-null  object        \n",
            " 4   payment_status   796828 non-null  object        \n",
            " 5   promo_amount     796828 non-null  int64         \n",
            " 6   promo_code       796828 non-null  object        \n",
            " 7   total_amount     796828 non-null  int64         \n",
            " 8   gender           796828 non-null  object        \n",
            " 9   birthdate        796828 non-null  datetime64[ns]\n",
            " 10  deviceType       796828 non-null  object        \n",
            " 11  first_join_date  796828 non-null  datetime64[ns]\n",
            " 12  since_join       796828 non-null  int64         \n",
            " 13  age              796828 non-null  int64         \n",
            "dtypes: datetime64[ns](3), int64(5), object(6)\n",
            "memory usage: 91.2+ MB\n"
          ]
        }
      ]
    },
    {
      "cell_type": "code",
      "source": [
        "years = data['created_at'].dt.year.unique()\n",
        "years = np.sort(years)\n",
        "categorical_columns = ['gender', 'deviceType','freq', 'mon', 'cust_segment']\n",
        "\n",
        "for year in years:\n",
        "  next_year = year + 1\n",
        "  if year == 2022:\n",
        "    break\n",
        "  data1 = data[data['created_at'].between(\n",
        "    f'{year}-08-01', f'{next_year}-07-31')]\n",
        "  data1 = (data1.groupby(['customer_id','gender', 'deviceType'])\n",
        "    .agg(last_transactions = ('created_at', 'max'), \n",
        "            frequency = ('booking_id', 'count'),\n",
        "            monetary = ('total_amount', 'sum'),\n",
        "            total_promo = ('promo_amount', 'sum'),\n",
        "            since_join = ('since_join', 'max')).reset_index())\n",
        "\n",
        "  data1['recency'] = (data1['last_transactions'].max() - data1['last_transactions']).dt.days\n",
        "\n",
        "  data1['freq'] = np.where(data1['frequency'] < 2, 'tier3',\n",
        "                    np.where(((data1['frequency'] < 8) & \n",
        "                    (data1['frequency'] > 2)), 'tier2', 'tier1'))\n",
        "  data1['mon'] = np.where(data1['monetary'] < 450000, 'tier3',\n",
        "                    np.where(((data1['monetary'] > 450000) & \n",
        "                    (data1['monetary'] < 4500000)), 'tier2', 'tier1'))\n",
        "  data1['churn'] = np.where(data1['last_transactions'] < f'{next_year}-07-01', 1, 0)\n",
        "  data1['cust_segment'] = np.where(\n",
        "      ((data1['freq']=='tier1') & (data1['mon']=='tier1')), 'active', \n",
        "      np.where(((data1['freq']=='tier2') & (data1['mon']=='tier2')),\n",
        "      'quite active', 'passive'))\n",
        "\n",
        "  ohe = OneHotEncoder(drop='first', dtype=np.uint8, sparse=False)\n",
        "  oh_values = ohe.fit_transform(data1[categorical_columns])\n",
        "  col_names = ohe.get_feature_names_out()\n",
        "  \n",
        "  oh_values = {col_name : oh_values[:, ix] for ix, col_name in enumerate(col_names)}\n",
        "\n",
        "  data1 = data1.drop(['customer_id', 'last_transactions', 'frequency',\n",
        "                  'monetary', *categorical_columns], axis=1).assign(**oh_values)"
      ],
      "metadata": {
        "id": "nNH6hMxqx_3j"
      },
      "execution_count": null,
      "outputs": []
    },
    {
      "cell_type": "code",
      "source": [
        "data1.info()"
      ],
      "metadata": {
        "colab": {
          "base_uri": "https://localhost:8080/"
        },
        "id": "ojLA87qm1GwX",
        "outputId": "1dfa2a0a-2a83-4871-f1c6-586bdf2e4fc4"
      },
      "execution_count": null,
      "outputs": [
        {
          "output_type": "stream",
          "name": "stdout",
          "text": [
            "<class 'pandas.core.frame.DataFrame'>\n",
            "RangeIndex: 37829 entries, 0 to 37828\n",
            "Data columns (total 12 columns):\n",
            " #   Column                     Non-Null Count  Dtype\n",
            "---  ------                     --------------  -----\n",
            " 0   total_promo                37829 non-null  int64\n",
            " 1   since_join                 37829 non-null  int64\n",
            " 2   recency                    37829 non-null  int64\n",
            " 3   churn                      37829 non-null  int64\n",
            " 4   gender_M                   37829 non-null  uint8\n",
            " 5   deviceType_iOS             37829 non-null  uint8\n",
            " 6   freq_tier2                 37829 non-null  uint8\n",
            " 7   freq_tier3                 37829 non-null  uint8\n",
            " 8   mon_tier2                  37829 non-null  uint8\n",
            " 9   mon_tier3                  37829 non-null  uint8\n",
            " 10  cust_segment_passive       37829 non-null  uint8\n",
            " 11  cust_segment_quite active  37829 non-null  uint8\n",
            "dtypes: int64(4), uint8(8)\n",
            "memory usage: 1.4 MB\n"
          ]
        }
      ]
    },
    {
      "cell_type": "code",
      "execution_count": null,
      "metadata": {
        "id": "pLsI-Q08PBuS"
      },
      "outputs": [],
      "source": [
        "#melakukan pembersihan data pada file transaction\n",
        "#transaction['product_metadata']= transaction['product_metadata'].astype('string')\n",
        "#transaction['product_metadata']= transaction['product_metadata'].map(lambda x: ast.literal_eval(x))\n",
        "#transactions_temp= transaction.explode('product_metadata')\n",
        "#transactions_temp.reset_index(inplace=True)\n",
        "#transactions_temp.drop('index',axis=1,inplace=True)\n",
        "#normalize_metadata = pd.json_normalize(transactions_temp['product_metadata'])\n",
        "#normalize_metadata.head()\n",
        "#merge_transactions=pd.concat([normalize_metadata, transactions_temp], axis=1, join=\"inner\")\n",
        "#transaction = merge_transactions[['created_at','customer_id', 'product_id', 'session_id','quantity','item_price','payment_method','payment_status',  'promo_amount', 'shipment_fee', 'total_amount']]\n",
        "#transaction.head()"
      ]
    },
    {
      "cell_type": "markdown",
      "metadata": {
        "id": "klJUwCcBYIZK"
      },
      "source": [
        "Melakukan join dua dataset customer dan transaction dan ditampung dalam variable customer transaction"
      ]
    },
    {
      "cell_type": "code",
      "execution_count": null,
      "metadata": {
        "id": "XikyEnbzXCCl",
        "colab": {
          "base_uri": "https://localhost:8080/",
          "height": 179
        },
        "outputId": "8db0de7c-9731-45f0-81ef-084d35a628b3"
      },
      "outputs": [
        {
          "output_type": "execute_result",
          "data": {
            "text/plain": [
              "   customer_id gender device_type                             device_id  \\\n",
              "0         2870      F         iOS  c9c0de76-0a6c-4ac2-843f-65264ab9fe63   \n",
              "\n",
              "   birthdate   home_location first_join_date created_at booking_id session_id  \\\n",
              "0 1996-06-14  Sumatera Barat      2019-07-21        NaT        NaN        NaN   \n",
              "\n",
              "  payment_status  promo_amount promo_code  total_amount  \n",
              "0            NaN           NaN        NaN           NaN  "
            ],
            "text/html": [
              "\n",
              "  <div id=\"df-cfc05be0-6bea-44d5-b8b3-456846993b20\">\n",
              "    <div class=\"colab-df-container\">\n",
              "      <div>\n",
              "<style scoped>\n",
              "    .dataframe tbody tr th:only-of-type {\n",
              "        vertical-align: middle;\n",
              "    }\n",
              "\n",
              "    .dataframe tbody tr th {\n",
              "        vertical-align: top;\n",
              "    }\n",
              "\n",
              "    .dataframe thead th {\n",
              "        text-align: right;\n",
              "    }\n",
              "</style>\n",
              "<table border=\"1\" class=\"dataframe\">\n",
              "  <thead>\n",
              "    <tr style=\"text-align: right;\">\n",
              "      <th></th>\n",
              "      <th>customer_id</th>\n",
              "      <th>gender</th>\n",
              "      <th>device_type</th>\n",
              "      <th>device_id</th>\n",
              "      <th>birthdate</th>\n",
              "      <th>home_location</th>\n",
              "      <th>first_join_date</th>\n",
              "      <th>created_at</th>\n",
              "      <th>booking_id</th>\n",
              "      <th>session_id</th>\n",
              "      <th>payment_status</th>\n",
              "      <th>promo_amount</th>\n",
              "      <th>promo_code</th>\n",
              "      <th>total_amount</th>\n",
              "    </tr>\n",
              "  </thead>\n",
              "  <tbody>\n",
              "    <tr>\n",
              "      <th>0</th>\n",
              "      <td>2870</td>\n",
              "      <td>F</td>\n",
              "      <td>iOS</td>\n",
              "      <td>c9c0de76-0a6c-4ac2-843f-65264ab9fe63</td>\n",
              "      <td>1996-06-14</td>\n",
              "      <td>Sumatera Barat</td>\n",
              "      <td>2019-07-21</td>\n",
              "      <td>NaT</td>\n",
              "      <td>NaN</td>\n",
              "      <td>NaN</td>\n",
              "      <td>NaN</td>\n",
              "      <td>NaN</td>\n",
              "      <td>NaN</td>\n",
              "      <td>NaN</td>\n",
              "    </tr>\n",
              "  </tbody>\n",
              "</table>\n",
              "</div>\n",
              "      <button class=\"colab-df-convert\" onclick=\"convertToInteractive('df-cfc05be0-6bea-44d5-b8b3-456846993b20')\"\n",
              "              title=\"Convert this dataframe to an interactive table.\"\n",
              "              style=\"display:none;\">\n",
              "        \n",
              "  <svg xmlns=\"http://www.w3.org/2000/svg\" height=\"24px\"viewBox=\"0 0 24 24\"\n",
              "       width=\"24px\">\n",
              "    <path d=\"M0 0h24v24H0V0z\" fill=\"none\"/>\n",
              "    <path d=\"M18.56 5.44l.94 2.06.94-2.06 2.06-.94-2.06-.94-.94-2.06-.94 2.06-2.06.94zm-11 1L8.5 8.5l.94-2.06 2.06-.94-2.06-.94L8.5 2.5l-.94 2.06-2.06.94zm10 10l.94 2.06.94-2.06 2.06-.94-2.06-.94-.94-2.06-.94 2.06-2.06.94z\"/><path d=\"M17.41 7.96l-1.37-1.37c-.4-.4-.92-.59-1.43-.59-.52 0-1.04.2-1.43.59L10.3 9.45l-7.72 7.72c-.78.78-.78 2.05 0 2.83L4 21.41c.39.39.9.59 1.41.59.51 0 1.02-.2 1.41-.59l7.78-7.78 2.81-2.81c.8-.78.8-2.07 0-2.86zM5.41 20L4 18.59l7.72-7.72 1.47 1.35L5.41 20z\"/>\n",
              "  </svg>\n",
              "      </button>\n",
              "      \n",
              "  <style>\n",
              "    .colab-df-container {\n",
              "      display:flex;\n",
              "      flex-wrap:wrap;\n",
              "      gap: 12px;\n",
              "    }\n",
              "\n",
              "    .colab-df-convert {\n",
              "      background-color: #E8F0FE;\n",
              "      border: none;\n",
              "      border-radius: 50%;\n",
              "      cursor: pointer;\n",
              "      display: none;\n",
              "      fill: #1967D2;\n",
              "      height: 32px;\n",
              "      padding: 0 0 0 0;\n",
              "      width: 32px;\n",
              "    }\n",
              "\n",
              "    .colab-df-convert:hover {\n",
              "      background-color: #E2EBFA;\n",
              "      box-shadow: 0px 1px 2px rgba(60, 64, 67, 0.3), 0px 1px 3px 1px rgba(60, 64, 67, 0.15);\n",
              "      fill: #174EA6;\n",
              "    }\n",
              "\n",
              "    [theme=dark] .colab-df-convert {\n",
              "      background-color: #3B4455;\n",
              "      fill: #D2E3FC;\n",
              "    }\n",
              "\n",
              "    [theme=dark] .colab-df-convert:hover {\n",
              "      background-color: #434B5C;\n",
              "      box-shadow: 0px 1px 3px 1px rgba(0, 0, 0, 0.15);\n",
              "      filter: drop-shadow(0px 1px 2px rgba(0, 0, 0, 0.3));\n",
              "      fill: #FFFFFF;\n",
              "    }\n",
              "  </style>\n",
              "\n",
              "      <script>\n",
              "        const buttonEl =\n",
              "          document.querySelector('#df-cfc05be0-6bea-44d5-b8b3-456846993b20 button.colab-df-convert');\n",
              "        buttonEl.style.display =\n",
              "          google.colab.kernel.accessAllowed ? 'block' : 'none';\n",
              "\n",
              "        async function convertToInteractive(key) {\n",
              "          const element = document.querySelector('#df-cfc05be0-6bea-44d5-b8b3-456846993b20');\n",
              "          const dataTable =\n",
              "            await google.colab.kernel.invokeFunction('convertToInteractive',\n",
              "                                                     [key], {});\n",
              "          if (!dataTable) return;\n",
              "\n",
              "          const docLinkHtml = 'Like what you see? Visit the ' +\n",
              "            '<a target=\"_blank\" href=https://colab.research.google.com/notebooks/data_table.ipynb>data table notebook</a>'\n",
              "            + ' to learn more about interactive tables.';\n",
              "          element.innerHTML = '';\n",
              "          dataTable['output_type'] = 'display_data';\n",
              "          await google.colab.output.renderOutput(dataTable, element);\n",
              "          const docLink = document.createElement('div');\n",
              "          docLink.innerHTML = docLinkHtml;\n",
              "          element.appendChild(docLink);\n",
              "        }\n",
              "      </script>\n",
              "    </div>\n",
              "  </div>\n",
              "  "
            ]
          },
          "metadata": {},
          "execution_count": 415
        }
      ],
      "source": [
        "customer_transaction=customer.merge(transaction, on='customer_id', how='left')\n",
        "customer_transaction.head(1)"
      ]
    },
    {
      "cell_type": "code",
      "execution_count": null,
      "metadata": {
        "id": "v5Y4uIvU6bch",
        "colab": {
          "base_uri": "https://localhost:8080/",
          "height": 179
        },
        "outputId": "8ec1789c-7c66-4dc5-c830-ba7223bc7c40"
      },
      "outputs": [
        {
          "output_type": "execute_result",
          "data": {
            "text/plain": [
              "   customer_id gender device_type                             device_id  \\\n",
              "2         7279      M         iOS  d13dde0a-6ae1-43c3-83a7-11bbb922730b   \n",
              "\n",
              "   birthdate        home_location first_join_date  \\\n",
              "2 1989-01-23  Nusa Tenggara Barat      2020-08-23   \n",
              "\n",
              "                        created_at                            booking_id  \\\n",
              "2 2020-08-23 12:53:12.916342+00:00  1fb6f149-05ef-4a22-ac1a-cd5d98cd5510   \n",
              "\n",
              "                             session_id payment_status  promo_amount  \\\n",
              "2  9d0496a6-37f7-4d0a-8a04-5850a12d00a6        Success        2853.0   \n",
              "\n",
              "    promo_code  total_amount  \n",
              "2  WEEKENDSERU      844751.0  "
            ],
            "text/html": [
              "\n",
              "  <div id=\"df-4d2f7bbc-5e77-4c9e-90e2-ca19d5f4e0cf\">\n",
              "    <div class=\"colab-df-container\">\n",
              "      <div>\n",
              "<style scoped>\n",
              "    .dataframe tbody tr th:only-of-type {\n",
              "        vertical-align: middle;\n",
              "    }\n",
              "\n",
              "    .dataframe tbody tr th {\n",
              "        vertical-align: top;\n",
              "    }\n",
              "\n",
              "    .dataframe thead th {\n",
              "        text-align: right;\n",
              "    }\n",
              "</style>\n",
              "<table border=\"1\" class=\"dataframe\">\n",
              "  <thead>\n",
              "    <tr style=\"text-align: right;\">\n",
              "      <th></th>\n",
              "      <th>customer_id</th>\n",
              "      <th>gender</th>\n",
              "      <th>device_type</th>\n",
              "      <th>device_id</th>\n",
              "      <th>birthdate</th>\n",
              "      <th>home_location</th>\n",
              "      <th>first_join_date</th>\n",
              "      <th>created_at</th>\n",
              "      <th>booking_id</th>\n",
              "      <th>session_id</th>\n",
              "      <th>payment_status</th>\n",
              "      <th>promo_amount</th>\n",
              "      <th>promo_code</th>\n",
              "      <th>total_amount</th>\n",
              "    </tr>\n",
              "  </thead>\n",
              "  <tbody>\n",
              "    <tr>\n",
              "      <th>2</th>\n",
              "      <td>7279</td>\n",
              "      <td>M</td>\n",
              "      <td>iOS</td>\n",
              "      <td>d13dde0a-6ae1-43c3-83a7-11bbb922730b</td>\n",
              "      <td>1989-01-23</td>\n",
              "      <td>Nusa Tenggara Barat</td>\n",
              "      <td>2020-08-23</td>\n",
              "      <td>2020-08-23 12:53:12.916342+00:00</td>\n",
              "      <td>1fb6f149-05ef-4a22-ac1a-cd5d98cd5510</td>\n",
              "      <td>9d0496a6-37f7-4d0a-8a04-5850a12d00a6</td>\n",
              "      <td>Success</td>\n",
              "      <td>2853.0</td>\n",
              "      <td>WEEKENDSERU</td>\n",
              "      <td>844751.0</td>\n",
              "    </tr>\n",
              "  </tbody>\n",
              "</table>\n",
              "</div>\n",
              "      <button class=\"colab-df-convert\" onclick=\"convertToInteractive('df-4d2f7bbc-5e77-4c9e-90e2-ca19d5f4e0cf')\"\n",
              "              title=\"Convert this dataframe to an interactive table.\"\n",
              "              style=\"display:none;\">\n",
              "        \n",
              "  <svg xmlns=\"http://www.w3.org/2000/svg\" height=\"24px\"viewBox=\"0 0 24 24\"\n",
              "       width=\"24px\">\n",
              "    <path d=\"M0 0h24v24H0V0z\" fill=\"none\"/>\n",
              "    <path d=\"M18.56 5.44l.94 2.06.94-2.06 2.06-.94-2.06-.94-.94-2.06-.94 2.06-2.06.94zm-11 1L8.5 8.5l.94-2.06 2.06-.94-2.06-.94L8.5 2.5l-.94 2.06-2.06.94zm10 10l.94 2.06.94-2.06 2.06-.94-2.06-.94-.94-2.06-.94 2.06-2.06.94z\"/><path d=\"M17.41 7.96l-1.37-1.37c-.4-.4-.92-.59-1.43-.59-.52 0-1.04.2-1.43.59L10.3 9.45l-7.72 7.72c-.78.78-.78 2.05 0 2.83L4 21.41c.39.39.9.59 1.41.59.51 0 1.02-.2 1.41-.59l7.78-7.78 2.81-2.81c.8-.78.8-2.07 0-2.86zM5.41 20L4 18.59l7.72-7.72 1.47 1.35L5.41 20z\"/>\n",
              "  </svg>\n",
              "      </button>\n",
              "      \n",
              "  <style>\n",
              "    .colab-df-container {\n",
              "      display:flex;\n",
              "      flex-wrap:wrap;\n",
              "      gap: 12px;\n",
              "    }\n",
              "\n",
              "    .colab-df-convert {\n",
              "      background-color: #E8F0FE;\n",
              "      border: none;\n",
              "      border-radius: 50%;\n",
              "      cursor: pointer;\n",
              "      display: none;\n",
              "      fill: #1967D2;\n",
              "      height: 32px;\n",
              "      padding: 0 0 0 0;\n",
              "      width: 32px;\n",
              "    }\n",
              "\n",
              "    .colab-df-convert:hover {\n",
              "      background-color: #E2EBFA;\n",
              "      box-shadow: 0px 1px 2px rgba(60, 64, 67, 0.3), 0px 1px 3px 1px rgba(60, 64, 67, 0.15);\n",
              "      fill: #174EA6;\n",
              "    }\n",
              "\n",
              "    [theme=dark] .colab-df-convert {\n",
              "      background-color: #3B4455;\n",
              "      fill: #D2E3FC;\n",
              "    }\n",
              "\n",
              "    [theme=dark] .colab-df-convert:hover {\n",
              "      background-color: #434B5C;\n",
              "      box-shadow: 0px 1px 3px 1px rgba(0, 0, 0, 0.15);\n",
              "      filter: drop-shadow(0px 1px 2px rgba(0, 0, 0, 0.3));\n",
              "      fill: #FFFFFF;\n",
              "    }\n",
              "  </style>\n",
              "\n",
              "      <script>\n",
              "        const buttonEl =\n",
              "          document.querySelector('#df-4d2f7bbc-5e77-4c9e-90e2-ca19d5f4e0cf button.colab-df-convert');\n",
              "        buttonEl.style.display =\n",
              "          google.colab.kernel.accessAllowed ? 'block' : 'none';\n",
              "\n",
              "        async function convertToInteractive(key) {\n",
              "          const element = document.querySelector('#df-4d2f7bbc-5e77-4c9e-90e2-ca19d5f4e0cf');\n",
              "          const dataTable =\n",
              "            await google.colab.kernel.invokeFunction('convertToInteractive',\n",
              "                                                     [key], {});\n",
              "          if (!dataTable) return;\n",
              "\n",
              "          const docLinkHtml = 'Like what you see? Visit the ' +\n",
              "            '<a target=\"_blank\" href=https://colab.research.google.com/notebooks/data_table.ipynb>data table notebook</a>'\n",
              "            + ' to learn more about interactive tables.';\n",
              "          element.innerHTML = '';\n",
              "          dataTable['output_type'] = 'display_data';\n",
              "          await google.colab.output.renderOutput(dataTable, element);\n",
              "          const docLink = document.createElement('div');\n",
              "          docLink.innerHTML = docLinkHtml;\n",
              "          element.appendChild(docLink);\n",
              "        }\n",
              "      </script>\n",
              "    </div>\n",
              "  </div>\n",
              "  "
            ]
          },
          "metadata": {},
          "execution_count": 416
        }
      ],
      "source": [
        "success= customer_transaction[(customer_transaction.payment_status == 'Success')]\n",
        "success.head(1)"
      ]
    },
    {
      "cell_type": "code",
      "execution_count": null,
      "metadata": {
        "id": "JaedsswE7ztP",
        "colab": {
          "base_uri": "https://localhost:8080/",
          "height": 179
        },
        "outputId": "5f22b320-5814-47fc-97ef-36e5675a50a0"
      },
      "outputs": [
        {
          "output_type": "execute_result",
          "data": {
            "text/plain": [
              "        customer_id gender device_type                             device_id  \\\n",
              "100236        21527      F         iOS  d3cf3bf6-5115-44e5-94ca-6bf92488342a   \n",
              "\n",
              "        birthdate     home_location first_join_date  \\\n",
              "100236 1997-05-23  Kalimantan Timur      2021-04-03   \n",
              "\n",
              "                             created_at                            booking_id  \\\n",
              "100236 2021-04-03 13:37:26.026078+00:00  dcb9d786-6256-427d-bda4-3a2e1100b610   \n",
              "\n",
              "                                  session_id payment_status  promo_amount  \\\n",
              "100236  f589ea69-970b-436f-a9e8-443ded9556e2        Success           0.0   \n",
              "\n",
              "           promo_code  total_amount  \n",
              "100236  Without Promo       27450.0  "
            ],
            "text/html": [
              "\n",
              "  <div id=\"df-f339c717-b09a-4818-b74d-6014983f9dbf\">\n",
              "    <div class=\"colab-df-container\">\n",
              "      <div>\n",
              "<style scoped>\n",
              "    .dataframe tbody tr th:only-of-type {\n",
              "        vertical-align: middle;\n",
              "    }\n",
              "\n",
              "    .dataframe tbody tr th {\n",
              "        vertical-align: top;\n",
              "    }\n",
              "\n",
              "    .dataframe thead th {\n",
              "        text-align: right;\n",
              "    }\n",
              "</style>\n",
              "<table border=\"1\" class=\"dataframe\">\n",
              "  <thead>\n",
              "    <tr style=\"text-align: right;\">\n",
              "      <th></th>\n",
              "      <th>customer_id</th>\n",
              "      <th>gender</th>\n",
              "      <th>device_type</th>\n",
              "      <th>device_id</th>\n",
              "      <th>birthdate</th>\n",
              "      <th>home_location</th>\n",
              "      <th>first_join_date</th>\n",
              "      <th>created_at</th>\n",
              "      <th>booking_id</th>\n",
              "      <th>session_id</th>\n",
              "      <th>payment_status</th>\n",
              "      <th>promo_amount</th>\n",
              "      <th>promo_code</th>\n",
              "      <th>total_amount</th>\n",
              "    </tr>\n",
              "  </thead>\n",
              "  <tbody>\n",
              "    <tr>\n",
              "      <th>100236</th>\n",
              "      <td>21527</td>\n",
              "      <td>F</td>\n",
              "      <td>iOS</td>\n",
              "      <td>d3cf3bf6-5115-44e5-94ca-6bf92488342a</td>\n",
              "      <td>1997-05-23</td>\n",
              "      <td>Kalimantan Timur</td>\n",
              "      <td>2021-04-03</td>\n",
              "      <td>2021-04-03 13:37:26.026078+00:00</td>\n",
              "      <td>dcb9d786-6256-427d-bda4-3a2e1100b610</td>\n",
              "      <td>f589ea69-970b-436f-a9e8-443ded9556e2</td>\n",
              "      <td>Success</td>\n",
              "      <td>0.0</td>\n",
              "      <td>Without Promo</td>\n",
              "      <td>27450.0</td>\n",
              "    </tr>\n",
              "  </tbody>\n",
              "</table>\n",
              "</div>\n",
              "      <button class=\"colab-df-convert\" onclick=\"convertToInteractive('df-f339c717-b09a-4818-b74d-6014983f9dbf')\"\n",
              "              title=\"Convert this dataframe to an interactive table.\"\n",
              "              style=\"display:none;\">\n",
              "        \n",
              "  <svg xmlns=\"http://www.w3.org/2000/svg\" height=\"24px\"viewBox=\"0 0 24 24\"\n",
              "       width=\"24px\">\n",
              "    <path d=\"M0 0h24v24H0V0z\" fill=\"none\"/>\n",
              "    <path d=\"M18.56 5.44l.94 2.06.94-2.06 2.06-.94-2.06-.94-.94-2.06-.94 2.06-2.06.94zm-11 1L8.5 8.5l.94-2.06 2.06-.94-2.06-.94L8.5 2.5l-.94 2.06-2.06.94zm10 10l.94 2.06.94-2.06 2.06-.94-2.06-.94-.94-2.06-.94 2.06-2.06.94z\"/><path d=\"M17.41 7.96l-1.37-1.37c-.4-.4-.92-.59-1.43-.59-.52 0-1.04.2-1.43.59L10.3 9.45l-7.72 7.72c-.78.78-.78 2.05 0 2.83L4 21.41c.39.39.9.59 1.41.59.51 0 1.02-.2 1.41-.59l7.78-7.78 2.81-2.81c.8-.78.8-2.07 0-2.86zM5.41 20L4 18.59l7.72-7.72 1.47 1.35L5.41 20z\"/>\n",
              "  </svg>\n",
              "      </button>\n",
              "      \n",
              "  <style>\n",
              "    .colab-df-container {\n",
              "      display:flex;\n",
              "      flex-wrap:wrap;\n",
              "      gap: 12px;\n",
              "    }\n",
              "\n",
              "    .colab-df-convert {\n",
              "      background-color: #E8F0FE;\n",
              "      border: none;\n",
              "      border-radius: 50%;\n",
              "      cursor: pointer;\n",
              "      display: none;\n",
              "      fill: #1967D2;\n",
              "      height: 32px;\n",
              "      padding: 0 0 0 0;\n",
              "      width: 32px;\n",
              "    }\n",
              "\n",
              "    .colab-df-convert:hover {\n",
              "      background-color: #E2EBFA;\n",
              "      box-shadow: 0px 1px 2px rgba(60, 64, 67, 0.3), 0px 1px 3px 1px rgba(60, 64, 67, 0.15);\n",
              "      fill: #174EA6;\n",
              "    }\n",
              "\n",
              "    [theme=dark] .colab-df-convert {\n",
              "      background-color: #3B4455;\n",
              "      fill: #D2E3FC;\n",
              "    }\n",
              "\n",
              "    [theme=dark] .colab-df-convert:hover {\n",
              "      background-color: #434B5C;\n",
              "      box-shadow: 0px 1px 3px 1px rgba(0, 0, 0, 0.15);\n",
              "      filter: drop-shadow(0px 1px 2px rgba(0, 0, 0, 0.3));\n",
              "      fill: #FFFFFF;\n",
              "    }\n",
              "  </style>\n",
              "\n",
              "      <script>\n",
              "        const buttonEl =\n",
              "          document.querySelector('#df-f339c717-b09a-4818-b74d-6014983f9dbf button.colab-df-convert');\n",
              "        buttonEl.style.display =\n",
              "          google.colab.kernel.accessAllowed ? 'block' : 'none';\n",
              "\n",
              "        async function convertToInteractive(key) {\n",
              "          const element = document.querySelector('#df-f339c717-b09a-4818-b74d-6014983f9dbf');\n",
              "          const dataTable =\n",
              "            await google.colab.kernel.invokeFunction('convertToInteractive',\n",
              "                                                     [key], {});\n",
              "          if (!dataTable) return;\n",
              "\n",
              "          const docLinkHtml = 'Like what you see? Visit the ' +\n",
              "            '<a target=\"_blank\" href=https://colab.research.google.com/notebooks/data_table.ipynb>data table notebook</a>'\n",
              "            + ' to learn more about interactive tables.';\n",
              "          element.innerHTML = '';\n",
              "          dataTable['output_type'] = 'display_data';\n",
              "          await google.colab.output.renderOutput(dataTable, element);\n",
              "          const docLink = document.createElement('div');\n",
              "          docLink.innerHTML = docLinkHtml;\n",
              "          element.appendChild(docLink);\n",
              "        }\n",
              "      </script>\n",
              "    </div>\n",
              "  </div>\n",
              "  "
            ]
          },
          "metadata": {},
          "execution_count": 417
        }
      ],
      "source": [
        "filter_customer= success[(success.customer_id == 21527)]\n",
        "filter_customer"
      ]
    },
    {
      "cell_type": "code",
      "execution_count": null,
      "metadata": {
        "id": "FMZ2ItXxjD-S",
        "colab": {
          "base_uri": "https://localhost:8080/"
        },
        "outputId": "34ed213e-6f4e-4c4a-ebe3-1f9576a8bdd1"
      },
      "outputs": [
        {
          "output_type": "stream",
          "name": "stdout",
          "text": [
            "Jumlah Customer: 50242\n"
          ]
        }
      ],
      "source": [
        "jumlah_customer=success.customer_id.nunique()\n",
        "print('Jumlah Customer:',jumlah_customer)"
      ]
    },
    {
      "cell_type": "markdown",
      "metadata": {
        "id": "46rpUry4HrpK"
      },
      "source": [
        "# Feature Encoding"
      ]
    },
    {
      "cell_type": "markdown",
      "metadata": {
        "id": "2MoOeouiWfkH"
      },
      "source": [
        "**Pemilihan Column**\n",
        "\n",
        "Pemilihan Column untuk melakukan segmentasi users sesuai dengan kebutuhan segmentasi. Berikut adalah segmentasi yang akan dilakukan pada kebutuhan churn customer\n",
        "1. Berdasarkan pada Recency dan Frequency\n",
        "*   Inactive Customer\n",
        "*   Defecting Customer\n",
        "*   Active Customer\n",
        "*   First Timer\n",
        "*   Web Stalking\n",
        "\n",
        "2. Berdasrkan pada Monetary\n",
        "*   Low Spender\n",
        "*   Normal\n",
        "*   Silver\n",
        "*   Gold\n",
        "*   Platinum"
      ]
    },
    {
      "cell_type": "markdown",
      "metadata": {
        "id": "tgqi_Fs-H2dL"
      },
      "source": [
        "## Add Feature"
      ]
    },
    {
      "cell_type": "code",
      "execution_count": null,
      "metadata": {
        "id": "mHm2DXpAH7rR",
        "colab": {
          "base_uri": "https://localhost:8080/",
          "height": 206
        },
        "outputId": "9d42932b-4ffd-489b-b270-04abb2b3723b"
      },
      "outputs": [
        {
          "output_type": "execute_result",
          "data": {
            "text/plain": [
              "   customer_id                       last_trans\n",
              "0            3 2022-06-26 15:41:52.844494+00:00\n",
              "1            8 2022-05-15 22:46:22.656991+00:00\n",
              "2            9 2022-05-28 08:44:32.421034+00:00\n",
              "3           11 2022-03-07 14:29:13.759159+00:00\n",
              "4           15 2022-01-05 06:07:58.105040+00:00"
            ],
            "text/html": [
              "\n",
              "  <div id=\"df-74f8f5ba-3040-40d4-ad72-1e87068d27bf\">\n",
              "    <div class=\"colab-df-container\">\n",
              "      <div>\n",
              "<style scoped>\n",
              "    .dataframe tbody tr th:only-of-type {\n",
              "        vertical-align: middle;\n",
              "    }\n",
              "\n",
              "    .dataframe tbody tr th {\n",
              "        vertical-align: top;\n",
              "    }\n",
              "\n",
              "    .dataframe thead th {\n",
              "        text-align: right;\n",
              "    }\n",
              "</style>\n",
              "<table border=\"1\" class=\"dataframe\">\n",
              "  <thead>\n",
              "    <tr style=\"text-align: right;\">\n",
              "      <th></th>\n",
              "      <th>customer_id</th>\n",
              "      <th>last_trans</th>\n",
              "    </tr>\n",
              "  </thead>\n",
              "  <tbody>\n",
              "    <tr>\n",
              "      <th>0</th>\n",
              "      <td>3</td>\n",
              "      <td>2022-06-26 15:41:52.844494+00:00</td>\n",
              "    </tr>\n",
              "    <tr>\n",
              "      <th>1</th>\n",
              "      <td>8</td>\n",
              "      <td>2022-05-15 22:46:22.656991+00:00</td>\n",
              "    </tr>\n",
              "    <tr>\n",
              "      <th>2</th>\n",
              "      <td>9</td>\n",
              "      <td>2022-05-28 08:44:32.421034+00:00</td>\n",
              "    </tr>\n",
              "    <tr>\n",
              "      <th>3</th>\n",
              "      <td>11</td>\n",
              "      <td>2022-03-07 14:29:13.759159+00:00</td>\n",
              "    </tr>\n",
              "    <tr>\n",
              "      <th>4</th>\n",
              "      <td>15</td>\n",
              "      <td>2022-01-05 06:07:58.105040+00:00</td>\n",
              "    </tr>\n",
              "  </tbody>\n",
              "</table>\n",
              "</div>\n",
              "      <button class=\"colab-df-convert\" onclick=\"convertToInteractive('df-74f8f5ba-3040-40d4-ad72-1e87068d27bf')\"\n",
              "              title=\"Convert this dataframe to an interactive table.\"\n",
              "              style=\"display:none;\">\n",
              "        \n",
              "  <svg xmlns=\"http://www.w3.org/2000/svg\" height=\"24px\"viewBox=\"0 0 24 24\"\n",
              "       width=\"24px\">\n",
              "    <path d=\"M0 0h24v24H0V0z\" fill=\"none\"/>\n",
              "    <path d=\"M18.56 5.44l.94 2.06.94-2.06 2.06-.94-2.06-.94-.94-2.06-.94 2.06-2.06.94zm-11 1L8.5 8.5l.94-2.06 2.06-.94-2.06-.94L8.5 2.5l-.94 2.06-2.06.94zm10 10l.94 2.06.94-2.06 2.06-.94-2.06-.94-.94-2.06-.94 2.06-2.06.94z\"/><path d=\"M17.41 7.96l-1.37-1.37c-.4-.4-.92-.59-1.43-.59-.52 0-1.04.2-1.43.59L10.3 9.45l-7.72 7.72c-.78.78-.78 2.05 0 2.83L4 21.41c.39.39.9.59 1.41.59.51 0 1.02-.2 1.41-.59l7.78-7.78 2.81-2.81c.8-.78.8-2.07 0-2.86zM5.41 20L4 18.59l7.72-7.72 1.47 1.35L5.41 20z\"/>\n",
              "  </svg>\n",
              "      </button>\n",
              "      \n",
              "  <style>\n",
              "    .colab-df-container {\n",
              "      display:flex;\n",
              "      flex-wrap:wrap;\n",
              "      gap: 12px;\n",
              "    }\n",
              "\n",
              "    .colab-df-convert {\n",
              "      background-color: #E8F0FE;\n",
              "      border: none;\n",
              "      border-radius: 50%;\n",
              "      cursor: pointer;\n",
              "      display: none;\n",
              "      fill: #1967D2;\n",
              "      height: 32px;\n",
              "      padding: 0 0 0 0;\n",
              "      width: 32px;\n",
              "    }\n",
              "\n",
              "    .colab-df-convert:hover {\n",
              "      background-color: #E2EBFA;\n",
              "      box-shadow: 0px 1px 2px rgba(60, 64, 67, 0.3), 0px 1px 3px 1px rgba(60, 64, 67, 0.15);\n",
              "      fill: #174EA6;\n",
              "    }\n",
              "\n",
              "    [theme=dark] .colab-df-convert {\n",
              "      background-color: #3B4455;\n",
              "      fill: #D2E3FC;\n",
              "    }\n",
              "\n",
              "    [theme=dark] .colab-df-convert:hover {\n",
              "      background-color: #434B5C;\n",
              "      box-shadow: 0px 1px 3px 1px rgba(0, 0, 0, 0.15);\n",
              "      filter: drop-shadow(0px 1px 2px rgba(0, 0, 0, 0.3));\n",
              "      fill: #FFFFFF;\n",
              "    }\n",
              "  </style>\n",
              "\n",
              "      <script>\n",
              "        const buttonEl =\n",
              "          document.querySelector('#df-74f8f5ba-3040-40d4-ad72-1e87068d27bf button.colab-df-convert');\n",
              "        buttonEl.style.display =\n",
              "          google.colab.kernel.accessAllowed ? 'block' : 'none';\n",
              "\n",
              "        async function convertToInteractive(key) {\n",
              "          const element = document.querySelector('#df-74f8f5ba-3040-40d4-ad72-1e87068d27bf');\n",
              "          const dataTable =\n",
              "            await google.colab.kernel.invokeFunction('convertToInteractive',\n",
              "                                                     [key], {});\n",
              "          if (!dataTable) return;\n",
              "\n",
              "          const docLinkHtml = 'Like what you see? Visit the ' +\n",
              "            '<a target=\"_blank\" href=https://colab.research.google.com/notebooks/data_table.ipynb>data table notebook</a>'\n",
              "            + ' to learn more about interactive tables.';\n",
              "          element.innerHTML = '';\n",
              "          dataTable['output_type'] = 'display_data';\n",
              "          await google.colab.output.renderOutput(dataTable, element);\n",
              "          const docLink = document.createElement('div');\n",
              "          docLink.innerHTML = docLinkHtml;\n",
              "          element.appendChild(docLink);\n",
              "        }\n",
              "      </script>\n",
              "    </div>\n",
              "  </div>\n",
              "  "
            ]
          },
          "metadata": {},
          "execution_count": 419
        }
      ],
      "source": [
        "#Menambahkan tanggal terakhir transaksi\n",
        "last_trans=transaction.groupby('customer_id')['created_at'].max().reset_index()\n",
        "last_trans.rename(columns={'created_at':'last_trans'},inplace=True)\n",
        "last_trans.head()"
      ]
    },
    {
      "cell_type": "code",
      "execution_count": null,
      "metadata": {
        "id": "_2UEO2kzIbBh",
        "colab": {
          "base_uri": "https://localhost:8080/",
          "height": 206
        },
        "outputId": "0cb29caf-8131-4c0d-8fb4-119edd3777d2"
      },
      "outputs": [
        {
          "output_type": "execute_result",
          "data": {
            "text/plain": [
              "       customer_id  last_trans  last_purchase\n",
              "38064        74933  2022-04-14            109\n",
              "16474        32196  2021-01-25            553\n",
              "29215        57415  2022-06-20             42\n",
              "11349        22078  2019-12-29            946\n",
              "8948         17313  2017-05-01           1918"
            ],
            "text/html": [
              "\n",
              "  <div id=\"df-d89418fb-6173-4342-8d6e-ebef307c0860\">\n",
              "    <div class=\"colab-df-container\">\n",
              "      <div>\n",
              "<style scoped>\n",
              "    .dataframe tbody tr th:only-of-type {\n",
              "        vertical-align: middle;\n",
              "    }\n",
              "\n",
              "    .dataframe tbody tr th {\n",
              "        vertical-align: top;\n",
              "    }\n",
              "\n",
              "    .dataframe thead th {\n",
              "        text-align: right;\n",
              "    }\n",
              "</style>\n",
              "<table border=\"1\" class=\"dataframe\">\n",
              "  <thead>\n",
              "    <tr style=\"text-align: right;\">\n",
              "      <th></th>\n",
              "      <th>customer_id</th>\n",
              "      <th>last_trans</th>\n",
              "      <th>last_purchase</th>\n",
              "    </tr>\n",
              "  </thead>\n",
              "  <tbody>\n",
              "    <tr>\n",
              "      <th>38064</th>\n",
              "      <td>74933</td>\n",
              "      <td>2022-04-14</td>\n",
              "      <td>109</td>\n",
              "    </tr>\n",
              "    <tr>\n",
              "      <th>16474</th>\n",
              "      <td>32196</td>\n",
              "      <td>2021-01-25</td>\n",
              "      <td>553</td>\n",
              "    </tr>\n",
              "    <tr>\n",
              "      <th>29215</th>\n",
              "      <td>57415</td>\n",
              "      <td>2022-06-20</td>\n",
              "      <td>42</td>\n",
              "    </tr>\n",
              "    <tr>\n",
              "      <th>11349</th>\n",
              "      <td>22078</td>\n",
              "      <td>2019-12-29</td>\n",
              "      <td>946</td>\n",
              "    </tr>\n",
              "    <tr>\n",
              "      <th>8948</th>\n",
              "      <td>17313</td>\n",
              "      <td>2017-05-01</td>\n",
              "      <td>1918</td>\n",
              "    </tr>\n",
              "  </tbody>\n",
              "</table>\n",
              "</div>\n",
              "      <button class=\"colab-df-convert\" onclick=\"convertToInteractive('df-d89418fb-6173-4342-8d6e-ebef307c0860')\"\n",
              "              title=\"Convert this dataframe to an interactive table.\"\n",
              "              style=\"display:none;\">\n",
              "        \n",
              "  <svg xmlns=\"http://www.w3.org/2000/svg\" height=\"24px\"viewBox=\"0 0 24 24\"\n",
              "       width=\"24px\">\n",
              "    <path d=\"M0 0h24v24H0V0z\" fill=\"none\"/>\n",
              "    <path d=\"M18.56 5.44l.94 2.06.94-2.06 2.06-.94-2.06-.94-.94-2.06-.94 2.06-2.06.94zm-11 1L8.5 8.5l.94-2.06 2.06-.94-2.06-.94L8.5 2.5l-.94 2.06-2.06.94zm10 10l.94 2.06.94-2.06 2.06-.94-2.06-.94-.94-2.06-.94 2.06-2.06.94z\"/><path d=\"M17.41 7.96l-1.37-1.37c-.4-.4-.92-.59-1.43-.59-.52 0-1.04.2-1.43.59L10.3 9.45l-7.72 7.72c-.78.78-.78 2.05 0 2.83L4 21.41c.39.39.9.59 1.41.59.51 0 1.02-.2 1.41-.59l7.78-7.78 2.81-2.81c.8-.78.8-2.07 0-2.86zM5.41 20L4 18.59l7.72-7.72 1.47 1.35L5.41 20z\"/>\n",
              "  </svg>\n",
              "      </button>\n",
              "      \n",
              "  <style>\n",
              "    .colab-df-container {\n",
              "      display:flex;\n",
              "      flex-wrap:wrap;\n",
              "      gap: 12px;\n",
              "    }\n",
              "\n",
              "    .colab-df-convert {\n",
              "      background-color: #E8F0FE;\n",
              "      border: none;\n",
              "      border-radius: 50%;\n",
              "      cursor: pointer;\n",
              "      display: none;\n",
              "      fill: #1967D2;\n",
              "      height: 32px;\n",
              "      padding: 0 0 0 0;\n",
              "      width: 32px;\n",
              "    }\n",
              "\n",
              "    .colab-df-convert:hover {\n",
              "      background-color: #E2EBFA;\n",
              "      box-shadow: 0px 1px 2px rgba(60, 64, 67, 0.3), 0px 1px 3px 1px rgba(60, 64, 67, 0.15);\n",
              "      fill: #174EA6;\n",
              "    }\n",
              "\n",
              "    [theme=dark] .colab-df-convert {\n",
              "      background-color: #3B4455;\n",
              "      fill: #D2E3FC;\n",
              "    }\n",
              "\n",
              "    [theme=dark] .colab-df-convert:hover {\n",
              "      background-color: #434B5C;\n",
              "      box-shadow: 0px 1px 3px 1px rgba(0, 0, 0, 0.15);\n",
              "      filter: drop-shadow(0px 1px 2px rgba(0, 0, 0, 0.3));\n",
              "      fill: #FFFFFF;\n",
              "    }\n",
              "  </style>\n",
              "\n",
              "      <script>\n",
              "        const buttonEl =\n",
              "          document.querySelector('#df-d89418fb-6173-4342-8d6e-ebef307c0860 button.colab-df-convert');\n",
              "        buttonEl.style.display =\n",
              "          google.colab.kernel.accessAllowed ? 'block' : 'none';\n",
              "\n",
              "        async function convertToInteractive(key) {\n",
              "          const element = document.querySelector('#df-d89418fb-6173-4342-8d6e-ebef307c0860');\n",
              "          const dataTable =\n",
              "            await google.colab.kernel.invokeFunction('convertToInteractive',\n",
              "                                                     [key], {});\n",
              "          if (!dataTable) return;\n",
              "\n",
              "          const docLinkHtml = 'Like what you see? Visit the ' +\n",
              "            '<a target=\"_blank\" href=https://colab.research.google.com/notebooks/data_table.ipynb>data table notebook</a>'\n",
              "            + ' to learn more about interactive tables.';\n",
              "          element.innerHTML = '';\n",
              "          dataTable['output_type'] = 'display_data';\n",
              "          await google.colab.output.renderOutput(dataTable, element);\n",
              "          const docLink = document.createElement('div');\n",
              "          docLink.innerHTML = docLinkHtml;\n",
              "          element.appendChild(docLink);\n",
              "        }\n",
              "      </script>\n",
              "    </div>\n",
              "  </div>\n",
              "  "
            ]
          },
          "metadata": {},
          "execution_count": 420
        }
      ],
      "source": [
        "#membuat rentang waktu transaksi terakhir dengan awal bulan agustus 2022\n",
        "dateday=pd.to_datetime('20220801', format='%Y%m%d', errors='ignore').date()\n",
        "last_trans['last_trans']=pd.to_datetime(last_trans['last_trans']).dt.date\n",
        "\n",
        "last_trans['last_purchase']=dateday-last_trans['last_trans']\n",
        "last_trans['last_purchase']=last_trans['last_purchase'].apply(lambda x: x.days)\n",
        "last_trans.sort_values(by='last_purchase',ascending=True,inplace=True)\n",
        "last_trans.sample(5)"
      ]
    },
    {
      "cell_type": "code",
      "execution_count": null,
      "metadata": {
        "id": "UN8RoelEKZ-V",
        "colab": {
          "base_uri": "https://localhost:8080/",
          "height": 206
        },
        "outputId": "dbfbef24-b8be-4d2a-8f89-453ac534d4a8"
      },
      "outputs": [
        {
          "output_type": "execute_result",
          "data": {
            "text/plain": [
              "       customer_id  last_trans  last_purchase segment_churn\n",
              "11052        21503  2022-07-18             14     Non Churn\n",
              "18525        36209  2022-05-10             83     Non Churn\n",
              "2003          3845  2022-06-26             36     Non Churn\n",
              "21983        42956  2021-12-23            221         Churn\n",
              "46444        91607  2021-02-11            536         Churn"
            ],
            "text/html": [
              "\n",
              "  <div id=\"df-f10f6fa6-0f1c-4527-9ac7-12d85c854ec3\">\n",
              "    <div class=\"colab-df-container\">\n",
              "      <div>\n",
              "<style scoped>\n",
              "    .dataframe tbody tr th:only-of-type {\n",
              "        vertical-align: middle;\n",
              "    }\n",
              "\n",
              "    .dataframe tbody tr th {\n",
              "        vertical-align: top;\n",
              "    }\n",
              "\n",
              "    .dataframe thead th {\n",
              "        text-align: right;\n",
              "    }\n",
              "</style>\n",
              "<table border=\"1\" class=\"dataframe\">\n",
              "  <thead>\n",
              "    <tr style=\"text-align: right;\">\n",
              "      <th></th>\n",
              "      <th>customer_id</th>\n",
              "      <th>last_trans</th>\n",
              "      <th>last_purchase</th>\n",
              "      <th>segment_churn</th>\n",
              "    </tr>\n",
              "  </thead>\n",
              "  <tbody>\n",
              "    <tr>\n",
              "      <th>11052</th>\n",
              "      <td>21503</td>\n",
              "      <td>2022-07-18</td>\n",
              "      <td>14</td>\n",
              "      <td>Non Churn</td>\n",
              "    </tr>\n",
              "    <tr>\n",
              "      <th>18525</th>\n",
              "      <td>36209</td>\n",
              "      <td>2022-05-10</td>\n",
              "      <td>83</td>\n",
              "      <td>Non Churn</td>\n",
              "    </tr>\n",
              "    <tr>\n",
              "      <th>2003</th>\n",
              "      <td>3845</td>\n",
              "      <td>2022-06-26</td>\n",
              "      <td>36</td>\n",
              "      <td>Non Churn</td>\n",
              "    </tr>\n",
              "    <tr>\n",
              "      <th>21983</th>\n",
              "      <td>42956</td>\n",
              "      <td>2021-12-23</td>\n",
              "      <td>221</td>\n",
              "      <td>Churn</td>\n",
              "    </tr>\n",
              "    <tr>\n",
              "      <th>46444</th>\n",
              "      <td>91607</td>\n",
              "      <td>2021-02-11</td>\n",
              "      <td>536</td>\n",
              "      <td>Churn</td>\n",
              "    </tr>\n",
              "  </tbody>\n",
              "</table>\n",
              "</div>\n",
              "      <button class=\"colab-df-convert\" onclick=\"convertToInteractive('df-f10f6fa6-0f1c-4527-9ac7-12d85c854ec3')\"\n",
              "              title=\"Convert this dataframe to an interactive table.\"\n",
              "              style=\"display:none;\">\n",
              "        \n",
              "  <svg xmlns=\"http://www.w3.org/2000/svg\" height=\"24px\"viewBox=\"0 0 24 24\"\n",
              "       width=\"24px\">\n",
              "    <path d=\"M0 0h24v24H0V0z\" fill=\"none\"/>\n",
              "    <path d=\"M18.56 5.44l.94 2.06.94-2.06 2.06-.94-2.06-.94-.94-2.06-.94 2.06-2.06.94zm-11 1L8.5 8.5l.94-2.06 2.06-.94-2.06-.94L8.5 2.5l-.94 2.06-2.06.94zm10 10l.94 2.06.94-2.06 2.06-.94-2.06-.94-.94-2.06-.94 2.06-2.06.94z\"/><path d=\"M17.41 7.96l-1.37-1.37c-.4-.4-.92-.59-1.43-.59-.52 0-1.04.2-1.43.59L10.3 9.45l-7.72 7.72c-.78.78-.78 2.05 0 2.83L4 21.41c.39.39.9.59 1.41.59.51 0 1.02-.2 1.41-.59l7.78-7.78 2.81-2.81c.8-.78.8-2.07 0-2.86zM5.41 20L4 18.59l7.72-7.72 1.47 1.35L5.41 20z\"/>\n",
              "  </svg>\n",
              "      </button>\n",
              "      \n",
              "  <style>\n",
              "    .colab-df-container {\n",
              "      display:flex;\n",
              "      flex-wrap:wrap;\n",
              "      gap: 12px;\n",
              "    }\n",
              "\n",
              "    .colab-df-convert {\n",
              "      background-color: #E8F0FE;\n",
              "      border: none;\n",
              "      border-radius: 50%;\n",
              "      cursor: pointer;\n",
              "      display: none;\n",
              "      fill: #1967D2;\n",
              "      height: 32px;\n",
              "      padding: 0 0 0 0;\n",
              "      width: 32px;\n",
              "    }\n",
              "\n",
              "    .colab-df-convert:hover {\n",
              "      background-color: #E2EBFA;\n",
              "      box-shadow: 0px 1px 2px rgba(60, 64, 67, 0.3), 0px 1px 3px 1px rgba(60, 64, 67, 0.15);\n",
              "      fill: #174EA6;\n",
              "    }\n",
              "\n",
              "    [theme=dark] .colab-df-convert {\n",
              "      background-color: #3B4455;\n",
              "      fill: #D2E3FC;\n",
              "    }\n",
              "\n",
              "    [theme=dark] .colab-df-convert:hover {\n",
              "      background-color: #434B5C;\n",
              "      box-shadow: 0px 1px 3px 1px rgba(0, 0, 0, 0.15);\n",
              "      filter: drop-shadow(0px 1px 2px rgba(0, 0, 0, 0.3));\n",
              "      fill: #FFFFFF;\n",
              "    }\n",
              "  </style>\n",
              "\n",
              "      <script>\n",
              "        const buttonEl =\n",
              "          document.querySelector('#df-f10f6fa6-0f1c-4527-9ac7-12d85c854ec3 button.colab-df-convert');\n",
              "        buttonEl.style.display =\n",
              "          google.colab.kernel.accessAllowed ? 'block' : 'none';\n",
              "\n",
              "        async function convertToInteractive(key) {\n",
              "          const element = document.querySelector('#df-f10f6fa6-0f1c-4527-9ac7-12d85c854ec3');\n",
              "          const dataTable =\n",
              "            await google.colab.kernel.invokeFunction('convertToInteractive',\n",
              "                                                     [key], {});\n",
              "          if (!dataTable) return;\n",
              "\n",
              "          const docLinkHtml = 'Like what you see? Visit the ' +\n",
              "            '<a target=\"_blank\" href=https://colab.research.google.com/notebooks/data_table.ipynb>data table notebook</a>'\n",
              "            + ' to learn more about interactive tables.';\n",
              "          element.innerHTML = '';\n",
              "          dataTable['output_type'] = 'display_data';\n",
              "          await google.colab.output.renderOutput(dataTable, element);\n",
              "          const docLink = document.createElement('div');\n",
              "          docLink.innerHTML = docLinkHtml;\n",
              "          element.appendChild(docLink);\n",
              "        }\n",
              "      </script>\n",
              "    </div>\n",
              "  </div>\n",
              "  "
            ]
          },
          "metadata": {},
          "execution_count": 421
        }
      ],
      "source": [
        "#membuat kolom baru untuk menampilkan churn berdasarkan rentang waktu maksimal 100 hari dianggap churn\n",
        "last_trans.loc[last_trans['last_purchase']>100,'segment_churn']='Churn'\n",
        "last_trans.loc[last_trans['last_purchase']<=100,'segment_churn']='Non Churn'\n",
        "last_trans['last_trans']=last_trans['last_trans'].fillna(0)\n",
        "last_trans['last_purchase']=last_trans['last_purchase'].fillna(0)\n",
        "last_trans['segment_churn']=last_trans['segment_churn'].fillna(0)\n",
        "last_trans.sort_values(by='segment_churn',ascending=True,inplace=True)\n",
        "last_trans.sample(5)"
      ]
    },
    {
      "cell_type": "code",
      "execution_count": null,
      "metadata": {
        "id": "MSwgfC7mLUzS",
        "colab": {
          "base_uri": "https://localhost:8080/",
          "height": 357
        },
        "outputId": "a22c428d-4343-4539-b25e-283de9158e24"
      },
      "outputs": [
        {
          "output_type": "execute_result",
          "data": {
            "text/plain": [
              "                             created_at  customer_id  \\\n",
              "624570 2018-07-30 19:54:48.861637+00:00        10204   \n",
              "567704 2022-05-17 21:01:29.932481+00:00        98693   \n",
              "61938  2019-05-15 08:15:11.983108+00:00        49904   \n",
              "184004 2021-11-29 19:50:58.010289+00:00           18   \n",
              "840932 2020-12-26 16:33:43.824871+00:00        72324   \n",
              "\n",
              "                                  booking_id  \\\n",
              "624570  3811df8c-c40d-4906-8fe0-f86d5f7091d3   \n",
              "567704  eb35fa41-0de5-48e1-a807-dad2f986f516   \n",
              "61938   76e42c25-a92f-4734-8406-0248e7b7cc31   \n",
              "184004  b0ac6e14-9064-4014-8206-2722d6d16db3   \n",
              "840932  976ea97c-c58c-471d-8306-22d15f5f4df0   \n",
              "\n",
              "                                  session_id payment_status  promo_amount  \\\n",
              "624570  33a7b675-6cd8-4de5-8ba0-42eea7855fea        Success             0   \n",
              "567704  dab9fbbd-cefe-40af-a34f-14a4b7dca14b        Success             0   \n",
              "61938   e7b1c0b2-c35e-465b-8fe3-6a2f5bc6dd21        Success          9299   \n",
              "184004  4aca85b6-144d-4036-a4eb-5cce9ba471c9        Success          5434   \n",
              "840932  7bb4bd34-9df3-4a58-8170-d9e20d83aebe        Success             0   \n",
              "\n",
              "           promo_code  total_amount  last_trans  last_purchase segment_churn  \n",
              "624570  Without Promo        473730  2022-07-22             10     Non Churn  \n",
              "567704  Without Promo       1602670  2022-06-25             37     Non Churn  \n",
              "61938         STARTUP        398805  2022-06-08             54     Non Churn  \n",
              "184004         AZ2022        494271  2022-07-02             30     Non Churn  \n",
              "840932  Without Promo        899312  2022-07-10             22     Non Churn  "
            ],
            "text/html": [
              "\n",
              "  <div id=\"df-fbafea3a-b95b-4f88-8a5f-5e7a2b87b8e3\">\n",
              "    <div class=\"colab-df-container\">\n",
              "      <div>\n",
              "<style scoped>\n",
              "    .dataframe tbody tr th:only-of-type {\n",
              "        vertical-align: middle;\n",
              "    }\n",
              "\n",
              "    .dataframe tbody tr th {\n",
              "        vertical-align: top;\n",
              "    }\n",
              "\n",
              "    .dataframe thead th {\n",
              "        text-align: right;\n",
              "    }\n",
              "</style>\n",
              "<table border=\"1\" class=\"dataframe\">\n",
              "  <thead>\n",
              "    <tr style=\"text-align: right;\">\n",
              "      <th></th>\n",
              "      <th>created_at</th>\n",
              "      <th>customer_id</th>\n",
              "      <th>booking_id</th>\n",
              "      <th>session_id</th>\n",
              "      <th>payment_status</th>\n",
              "      <th>promo_amount</th>\n",
              "      <th>promo_code</th>\n",
              "      <th>total_amount</th>\n",
              "      <th>last_trans</th>\n",
              "      <th>last_purchase</th>\n",
              "      <th>segment_churn</th>\n",
              "    </tr>\n",
              "  </thead>\n",
              "  <tbody>\n",
              "    <tr>\n",
              "      <th>624570</th>\n",
              "      <td>2018-07-30 19:54:48.861637+00:00</td>\n",
              "      <td>10204</td>\n",
              "      <td>3811df8c-c40d-4906-8fe0-f86d5f7091d3</td>\n",
              "      <td>33a7b675-6cd8-4de5-8ba0-42eea7855fea</td>\n",
              "      <td>Success</td>\n",
              "      <td>0</td>\n",
              "      <td>Without Promo</td>\n",
              "      <td>473730</td>\n",
              "      <td>2022-07-22</td>\n",
              "      <td>10</td>\n",
              "      <td>Non Churn</td>\n",
              "    </tr>\n",
              "    <tr>\n",
              "      <th>567704</th>\n",
              "      <td>2022-05-17 21:01:29.932481+00:00</td>\n",
              "      <td>98693</td>\n",
              "      <td>eb35fa41-0de5-48e1-a807-dad2f986f516</td>\n",
              "      <td>dab9fbbd-cefe-40af-a34f-14a4b7dca14b</td>\n",
              "      <td>Success</td>\n",
              "      <td>0</td>\n",
              "      <td>Without Promo</td>\n",
              "      <td>1602670</td>\n",
              "      <td>2022-06-25</td>\n",
              "      <td>37</td>\n",
              "      <td>Non Churn</td>\n",
              "    </tr>\n",
              "    <tr>\n",
              "      <th>61938</th>\n",
              "      <td>2019-05-15 08:15:11.983108+00:00</td>\n",
              "      <td>49904</td>\n",
              "      <td>76e42c25-a92f-4734-8406-0248e7b7cc31</td>\n",
              "      <td>e7b1c0b2-c35e-465b-8fe3-6a2f5bc6dd21</td>\n",
              "      <td>Success</td>\n",
              "      <td>9299</td>\n",
              "      <td>STARTUP</td>\n",
              "      <td>398805</td>\n",
              "      <td>2022-06-08</td>\n",
              "      <td>54</td>\n",
              "      <td>Non Churn</td>\n",
              "    </tr>\n",
              "    <tr>\n",
              "      <th>184004</th>\n",
              "      <td>2021-11-29 19:50:58.010289+00:00</td>\n",
              "      <td>18</td>\n",
              "      <td>b0ac6e14-9064-4014-8206-2722d6d16db3</td>\n",
              "      <td>4aca85b6-144d-4036-a4eb-5cce9ba471c9</td>\n",
              "      <td>Success</td>\n",
              "      <td>5434</td>\n",
              "      <td>AZ2022</td>\n",
              "      <td>494271</td>\n",
              "      <td>2022-07-02</td>\n",
              "      <td>30</td>\n",
              "      <td>Non Churn</td>\n",
              "    </tr>\n",
              "    <tr>\n",
              "      <th>840932</th>\n",
              "      <td>2020-12-26 16:33:43.824871+00:00</td>\n",
              "      <td>72324</td>\n",
              "      <td>976ea97c-c58c-471d-8306-22d15f5f4df0</td>\n",
              "      <td>7bb4bd34-9df3-4a58-8170-d9e20d83aebe</td>\n",
              "      <td>Success</td>\n",
              "      <td>0</td>\n",
              "      <td>Without Promo</td>\n",
              "      <td>899312</td>\n",
              "      <td>2022-07-10</td>\n",
              "      <td>22</td>\n",
              "      <td>Non Churn</td>\n",
              "    </tr>\n",
              "  </tbody>\n",
              "</table>\n",
              "</div>\n",
              "      <button class=\"colab-df-convert\" onclick=\"convertToInteractive('df-fbafea3a-b95b-4f88-8a5f-5e7a2b87b8e3')\"\n",
              "              title=\"Convert this dataframe to an interactive table.\"\n",
              "              style=\"display:none;\">\n",
              "        \n",
              "  <svg xmlns=\"http://www.w3.org/2000/svg\" height=\"24px\"viewBox=\"0 0 24 24\"\n",
              "       width=\"24px\">\n",
              "    <path d=\"M0 0h24v24H0V0z\" fill=\"none\"/>\n",
              "    <path d=\"M18.56 5.44l.94 2.06.94-2.06 2.06-.94-2.06-.94-.94-2.06-.94 2.06-2.06.94zm-11 1L8.5 8.5l.94-2.06 2.06-.94-2.06-.94L8.5 2.5l-.94 2.06-2.06.94zm10 10l.94 2.06.94-2.06 2.06-.94-2.06-.94-.94-2.06-.94 2.06-2.06.94z\"/><path d=\"M17.41 7.96l-1.37-1.37c-.4-.4-.92-.59-1.43-.59-.52 0-1.04.2-1.43.59L10.3 9.45l-7.72 7.72c-.78.78-.78 2.05 0 2.83L4 21.41c.39.39.9.59 1.41.59.51 0 1.02-.2 1.41-.59l7.78-7.78 2.81-2.81c.8-.78.8-2.07 0-2.86zM5.41 20L4 18.59l7.72-7.72 1.47 1.35L5.41 20z\"/>\n",
              "  </svg>\n",
              "      </button>\n",
              "      \n",
              "  <style>\n",
              "    .colab-df-container {\n",
              "      display:flex;\n",
              "      flex-wrap:wrap;\n",
              "      gap: 12px;\n",
              "    }\n",
              "\n",
              "    .colab-df-convert {\n",
              "      background-color: #E8F0FE;\n",
              "      border: none;\n",
              "      border-radius: 50%;\n",
              "      cursor: pointer;\n",
              "      display: none;\n",
              "      fill: #1967D2;\n",
              "      height: 32px;\n",
              "      padding: 0 0 0 0;\n",
              "      width: 32px;\n",
              "    }\n",
              "\n",
              "    .colab-df-convert:hover {\n",
              "      background-color: #E2EBFA;\n",
              "      box-shadow: 0px 1px 2px rgba(60, 64, 67, 0.3), 0px 1px 3px 1px rgba(60, 64, 67, 0.15);\n",
              "      fill: #174EA6;\n",
              "    }\n",
              "\n",
              "    [theme=dark] .colab-df-convert {\n",
              "      background-color: #3B4455;\n",
              "      fill: #D2E3FC;\n",
              "    }\n",
              "\n",
              "    [theme=dark] .colab-df-convert:hover {\n",
              "      background-color: #434B5C;\n",
              "      box-shadow: 0px 1px 3px 1px rgba(0, 0, 0, 0.15);\n",
              "      filter: drop-shadow(0px 1px 2px rgba(0, 0, 0, 0.3));\n",
              "      fill: #FFFFFF;\n",
              "    }\n",
              "  </style>\n",
              "\n",
              "      <script>\n",
              "        const buttonEl =\n",
              "          document.querySelector('#df-fbafea3a-b95b-4f88-8a5f-5e7a2b87b8e3 button.colab-df-convert');\n",
              "        buttonEl.style.display =\n",
              "          google.colab.kernel.accessAllowed ? 'block' : 'none';\n",
              "\n",
              "        async function convertToInteractive(key) {\n",
              "          const element = document.querySelector('#df-fbafea3a-b95b-4f88-8a5f-5e7a2b87b8e3');\n",
              "          const dataTable =\n",
              "            await google.colab.kernel.invokeFunction('convertToInteractive',\n",
              "                                                     [key], {});\n",
              "          if (!dataTable) return;\n",
              "\n",
              "          const docLinkHtml = 'Like what you see? Visit the ' +\n",
              "            '<a target=\"_blank\" href=https://colab.research.google.com/notebooks/data_table.ipynb>data table notebook</a>'\n",
              "            + ' to learn more about interactive tables.';\n",
              "          element.innerHTML = '';\n",
              "          dataTable['output_type'] = 'display_data';\n",
              "          await google.colab.output.renderOutput(dataTable, element);\n",
              "          const docLink = document.createElement('div');\n",
              "          docLink.innerHTML = docLinkHtml;\n",
              "          element.appendChild(docLink);\n",
              "        }\n",
              "      </script>\n",
              "    </div>\n",
              "  </div>\n",
              "  "
            ]
          },
          "metadata": {},
          "execution_count": 422
        }
      ],
      "source": [
        "transaction =transaction.merge(last_trans,on='customer_id',how='outer')\n",
        "transaction.sample(5)"
      ]
    },
    {
      "cell_type": "markdown",
      "metadata": {
        "id": "HwPWKilYYmHY"
      },
      "source": [
        "## Add Attributes"
      ]
    },
    {
      "cell_type": "code",
      "execution_count": null,
      "metadata": {
        "id": "mvkNlN8ZYOgB",
        "colab": {
          "base_uri": "https://localhost:8080/"
        },
        "outputId": "9bf05385-dc7e-4e50-b107-6a6f72e3c8ab"
      },
      "outputs": [
        {
          "output_type": "stream",
          "name": "stdout",
          "text": [
            "<class 'pandas.core.frame.DataFrame'>\n",
            "Int64Index: 815964 entries, 2 to 901878\n",
            "Data columns (total 14 columns):\n",
            " #   Column           Non-Null Count   Dtype              \n",
            "---  ------           --------------   -----              \n",
            " 0   customer_id      815964 non-null  int64              \n",
            " 1   gender           815964 non-null  object             \n",
            " 2   device_type      815964 non-null  object             \n",
            " 3   device_id        815964 non-null  object             \n",
            " 4   birthdate        815964 non-null  datetime64[ns]     \n",
            " 5   home_location    815964 non-null  object             \n",
            " 6   first_join_date  815964 non-null  datetime64[ns]     \n",
            " 7   created_at       815964 non-null  datetime64[ns, UTC]\n",
            " 8   booking_id       815964 non-null  object             \n",
            " 9   session_id       815964 non-null  object             \n",
            " 10  payment_status   815964 non-null  object             \n",
            " 11  promo_amount     815964 non-null  float64            \n",
            " 12  promo_code       815964 non-null  object             \n",
            " 13  total_amount     815964 non-null  float64            \n",
            "dtypes: datetime64[ns, UTC](1), datetime64[ns](2), float64(2), int64(1), object(8)\n",
            "memory usage: 93.4+ MB\n"
          ]
        }
      ],
      "source": [
        "success.info()"
      ]
    },
    {
      "cell_type": "code",
      "execution_count": null,
      "metadata": {
        "id": "HU9HA2-eX48i",
        "colab": {
          "base_uri": "https://localhost:8080/",
          "height": 206
        },
        "outputId": "b6dff92e-cbfa-4328-8f15-d8eba34cba23"
      },
      "outputs": [
        {
          "output_type": "execute_result",
          "data": {
            "text/plain": [
              "   customer_id first_join_date                       created_at\n",
              "2         7279      2020-08-23 2020-08-23 12:53:12.916342+00:00\n",
              "3         7279      2020-08-23 2020-08-31 13:34:59.916342+00:00\n",
              "4         7279      2020-08-23 2020-09-08 13:38:30.916342+00:00\n",
              "5         7279      2020-08-23 2020-09-16 13:48:09.916342+00:00\n",
              "7         7279      2020-08-23 2020-10-02 13:46:24.916342+00:00"
            ],
            "text/html": [
              "\n",
              "  <div id=\"df-8097a359-4504-4ef5-b6b3-26a0040b22a3\">\n",
              "    <div class=\"colab-df-container\">\n",
              "      <div>\n",
              "<style scoped>\n",
              "    .dataframe tbody tr th:only-of-type {\n",
              "        vertical-align: middle;\n",
              "    }\n",
              "\n",
              "    .dataframe tbody tr th {\n",
              "        vertical-align: top;\n",
              "    }\n",
              "\n",
              "    .dataframe thead th {\n",
              "        text-align: right;\n",
              "    }\n",
              "</style>\n",
              "<table border=\"1\" class=\"dataframe\">\n",
              "  <thead>\n",
              "    <tr style=\"text-align: right;\">\n",
              "      <th></th>\n",
              "      <th>customer_id</th>\n",
              "      <th>first_join_date</th>\n",
              "      <th>created_at</th>\n",
              "    </tr>\n",
              "  </thead>\n",
              "  <tbody>\n",
              "    <tr>\n",
              "      <th>2</th>\n",
              "      <td>7279</td>\n",
              "      <td>2020-08-23</td>\n",
              "      <td>2020-08-23 12:53:12.916342+00:00</td>\n",
              "    </tr>\n",
              "    <tr>\n",
              "      <th>3</th>\n",
              "      <td>7279</td>\n",
              "      <td>2020-08-23</td>\n",
              "      <td>2020-08-31 13:34:59.916342+00:00</td>\n",
              "    </tr>\n",
              "    <tr>\n",
              "      <th>4</th>\n",
              "      <td>7279</td>\n",
              "      <td>2020-08-23</td>\n",
              "      <td>2020-09-08 13:38:30.916342+00:00</td>\n",
              "    </tr>\n",
              "    <tr>\n",
              "      <th>5</th>\n",
              "      <td>7279</td>\n",
              "      <td>2020-08-23</td>\n",
              "      <td>2020-09-16 13:48:09.916342+00:00</td>\n",
              "    </tr>\n",
              "    <tr>\n",
              "      <th>7</th>\n",
              "      <td>7279</td>\n",
              "      <td>2020-08-23</td>\n",
              "      <td>2020-10-02 13:46:24.916342+00:00</td>\n",
              "    </tr>\n",
              "  </tbody>\n",
              "</table>\n",
              "</div>\n",
              "      <button class=\"colab-df-convert\" onclick=\"convertToInteractive('df-8097a359-4504-4ef5-b6b3-26a0040b22a3')\"\n",
              "              title=\"Convert this dataframe to an interactive table.\"\n",
              "              style=\"display:none;\">\n",
              "        \n",
              "  <svg xmlns=\"http://www.w3.org/2000/svg\" height=\"24px\"viewBox=\"0 0 24 24\"\n",
              "       width=\"24px\">\n",
              "    <path d=\"M0 0h24v24H0V0z\" fill=\"none\"/>\n",
              "    <path d=\"M18.56 5.44l.94 2.06.94-2.06 2.06-.94-2.06-.94-.94-2.06-.94 2.06-2.06.94zm-11 1L8.5 8.5l.94-2.06 2.06-.94-2.06-.94L8.5 2.5l-.94 2.06-2.06.94zm10 10l.94 2.06.94-2.06 2.06-.94-2.06-.94-.94-2.06-.94 2.06-2.06.94z\"/><path d=\"M17.41 7.96l-1.37-1.37c-.4-.4-.92-.59-1.43-.59-.52 0-1.04.2-1.43.59L10.3 9.45l-7.72 7.72c-.78.78-.78 2.05 0 2.83L4 21.41c.39.39.9.59 1.41.59.51 0 1.02-.2 1.41-.59l7.78-7.78 2.81-2.81c.8-.78.8-2.07 0-2.86zM5.41 20L4 18.59l7.72-7.72 1.47 1.35L5.41 20z\"/>\n",
              "  </svg>\n",
              "      </button>\n",
              "      \n",
              "  <style>\n",
              "    .colab-df-container {\n",
              "      display:flex;\n",
              "      flex-wrap:wrap;\n",
              "      gap: 12px;\n",
              "    }\n",
              "\n",
              "    .colab-df-convert {\n",
              "      background-color: #E8F0FE;\n",
              "      border: none;\n",
              "      border-radius: 50%;\n",
              "      cursor: pointer;\n",
              "      display: none;\n",
              "      fill: #1967D2;\n",
              "      height: 32px;\n",
              "      padding: 0 0 0 0;\n",
              "      width: 32px;\n",
              "    }\n",
              "\n",
              "    .colab-df-convert:hover {\n",
              "      background-color: #E2EBFA;\n",
              "      box-shadow: 0px 1px 2px rgba(60, 64, 67, 0.3), 0px 1px 3px 1px rgba(60, 64, 67, 0.15);\n",
              "      fill: #174EA6;\n",
              "    }\n",
              "\n",
              "    [theme=dark] .colab-df-convert {\n",
              "      background-color: #3B4455;\n",
              "      fill: #D2E3FC;\n",
              "    }\n",
              "\n",
              "    [theme=dark] .colab-df-convert:hover {\n",
              "      background-color: #434B5C;\n",
              "      box-shadow: 0px 1px 3px 1px rgba(0, 0, 0, 0.15);\n",
              "      filter: drop-shadow(0px 1px 2px rgba(0, 0, 0, 0.3));\n",
              "      fill: #FFFFFF;\n",
              "    }\n",
              "  </style>\n",
              "\n",
              "      <script>\n",
              "        const buttonEl =\n",
              "          document.querySelector('#df-8097a359-4504-4ef5-b6b3-26a0040b22a3 button.colab-df-convert');\n",
              "        buttonEl.style.display =\n",
              "          google.colab.kernel.accessAllowed ? 'block' : 'none';\n",
              "\n",
              "        async function convertToInteractive(key) {\n",
              "          const element = document.querySelector('#df-8097a359-4504-4ef5-b6b3-26a0040b22a3');\n",
              "          const dataTable =\n",
              "            await google.colab.kernel.invokeFunction('convertToInteractive',\n",
              "                                                     [key], {});\n",
              "          if (!dataTable) return;\n",
              "\n",
              "          const docLinkHtml = 'Like what you see? Visit the ' +\n",
              "            '<a target=\"_blank\" href=https://colab.research.google.com/notebooks/data_table.ipynb>data table notebook</a>'\n",
              "            + ' to learn more about interactive tables.';\n",
              "          element.innerHTML = '';\n",
              "          dataTable['output_type'] = 'display_data';\n",
              "          await google.colab.output.renderOutput(dataTable, element);\n",
              "          const docLink = document.createElement('div');\n",
              "          docLink.innerHTML = docLinkHtml;\n",
              "          element.appendChild(docLink);\n",
              "        }\n",
              "      </script>\n",
              "    </div>\n",
              "  </div>\n",
              "  "
            ]
          },
          "metadata": {},
          "execution_count": 424
        }
      ],
      "source": [
        "first_step = success[['customer_id','first_join_date','created_at']]\n",
        "first_step.head()"
      ]
    },
    {
      "cell_type": "code",
      "execution_count": null,
      "metadata": {
        "id": "AL741LkvemGz",
        "colab": {
          "base_uri": "https://localhost:8080/",
          "height": 206
        },
        "outputId": "119389df-f07b-4252-bc1b-f39f1ea9e5d4"
      },
      "outputs": [
        {
          "output_type": "execute_result",
          "data": {
            "text/plain": [
              "   customer_id first_join_date  created_at\n",
              "2         7279      2020-08-23  2020-08-23\n",
              "3         7279      2020-08-23  2020-08-31\n",
              "4         7279      2020-08-23  2020-09-08\n",
              "5         7279      2020-08-23  2020-09-16\n",
              "7         7279      2020-08-23  2020-10-02"
            ],
            "text/html": [
              "\n",
              "  <div id=\"df-426d8563-ff7d-4bfd-956e-c40ff341c120\">\n",
              "    <div class=\"colab-df-container\">\n",
              "      <div>\n",
              "<style scoped>\n",
              "    .dataframe tbody tr th:only-of-type {\n",
              "        vertical-align: middle;\n",
              "    }\n",
              "\n",
              "    .dataframe tbody tr th {\n",
              "        vertical-align: top;\n",
              "    }\n",
              "\n",
              "    .dataframe thead th {\n",
              "        text-align: right;\n",
              "    }\n",
              "</style>\n",
              "<table border=\"1\" class=\"dataframe\">\n",
              "  <thead>\n",
              "    <tr style=\"text-align: right;\">\n",
              "      <th></th>\n",
              "      <th>customer_id</th>\n",
              "      <th>first_join_date</th>\n",
              "      <th>created_at</th>\n",
              "    </tr>\n",
              "  </thead>\n",
              "  <tbody>\n",
              "    <tr>\n",
              "      <th>2</th>\n",
              "      <td>7279</td>\n",
              "      <td>2020-08-23</td>\n",
              "      <td>2020-08-23</td>\n",
              "    </tr>\n",
              "    <tr>\n",
              "      <th>3</th>\n",
              "      <td>7279</td>\n",
              "      <td>2020-08-23</td>\n",
              "      <td>2020-08-31</td>\n",
              "    </tr>\n",
              "    <tr>\n",
              "      <th>4</th>\n",
              "      <td>7279</td>\n",
              "      <td>2020-08-23</td>\n",
              "      <td>2020-09-08</td>\n",
              "    </tr>\n",
              "    <tr>\n",
              "      <th>5</th>\n",
              "      <td>7279</td>\n",
              "      <td>2020-08-23</td>\n",
              "      <td>2020-09-16</td>\n",
              "    </tr>\n",
              "    <tr>\n",
              "      <th>7</th>\n",
              "      <td>7279</td>\n",
              "      <td>2020-08-23</td>\n",
              "      <td>2020-10-02</td>\n",
              "    </tr>\n",
              "  </tbody>\n",
              "</table>\n",
              "</div>\n",
              "      <button class=\"colab-df-convert\" onclick=\"convertToInteractive('df-426d8563-ff7d-4bfd-956e-c40ff341c120')\"\n",
              "              title=\"Convert this dataframe to an interactive table.\"\n",
              "              style=\"display:none;\">\n",
              "        \n",
              "  <svg xmlns=\"http://www.w3.org/2000/svg\" height=\"24px\"viewBox=\"0 0 24 24\"\n",
              "       width=\"24px\">\n",
              "    <path d=\"M0 0h24v24H0V0z\" fill=\"none\"/>\n",
              "    <path d=\"M18.56 5.44l.94 2.06.94-2.06 2.06-.94-2.06-.94-.94-2.06-.94 2.06-2.06.94zm-11 1L8.5 8.5l.94-2.06 2.06-.94-2.06-.94L8.5 2.5l-.94 2.06-2.06.94zm10 10l.94 2.06.94-2.06 2.06-.94-2.06-.94-.94-2.06-.94 2.06-2.06.94z\"/><path d=\"M17.41 7.96l-1.37-1.37c-.4-.4-.92-.59-1.43-.59-.52 0-1.04.2-1.43.59L10.3 9.45l-7.72 7.72c-.78.78-.78 2.05 0 2.83L4 21.41c.39.39.9.59 1.41.59.51 0 1.02-.2 1.41-.59l7.78-7.78 2.81-2.81c.8-.78.8-2.07 0-2.86zM5.41 20L4 18.59l7.72-7.72 1.47 1.35L5.41 20z\"/>\n",
              "  </svg>\n",
              "      </button>\n",
              "      \n",
              "  <style>\n",
              "    .colab-df-container {\n",
              "      display:flex;\n",
              "      flex-wrap:wrap;\n",
              "      gap: 12px;\n",
              "    }\n",
              "\n",
              "    .colab-df-convert {\n",
              "      background-color: #E8F0FE;\n",
              "      border: none;\n",
              "      border-radius: 50%;\n",
              "      cursor: pointer;\n",
              "      display: none;\n",
              "      fill: #1967D2;\n",
              "      height: 32px;\n",
              "      padding: 0 0 0 0;\n",
              "      width: 32px;\n",
              "    }\n",
              "\n",
              "    .colab-df-convert:hover {\n",
              "      background-color: #E2EBFA;\n",
              "      box-shadow: 0px 1px 2px rgba(60, 64, 67, 0.3), 0px 1px 3px 1px rgba(60, 64, 67, 0.15);\n",
              "      fill: #174EA6;\n",
              "    }\n",
              "\n",
              "    [theme=dark] .colab-df-convert {\n",
              "      background-color: #3B4455;\n",
              "      fill: #D2E3FC;\n",
              "    }\n",
              "\n",
              "    [theme=dark] .colab-df-convert:hover {\n",
              "      background-color: #434B5C;\n",
              "      box-shadow: 0px 1px 3px 1px rgba(0, 0, 0, 0.15);\n",
              "      filter: drop-shadow(0px 1px 2px rgba(0, 0, 0, 0.3));\n",
              "      fill: #FFFFFF;\n",
              "    }\n",
              "  </style>\n",
              "\n",
              "      <script>\n",
              "        const buttonEl =\n",
              "          document.querySelector('#df-426d8563-ff7d-4bfd-956e-c40ff341c120 button.colab-df-convert');\n",
              "        buttonEl.style.display =\n",
              "          google.colab.kernel.accessAllowed ? 'block' : 'none';\n",
              "\n",
              "        async function convertToInteractive(key) {\n",
              "          const element = document.querySelector('#df-426d8563-ff7d-4bfd-956e-c40ff341c120');\n",
              "          const dataTable =\n",
              "            await google.colab.kernel.invokeFunction('convertToInteractive',\n",
              "                                                     [key], {});\n",
              "          if (!dataTable) return;\n",
              "\n",
              "          const docLinkHtml = 'Like what you see? Visit the ' +\n",
              "            '<a target=\"_blank\" href=https://colab.research.google.com/notebooks/data_table.ipynb>data table notebook</a>'\n",
              "            + ' to learn more about interactive tables.';\n",
              "          element.innerHTML = '';\n",
              "          dataTable['output_type'] = 'display_data';\n",
              "          await google.colab.output.renderOutput(dataTable, element);\n",
              "          const docLink = document.createElement('div');\n",
              "          docLink.innerHTML = docLinkHtml;\n",
              "          element.appendChild(docLink);\n",
              "        }\n",
              "      </script>\n",
              "    </div>\n",
              "  </div>\n",
              "  "
            ]
          },
          "metadata": {},
          "execution_count": 425
        }
      ],
      "source": [
        "# menghilangkan waktu pada cretaed at agar lebih mudah diubah menjadi type datetime\n",
        "first_step['created_at'] = pd.to_datetime(first_step['created_at']).dt.date\n",
        "first_step.head()"
      ]
    },
    {
      "cell_type": "code",
      "execution_count": null,
      "metadata": {
        "id": "sTcE_cvThBuq",
        "colab": {
          "base_uri": "https://localhost:8080/",
          "height": 206
        },
        "outputId": "907bec16-38f2-4251-dc40-b83172743075"
      },
      "outputs": [
        {
          "output_type": "execute_result",
          "data": {
            "text/plain": [
              "   customer_id first_join_date created_at\n",
              "2         7279      2020-08-23 2020-08-23\n",
              "3         7279      2020-08-23 2020-08-31\n",
              "4         7279      2020-08-23 2020-09-08\n",
              "5         7279      2020-08-23 2020-09-16\n",
              "7         7279      2020-08-23 2020-10-02"
            ],
            "text/html": [
              "\n",
              "  <div id=\"df-5d45cc8f-d81a-4771-b5f4-bbbb99cd1e44\">\n",
              "    <div class=\"colab-df-container\">\n",
              "      <div>\n",
              "<style scoped>\n",
              "    .dataframe tbody tr th:only-of-type {\n",
              "        vertical-align: middle;\n",
              "    }\n",
              "\n",
              "    .dataframe tbody tr th {\n",
              "        vertical-align: top;\n",
              "    }\n",
              "\n",
              "    .dataframe thead th {\n",
              "        text-align: right;\n",
              "    }\n",
              "</style>\n",
              "<table border=\"1\" class=\"dataframe\">\n",
              "  <thead>\n",
              "    <tr style=\"text-align: right;\">\n",
              "      <th></th>\n",
              "      <th>customer_id</th>\n",
              "      <th>first_join_date</th>\n",
              "      <th>created_at</th>\n",
              "    </tr>\n",
              "  </thead>\n",
              "  <tbody>\n",
              "    <tr>\n",
              "      <th>2</th>\n",
              "      <td>7279</td>\n",
              "      <td>2020-08-23</td>\n",
              "      <td>2020-08-23</td>\n",
              "    </tr>\n",
              "    <tr>\n",
              "      <th>3</th>\n",
              "      <td>7279</td>\n",
              "      <td>2020-08-23</td>\n",
              "      <td>2020-08-31</td>\n",
              "    </tr>\n",
              "    <tr>\n",
              "      <th>4</th>\n",
              "      <td>7279</td>\n",
              "      <td>2020-08-23</td>\n",
              "      <td>2020-09-08</td>\n",
              "    </tr>\n",
              "    <tr>\n",
              "      <th>5</th>\n",
              "      <td>7279</td>\n",
              "      <td>2020-08-23</td>\n",
              "      <td>2020-09-16</td>\n",
              "    </tr>\n",
              "    <tr>\n",
              "      <th>7</th>\n",
              "      <td>7279</td>\n",
              "      <td>2020-08-23</td>\n",
              "      <td>2020-10-02</td>\n",
              "    </tr>\n",
              "  </tbody>\n",
              "</table>\n",
              "</div>\n",
              "      <button class=\"colab-df-convert\" onclick=\"convertToInteractive('df-5d45cc8f-d81a-4771-b5f4-bbbb99cd1e44')\"\n",
              "              title=\"Convert this dataframe to an interactive table.\"\n",
              "              style=\"display:none;\">\n",
              "        \n",
              "  <svg xmlns=\"http://www.w3.org/2000/svg\" height=\"24px\"viewBox=\"0 0 24 24\"\n",
              "       width=\"24px\">\n",
              "    <path d=\"M0 0h24v24H0V0z\" fill=\"none\"/>\n",
              "    <path d=\"M18.56 5.44l.94 2.06.94-2.06 2.06-.94-2.06-.94-.94-2.06-.94 2.06-2.06.94zm-11 1L8.5 8.5l.94-2.06 2.06-.94-2.06-.94L8.5 2.5l-.94 2.06-2.06.94zm10 10l.94 2.06.94-2.06 2.06-.94-2.06-.94-.94-2.06-.94 2.06-2.06.94z\"/><path d=\"M17.41 7.96l-1.37-1.37c-.4-.4-.92-.59-1.43-.59-.52 0-1.04.2-1.43.59L10.3 9.45l-7.72 7.72c-.78.78-.78 2.05 0 2.83L4 21.41c.39.39.9.59 1.41.59.51 0 1.02-.2 1.41-.59l7.78-7.78 2.81-2.81c.8-.78.8-2.07 0-2.86zM5.41 20L4 18.59l7.72-7.72 1.47 1.35L5.41 20z\"/>\n",
              "  </svg>\n",
              "      </button>\n",
              "      \n",
              "  <style>\n",
              "    .colab-df-container {\n",
              "      display:flex;\n",
              "      flex-wrap:wrap;\n",
              "      gap: 12px;\n",
              "    }\n",
              "\n",
              "    .colab-df-convert {\n",
              "      background-color: #E8F0FE;\n",
              "      border: none;\n",
              "      border-radius: 50%;\n",
              "      cursor: pointer;\n",
              "      display: none;\n",
              "      fill: #1967D2;\n",
              "      height: 32px;\n",
              "      padding: 0 0 0 0;\n",
              "      width: 32px;\n",
              "    }\n",
              "\n",
              "    .colab-df-convert:hover {\n",
              "      background-color: #E2EBFA;\n",
              "      box-shadow: 0px 1px 2px rgba(60, 64, 67, 0.3), 0px 1px 3px 1px rgba(60, 64, 67, 0.15);\n",
              "      fill: #174EA6;\n",
              "    }\n",
              "\n",
              "    [theme=dark] .colab-df-convert {\n",
              "      background-color: #3B4455;\n",
              "      fill: #D2E3FC;\n",
              "    }\n",
              "\n",
              "    [theme=dark] .colab-df-convert:hover {\n",
              "      background-color: #434B5C;\n",
              "      box-shadow: 0px 1px 3px 1px rgba(0, 0, 0, 0.15);\n",
              "      filter: drop-shadow(0px 1px 2px rgba(0, 0, 0, 0.3));\n",
              "      fill: #FFFFFF;\n",
              "    }\n",
              "  </style>\n",
              "\n",
              "      <script>\n",
              "        const buttonEl =\n",
              "          document.querySelector('#df-5d45cc8f-d81a-4771-b5f4-bbbb99cd1e44 button.colab-df-convert');\n",
              "        buttonEl.style.display =\n",
              "          google.colab.kernel.accessAllowed ? 'block' : 'none';\n",
              "\n",
              "        async function convertToInteractive(key) {\n",
              "          const element = document.querySelector('#df-5d45cc8f-d81a-4771-b5f4-bbbb99cd1e44');\n",
              "          const dataTable =\n",
              "            await google.colab.kernel.invokeFunction('convertToInteractive',\n",
              "                                                     [key], {});\n",
              "          if (!dataTable) return;\n",
              "\n",
              "          const docLinkHtml = 'Like what you see? Visit the ' +\n",
              "            '<a target=\"_blank\" href=https://colab.research.google.com/notebooks/data_table.ipynb>data table notebook</a>'\n",
              "            + ' to learn more about interactive tables.';\n",
              "          element.innerHTML = '';\n",
              "          dataTable['output_type'] = 'display_data';\n",
              "          await google.colab.output.renderOutput(dataTable, element);\n",
              "          const docLink = document.createElement('div');\n",
              "          docLink.innerHTML = docLinkHtml;\n",
              "          element.appendChild(docLink);\n",
              "        }\n",
              "      </script>\n",
              "    </div>\n",
              "  </div>\n",
              "  "
            ]
          },
          "metadata": {},
          "execution_count": 426
        }
      ],
      "source": [
        "# mengubah tipe object menjadi date\n",
        "first_step['created_at'] =  pd.to_datetime(first_step['created_at'], format='%Y-%m-%d')\n",
        "first_step['first_join_date'] =  pd.to_datetime(first_step['first_join_date'], format='%Y-%m-%d')\n",
        "\n",
        "# Melakukan pemilihan maxdate pada first_join_date\n",
        "second_step=first_step[first_step.groupby('customer_id').first_join_date.transform('max') == first_step.first_join_date]\n",
        "second_step.head()"
      ]
    },
    {
      "cell_type": "code",
      "execution_count": null,
      "metadata": {
        "id": "V9GA4drKj5RY",
        "colab": {
          "base_uri": "https://localhost:8080/",
          "height": 206
        },
        "outputId": "c54432f2-4aae-46c6-98b0-5957bded378c"
      },
      "outputs": [
        {
          "output_type": "execute_result",
          "data": {
            "text/plain": [
              "     customer_id first_join_date created_at\n",
              "90          7279      2020-08-23 2022-07-29\n",
              "92         82542      2021-04-11 2021-04-16\n",
              "96         96453      2022-01-09 2022-04-22\n",
              "99          8031      2019-09-12 2021-08-18\n",
              "105         9152      2019-11-21 2021-09-07"
            ],
            "text/html": [
              "\n",
              "  <div id=\"df-0e726369-bcfe-4884-ab95-c00b2569516c\">\n",
              "    <div class=\"colab-df-container\">\n",
              "      <div>\n",
              "<style scoped>\n",
              "    .dataframe tbody tr th:only-of-type {\n",
              "        vertical-align: middle;\n",
              "    }\n",
              "\n",
              "    .dataframe tbody tr th {\n",
              "        vertical-align: top;\n",
              "    }\n",
              "\n",
              "    .dataframe thead th {\n",
              "        text-align: right;\n",
              "    }\n",
              "</style>\n",
              "<table border=\"1\" class=\"dataframe\">\n",
              "  <thead>\n",
              "    <tr style=\"text-align: right;\">\n",
              "      <th></th>\n",
              "      <th>customer_id</th>\n",
              "      <th>first_join_date</th>\n",
              "      <th>created_at</th>\n",
              "    </tr>\n",
              "  </thead>\n",
              "  <tbody>\n",
              "    <tr>\n",
              "      <th>90</th>\n",
              "      <td>7279</td>\n",
              "      <td>2020-08-23</td>\n",
              "      <td>2022-07-29</td>\n",
              "    </tr>\n",
              "    <tr>\n",
              "      <th>92</th>\n",
              "      <td>82542</td>\n",
              "      <td>2021-04-11</td>\n",
              "      <td>2021-04-16</td>\n",
              "    </tr>\n",
              "    <tr>\n",
              "      <th>96</th>\n",
              "      <td>96453</td>\n",
              "      <td>2022-01-09</td>\n",
              "      <td>2022-04-22</td>\n",
              "    </tr>\n",
              "    <tr>\n",
              "      <th>99</th>\n",
              "      <td>8031</td>\n",
              "      <td>2019-09-12</td>\n",
              "      <td>2021-08-18</td>\n",
              "    </tr>\n",
              "    <tr>\n",
              "      <th>105</th>\n",
              "      <td>9152</td>\n",
              "      <td>2019-11-21</td>\n",
              "      <td>2021-09-07</td>\n",
              "    </tr>\n",
              "  </tbody>\n",
              "</table>\n",
              "</div>\n",
              "      <button class=\"colab-df-convert\" onclick=\"convertToInteractive('df-0e726369-bcfe-4884-ab95-c00b2569516c')\"\n",
              "              title=\"Convert this dataframe to an interactive table.\"\n",
              "              style=\"display:none;\">\n",
              "        \n",
              "  <svg xmlns=\"http://www.w3.org/2000/svg\" height=\"24px\"viewBox=\"0 0 24 24\"\n",
              "       width=\"24px\">\n",
              "    <path d=\"M0 0h24v24H0V0z\" fill=\"none\"/>\n",
              "    <path d=\"M18.56 5.44l.94 2.06.94-2.06 2.06-.94-2.06-.94-.94-2.06-.94 2.06-2.06.94zm-11 1L8.5 8.5l.94-2.06 2.06-.94-2.06-.94L8.5 2.5l-.94 2.06-2.06.94zm10 10l.94 2.06.94-2.06 2.06-.94-2.06-.94-.94-2.06-.94 2.06-2.06.94z\"/><path d=\"M17.41 7.96l-1.37-1.37c-.4-.4-.92-.59-1.43-.59-.52 0-1.04.2-1.43.59L10.3 9.45l-7.72 7.72c-.78.78-.78 2.05 0 2.83L4 21.41c.39.39.9.59 1.41.59.51 0 1.02-.2 1.41-.59l7.78-7.78 2.81-2.81c.8-.78.8-2.07 0-2.86zM5.41 20L4 18.59l7.72-7.72 1.47 1.35L5.41 20z\"/>\n",
              "  </svg>\n",
              "      </button>\n",
              "      \n",
              "  <style>\n",
              "    .colab-df-container {\n",
              "      display:flex;\n",
              "      flex-wrap:wrap;\n",
              "      gap: 12px;\n",
              "    }\n",
              "\n",
              "    .colab-df-convert {\n",
              "      background-color: #E8F0FE;\n",
              "      border: none;\n",
              "      border-radius: 50%;\n",
              "      cursor: pointer;\n",
              "      display: none;\n",
              "      fill: #1967D2;\n",
              "      height: 32px;\n",
              "      padding: 0 0 0 0;\n",
              "      width: 32px;\n",
              "    }\n",
              "\n",
              "    .colab-df-convert:hover {\n",
              "      background-color: #E2EBFA;\n",
              "      box-shadow: 0px 1px 2px rgba(60, 64, 67, 0.3), 0px 1px 3px 1px rgba(60, 64, 67, 0.15);\n",
              "      fill: #174EA6;\n",
              "    }\n",
              "\n",
              "    [theme=dark] .colab-df-convert {\n",
              "      background-color: #3B4455;\n",
              "      fill: #D2E3FC;\n",
              "    }\n",
              "\n",
              "    [theme=dark] .colab-df-convert:hover {\n",
              "      background-color: #434B5C;\n",
              "      box-shadow: 0px 1px 3px 1px rgba(0, 0, 0, 0.15);\n",
              "      filter: drop-shadow(0px 1px 2px rgba(0, 0, 0, 0.3));\n",
              "      fill: #FFFFFF;\n",
              "    }\n",
              "  </style>\n",
              "\n",
              "      <script>\n",
              "        const buttonEl =\n",
              "          document.querySelector('#df-0e726369-bcfe-4884-ab95-c00b2569516c button.colab-df-convert');\n",
              "        buttonEl.style.display =\n",
              "          google.colab.kernel.accessAllowed ? 'block' : 'none';\n",
              "\n",
              "        async function convertToInteractive(key) {\n",
              "          const element = document.querySelector('#df-0e726369-bcfe-4884-ab95-c00b2569516c');\n",
              "          const dataTable =\n",
              "            await google.colab.kernel.invokeFunction('convertToInteractive',\n",
              "                                                     [key], {});\n",
              "          if (!dataTable) return;\n",
              "\n",
              "          const docLinkHtml = 'Like what you see? Visit the ' +\n",
              "            '<a target=\"_blank\" href=https://colab.research.google.com/notebooks/data_table.ipynb>data table notebook</a>'\n",
              "            + ' to learn more about interactive tables.';\n",
              "          element.innerHTML = '';\n",
              "          dataTable['output_type'] = 'display_data';\n",
              "          await google.colab.output.renderOutput(dataTable, element);\n",
              "          const docLink = document.createElement('div');\n",
              "          docLink.innerHTML = docLinkHtml;\n",
              "          element.appendChild(docLink);\n",
              "        }\n",
              "      </script>\n",
              "    </div>\n",
              "  </div>\n",
              "  "
            ]
          },
          "metadata": {},
          "execution_count": 427
        }
      ],
      "source": [
        "# Melakukan pemilihan maxdate pada created_at\n",
        "final_cust_trans=second_step[first_step.groupby('customer_id').created_at.transform('max') == second_step.created_at]\n",
        "final_cust_trans.head()"
      ]
    },
    {
      "cell_type": "code",
      "execution_count": null,
      "metadata": {
        "id": "0kb6W6kEiXvv",
        "colab": {
          "base_uri": "https://localhost:8080/",
          "height": 80
        },
        "outputId": "7e94bf83-f9af-44c8-aa11-32fac5fb44e2"
      },
      "outputs": [
        {
          "output_type": "execute_result",
          "data": {
            "text/plain": [
              "        customer_id                            booking_id  total_amount\n",
              "831454        79645  a69a0284-c3c3-48b1-a61f-61d5e4a05170      311134.0"
            ],
            "text/html": [
              "\n",
              "  <div id=\"df-dc6085f9-490e-48f7-9956-d47a0fecf0d7\">\n",
              "    <div class=\"colab-df-container\">\n",
              "      <div>\n",
              "<style scoped>\n",
              "    .dataframe tbody tr th:only-of-type {\n",
              "        vertical-align: middle;\n",
              "    }\n",
              "\n",
              "    .dataframe tbody tr th {\n",
              "        vertical-align: top;\n",
              "    }\n",
              "\n",
              "    .dataframe thead th {\n",
              "        text-align: right;\n",
              "    }\n",
              "</style>\n",
              "<table border=\"1\" class=\"dataframe\">\n",
              "  <thead>\n",
              "    <tr style=\"text-align: right;\">\n",
              "      <th></th>\n",
              "      <th>customer_id</th>\n",
              "      <th>booking_id</th>\n",
              "      <th>total_amount</th>\n",
              "    </tr>\n",
              "  </thead>\n",
              "  <tbody>\n",
              "    <tr>\n",
              "      <th>831454</th>\n",
              "      <td>79645</td>\n",
              "      <td>a69a0284-c3c3-48b1-a61f-61d5e4a05170</td>\n",
              "      <td>311134.0</td>\n",
              "    </tr>\n",
              "  </tbody>\n",
              "</table>\n",
              "</div>\n",
              "      <button class=\"colab-df-convert\" onclick=\"convertToInteractive('df-dc6085f9-490e-48f7-9956-d47a0fecf0d7')\"\n",
              "              title=\"Convert this dataframe to an interactive table.\"\n",
              "              style=\"display:none;\">\n",
              "        \n",
              "  <svg xmlns=\"http://www.w3.org/2000/svg\" height=\"24px\"viewBox=\"0 0 24 24\"\n",
              "       width=\"24px\">\n",
              "    <path d=\"M0 0h24v24H0V0z\" fill=\"none\"/>\n",
              "    <path d=\"M18.56 5.44l.94 2.06.94-2.06 2.06-.94-2.06-.94-.94-2.06-.94 2.06-2.06.94zm-11 1L8.5 8.5l.94-2.06 2.06-.94-2.06-.94L8.5 2.5l-.94 2.06-2.06.94zm10 10l.94 2.06.94-2.06 2.06-.94-2.06-.94-.94-2.06-.94 2.06-2.06.94z\"/><path d=\"M17.41 7.96l-1.37-1.37c-.4-.4-.92-.59-1.43-.59-.52 0-1.04.2-1.43.59L10.3 9.45l-7.72 7.72c-.78.78-.78 2.05 0 2.83L4 21.41c.39.39.9.59 1.41.59.51 0 1.02-.2 1.41-.59l7.78-7.78 2.81-2.81c.8-.78.8-2.07 0-2.86zM5.41 20L4 18.59l7.72-7.72 1.47 1.35L5.41 20z\"/>\n",
              "  </svg>\n",
              "      </button>\n",
              "      \n",
              "  <style>\n",
              "    .colab-df-container {\n",
              "      display:flex;\n",
              "      flex-wrap:wrap;\n",
              "      gap: 12px;\n",
              "    }\n",
              "\n",
              "    .colab-df-convert {\n",
              "      background-color: #E8F0FE;\n",
              "      border: none;\n",
              "      border-radius: 50%;\n",
              "      cursor: pointer;\n",
              "      display: none;\n",
              "      fill: #1967D2;\n",
              "      height: 32px;\n",
              "      padding: 0 0 0 0;\n",
              "      width: 32px;\n",
              "    }\n",
              "\n",
              "    .colab-df-convert:hover {\n",
              "      background-color: #E2EBFA;\n",
              "      box-shadow: 0px 1px 2px rgba(60, 64, 67, 0.3), 0px 1px 3px 1px rgba(60, 64, 67, 0.15);\n",
              "      fill: #174EA6;\n",
              "    }\n",
              "\n",
              "    [theme=dark] .colab-df-convert {\n",
              "      background-color: #3B4455;\n",
              "      fill: #D2E3FC;\n",
              "    }\n",
              "\n",
              "    [theme=dark] .colab-df-convert:hover {\n",
              "      background-color: #434B5C;\n",
              "      box-shadow: 0px 1px 3px 1px rgba(0, 0, 0, 0.15);\n",
              "      filter: drop-shadow(0px 1px 2px rgba(0, 0, 0, 0.3));\n",
              "      fill: #FFFFFF;\n",
              "    }\n",
              "  </style>\n",
              "\n",
              "      <script>\n",
              "        const buttonEl =\n",
              "          document.querySelector('#df-dc6085f9-490e-48f7-9956-d47a0fecf0d7 button.colab-df-convert');\n",
              "        buttonEl.style.display =\n",
              "          google.colab.kernel.accessAllowed ? 'block' : 'none';\n",
              "\n",
              "        async function convertToInteractive(key) {\n",
              "          const element = document.querySelector('#df-dc6085f9-490e-48f7-9956-d47a0fecf0d7');\n",
              "          const dataTable =\n",
              "            await google.colab.kernel.invokeFunction('convertToInteractive',\n",
              "                                                     [key], {});\n",
              "          if (!dataTable) return;\n",
              "\n",
              "          const docLinkHtml = 'Like what you see? Visit the ' +\n",
              "            '<a target=\"_blank\" href=https://colab.research.google.com/notebooks/data_table.ipynb>data table notebook</a>'\n",
              "            + ' to learn more about interactive tables.';\n",
              "          element.innerHTML = '';\n",
              "          dataTable['output_type'] = 'display_data';\n",
              "          await google.colab.output.renderOutput(dataTable, element);\n",
              "          const docLink = document.createElement('div');\n",
              "          docLink.innerHTML = docLinkHtml;\n",
              "          element.appendChild(docLink);\n",
              "        }\n",
              "      </script>\n",
              "    </div>\n",
              "  </div>\n",
              "  "
            ]
          },
          "metadata": {},
          "execution_count": 428
        }
      ],
      "source": [
        "#Melakukan pemilihan data untuk menntukan jumlah order dan jumlah sales\n",
        "sales_data_join = success[['customer_id','booking_id','total_amount']]\n",
        "sales_data_join.sample()"
      ]
    },
    {
      "cell_type": "code",
      "execution_count": null,
      "metadata": {
        "id": "VkTqSRiU5U00",
        "colab": {
          "base_uri": "https://localhost:8080/"
        },
        "outputId": "a704e534-b09c-4789-8eea-419a6c834177"
      },
      "outputs": [
        {
          "output_type": "stream",
          "name": "stdout",
          "text": [
            "<class 'pandas.core.frame.DataFrame'>\n",
            "Int64Index: 862196 entries, 0 to 862195\n",
            "Data columns (total 5 columns):\n",
            " #   Column           Non-Null Count   Dtype         \n",
            "---  ------           --------------   -----         \n",
            " 0   customer_id      862196 non-null  int64         \n",
            " 1   booking_id       862196 non-null  object        \n",
            " 2   total_amount     862196 non-null  float64       \n",
            " 3   first_join_date  862196 non-null  datetime64[ns]\n",
            " 4   created_at       862196 non-null  datetime64[ns]\n",
            "dtypes: datetime64[ns](2), float64(1), int64(1), object(1)\n",
            "memory usage: 39.5+ MB\n"
          ]
        }
      ],
      "source": [
        "sales_dataset=sales_data_join.merge(final_cust_trans, on='customer_id', how='inner')\n",
        "sales_dataset.info()"
      ]
    },
    {
      "cell_type": "code",
      "execution_count": null,
      "metadata": {
        "id": "EBfm5w3kFEtO"
      },
      "outputs": [],
      "source": [
        "sales_dataset = sales_dataset.astype({\"total_amount\":'int'}) "
      ]
    },
    {
      "cell_type": "code",
      "execution_count": null,
      "metadata": {
        "id": "2aB9xU_G54om",
        "colab": {
          "base_uri": "https://localhost:8080/",
          "height": 455
        },
        "outputId": "11cf1baf-6078-4d50-f23b-361a2a80e6c9"
      },
      "outputs": [
        {
          "output_type": "execute_result",
          "data": {
            "text/plain": [
              "                                        total_order  total_sales\n",
              "customer_id first_join_date created_at                          \n",
              "76961       2022-07-29      2022-07-31           72   3379521024\n",
              "75646       2022-07-30      2022-07-31           70   2857894900\n",
              "83562       2022-07-16      2022-07-16           62   2309535650\n",
              "3410        2022-07-24      2022-07-26           74   1979500040\n",
              "79647       2022-07-17      2022-07-18           56   1764662256\n",
              "...                                             ...          ...\n",
              "59098       2019-02-03      2019-02-04            1        34726\n",
              "18584       2021-04-11      2021-04-11            1        34118\n",
              "38090       2016-10-18      2016-10-19            1        31270\n",
              "29529       2019-10-14      2019-10-14            1        29809\n",
              "21527       2021-04-03      2021-04-03            1        27450\n",
              "\n",
              "[50242 rows x 2 columns]"
            ],
            "text/html": [
              "\n",
              "  <div id=\"df-aaf5f237-73bb-439b-9ac0-d46229e170b3\">\n",
              "    <div class=\"colab-df-container\">\n",
              "      <div>\n",
              "<style scoped>\n",
              "    .dataframe tbody tr th:only-of-type {\n",
              "        vertical-align: middle;\n",
              "    }\n",
              "\n",
              "    .dataframe tbody tr th {\n",
              "        vertical-align: top;\n",
              "    }\n",
              "\n",
              "    .dataframe thead th {\n",
              "        text-align: right;\n",
              "    }\n",
              "</style>\n",
              "<table border=\"1\" class=\"dataframe\">\n",
              "  <thead>\n",
              "    <tr style=\"text-align: right;\">\n",
              "      <th></th>\n",
              "      <th></th>\n",
              "      <th></th>\n",
              "      <th>total_order</th>\n",
              "      <th>total_sales</th>\n",
              "    </tr>\n",
              "    <tr>\n",
              "      <th>customer_id</th>\n",
              "      <th>first_join_date</th>\n",
              "      <th>created_at</th>\n",
              "      <th></th>\n",
              "      <th></th>\n",
              "    </tr>\n",
              "  </thead>\n",
              "  <tbody>\n",
              "    <tr>\n",
              "      <th>76961</th>\n",
              "      <th>2022-07-29</th>\n",
              "      <th>2022-07-31</th>\n",
              "      <td>72</td>\n",
              "      <td>3379521024</td>\n",
              "    </tr>\n",
              "    <tr>\n",
              "      <th>75646</th>\n",
              "      <th>2022-07-30</th>\n",
              "      <th>2022-07-31</th>\n",
              "      <td>70</td>\n",
              "      <td>2857894900</td>\n",
              "    </tr>\n",
              "    <tr>\n",
              "      <th>83562</th>\n",
              "      <th>2022-07-16</th>\n",
              "      <th>2022-07-16</th>\n",
              "      <td>62</td>\n",
              "      <td>2309535650</td>\n",
              "    </tr>\n",
              "    <tr>\n",
              "      <th>3410</th>\n",
              "      <th>2022-07-24</th>\n",
              "      <th>2022-07-26</th>\n",
              "      <td>74</td>\n",
              "      <td>1979500040</td>\n",
              "    </tr>\n",
              "    <tr>\n",
              "      <th>79647</th>\n",
              "      <th>2022-07-17</th>\n",
              "      <th>2022-07-18</th>\n",
              "      <td>56</td>\n",
              "      <td>1764662256</td>\n",
              "    </tr>\n",
              "    <tr>\n",
              "      <th>...</th>\n",
              "      <th>...</th>\n",
              "      <th>...</th>\n",
              "      <td>...</td>\n",
              "      <td>...</td>\n",
              "    </tr>\n",
              "    <tr>\n",
              "      <th>59098</th>\n",
              "      <th>2019-02-03</th>\n",
              "      <th>2019-02-04</th>\n",
              "      <td>1</td>\n",
              "      <td>34726</td>\n",
              "    </tr>\n",
              "    <tr>\n",
              "      <th>18584</th>\n",
              "      <th>2021-04-11</th>\n",
              "      <th>2021-04-11</th>\n",
              "      <td>1</td>\n",
              "      <td>34118</td>\n",
              "    </tr>\n",
              "    <tr>\n",
              "      <th>38090</th>\n",
              "      <th>2016-10-18</th>\n",
              "      <th>2016-10-19</th>\n",
              "      <td>1</td>\n",
              "      <td>31270</td>\n",
              "    </tr>\n",
              "    <tr>\n",
              "      <th>29529</th>\n",
              "      <th>2019-10-14</th>\n",
              "      <th>2019-10-14</th>\n",
              "      <td>1</td>\n",
              "      <td>29809</td>\n",
              "    </tr>\n",
              "    <tr>\n",
              "      <th>21527</th>\n",
              "      <th>2021-04-03</th>\n",
              "      <th>2021-04-03</th>\n",
              "      <td>1</td>\n",
              "      <td>27450</td>\n",
              "    </tr>\n",
              "  </tbody>\n",
              "</table>\n",
              "<p>50242 rows × 2 columns</p>\n",
              "</div>\n",
              "      <button class=\"colab-df-convert\" onclick=\"convertToInteractive('df-aaf5f237-73bb-439b-9ac0-d46229e170b3')\"\n",
              "              title=\"Convert this dataframe to an interactive table.\"\n",
              "              style=\"display:none;\">\n",
              "        \n",
              "  <svg xmlns=\"http://www.w3.org/2000/svg\" height=\"24px\"viewBox=\"0 0 24 24\"\n",
              "       width=\"24px\">\n",
              "    <path d=\"M0 0h24v24H0V0z\" fill=\"none\"/>\n",
              "    <path d=\"M18.56 5.44l.94 2.06.94-2.06 2.06-.94-2.06-.94-.94-2.06-.94 2.06-2.06.94zm-11 1L8.5 8.5l.94-2.06 2.06-.94-2.06-.94L8.5 2.5l-.94 2.06-2.06.94zm10 10l.94 2.06.94-2.06 2.06-.94-2.06-.94-.94-2.06-.94 2.06-2.06.94z\"/><path d=\"M17.41 7.96l-1.37-1.37c-.4-.4-.92-.59-1.43-.59-.52 0-1.04.2-1.43.59L10.3 9.45l-7.72 7.72c-.78.78-.78 2.05 0 2.83L4 21.41c.39.39.9.59 1.41.59.51 0 1.02-.2 1.41-.59l7.78-7.78 2.81-2.81c.8-.78.8-2.07 0-2.86zM5.41 20L4 18.59l7.72-7.72 1.47 1.35L5.41 20z\"/>\n",
              "  </svg>\n",
              "      </button>\n",
              "      \n",
              "  <style>\n",
              "    .colab-df-container {\n",
              "      display:flex;\n",
              "      flex-wrap:wrap;\n",
              "      gap: 12px;\n",
              "    }\n",
              "\n",
              "    .colab-df-convert {\n",
              "      background-color: #E8F0FE;\n",
              "      border: none;\n",
              "      border-radius: 50%;\n",
              "      cursor: pointer;\n",
              "      display: none;\n",
              "      fill: #1967D2;\n",
              "      height: 32px;\n",
              "      padding: 0 0 0 0;\n",
              "      width: 32px;\n",
              "    }\n",
              "\n",
              "    .colab-df-convert:hover {\n",
              "      background-color: #E2EBFA;\n",
              "      box-shadow: 0px 1px 2px rgba(60, 64, 67, 0.3), 0px 1px 3px 1px rgba(60, 64, 67, 0.15);\n",
              "      fill: #174EA6;\n",
              "    }\n",
              "\n",
              "    [theme=dark] .colab-df-convert {\n",
              "      background-color: #3B4455;\n",
              "      fill: #D2E3FC;\n",
              "    }\n",
              "\n",
              "    [theme=dark] .colab-df-convert:hover {\n",
              "      background-color: #434B5C;\n",
              "      box-shadow: 0px 1px 3px 1px rgba(0, 0, 0, 0.15);\n",
              "      filter: drop-shadow(0px 1px 2px rgba(0, 0, 0, 0.3));\n",
              "      fill: #FFFFFF;\n",
              "    }\n",
              "  </style>\n",
              "\n",
              "      <script>\n",
              "        const buttonEl =\n",
              "          document.querySelector('#df-aaf5f237-73bb-439b-9ac0-d46229e170b3 button.colab-df-convert');\n",
              "        buttonEl.style.display =\n",
              "          google.colab.kernel.accessAllowed ? 'block' : 'none';\n",
              "\n",
              "        async function convertToInteractive(key) {\n",
              "          const element = document.querySelector('#df-aaf5f237-73bb-439b-9ac0-d46229e170b3');\n",
              "          const dataTable =\n",
              "            await google.colab.kernel.invokeFunction('convertToInteractive',\n",
              "                                                     [key], {});\n",
              "          if (!dataTable) return;\n",
              "\n",
              "          const docLinkHtml = 'Like what you see? Visit the ' +\n",
              "            '<a target=\"_blank\" href=https://colab.research.google.com/notebooks/data_table.ipynb>data table notebook</a>'\n",
              "            + ' to learn more about interactive tables.';\n",
              "          element.innerHTML = '';\n",
              "          dataTable['output_type'] = 'display_data';\n",
              "          await google.colab.output.renderOutput(dataTable, element);\n",
              "          const docLink = document.createElement('div');\n",
              "          docLink.innerHTML = docLinkHtml;\n",
              "          element.appendChild(docLink);\n",
              "        }\n",
              "      </script>\n",
              "    </div>\n",
              "  </div>\n",
              "  "
            ]
          },
          "metadata": {},
          "execution_count": 431
        }
      ],
      "source": [
        "bahan_segment_satu=sales_dataset.groupby(['customer_id','first_join_date','created_at']).agg(\n",
        "    total_order   =('booking_id','nunique'),\n",
        "    total_sales   =('total_amount','sum')\n",
        ")\n",
        "bahan_segment_satu.sort_values(by=\"total_sales\", ascending=False)"
      ]
    },
    {
      "cell_type": "code",
      "execution_count": null,
      "metadata": {
        "id": "8ehOmtAb7uat",
        "colab": {
          "base_uri": "https://localhost:8080/",
          "height": 112
        },
        "outputId": "bd958ed5-bf74-41cb-8ecc-71019b6d9afb"
      },
      "outputs": [
        {
          "output_type": "execute_result",
          "data": {
            "text/plain": [
              "                                        total_order  total_sales  basket_size\n",
              "customer_id first_join_date created_at                                       \n",
              "28874       2020-05-23      2020-05-24            1       336664     336664.0"
            ],
            "text/html": [
              "\n",
              "  <div id=\"df-9c9a294c-62c6-48f4-9c0d-351705528317\">\n",
              "    <div class=\"colab-df-container\">\n",
              "      <div>\n",
              "<style scoped>\n",
              "    .dataframe tbody tr th:only-of-type {\n",
              "        vertical-align: middle;\n",
              "    }\n",
              "\n",
              "    .dataframe tbody tr th {\n",
              "        vertical-align: top;\n",
              "    }\n",
              "\n",
              "    .dataframe thead th {\n",
              "        text-align: right;\n",
              "    }\n",
              "</style>\n",
              "<table border=\"1\" class=\"dataframe\">\n",
              "  <thead>\n",
              "    <tr style=\"text-align: right;\">\n",
              "      <th></th>\n",
              "      <th></th>\n",
              "      <th></th>\n",
              "      <th>total_order</th>\n",
              "      <th>total_sales</th>\n",
              "      <th>basket_size</th>\n",
              "    </tr>\n",
              "    <tr>\n",
              "      <th>customer_id</th>\n",
              "      <th>first_join_date</th>\n",
              "      <th>created_at</th>\n",
              "      <th></th>\n",
              "      <th></th>\n",
              "      <th></th>\n",
              "    </tr>\n",
              "  </thead>\n",
              "  <tbody>\n",
              "    <tr>\n",
              "      <th>28874</th>\n",
              "      <th>2020-05-23</th>\n",
              "      <th>2020-05-24</th>\n",
              "      <td>1</td>\n",
              "      <td>336664</td>\n",
              "      <td>336664.0</td>\n",
              "    </tr>\n",
              "  </tbody>\n",
              "</table>\n",
              "</div>\n",
              "      <button class=\"colab-df-convert\" onclick=\"convertToInteractive('df-9c9a294c-62c6-48f4-9c0d-351705528317')\"\n",
              "              title=\"Convert this dataframe to an interactive table.\"\n",
              "              style=\"display:none;\">\n",
              "        \n",
              "  <svg xmlns=\"http://www.w3.org/2000/svg\" height=\"24px\"viewBox=\"0 0 24 24\"\n",
              "       width=\"24px\">\n",
              "    <path d=\"M0 0h24v24H0V0z\" fill=\"none\"/>\n",
              "    <path d=\"M18.56 5.44l.94 2.06.94-2.06 2.06-.94-2.06-.94-.94-2.06-.94 2.06-2.06.94zm-11 1L8.5 8.5l.94-2.06 2.06-.94-2.06-.94L8.5 2.5l-.94 2.06-2.06.94zm10 10l.94 2.06.94-2.06 2.06-.94-2.06-.94-.94-2.06-.94 2.06-2.06.94z\"/><path d=\"M17.41 7.96l-1.37-1.37c-.4-.4-.92-.59-1.43-.59-.52 0-1.04.2-1.43.59L10.3 9.45l-7.72 7.72c-.78.78-.78 2.05 0 2.83L4 21.41c.39.39.9.59 1.41.59.51 0 1.02-.2 1.41-.59l7.78-7.78 2.81-2.81c.8-.78.8-2.07 0-2.86zM5.41 20L4 18.59l7.72-7.72 1.47 1.35L5.41 20z\"/>\n",
              "  </svg>\n",
              "      </button>\n",
              "      \n",
              "  <style>\n",
              "    .colab-df-container {\n",
              "      display:flex;\n",
              "      flex-wrap:wrap;\n",
              "      gap: 12px;\n",
              "    }\n",
              "\n",
              "    .colab-df-convert {\n",
              "      background-color: #E8F0FE;\n",
              "      border: none;\n",
              "      border-radius: 50%;\n",
              "      cursor: pointer;\n",
              "      display: none;\n",
              "      fill: #1967D2;\n",
              "      height: 32px;\n",
              "      padding: 0 0 0 0;\n",
              "      width: 32px;\n",
              "    }\n",
              "\n",
              "    .colab-df-convert:hover {\n",
              "      background-color: #E2EBFA;\n",
              "      box-shadow: 0px 1px 2px rgba(60, 64, 67, 0.3), 0px 1px 3px 1px rgba(60, 64, 67, 0.15);\n",
              "      fill: #174EA6;\n",
              "    }\n",
              "\n",
              "    [theme=dark] .colab-df-convert {\n",
              "      background-color: #3B4455;\n",
              "      fill: #D2E3FC;\n",
              "    }\n",
              "\n",
              "    [theme=dark] .colab-df-convert:hover {\n",
              "      background-color: #434B5C;\n",
              "      box-shadow: 0px 1px 3px 1px rgba(0, 0, 0, 0.15);\n",
              "      filter: drop-shadow(0px 1px 2px rgba(0, 0, 0, 0.3));\n",
              "      fill: #FFFFFF;\n",
              "    }\n",
              "  </style>\n",
              "\n",
              "      <script>\n",
              "        const buttonEl =\n",
              "          document.querySelector('#df-9c9a294c-62c6-48f4-9c0d-351705528317 button.colab-df-convert');\n",
              "        buttonEl.style.display =\n",
              "          google.colab.kernel.accessAllowed ? 'block' : 'none';\n",
              "\n",
              "        async function convertToInteractive(key) {\n",
              "          const element = document.querySelector('#df-9c9a294c-62c6-48f4-9c0d-351705528317');\n",
              "          const dataTable =\n",
              "            await google.colab.kernel.invokeFunction('convertToInteractive',\n",
              "                                                     [key], {});\n",
              "          if (!dataTable) return;\n",
              "\n",
              "          const docLinkHtml = 'Like what you see? Visit the ' +\n",
              "            '<a target=\"_blank\" href=https://colab.research.google.com/notebooks/data_table.ipynb>data table notebook</a>'\n",
              "            + ' to learn more about interactive tables.';\n",
              "          element.innerHTML = '';\n",
              "          dataTable['output_type'] = 'display_data';\n",
              "          await google.colab.output.renderOutput(dataTable, element);\n",
              "          const docLink = document.createElement('div');\n",
              "          docLink.innerHTML = docLinkHtml;\n",
              "          element.appendChild(docLink);\n",
              "        }\n",
              "      </script>\n",
              "    </div>\n",
              "  </div>\n",
              "  "
            ]
          },
          "metadata": {},
          "execution_count": 432
        }
      ],
      "source": [
        "bahan_segment_satu['basket_size']= bahan_segment_satu['total_sales'] / bahan_segment_satu['total_order']\n",
        "bahan_segment_satu.sample()"
      ]
    },
    {
      "cell_type": "code",
      "execution_count": null,
      "metadata": {
        "id": "obfst2kMIgjo",
        "colab": {
          "base_uri": "https://localhost:8080/",
          "height": 112
        },
        "outputId": "ae3a9cde-7292-420f-dfe7-d8fbfc62c94a"
      },
      "outputs": [
        {
          "output_type": "execute_result",
          "data": {
            "text/plain": [
              "                                        total_order  total_sales  basket_size\n",
              "customer_id first_join_date created_at                                       \n",
              "92161       2019-07-27      2022-06-06          115     47729790       415041"
            ],
            "text/html": [
              "\n",
              "  <div id=\"df-6b70c549-2ed5-47a3-8af2-018f99a43a46\">\n",
              "    <div class=\"colab-df-container\">\n",
              "      <div>\n",
              "<style scoped>\n",
              "    .dataframe tbody tr th:only-of-type {\n",
              "        vertical-align: middle;\n",
              "    }\n",
              "\n",
              "    .dataframe tbody tr th {\n",
              "        vertical-align: top;\n",
              "    }\n",
              "\n",
              "    .dataframe thead th {\n",
              "        text-align: right;\n",
              "    }\n",
              "</style>\n",
              "<table border=\"1\" class=\"dataframe\">\n",
              "  <thead>\n",
              "    <tr style=\"text-align: right;\">\n",
              "      <th></th>\n",
              "      <th></th>\n",
              "      <th></th>\n",
              "      <th>total_order</th>\n",
              "      <th>total_sales</th>\n",
              "      <th>basket_size</th>\n",
              "    </tr>\n",
              "    <tr>\n",
              "      <th>customer_id</th>\n",
              "      <th>first_join_date</th>\n",
              "      <th>created_at</th>\n",
              "      <th></th>\n",
              "      <th></th>\n",
              "      <th></th>\n",
              "    </tr>\n",
              "  </thead>\n",
              "  <tbody>\n",
              "    <tr>\n",
              "      <th>92161</th>\n",
              "      <th>2019-07-27</th>\n",
              "      <th>2022-06-06</th>\n",
              "      <td>115</td>\n",
              "      <td>47729790</td>\n",
              "      <td>415041</td>\n",
              "    </tr>\n",
              "  </tbody>\n",
              "</table>\n",
              "</div>\n",
              "      <button class=\"colab-df-convert\" onclick=\"convertToInteractive('df-6b70c549-2ed5-47a3-8af2-018f99a43a46')\"\n",
              "              title=\"Convert this dataframe to an interactive table.\"\n",
              "              style=\"display:none;\">\n",
              "        \n",
              "  <svg xmlns=\"http://www.w3.org/2000/svg\" height=\"24px\"viewBox=\"0 0 24 24\"\n",
              "       width=\"24px\">\n",
              "    <path d=\"M0 0h24v24H0V0z\" fill=\"none\"/>\n",
              "    <path d=\"M18.56 5.44l.94 2.06.94-2.06 2.06-.94-2.06-.94-.94-2.06-.94 2.06-2.06.94zm-11 1L8.5 8.5l.94-2.06 2.06-.94-2.06-.94L8.5 2.5l-.94 2.06-2.06.94zm10 10l.94 2.06.94-2.06 2.06-.94-2.06-.94-.94-2.06-.94 2.06-2.06.94z\"/><path d=\"M17.41 7.96l-1.37-1.37c-.4-.4-.92-.59-1.43-.59-.52 0-1.04.2-1.43.59L10.3 9.45l-7.72 7.72c-.78.78-.78 2.05 0 2.83L4 21.41c.39.39.9.59 1.41.59.51 0 1.02-.2 1.41-.59l7.78-7.78 2.81-2.81c.8-.78.8-2.07 0-2.86zM5.41 20L4 18.59l7.72-7.72 1.47 1.35L5.41 20z\"/>\n",
              "  </svg>\n",
              "      </button>\n",
              "      \n",
              "  <style>\n",
              "    .colab-df-container {\n",
              "      display:flex;\n",
              "      flex-wrap:wrap;\n",
              "      gap: 12px;\n",
              "    }\n",
              "\n",
              "    .colab-df-convert {\n",
              "      background-color: #E8F0FE;\n",
              "      border: none;\n",
              "      border-radius: 50%;\n",
              "      cursor: pointer;\n",
              "      display: none;\n",
              "      fill: #1967D2;\n",
              "      height: 32px;\n",
              "      padding: 0 0 0 0;\n",
              "      width: 32px;\n",
              "    }\n",
              "\n",
              "    .colab-df-convert:hover {\n",
              "      background-color: #E2EBFA;\n",
              "      box-shadow: 0px 1px 2px rgba(60, 64, 67, 0.3), 0px 1px 3px 1px rgba(60, 64, 67, 0.15);\n",
              "      fill: #174EA6;\n",
              "    }\n",
              "\n",
              "    [theme=dark] .colab-df-convert {\n",
              "      background-color: #3B4455;\n",
              "      fill: #D2E3FC;\n",
              "    }\n",
              "\n",
              "    [theme=dark] .colab-df-convert:hover {\n",
              "      background-color: #434B5C;\n",
              "      box-shadow: 0px 1px 3px 1px rgba(0, 0, 0, 0.15);\n",
              "      filter: drop-shadow(0px 1px 2px rgba(0, 0, 0, 0.3));\n",
              "      fill: #FFFFFF;\n",
              "    }\n",
              "  </style>\n",
              "\n",
              "      <script>\n",
              "        const buttonEl =\n",
              "          document.querySelector('#df-6b70c549-2ed5-47a3-8af2-018f99a43a46 button.colab-df-convert');\n",
              "        buttonEl.style.display =\n",
              "          google.colab.kernel.accessAllowed ? 'block' : 'none';\n",
              "\n",
              "        async function convertToInteractive(key) {\n",
              "          const element = document.querySelector('#df-6b70c549-2ed5-47a3-8af2-018f99a43a46');\n",
              "          const dataTable =\n",
              "            await google.colab.kernel.invokeFunction('convertToInteractive',\n",
              "                                                     [key], {});\n",
              "          if (!dataTable) return;\n",
              "\n",
              "          const docLinkHtml = 'Like what you see? Visit the ' +\n",
              "            '<a target=\"_blank\" href=https://colab.research.google.com/notebooks/data_table.ipynb>data table notebook</a>'\n",
              "            + ' to learn more about interactive tables.';\n",
              "          element.innerHTML = '';\n",
              "          dataTable['output_type'] = 'display_data';\n",
              "          await google.colab.output.renderOutput(dataTable, element);\n",
              "          const docLink = document.createElement('div');\n",
              "          docLink.innerHTML = docLinkHtml;\n",
              "          element.appendChild(docLink);\n",
              "        }\n",
              "      </script>\n",
              "    </div>\n",
              "  </div>\n",
              "  "
            ]
          },
          "metadata": {},
          "execution_count": 433
        }
      ],
      "source": [
        "segmentation_raw = bahan_segment_satu.astype({\"basket_size\":'int'})\n",
        "segmentation_raw.sample()"
      ]
    },
    {
      "cell_type": "code",
      "execution_count": null,
      "metadata": {
        "id": "eCXkttljbjs2",
        "colab": {
          "base_uri": "https://localhost:8080/",
          "height": 80
        },
        "outputId": "5f984cf4-5e17-487e-dc70-9cfde20d1ed8"
      },
      "outputs": [
        {
          "output_type": "execute_result",
          "data": {
            "text/plain": [
              "       customer_id  last_trans  last_purchase segment_churn\n",
              "47258        93266  2022-07-26              6     Non Churn"
            ],
            "text/html": [
              "\n",
              "  <div id=\"df-e8a4efdb-4495-4a63-932d-aa9ea3b1badd\">\n",
              "    <div class=\"colab-df-container\">\n",
              "      <div>\n",
              "<style scoped>\n",
              "    .dataframe tbody tr th:only-of-type {\n",
              "        vertical-align: middle;\n",
              "    }\n",
              "\n",
              "    .dataframe tbody tr th {\n",
              "        vertical-align: top;\n",
              "    }\n",
              "\n",
              "    .dataframe thead th {\n",
              "        text-align: right;\n",
              "    }\n",
              "</style>\n",
              "<table border=\"1\" class=\"dataframe\">\n",
              "  <thead>\n",
              "    <tr style=\"text-align: right;\">\n",
              "      <th></th>\n",
              "      <th>customer_id</th>\n",
              "      <th>last_trans</th>\n",
              "      <th>last_purchase</th>\n",
              "      <th>segment_churn</th>\n",
              "    </tr>\n",
              "  </thead>\n",
              "  <tbody>\n",
              "    <tr>\n",
              "      <th>47258</th>\n",
              "      <td>93266</td>\n",
              "      <td>2022-07-26</td>\n",
              "      <td>6</td>\n",
              "      <td>Non Churn</td>\n",
              "    </tr>\n",
              "  </tbody>\n",
              "</table>\n",
              "</div>\n",
              "      <button class=\"colab-df-convert\" onclick=\"convertToInteractive('df-e8a4efdb-4495-4a63-932d-aa9ea3b1badd')\"\n",
              "              title=\"Convert this dataframe to an interactive table.\"\n",
              "              style=\"display:none;\">\n",
              "        \n",
              "  <svg xmlns=\"http://www.w3.org/2000/svg\" height=\"24px\"viewBox=\"0 0 24 24\"\n",
              "       width=\"24px\">\n",
              "    <path d=\"M0 0h24v24H0V0z\" fill=\"none\"/>\n",
              "    <path d=\"M18.56 5.44l.94 2.06.94-2.06 2.06-.94-2.06-.94-.94-2.06-.94 2.06-2.06.94zm-11 1L8.5 8.5l.94-2.06 2.06-.94-2.06-.94L8.5 2.5l-.94 2.06-2.06.94zm10 10l.94 2.06.94-2.06 2.06-.94-2.06-.94-.94-2.06-.94 2.06-2.06.94z\"/><path d=\"M17.41 7.96l-1.37-1.37c-.4-.4-.92-.59-1.43-.59-.52 0-1.04.2-1.43.59L10.3 9.45l-7.72 7.72c-.78.78-.78 2.05 0 2.83L4 21.41c.39.39.9.59 1.41.59.51 0 1.02-.2 1.41-.59l7.78-7.78 2.81-2.81c.8-.78.8-2.07 0-2.86zM5.41 20L4 18.59l7.72-7.72 1.47 1.35L5.41 20z\"/>\n",
              "  </svg>\n",
              "      </button>\n",
              "      \n",
              "  <style>\n",
              "    .colab-df-container {\n",
              "      display:flex;\n",
              "      flex-wrap:wrap;\n",
              "      gap: 12px;\n",
              "    }\n",
              "\n",
              "    .colab-df-convert {\n",
              "      background-color: #E8F0FE;\n",
              "      border: none;\n",
              "      border-radius: 50%;\n",
              "      cursor: pointer;\n",
              "      display: none;\n",
              "      fill: #1967D2;\n",
              "      height: 32px;\n",
              "      padding: 0 0 0 0;\n",
              "      width: 32px;\n",
              "    }\n",
              "\n",
              "    .colab-df-convert:hover {\n",
              "      background-color: #E2EBFA;\n",
              "      box-shadow: 0px 1px 2px rgba(60, 64, 67, 0.3), 0px 1px 3px 1px rgba(60, 64, 67, 0.15);\n",
              "      fill: #174EA6;\n",
              "    }\n",
              "\n",
              "    [theme=dark] .colab-df-convert {\n",
              "      background-color: #3B4455;\n",
              "      fill: #D2E3FC;\n",
              "    }\n",
              "\n",
              "    [theme=dark] .colab-df-convert:hover {\n",
              "      background-color: #434B5C;\n",
              "      box-shadow: 0px 1px 3px 1px rgba(0, 0, 0, 0.15);\n",
              "      filter: drop-shadow(0px 1px 2px rgba(0, 0, 0, 0.3));\n",
              "      fill: #FFFFFF;\n",
              "    }\n",
              "  </style>\n",
              "\n",
              "      <script>\n",
              "        const buttonEl =\n",
              "          document.querySelector('#df-e8a4efdb-4495-4a63-932d-aa9ea3b1badd button.colab-df-convert');\n",
              "        buttonEl.style.display =\n",
              "          google.colab.kernel.accessAllowed ? 'block' : 'none';\n",
              "\n",
              "        async function convertToInteractive(key) {\n",
              "          const element = document.querySelector('#df-e8a4efdb-4495-4a63-932d-aa9ea3b1badd');\n",
              "          const dataTable =\n",
              "            await google.colab.kernel.invokeFunction('convertToInteractive',\n",
              "                                                     [key], {});\n",
              "          if (!dataTable) return;\n",
              "\n",
              "          const docLinkHtml = 'Like what you see? Visit the ' +\n",
              "            '<a target=\"_blank\" href=https://colab.research.google.com/notebooks/data_table.ipynb>data table notebook</a>'\n",
              "            + ' to learn more about interactive tables.';\n",
              "          element.innerHTML = '';\n",
              "          dataTable['output_type'] = 'display_data';\n",
              "          await google.colab.output.renderOutput(dataTable, element);\n",
              "          const docLink = document.createElement('div');\n",
              "          docLink.innerHTML = docLinkHtml;\n",
              "          element.appendChild(docLink);\n",
              "        }\n",
              "      </script>\n",
              "    </div>\n",
              "  </div>\n",
              "  "
            ]
          },
          "metadata": {},
          "execution_count": 434
        }
      ],
      "source": [
        "last_trans.sample()"
      ]
    },
    {
      "cell_type": "code",
      "execution_count": null,
      "metadata": {
        "id": "wNWZ697va9qA",
        "colab": {
          "base_uri": "https://localhost:8080/",
          "height": 80
        },
        "outputId": "60acd5da-623d-4893-9f70-681f6f9da79a"
      },
      "outputs": [
        {
          "output_type": "execute_result",
          "data": {
            "text/plain": [
              "       customer_id  total_order  total_sales  basket_size  last_trans  \\\n",
              "22113        43682          9.0    7217165.0     801907.0  2022-05-14   \n",
              "\n",
              "       last_purchase segment_churn  \n",
              "22113             79     Non Churn  "
            ],
            "text/html": [
              "\n",
              "  <div id=\"df-4e043d68-ce26-4089-ae64-dbd625f77047\">\n",
              "    <div class=\"colab-df-container\">\n",
              "      <div>\n",
              "<style scoped>\n",
              "    .dataframe tbody tr th:only-of-type {\n",
              "        vertical-align: middle;\n",
              "    }\n",
              "\n",
              "    .dataframe tbody tr th {\n",
              "        vertical-align: top;\n",
              "    }\n",
              "\n",
              "    .dataframe thead th {\n",
              "        text-align: right;\n",
              "    }\n",
              "</style>\n",
              "<table border=\"1\" class=\"dataframe\">\n",
              "  <thead>\n",
              "    <tr style=\"text-align: right;\">\n",
              "      <th></th>\n",
              "      <th>customer_id</th>\n",
              "      <th>total_order</th>\n",
              "      <th>total_sales</th>\n",
              "      <th>basket_size</th>\n",
              "      <th>last_trans</th>\n",
              "      <th>last_purchase</th>\n",
              "      <th>segment_churn</th>\n",
              "    </tr>\n",
              "  </thead>\n",
              "  <tbody>\n",
              "    <tr>\n",
              "      <th>22113</th>\n",
              "      <td>43682</td>\n",
              "      <td>9.0</td>\n",
              "      <td>7217165.0</td>\n",
              "      <td>801907.0</td>\n",
              "      <td>2022-05-14</td>\n",
              "      <td>79</td>\n",
              "      <td>Non Churn</td>\n",
              "    </tr>\n",
              "  </tbody>\n",
              "</table>\n",
              "</div>\n",
              "      <button class=\"colab-df-convert\" onclick=\"convertToInteractive('df-4e043d68-ce26-4089-ae64-dbd625f77047')\"\n",
              "              title=\"Convert this dataframe to an interactive table.\"\n",
              "              style=\"display:none;\">\n",
              "        \n",
              "  <svg xmlns=\"http://www.w3.org/2000/svg\" height=\"24px\"viewBox=\"0 0 24 24\"\n",
              "       width=\"24px\">\n",
              "    <path d=\"M0 0h24v24H0V0z\" fill=\"none\"/>\n",
              "    <path d=\"M18.56 5.44l.94 2.06.94-2.06 2.06-.94-2.06-.94-.94-2.06-.94 2.06-2.06.94zm-11 1L8.5 8.5l.94-2.06 2.06-.94-2.06-.94L8.5 2.5l-.94 2.06-2.06.94zm10 10l.94 2.06.94-2.06 2.06-.94-2.06-.94-.94-2.06-.94 2.06-2.06.94z\"/><path d=\"M17.41 7.96l-1.37-1.37c-.4-.4-.92-.59-1.43-.59-.52 0-1.04.2-1.43.59L10.3 9.45l-7.72 7.72c-.78.78-.78 2.05 0 2.83L4 21.41c.39.39.9.59 1.41.59.51 0 1.02-.2 1.41-.59l7.78-7.78 2.81-2.81c.8-.78.8-2.07 0-2.86zM5.41 20L4 18.59l7.72-7.72 1.47 1.35L5.41 20z\"/>\n",
              "  </svg>\n",
              "      </button>\n",
              "      \n",
              "  <style>\n",
              "    .colab-df-container {\n",
              "      display:flex;\n",
              "      flex-wrap:wrap;\n",
              "      gap: 12px;\n",
              "    }\n",
              "\n",
              "    .colab-df-convert {\n",
              "      background-color: #E8F0FE;\n",
              "      border: none;\n",
              "      border-radius: 50%;\n",
              "      cursor: pointer;\n",
              "      display: none;\n",
              "      fill: #1967D2;\n",
              "      height: 32px;\n",
              "      padding: 0 0 0 0;\n",
              "      width: 32px;\n",
              "    }\n",
              "\n",
              "    .colab-df-convert:hover {\n",
              "      background-color: #E2EBFA;\n",
              "      box-shadow: 0px 1px 2px rgba(60, 64, 67, 0.3), 0px 1px 3px 1px rgba(60, 64, 67, 0.15);\n",
              "      fill: #174EA6;\n",
              "    }\n",
              "\n",
              "    [theme=dark] .colab-df-convert {\n",
              "      background-color: #3B4455;\n",
              "      fill: #D2E3FC;\n",
              "    }\n",
              "\n",
              "    [theme=dark] .colab-df-convert:hover {\n",
              "      background-color: #434B5C;\n",
              "      box-shadow: 0px 1px 3px 1px rgba(0, 0, 0, 0.15);\n",
              "      filter: drop-shadow(0px 1px 2px rgba(0, 0, 0, 0.3));\n",
              "      fill: #FFFFFF;\n",
              "    }\n",
              "  </style>\n",
              "\n",
              "      <script>\n",
              "        const buttonEl =\n",
              "          document.querySelector('#df-4e043d68-ce26-4089-ae64-dbd625f77047 button.colab-df-convert');\n",
              "        buttonEl.style.display =\n",
              "          google.colab.kernel.accessAllowed ? 'block' : 'none';\n",
              "\n",
              "        async function convertToInteractive(key) {\n",
              "          const element = document.querySelector('#df-4e043d68-ce26-4089-ae64-dbd625f77047');\n",
              "          const dataTable =\n",
              "            await google.colab.kernel.invokeFunction('convertToInteractive',\n",
              "                                                     [key], {});\n",
              "          if (!dataTable) return;\n",
              "\n",
              "          const docLinkHtml = 'Like what you see? Visit the ' +\n",
              "            '<a target=\"_blank\" href=https://colab.research.google.com/notebooks/data_table.ipynb>data table notebook</a>'\n",
              "            + ' to learn more about interactive tables.';\n",
              "          element.innerHTML = '';\n",
              "          dataTable['output_type'] = 'display_data';\n",
              "          await google.colab.output.renderOutput(dataTable, element);\n",
              "          const docLink = document.createElement('div');\n",
              "          docLink.innerHTML = docLinkHtml;\n",
              "          element.appendChild(docLink);\n",
              "        }\n",
              "      </script>\n",
              "    </div>\n",
              "  </div>\n",
              "  "
            ]
          },
          "metadata": {},
          "execution_count": 435
        }
      ],
      "source": [
        "segm_raw=segmentation_raw.merge(last_trans,on='customer_id',how='outer')\n",
        "segm_raw.sample()"
      ]
    },
    {
      "cell_type": "code",
      "execution_count": null,
      "metadata": {
        "id": "XR2M-Y_cI4nh",
        "colab": {
          "base_uri": "https://localhost:8080/",
          "height": 487
        },
        "outputId": "0510d33b-523a-4fd1-d7a1-56980eebdb2a"
      },
      "outputs": [
        {
          "output_type": "execute_result",
          "data": {
            "text/plain": [
              "       customer_id  total_order  total_sales  basket_size  last_trans  \\\n",
              "23971        47501          7.0    4669550.0     667078.0  2022-07-31   \n",
              "42531        84694        136.0   76861792.0     565160.0  2022-07-31   \n",
              "26768        53033         37.0   25045122.0     676895.0  2022-07-31   \n",
              "35408        70312         25.0   10091682.0     403667.0  2022-07-31   \n",
              "35385        70255         22.0   14213612.0     646073.0  2022-07-31   \n",
              "...            ...          ...          ...          ...         ...   \n",
              "5071          9914          1.0     336925.0     336925.0  2016-07-04   \n",
              "11647        22844          1.0     215548.0     215548.0  2016-07-04   \n",
              "34035        67563          1.0     996610.0     996610.0  2016-07-03   \n",
              "15613        30771          1.0     199897.0     199897.0  2016-07-02   \n",
              "37137        73773          1.0     256670.0     256670.0  2016-07-01   \n",
              "\n",
              "       last_purchase segment_churn segment_monetary  \n",
              "23971              1     Non Churn           Normal  \n",
              "42531              1     Non Churn           Normal  \n",
              "26768              1     Non Churn           Normal  \n",
              "35408              1     Non Churn           Normal  \n",
              "35385              1     Non Churn           Normal  \n",
              "...              ...           ...              ...  \n",
              "5071            2219         Churn           Normal  \n",
              "11647           2219         Churn      Low Spender  \n",
              "34035           2220         Churn           Normal  \n",
              "15613           2221         Churn      Low Spender  \n",
              "37137           2222         Churn      Low Spender  \n",
              "\n",
              "[50705 rows x 8 columns]"
            ],
            "text/html": [
              "\n",
              "  <div id=\"df-286b3d64-fcf0-40ed-8050-641166e8e254\">\n",
              "    <div class=\"colab-df-container\">\n",
              "      <div>\n",
              "<style scoped>\n",
              "    .dataframe tbody tr th:only-of-type {\n",
              "        vertical-align: middle;\n",
              "    }\n",
              "\n",
              "    .dataframe tbody tr th {\n",
              "        vertical-align: top;\n",
              "    }\n",
              "\n",
              "    .dataframe thead th {\n",
              "        text-align: right;\n",
              "    }\n",
              "</style>\n",
              "<table border=\"1\" class=\"dataframe\">\n",
              "  <thead>\n",
              "    <tr style=\"text-align: right;\">\n",
              "      <th></th>\n",
              "      <th>customer_id</th>\n",
              "      <th>total_order</th>\n",
              "      <th>total_sales</th>\n",
              "      <th>basket_size</th>\n",
              "      <th>last_trans</th>\n",
              "      <th>last_purchase</th>\n",
              "      <th>segment_churn</th>\n",
              "      <th>segment_monetary</th>\n",
              "    </tr>\n",
              "  </thead>\n",
              "  <tbody>\n",
              "    <tr>\n",
              "      <th>23971</th>\n",
              "      <td>47501</td>\n",
              "      <td>7.0</td>\n",
              "      <td>4669550.0</td>\n",
              "      <td>667078.0</td>\n",
              "      <td>2022-07-31</td>\n",
              "      <td>1</td>\n",
              "      <td>Non Churn</td>\n",
              "      <td>Normal</td>\n",
              "    </tr>\n",
              "    <tr>\n",
              "      <th>42531</th>\n",
              "      <td>84694</td>\n",
              "      <td>136.0</td>\n",
              "      <td>76861792.0</td>\n",
              "      <td>565160.0</td>\n",
              "      <td>2022-07-31</td>\n",
              "      <td>1</td>\n",
              "      <td>Non Churn</td>\n",
              "      <td>Normal</td>\n",
              "    </tr>\n",
              "    <tr>\n",
              "      <th>26768</th>\n",
              "      <td>53033</td>\n",
              "      <td>37.0</td>\n",
              "      <td>25045122.0</td>\n",
              "      <td>676895.0</td>\n",
              "      <td>2022-07-31</td>\n",
              "      <td>1</td>\n",
              "      <td>Non Churn</td>\n",
              "      <td>Normal</td>\n",
              "    </tr>\n",
              "    <tr>\n",
              "      <th>35408</th>\n",
              "      <td>70312</td>\n",
              "      <td>25.0</td>\n",
              "      <td>10091682.0</td>\n",
              "      <td>403667.0</td>\n",
              "      <td>2022-07-31</td>\n",
              "      <td>1</td>\n",
              "      <td>Non Churn</td>\n",
              "      <td>Normal</td>\n",
              "    </tr>\n",
              "    <tr>\n",
              "      <th>35385</th>\n",
              "      <td>70255</td>\n",
              "      <td>22.0</td>\n",
              "      <td>14213612.0</td>\n",
              "      <td>646073.0</td>\n",
              "      <td>2022-07-31</td>\n",
              "      <td>1</td>\n",
              "      <td>Non Churn</td>\n",
              "      <td>Normal</td>\n",
              "    </tr>\n",
              "    <tr>\n",
              "      <th>...</th>\n",
              "      <td>...</td>\n",
              "      <td>...</td>\n",
              "      <td>...</td>\n",
              "      <td>...</td>\n",
              "      <td>...</td>\n",
              "      <td>...</td>\n",
              "      <td>...</td>\n",
              "      <td>...</td>\n",
              "    </tr>\n",
              "    <tr>\n",
              "      <th>5071</th>\n",
              "      <td>9914</td>\n",
              "      <td>1.0</td>\n",
              "      <td>336925.0</td>\n",
              "      <td>336925.0</td>\n",
              "      <td>2016-07-04</td>\n",
              "      <td>2219</td>\n",
              "      <td>Churn</td>\n",
              "      <td>Normal</td>\n",
              "    </tr>\n",
              "    <tr>\n",
              "      <th>11647</th>\n",
              "      <td>22844</td>\n",
              "      <td>1.0</td>\n",
              "      <td>215548.0</td>\n",
              "      <td>215548.0</td>\n",
              "      <td>2016-07-04</td>\n",
              "      <td>2219</td>\n",
              "      <td>Churn</td>\n",
              "      <td>Low Spender</td>\n",
              "    </tr>\n",
              "    <tr>\n",
              "      <th>34035</th>\n",
              "      <td>67563</td>\n",
              "      <td>1.0</td>\n",
              "      <td>996610.0</td>\n",
              "      <td>996610.0</td>\n",
              "      <td>2016-07-03</td>\n",
              "      <td>2220</td>\n",
              "      <td>Churn</td>\n",
              "      <td>Normal</td>\n",
              "    </tr>\n",
              "    <tr>\n",
              "      <th>15613</th>\n",
              "      <td>30771</td>\n",
              "      <td>1.0</td>\n",
              "      <td>199897.0</td>\n",
              "      <td>199897.0</td>\n",
              "      <td>2016-07-02</td>\n",
              "      <td>2221</td>\n",
              "      <td>Churn</td>\n",
              "      <td>Low Spender</td>\n",
              "    </tr>\n",
              "    <tr>\n",
              "      <th>37137</th>\n",
              "      <td>73773</td>\n",
              "      <td>1.0</td>\n",
              "      <td>256670.0</td>\n",
              "      <td>256670.0</td>\n",
              "      <td>2016-07-01</td>\n",
              "      <td>2222</td>\n",
              "      <td>Churn</td>\n",
              "      <td>Low Spender</td>\n",
              "    </tr>\n",
              "  </tbody>\n",
              "</table>\n",
              "<p>50705 rows × 8 columns</p>\n",
              "</div>\n",
              "      <button class=\"colab-df-convert\" onclick=\"convertToInteractive('df-286b3d64-fcf0-40ed-8050-641166e8e254')\"\n",
              "              title=\"Convert this dataframe to an interactive table.\"\n",
              "              style=\"display:none;\">\n",
              "        \n",
              "  <svg xmlns=\"http://www.w3.org/2000/svg\" height=\"24px\"viewBox=\"0 0 24 24\"\n",
              "       width=\"24px\">\n",
              "    <path d=\"M0 0h24v24H0V0z\" fill=\"none\"/>\n",
              "    <path d=\"M18.56 5.44l.94 2.06.94-2.06 2.06-.94-2.06-.94-.94-2.06-.94 2.06-2.06.94zm-11 1L8.5 8.5l.94-2.06 2.06-.94-2.06-.94L8.5 2.5l-.94 2.06-2.06.94zm10 10l.94 2.06.94-2.06 2.06-.94-2.06-.94-.94-2.06-.94 2.06-2.06.94z\"/><path d=\"M17.41 7.96l-1.37-1.37c-.4-.4-.92-.59-1.43-.59-.52 0-1.04.2-1.43.59L10.3 9.45l-7.72 7.72c-.78.78-.78 2.05 0 2.83L4 21.41c.39.39.9.59 1.41.59.51 0 1.02-.2 1.41-.59l7.78-7.78 2.81-2.81c.8-.78.8-2.07 0-2.86zM5.41 20L4 18.59l7.72-7.72 1.47 1.35L5.41 20z\"/>\n",
              "  </svg>\n",
              "      </button>\n",
              "      \n",
              "  <style>\n",
              "    .colab-df-container {\n",
              "      display:flex;\n",
              "      flex-wrap:wrap;\n",
              "      gap: 12px;\n",
              "    }\n",
              "\n",
              "    .colab-df-convert {\n",
              "      background-color: #E8F0FE;\n",
              "      border: none;\n",
              "      border-radius: 50%;\n",
              "      cursor: pointer;\n",
              "      display: none;\n",
              "      fill: #1967D2;\n",
              "      height: 32px;\n",
              "      padding: 0 0 0 0;\n",
              "      width: 32px;\n",
              "    }\n",
              "\n",
              "    .colab-df-convert:hover {\n",
              "      background-color: #E2EBFA;\n",
              "      box-shadow: 0px 1px 2px rgba(60, 64, 67, 0.3), 0px 1px 3px 1px rgba(60, 64, 67, 0.15);\n",
              "      fill: #174EA6;\n",
              "    }\n",
              "\n",
              "    [theme=dark] .colab-df-convert {\n",
              "      background-color: #3B4455;\n",
              "      fill: #D2E3FC;\n",
              "    }\n",
              "\n",
              "    [theme=dark] .colab-df-convert:hover {\n",
              "      background-color: #434B5C;\n",
              "      box-shadow: 0px 1px 3px 1px rgba(0, 0, 0, 0.15);\n",
              "      filter: drop-shadow(0px 1px 2px rgba(0, 0, 0, 0.3));\n",
              "      fill: #FFFFFF;\n",
              "    }\n",
              "  </style>\n",
              "\n",
              "      <script>\n",
              "        const buttonEl =\n",
              "          document.querySelector('#df-286b3d64-fcf0-40ed-8050-641166e8e254 button.colab-df-convert');\n",
              "        buttonEl.style.display =\n",
              "          google.colab.kernel.accessAllowed ? 'block' : 'none';\n",
              "\n",
              "        async function convertToInteractive(key) {\n",
              "          const element = document.querySelector('#df-286b3d64-fcf0-40ed-8050-641166e8e254');\n",
              "          const dataTable =\n",
              "            await google.colab.kernel.invokeFunction('convertToInteractive',\n",
              "                                                     [key], {});\n",
              "          if (!dataTable) return;\n",
              "\n",
              "          const docLinkHtml = 'Like what you see? Visit the ' +\n",
              "            '<a target=\"_blank\" href=https://colab.research.google.com/notebooks/data_table.ipynb>data table notebook</a>'\n",
              "            + ' to learn more about interactive tables.';\n",
              "          element.innerHTML = '';\n",
              "          dataTable['output_type'] = 'display_data';\n",
              "          await google.colab.output.renderOutput(dataTable, element);\n",
              "          const docLink = document.createElement('div');\n",
              "          docLink.innerHTML = docLinkHtml;\n",
              "          element.appendChild(docLink);\n",
              "        }\n",
              "      </script>\n",
              "    </div>\n",
              "  </div>\n",
              "  "
            ]
          },
          "metadata": {},
          "execution_count": 436
        }
      ],
      "source": [
        "##Second Segmentation\n",
        "segm_raw.loc[(segm_raw['basket_size'] < 300000), 'segment_monetary'] = 'Low Spender'\n",
        "segm_raw.loc[(segm_raw['basket_size']>=300000) & (segm_raw['basket_size']<=1000000), 'segment_monetary'] = 'Normal'\n",
        "segm_raw.loc[(segm_raw['basket_size']>1000000) & (segm_raw['basket_size']<=3000000), 'segment_monetary'] = 'Silver'\n",
        "segm_raw.loc[(segm_raw['basket_size']>3000000) & (segm_raw['basket_size']<=10000000), 'segment_monetary'] = 'Gold'\n",
        "segm_raw.loc[(segm_raw['basket_size']> 10000000), 'segment_monetary'] = 'Platinum'\n",
        "segm_raw.sort_values(by=\"last_trans\", ascending=False)"
      ]
    },
    {
      "cell_type": "code",
      "execution_count": null,
      "metadata": {
        "id": "yi6rUGPNZ5wl",
        "colab": {
          "base_uri": "https://localhost:8080/",
          "height": 270
        },
        "outputId": "0e97fb5f-76a3-4d31-d810-8ea51dfaf42a"
      },
      "outputs": [
        {
          "output_type": "execute_result",
          "data": {
            "text/plain": [
              "   customer_id  total_order  total_sales  basket_size  last_trans  \\\n",
              "0            3         49.0   20891374.0     426354.0  2022-06-26   \n",
              "1            8          7.0    3898561.0     556937.0  2022-05-15   \n",
              "2            9          6.0    2638665.0     439777.0  2022-05-28   \n",
              "3           11          1.0     197533.0     197533.0  2022-03-07   \n",
              "4           15          5.0    2134870.0     426974.0  2022-01-05   \n",
              "\n",
              "   last_purchase segment_churn segment_monetary segment_first  \n",
              "0             36     Non Churn           Normal        Active  \n",
              "1             78     Non Churn           Normal        Active  \n",
              "2             65     Non Churn           Normal        Active  \n",
              "3            147         Churn      Low Spender   First Timer  \n",
              "4            208         Churn           Normal     Defecting  "
            ],
            "text/html": [
              "\n",
              "  <div id=\"df-afcecde7-c84a-4f14-9777-b7da659e03a6\">\n",
              "    <div class=\"colab-df-container\">\n",
              "      <div>\n",
              "<style scoped>\n",
              "    .dataframe tbody tr th:only-of-type {\n",
              "        vertical-align: middle;\n",
              "    }\n",
              "\n",
              "    .dataframe tbody tr th {\n",
              "        vertical-align: top;\n",
              "    }\n",
              "\n",
              "    .dataframe thead th {\n",
              "        text-align: right;\n",
              "    }\n",
              "</style>\n",
              "<table border=\"1\" class=\"dataframe\">\n",
              "  <thead>\n",
              "    <tr style=\"text-align: right;\">\n",
              "      <th></th>\n",
              "      <th>customer_id</th>\n",
              "      <th>total_order</th>\n",
              "      <th>total_sales</th>\n",
              "      <th>basket_size</th>\n",
              "      <th>last_trans</th>\n",
              "      <th>last_purchase</th>\n",
              "      <th>segment_churn</th>\n",
              "      <th>segment_monetary</th>\n",
              "      <th>segment_first</th>\n",
              "    </tr>\n",
              "  </thead>\n",
              "  <tbody>\n",
              "    <tr>\n",
              "      <th>0</th>\n",
              "      <td>3</td>\n",
              "      <td>49.0</td>\n",
              "      <td>20891374.0</td>\n",
              "      <td>426354.0</td>\n",
              "      <td>2022-06-26</td>\n",
              "      <td>36</td>\n",
              "      <td>Non Churn</td>\n",
              "      <td>Normal</td>\n",
              "      <td>Active</td>\n",
              "    </tr>\n",
              "    <tr>\n",
              "      <th>1</th>\n",
              "      <td>8</td>\n",
              "      <td>7.0</td>\n",
              "      <td>3898561.0</td>\n",
              "      <td>556937.0</td>\n",
              "      <td>2022-05-15</td>\n",
              "      <td>78</td>\n",
              "      <td>Non Churn</td>\n",
              "      <td>Normal</td>\n",
              "      <td>Active</td>\n",
              "    </tr>\n",
              "    <tr>\n",
              "      <th>2</th>\n",
              "      <td>9</td>\n",
              "      <td>6.0</td>\n",
              "      <td>2638665.0</td>\n",
              "      <td>439777.0</td>\n",
              "      <td>2022-05-28</td>\n",
              "      <td>65</td>\n",
              "      <td>Non Churn</td>\n",
              "      <td>Normal</td>\n",
              "      <td>Active</td>\n",
              "    </tr>\n",
              "    <tr>\n",
              "      <th>3</th>\n",
              "      <td>11</td>\n",
              "      <td>1.0</td>\n",
              "      <td>197533.0</td>\n",
              "      <td>197533.0</td>\n",
              "      <td>2022-03-07</td>\n",
              "      <td>147</td>\n",
              "      <td>Churn</td>\n",
              "      <td>Low Spender</td>\n",
              "      <td>First Timer</td>\n",
              "    </tr>\n",
              "    <tr>\n",
              "      <th>4</th>\n",
              "      <td>15</td>\n",
              "      <td>5.0</td>\n",
              "      <td>2134870.0</td>\n",
              "      <td>426974.0</td>\n",
              "      <td>2022-01-05</td>\n",
              "      <td>208</td>\n",
              "      <td>Churn</td>\n",
              "      <td>Normal</td>\n",
              "      <td>Defecting</td>\n",
              "    </tr>\n",
              "  </tbody>\n",
              "</table>\n",
              "</div>\n",
              "      <button class=\"colab-df-convert\" onclick=\"convertToInteractive('df-afcecde7-c84a-4f14-9777-b7da659e03a6')\"\n",
              "              title=\"Convert this dataframe to an interactive table.\"\n",
              "              style=\"display:none;\">\n",
              "        \n",
              "  <svg xmlns=\"http://www.w3.org/2000/svg\" height=\"24px\"viewBox=\"0 0 24 24\"\n",
              "       width=\"24px\">\n",
              "    <path d=\"M0 0h24v24H0V0z\" fill=\"none\"/>\n",
              "    <path d=\"M18.56 5.44l.94 2.06.94-2.06 2.06-.94-2.06-.94-.94-2.06-.94 2.06-2.06.94zm-11 1L8.5 8.5l.94-2.06 2.06-.94-2.06-.94L8.5 2.5l-.94 2.06-2.06.94zm10 10l.94 2.06.94-2.06 2.06-.94-2.06-.94-.94-2.06-.94 2.06-2.06.94z\"/><path d=\"M17.41 7.96l-1.37-1.37c-.4-.4-.92-.59-1.43-.59-.52 0-1.04.2-1.43.59L10.3 9.45l-7.72 7.72c-.78.78-.78 2.05 0 2.83L4 21.41c.39.39.9.59 1.41.59.51 0 1.02-.2 1.41-.59l7.78-7.78 2.81-2.81c.8-.78.8-2.07 0-2.86zM5.41 20L4 18.59l7.72-7.72 1.47 1.35L5.41 20z\"/>\n",
              "  </svg>\n",
              "      </button>\n",
              "      \n",
              "  <style>\n",
              "    .colab-df-container {\n",
              "      display:flex;\n",
              "      flex-wrap:wrap;\n",
              "      gap: 12px;\n",
              "    }\n",
              "\n",
              "    .colab-df-convert {\n",
              "      background-color: #E8F0FE;\n",
              "      border: none;\n",
              "      border-radius: 50%;\n",
              "      cursor: pointer;\n",
              "      display: none;\n",
              "      fill: #1967D2;\n",
              "      height: 32px;\n",
              "      padding: 0 0 0 0;\n",
              "      width: 32px;\n",
              "    }\n",
              "\n",
              "    .colab-df-convert:hover {\n",
              "      background-color: #E2EBFA;\n",
              "      box-shadow: 0px 1px 2px rgba(60, 64, 67, 0.3), 0px 1px 3px 1px rgba(60, 64, 67, 0.15);\n",
              "      fill: #174EA6;\n",
              "    }\n",
              "\n",
              "    [theme=dark] .colab-df-convert {\n",
              "      background-color: #3B4455;\n",
              "      fill: #D2E3FC;\n",
              "    }\n",
              "\n",
              "    [theme=dark] .colab-df-convert:hover {\n",
              "      background-color: #434B5C;\n",
              "      box-shadow: 0px 1px 3px 1px rgba(0, 0, 0, 0.15);\n",
              "      filter: drop-shadow(0px 1px 2px rgba(0, 0, 0, 0.3));\n",
              "      fill: #FFFFFF;\n",
              "    }\n",
              "  </style>\n",
              "\n",
              "      <script>\n",
              "        const buttonEl =\n",
              "          document.querySelector('#df-afcecde7-c84a-4f14-9777-b7da659e03a6 button.colab-df-convert');\n",
              "        buttonEl.style.display =\n",
              "          google.colab.kernel.accessAllowed ? 'block' : 'none';\n",
              "\n",
              "        async function convertToInteractive(key) {\n",
              "          const element = document.querySelector('#df-afcecde7-c84a-4f14-9777-b7da659e03a6');\n",
              "          const dataTable =\n",
              "            await google.colab.kernel.invokeFunction('convertToInteractive',\n",
              "                                                     [key], {});\n",
              "          if (!dataTable) return;\n",
              "\n",
              "          const docLinkHtml = 'Like what you see? Visit the ' +\n",
              "            '<a target=\"_blank\" href=https://colab.research.google.com/notebooks/data_table.ipynb>data table notebook</a>'\n",
              "            + ' to learn more about interactive tables.';\n",
              "          element.innerHTML = '';\n",
              "          dataTable['output_type'] = 'display_data';\n",
              "          await google.colab.output.renderOutput(dataTable, element);\n",
              "          const docLink = document.createElement('div');\n",
              "          docLink.innerHTML = docLinkHtml;\n",
              "          element.appendChild(docLink);\n",
              "        }\n",
              "      </script>\n",
              "    </div>\n",
              "  </div>\n",
              "  "
            ]
          },
          "metadata": {},
          "execution_count": 437
        }
      ],
      "source": [
        "segm_raw.loc[(segm_raw['total_order']>=1)&(segm_raw['last_purchase']>366), 'segment_first'] = 'Inactive'\n",
        "segm_raw.loc[(segm_raw['total_order']>1)&(segm_raw['last_purchase']>=183)&(segm_raw['last_purchase']<=366),'segment_first'] = 'Defecting'\n",
        "segm_raw.loc[(segm_raw['total_order']>1)&(segm_raw['last_purchase']<183), 'segment_first'] = 'Active'\n",
        "segm_raw.loc[(segm_raw['total_order']==1)&(segm_raw['last_purchase']<183), 'segment_first'] = 'First Timer'\n",
        "segm_raw.head()"
      ]
    },
    {
      "cell_type": "markdown",
      "metadata": {
        "id": "Rq8CqFE1U34p"
      },
      "source": [
        "## Characteristics Feature"
      ]
    },
    {
      "cell_type": "code",
      "execution_count": null,
      "metadata": {
        "id": "dUj7HWTse3jK",
        "colab": {
          "base_uri": "https://localhost:8080/",
          "height": 162
        },
        "outputId": "9f256f19-9782-426a-ca07-66cdd2726194"
      },
      "outputs": [
        {
          "output_type": "execute_result",
          "data": {
            "text/plain": [
              "      customer_id gender masterCategory subCategory articleType baseColour  \\\n",
              "9045        48808    Men    Accessories   Jewellery     Pendant      Steel   \n",
              "\n",
              "      season  year   usage      productDisplayName  \n",
              "9045  Summer  1970  Casual  Revv Men Steel Pendant  "
            ],
            "text/html": [
              "\n",
              "  <div id=\"df-9e5f55ab-73ac-4699-9f25-2396b6a248ea\">\n",
              "    <div class=\"colab-df-container\">\n",
              "      <div>\n",
              "<style scoped>\n",
              "    .dataframe tbody tr th:only-of-type {\n",
              "        vertical-align: middle;\n",
              "    }\n",
              "\n",
              "    .dataframe tbody tr th {\n",
              "        vertical-align: top;\n",
              "    }\n",
              "\n",
              "    .dataframe thead th {\n",
              "        text-align: right;\n",
              "    }\n",
              "</style>\n",
              "<table border=\"1\" class=\"dataframe\">\n",
              "  <thead>\n",
              "    <tr style=\"text-align: right;\">\n",
              "      <th></th>\n",
              "      <th>customer_id</th>\n",
              "      <th>gender</th>\n",
              "      <th>masterCategory</th>\n",
              "      <th>subCategory</th>\n",
              "      <th>articleType</th>\n",
              "      <th>baseColour</th>\n",
              "      <th>season</th>\n",
              "      <th>year</th>\n",
              "      <th>usage</th>\n",
              "      <th>productDisplayName</th>\n",
              "    </tr>\n",
              "  </thead>\n",
              "  <tbody>\n",
              "    <tr>\n",
              "      <th>9045</th>\n",
              "      <td>48808</td>\n",
              "      <td>Men</td>\n",
              "      <td>Accessories</td>\n",
              "      <td>Jewellery</td>\n",
              "      <td>Pendant</td>\n",
              "      <td>Steel</td>\n",
              "      <td>Summer</td>\n",
              "      <td>1970</td>\n",
              "      <td>Casual</td>\n",
              "      <td>Revv Men Steel Pendant</td>\n",
              "    </tr>\n",
              "  </tbody>\n",
              "</table>\n",
              "</div>\n",
              "      <button class=\"colab-df-convert\" onclick=\"convertToInteractive('df-9e5f55ab-73ac-4699-9f25-2396b6a248ea')\"\n",
              "              title=\"Convert this dataframe to an interactive table.\"\n",
              "              style=\"display:none;\">\n",
              "        \n",
              "  <svg xmlns=\"http://www.w3.org/2000/svg\" height=\"24px\"viewBox=\"0 0 24 24\"\n",
              "       width=\"24px\">\n",
              "    <path d=\"M0 0h24v24H0V0z\" fill=\"none\"/>\n",
              "    <path d=\"M18.56 5.44l.94 2.06.94-2.06 2.06-.94-2.06-.94-.94-2.06-.94 2.06-2.06.94zm-11 1L8.5 8.5l.94-2.06 2.06-.94-2.06-.94L8.5 2.5l-.94 2.06-2.06.94zm10 10l.94 2.06.94-2.06 2.06-.94-2.06-.94-.94-2.06-.94 2.06-2.06.94z\"/><path d=\"M17.41 7.96l-1.37-1.37c-.4-.4-.92-.59-1.43-.59-.52 0-1.04.2-1.43.59L10.3 9.45l-7.72 7.72c-.78.78-.78 2.05 0 2.83L4 21.41c.39.39.9.59 1.41.59.51 0 1.02-.2 1.41-.59l7.78-7.78 2.81-2.81c.8-.78.8-2.07 0-2.86zM5.41 20L4 18.59l7.72-7.72 1.47 1.35L5.41 20z\"/>\n",
              "  </svg>\n",
              "      </button>\n",
              "      \n",
              "  <style>\n",
              "    .colab-df-container {\n",
              "      display:flex;\n",
              "      flex-wrap:wrap;\n",
              "      gap: 12px;\n",
              "    }\n",
              "\n",
              "    .colab-df-convert {\n",
              "      background-color: #E8F0FE;\n",
              "      border: none;\n",
              "      border-radius: 50%;\n",
              "      cursor: pointer;\n",
              "      display: none;\n",
              "      fill: #1967D2;\n",
              "      height: 32px;\n",
              "      padding: 0 0 0 0;\n",
              "      width: 32px;\n",
              "    }\n",
              "\n",
              "    .colab-df-convert:hover {\n",
              "      background-color: #E2EBFA;\n",
              "      box-shadow: 0px 1px 2px rgba(60, 64, 67, 0.3), 0px 1px 3px 1px rgba(60, 64, 67, 0.15);\n",
              "      fill: #174EA6;\n",
              "    }\n",
              "\n",
              "    [theme=dark] .colab-df-convert {\n",
              "      background-color: #3B4455;\n",
              "      fill: #D2E3FC;\n",
              "    }\n",
              "\n",
              "    [theme=dark] .colab-df-convert:hover {\n",
              "      background-color: #434B5C;\n",
              "      box-shadow: 0px 1px 3px 1px rgba(0, 0, 0, 0.15);\n",
              "      filter: drop-shadow(0px 1px 2px rgba(0, 0, 0, 0.3));\n",
              "      fill: #FFFFFF;\n",
              "    }\n",
              "  </style>\n",
              "\n",
              "      <script>\n",
              "        const buttonEl =\n",
              "          document.querySelector('#df-9e5f55ab-73ac-4699-9f25-2396b6a248ea button.colab-df-convert');\n",
              "        buttonEl.style.display =\n",
              "          google.colab.kernel.accessAllowed ? 'block' : 'none';\n",
              "\n",
              "        async function convertToInteractive(key) {\n",
              "          const element = document.querySelector('#df-9e5f55ab-73ac-4699-9f25-2396b6a248ea');\n",
              "          const dataTable =\n",
              "            await google.colab.kernel.invokeFunction('convertToInteractive',\n",
              "                                                     [key], {});\n",
              "          if (!dataTable) return;\n",
              "\n",
              "          const docLinkHtml = 'Like what you see? Visit the ' +\n",
              "            '<a target=\"_blank\" href=https://colab.research.google.com/notebooks/data_table.ipynb>data table notebook</a>'\n",
              "            + ' to learn more about interactive tables.';\n",
              "          element.innerHTML = '';\n",
              "          dataTable['output_type'] = 'display_data';\n",
              "          await google.colab.output.renderOutput(dataTable, element);\n",
              "          const docLink = document.createElement('div');\n",
              "          docLink.innerHTML = docLinkHtml;\n",
              "          element.appendChild(docLink);\n",
              "        }\n",
              "      </script>\n",
              "    </div>\n",
              "  </div>\n",
              "  "
            ]
          },
          "metadata": {},
          "execution_count": 438
        }
      ],
      "source": [
        "product.rename(columns={'id':'customer_id'},inplace=True)\n",
        "product.sample()"
      ]
    },
    {
      "cell_type": "code",
      "execution_count": null,
      "metadata": {
        "id": "YzFjADWmefoj",
        "colab": {
          "base_uri": "https://localhost:8080/"
        },
        "outputId": "12f16cd1-cd61-4ec6-a965-44cc7c9497d2"
      },
      "outputs": [
        {
          "output_type": "stream",
          "name": "stdout",
          "text": [
            "<class 'pandas.core.frame.DataFrame'>\n",
            "Int64Index: 22702 entries, 0 to 22701\n",
            "Data columns (total 24 columns):\n",
            " #   Column              Non-Null Count  Dtype         \n",
            "---  ------              --------------  -----         \n",
            " 0   customer_id         22702 non-null  int64         \n",
            " 1   total_order         22495 non-null  float64       \n",
            " 2   total_sales         22495 non-null  float64       \n",
            " 3   basket_size         22495 non-null  float64       \n",
            " 4   last_trans          22702 non-null  object        \n",
            " 5   last_purchase       22702 non-null  int64         \n",
            " 6   segment_churn       22702 non-null  object        \n",
            " 7   segment_monetary    22495 non-null  object        \n",
            " 8   segment_first       21808 non-null  object        \n",
            " 9   gender_x            22702 non-null  object        \n",
            " 10  masterCategory      22702 non-null  object        \n",
            " 11  subCategory         22702 non-null  object        \n",
            " 12  articleType         22702 non-null  object        \n",
            " 13  baseColour          22702 non-null  object        \n",
            " 14  season              22702 non-null  object        \n",
            " 15  year                22702 non-null  int64         \n",
            " 16  usage               22702 non-null  object        \n",
            " 17  productDisplayName  22702 non-null  object        \n",
            " 18  gender_y            22702 non-null  object        \n",
            " 19  device_type         22702 non-null  object        \n",
            " 20  device_id           22702 non-null  object        \n",
            " 21  birthdate           22702 non-null  datetime64[ns]\n",
            " 22  home_location       22702 non-null  object        \n",
            " 23  first_join_date     22702 non-null  datetime64[ns]\n",
            "dtypes: datetime64[ns](2), float64(3), int64(3), object(16)\n",
            "memory usage: 4.3+ MB\n"
          ]
        }
      ],
      "source": [
        "data1 = segm_raw.merge(product,on='customer_id',how='inner')\n",
        "data2 = data1.merge(customer,on='customer_id',how='inner')\n",
        "data2.info()"
      ]
    },
    {
      "cell_type": "code",
      "execution_count": null,
      "metadata": {
        "id": "l73kkNAVg0wt",
        "colab": {
          "base_uri": "https://localhost:8080/",
          "height": 323
        },
        "outputId": "7546619a-2b09-49ad-e413-17c686f0cf03"
      },
      "outputs": [
        {
          "output_type": "execute_result",
          "data": {
            "text/plain": [
              "      customer_id  total_order  total_sales  basket_size  last_trans  \\\n",
              "6218        15953          1.0     327012.0     327012.0  2021-10-30   \n",
              "8986        22676         33.0   27289362.0     826950.0  2022-07-18   \n",
              "2365         7026         23.0   12788589.0     556025.0  2022-07-30   \n",
              "\n",
              "      last_purchase segment_churn segment_monetary segment_first gender_x  \\\n",
              "6218            275         Churn           Normal           NaN      Men   \n",
              "8986             14     Non Churn           Normal        Active   Unisex   \n",
              "2365              2     Non Churn           Normal        Active      Men   \n",
              "\n",
              "      ...  season  year   usage  \\\n",
              "6218  ...    Fall  1970  Formal   \n",
              "8986  ...  Winter  1970  Casual   \n",
              "2365  ...  Summer  1970  Casual   \n",
              "\n",
              "                                     productDisplayName gender_y  device_type  \\\n",
              "6218                        Turtle Men Solid Black Ties        M      Android   \n",
              "8986       Wildcraft Unisex Blue & Black Solid Backpack        F      Android   \n",
              "2365  Classic Polo Men's Combo Pack of 2 Purple Seaw...        F      Android   \n",
              "\n",
              "                                 device_id  birthdate   home_location  \\\n",
              "6218  c2baaf6e-4710-48f6-b3c8-243f02a7d664 1988-02-06      Yogyakarta   \n",
              "8986  a2a1ef50-7f59-4ae0-a614-206206c50e07 1993-11-01  Sulawesi Utara   \n",
              "2365  c2aa9d51-6bbe-4727-8c21-987ad5ed2894 1985-05-31      Jawa Barat   \n",
              "\n",
              "     first_join_date  \n",
              "6218      2021-10-30  \n",
              "8986      2020-06-07  \n",
              "2365      2022-06-11  \n",
              "\n",
              "[3 rows x 24 columns]"
            ],
            "text/html": [
              "\n",
              "  <div id=\"df-2cdcd7f6-98e0-4614-83d1-78b1f60a38d9\">\n",
              "    <div class=\"colab-df-container\">\n",
              "      <div>\n",
              "<style scoped>\n",
              "    .dataframe tbody tr th:only-of-type {\n",
              "        vertical-align: middle;\n",
              "    }\n",
              "\n",
              "    .dataframe tbody tr th {\n",
              "        vertical-align: top;\n",
              "    }\n",
              "\n",
              "    .dataframe thead th {\n",
              "        text-align: right;\n",
              "    }\n",
              "</style>\n",
              "<table border=\"1\" class=\"dataframe\">\n",
              "  <thead>\n",
              "    <tr style=\"text-align: right;\">\n",
              "      <th></th>\n",
              "      <th>customer_id</th>\n",
              "      <th>total_order</th>\n",
              "      <th>total_sales</th>\n",
              "      <th>basket_size</th>\n",
              "      <th>last_trans</th>\n",
              "      <th>last_purchase</th>\n",
              "      <th>segment_churn</th>\n",
              "      <th>segment_monetary</th>\n",
              "      <th>segment_first</th>\n",
              "      <th>gender_x</th>\n",
              "      <th>...</th>\n",
              "      <th>season</th>\n",
              "      <th>year</th>\n",
              "      <th>usage</th>\n",
              "      <th>productDisplayName</th>\n",
              "      <th>gender_y</th>\n",
              "      <th>device_type</th>\n",
              "      <th>device_id</th>\n",
              "      <th>birthdate</th>\n",
              "      <th>home_location</th>\n",
              "      <th>first_join_date</th>\n",
              "    </tr>\n",
              "  </thead>\n",
              "  <tbody>\n",
              "    <tr>\n",
              "      <th>6218</th>\n",
              "      <td>15953</td>\n",
              "      <td>1.0</td>\n",
              "      <td>327012.0</td>\n",
              "      <td>327012.0</td>\n",
              "      <td>2021-10-30</td>\n",
              "      <td>275</td>\n",
              "      <td>Churn</td>\n",
              "      <td>Normal</td>\n",
              "      <td>NaN</td>\n",
              "      <td>Men</td>\n",
              "      <td>...</td>\n",
              "      <td>Fall</td>\n",
              "      <td>1970</td>\n",
              "      <td>Formal</td>\n",
              "      <td>Turtle Men Solid Black Ties</td>\n",
              "      <td>M</td>\n",
              "      <td>Android</td>\n",
              "      <td>c2baaf6e-4710-48f6-b3c8-243f02a7d664</td>\n",
              "      <td>1988-02-06</td>\n",
              "      <td>Yogyakarta</td>\n",
              "      <td>2021-10-30</td>\n",
              "    </tr>\n",
              "    <tr>\n",
              "      <th>8986</th>\n",
              "      <td>22676</td>\n",
              "      <td>33.0</td>\n",
              "      <td>27289362.0</td>\n",
              "      <td>826950.0</td>\n",
              "      <td>2022-07-18</td>\n",
              "      <td>14</td>\n",
              "      <td>Non Churn</td>\n",
              "      <td>Normal</td>\n",
              "      <td>Active</td>\n",
              "      <td>Unisex</td>\n",
              "      <td>...</td>\n",
              "      <td>Winter</td>\n",
              "      <td>1970</td>\n",
              "      <td>Casual</td>\n",
              "      <td>Wildcraft Unisex Blue &amp; Black Solid Backpack</td>\n",
              "      <td>F</td>\n",
              "      <td>Android</td>\n",
              "      <td>a2a1ef50-7f59-4ae0-a614-206206c50e07</td>\n",
              "      <td>1993-11-01</td>\n",
              "      <td>Sulawesi Utara</td>\n",
              "      <td>2020-06-07</td>\n",
              "    </tr>\n",
              "    <tr>\n",
              "      <th>2365</th>\n",
              "      <td>7026</td>\n",
              "      <td>23.0</td>\n",
              "      <td>12788589.0</td>\n",
              "      <td>556025.0</td>\n",
              "      <td>2022-07-30</td>\n",
              "      <td>2</td>\n",
              "      <td>Non Churn</td>\n",
              "      <td>Normal</td>\n",
              "      <td>Active</td>\n",
              "      <td>Men</td>\n",
              "      <td>...</td>\n",
              "      <td>Summer</td>\n",
              "      <td>1970</td>\n",
              "      <td>Casual</td>\n",
              "      <td>Classic Polo Men's Combo Pack of 2 Purple Seaw...</td>\n",
              "      <td>F</td>\n",
              "      <td>Android</td>\n",
              "      <td>c2aa9d51-6bbe-4727-8c21-987ad5ed2894</td>\n",
              "      <td>1985-05-31</td>\n",
              "      <td>Jawa Barat</td>\n",
              "      <td>2022-06-11</td>\n",
              "    </tr>\n",
              "  </tbody>\n",
              "</table>\n",
              "<p>3 rows × 24 columns</p>\n",
              "</div>\n",
              "      <button class=\"colab-df-convert\" onclick=\"convertToInteractive('df-2cdcd7f6-98e0-4614-83d1-78b1f60a38d9')\"\n",
              "              title=\"Convert this dataframe to an interactive table.\"\n",
              "              style=\"display:none;\">\n",
              "        \n",
              "  <svg xmlns=\"http://www.w3.org/2000/svg\" height=\"24px\"viewBox=\"0 0 24 24\"\n",
              "       width=\"24px\">\n",
              "    <path d=\"M0 0h24v24H0V0z\" fill=\"none\"/>\n",
              "    <path d=\"M18.56 5.44l.94 2.06.94-2.06 2.06-.94-2.06-.94-.94-2.06-.94 2.06-2.06.94zm-11 1L8.5 8.5l.94-2.06 2.06-.94-2.06-.94L8.5 2.5l-.94 2.06-2.06.94zm10 10l.94 2.06.94-2.06 2.06-.94-2.06-.94-.94-2.06-.94 2.06-2.06.94z\"/><path d=\"M17.41 7.96l-1.37-1.37c-.4-.4-.92-.59-1.43-.59-.52 0-1.04.2-1.43.59L10.3 9.45l-7.72 7.72c-.78.78-.78 2.05 0 2.83L4 21.41c.39.39.9.59 1.41.59.51 0 1.02-.2 1.41-.59l7.78-7.78 2.81-2.81c.8-.78.8-2.07 0-2.86zM5.41 20L4 18.59l7.72-7.72 1.47 1.35L5.41 20z\"/>\n",
              "  </svg>\n",
              "      </button>\n",
              "      \n",
              "  <style>\n",
              "    .colab-df-container {\n",
              "      display:flex;\n",
              "      flex-wrap:wrap;\n",
              "      gap: 12px;\n",
              "    }\n",
              "\n",
              "    .colab-df-convert {\n",
              "      background-color: #E8F0FE;\n",
              "      border: none;\n",
              "      border-radius: 50%;\n",
              "      cursor: pointer;\n",
              "      display: none;\n",
              "      fill: #1967D2;\n",
              "      height: 32px;\n",
              "      padding: 0 0 0 0;\n",
              "      width: 32px;\n",
              "    }\n",
              "\n",
              "    .colab-df-convert:hover {\n",
              "      background-color: #E2EBFA;\n",
              "      box-shadow: 0px 1px 2px rgba(60, 64, 67, 0.3), 0px 1px 3px 1px rgba(60, 64, 67, 0.15);\n",
              "      fill: #174EA6;\n",
              "    }\n",
              "\n",
              "    [theme=dark] .colab-df-convert {\n",
              "      background-color: #3B4455;\n",
              "      fill: #D2E3FC;\n",
              "    }\n",
              "\n",
              "    [theme=dark] .colab-df-convert:hover {\n",
              "      background-color: #434B5C;\n",
              "      box-shadow: 0px 1px 3px 1px rgba(0, 0, 0, 0.15);\n",
              "      filter: drop-shadow(0px 1px 2px rgba(0, 0, 0, 0.3));\n",
              "      fill: #FFFFFF;\n",
              "    }\n",
              "  </style>\n",
              "\n",
              "      <script>\n",
              "        const buttonEl =\n",
              "          document.querySelector('#df-2cdcd7f6-98e0-4614-83d1-78b1f60a38d9 button.colab-df-convert');\n",
              "        buttonEl.style.display =\n",
              "          google.colab.kernel.accessAllowed ? 'block' : 'none';\n",
              "\n",
              "        async function convertToInteractive(key) {\n",
              "          const element = document.querySelector('#df-2cdcd7f6-98e0-4614-83d1-78b1f60a38d9');\n",
              "          const dataTable =\n",
              "            await google.colab.kernel.invokeFunction('convertToInteractive',\n",
              "                                                     [key], {});\n",
              "          if (!dataTable) return;\n",
              "\n",
              "          const docLinkHtml = 'Like what you see? Visit the ' +\n",
              "            '<a target=\"_blank\" href=https://colab.research.google.com/notebooks/data_table.ipynb>data table notebook</a>'\n",
              "            + ' to learn more about interactive tables.';\n",
              "          element.innerHTML = '';\n",
              "          dataTable['output_type'] = 'display_data';\n",
              "          await google.colab.output.renderOutput(dataTable, element);\n",
              "          const docLink = document.createElement('div');\n",
              "          docLink.innerHTML = docLinkHtml;\n",
              "          element.appendChild(docLink);\n",
              "        }\n",
              "      </script>\n",
              "    </div>\n",
              "  </div>\n",
              "  "
            ]
          },
          "metadata": {},
          "execution_count": 440
        }
      ],
      "source": [
        "data2.sample(3)"
      ]
    },
    {
      "cell_type": "code",
      "execution_count": null,
      "metadata": {
        "id": "8vTe4qU8X5gp",
        "colab": {
          "base_uri": "https://localhost:8080/",
          "height": 421
        },
        "outputId": "a19de3b3-d105-4d9a-e788-d68758d254b1"
      },
      "outputs": [
        {
          "output_type": "execute_result",
          "data": {
            "text/plain": [
              "   customer_id  total_order  total_sales  basket_size  last_trans  \\\n",
              "0         1163          4.0    2069613.0     517403.0  2022-05-01   \n",
              "1         1526         13.0    8376596.0     644353.0  2022-03-24   \n",
              "2         1530          9.0    4095309.0     455034.0  2022-01-13   \n",
              "3         1538          1.0     456943.0     456943.0  2020-09-26   \n",
              "4         1540          1.0     191534.0     191534.0  2021-04-03   \n",
              "\n",
              "   last_purchase  segment_churn  segment_monetary  segment_first  gender_x  \\\n",
              "0             92              1                 2              0         2   \n",
              "1            130              0                 2              0         3   \n",
              "2            200              0                 2              1         2   \n",
              "3            674              0                 2              3         2   \n",
              "4            485              0                 1              3         2   \n",
              "\n",
              "   ...  baseColour  season  year  usage  \\\n",
              "0  ...           2       3  1970      7   \n",
              "1  ...           1       0  1970      7   \n",
              "2  ...          34       0  1970      7   \n",
              "3  ...           2       0  1970      0   \n",
              "4  ...           2       0  1970      0   \n",
              "\n",
              "                                 productDisplayName  device_type  \\\n",
              "0  Nike Sahara Team India Fanwear Round Neck Jersey            0   \n",
              "1                       Puma Big Cat Backpack Black            0   \n",
              "2                     Puma Men Ferrari Track Jacket            0   \n",
              "3              Puma Men Ferrari Track Black T-shirt            1   \n",
              "4       Puma Men Ferrari Vintage Black Polo T-shirt            1   \n",
              "\n",
              "                              device_id  birthdate  home_location  \\\n",
              "0  6c1b034b-2d0d-4198-b2e5-c7455d9445b4 1999-04-30    Jawa Tengah   \n",
              "1  45b56ac5-520f-455f-9011-1e4ec3d8dd86 1982-07-15   Jakarta Raya   \n",
              "2  1dbc16d4-66d9-439d-b0b6-8d8cf39bf686 1981-03-25        Lampung   \n",
              "3  c997de76-4001-4de7-b3b2-02a2a72140a8 1989-09-11         Maluku   \n",
              "4  1b5ad8ae-20ac-4415-9e2d-e8bc9baa3b6f 1997-11-16         Maluku   \n",
              "\n",
              "  first_join_date  \n",
              "0      2021-07-25  \n",
              "1      2017-08-06  \n",
              "2      2017-07-16  \n",
              "3      2020-09-26  \n",
              "4      2021-04-03  \n",
              "\n",
              "[5 rows x 23 columns]"
            ],
            "text/html": [
              "\n",
              "  <div id=\"df-6817bff4-751a-4139-b482-cb796aa8ebad\">\n",
              "    <div class=\"colab-df-container\">\n",
              "      <div>\n",
              "<style scoped>\n",
              "    .dataframe tbody tr th:only-of-type {\n",
              "        vertical-align: middle;\n",
              "    }\n",
              "\n",
              "    .dataframe tbody tr th {\n",
              "        vertical-align: top;\n",
              "    }\n",
              "\n",
              "    .dataframe thead th {\n",
              "        text-align: right;\n",
              "    }\n",
              "</style>\n",
              "<table border=\"1\" class=\"dataframe\">\n",
              "  <thead>\n",
              "    <tr style=\"text-align: right;\">\n",
              "      <th></th>\n",
              "      <th>customer_id</th>\n",
              "      <th>total_order</th>\n",
              "      <th>total_sales</th>\n",
              "      <th>basket_size</th>\n",
              "      <th>last_trans</th>\n",
              "      <th>last_purchase</th>\n",
              "      <th>segment_churn</th>\n",
              "      <th>segment_monetary</th>\n",
              "      <th>segment_first</th>\n",
              "      <th>gender_x</th>\n",
              "      <th>...</th>\n",
              "      <th>baseColour</th>\n",
              "      <th>season</th>\n",
              "      <th>year</th>\n",
              "      <th>usage</th>\n",
              "      <th>productDisplayName</th>\n",
              "      <th>device_type</th>\n",
              "      <th>device_id</th>\n",
              "      <th>birthdate</th>\n",
              "      <th>home_location</th>\n",
              "      <th>first_join_date</th>\n",
              "    </tr>\n",
              "  </thead>\n",
              "  <tbody>\n",
              "    <tr>\n",
              "      <th>0</th>\n",
              "      <td>1163</td>\n",
              "      <td>4.0</td>\n",
              "      <td>2069613.0</td>\n",
              "      <td>517403.0</td>\n",
              "      <td>2022-05-01</td>\n",
              "      <td>92</td>\n",
              "      <td>1</td>\n",
              "      <td>2</td>\n",
              "      <td>0</td>\n",
              "      <td>2</td>\n",
              "      <td>...</td>\n",
              "      <td>2</td>\n",
              "      <td>3</td>\n",
              "      <td>1970</td>\n",
              "      <td>7</td>\n",
              "      <td>Nike Sahara Team India Fanwear Round Neck Jersey</td>\n",
              "      <td>0</td>\n",
              "      <td>6c1b034b-2d0d-4198-b2e5-c7455d9445b4</td>\n",
              "      <td>1999-04-30</td>\n",
              "      <td>Jawa Tengah</td>\n",
              "      <td>2021-07-25</td>\n",
              "    </tr>\n",
              "    <tr>\n",
              "      <th>1</th>\n",
              "      <td>1526</td>\n",
              "      <td>13.0</td>\n",
              "      <td>8376596.0</td>\n",
              "      <td>644353.0</td>\n",
              "      <td>2022-03-24</td>\n",
              "      <td>130</td>\n",
              "      <td>0</td>\n",
              "      <td>2</td>\n",
              "      <td>0</td>\n",
              "      <td>3</td>\n",
              "      <td>...</td>\n",
              "      <td>1</td>\n",
              "      <td>0</td>\n",
              "      <td>1970</td>\n",
              "      <td>7</td>\n",
              "      <td>Puma Big Cat Backpack Black</td>\n",
              "      <td>0</td>\n",
              "      <td>45b56ac5-520f-455f-9011-1e4ec3d8dd86</td>\n",
              "      <td>1982-07-15</td>\n",
              "      <td>Jakarta Raya</td>\n",
              "      <td>2017-08-06</td>\n",
              "    </tr>\n",
              "    <tr>\n",
              "      <th>2</th>\n",
              "      <td>1530</td>\n",
              "      <td>9.0</td>\n",
              "      <td>4095309.0</td>\n",
              "      <td>455034.0</td>\n",
              "      <td>2022-01-13</td>\n",
              "      <td>200</td>\n",
              "      <td>0</td>\n",
              "      <td>2</td>\n",
              "      <td>1</td>\n",
              "      <td>2</td>\n",
              "      <td>...</td>\n",
              "      <td>34</td>\n",
              "      <td>0</td>\n",
              "      <td>1970</td>\n",
              "      <td>7</td>\n",
              "      <td>Puma Men Ferrari Track Jacket</td>\n",
              "      <td>0</td>\n",
              "      <td>1dbc16d4-66d9-439d-b0b6-8d8cf39bf686</td>\n",
              "      <td>1981-03-25</td>\n",
              "      <td>Lampung</td>\n",
              "      <td>2017-07-16</td>\n",
              "    </tr>\n",
              "    <tr>\n",
              "      <th>3</th>\n",
              "      <td>1538</td>\n",
              "      <td>1.0</td>\n",
              "      <td>456943.0</td>\n",
              "      <td>456943.0</td>\n",
              "      <td>2020-09-26</td>\n",
              "      <td>674</td>\n",
              "      <td>0</td>\n",
              "      <td>2</td>\n",
              "      <td>3</td>\n",
              "      <td>2</td>\n",
              "      <td>...</td>\n",
              "      <td>2</td>\n",
              "      <td>0</td>\n",
              "      <td>1970</td>\n",
              "      <td>0</td>\n",
              "      <td>Puma Men Ferrari Track Black T-shirt</td>\n",
              "      <td>1</td>\n",
              "      <td>c997de76-4001-4de7-b3b2-02a2a72140a8</td>\n",
              "      <td>1989-09-11</td>\n",
              "      <td>Maluku</td>\n",
              "      <td>2020-09-26</td>\n",
              "    </tr>\n",
              "    <tr>\n",
              "      <th>4</th>\n",
              "      <td>1540</td>\n",
              "      <td>1.0</td>\n",
              "      <td>191534.0</td>\n",
              "      <td>191534.0</td>\n",
              "      <td>2021-04-03</td>\n",
              "      <td>485</td>\n",
              "      <td>0</td>\n",
              "      <td>1</td>\n",
              "      <td>3</td>\n",
              "      <td>2</td>\n",
              "      <td>...</td>\n",
              "      <td>2</td>\n",
              "      <td>0</td>\n",
              "      <td>1970</td>\n",
              "      <td>0</td>\n",
              "      <td>Puma Men Ferrari Vintage Black Polo T-shirt</td>\n",
              "      <td>1</td>\n",
              "      <td>1b5ad8ae-20ac-4415-9e2d-e8bc9baa3b6f</td>\n",
              "      <td>1997-11-16</td>\n",
              "      <td>Maluku</td>\n",
              "      <td>2021-04-03</td>\n",
              "    </tr>\n",
              "  </tbody>\n",
              "</table>\n",
              "<p>5 rows × 23 columns</p>\n",
              "</div>\n",
              "      <button class=\"colab-df-convert\" onclick=\"convertToInteractive('df-6817bff4-751a-4139-b482-cb796aa8ebad')\"\n",
              "              title=\"Convert this dataframe to an interactive table.\"\n",
              "              style=\"display:none;\">\n",
              "        \n",
              "  <svg xmlns=\"http://www.w3.org/2000/svg\" height=\"24px\"viewBox=\"0 0 24 24\"\n",
              "       width=\"24px\">\n",
              "    <path d=\"M0 0h24v24H0V0z\" fill=\"none\"/>\n",
              "    <path d=\"M18.56 5.44l.94 2.06.94-2.06 2.06-.94-2.06-.94-.94-2.06-.94 2.06-2.06.94zm-11 1L8.5 8.5l.94-2.06 2.06-.94-2.06-.94L8.5 2.5l-.94 2.06-2.06.94zm10 10l.94 2.06.94-2.06 2.06-.94-2.06-.94-.94-2.06-.94 2.06-2.06.94z\"/><path d=\"M17.41 7.96l-1.37-1.37c-.4-.4-.92-.59-1.43-.59-.52 0-1.04.2-1.43.59L10.3 9.45l-7.72 7.72c-.78.78-.78 2.05 0 2.83L4 21.41c.39.39.9.59 1.41.59.51 0 1.02-.2 1.41-.59l7.78-7.78 2.81-2.81c.8-.78.8-2.07 0-2.86zM5.41 20L4 18.59l7.72-7.72 1.47 1.35L5.41 20z\"/>\n",
              "  </svg>\n",
              "      </button>\n",
              "      \n",
              "  <style>\n",
              "    .colab-df-container {\n",
              "      display:flex;\n",
              "      flex-wrap:wrap;\n",
              "      gap: 12px;\n",
              "    }\n",
              "\n",
              "    .colab-df-convert {\n",
              "      background-color: #E8F0FE;\n",
              "      border: none;\n",
              "      border-radius: 50%;\n",
              "      cursor: pointer;\n",
              "      display: none;\n",
              "      fill: #1967D2;\n",
              "      height: 32px;\n",
              "      padding: 0 0 0 0;\n",
              "      width: 32px;\n",
              "    }\n",
              "\n",
              "    .colab-df-convert:hover {\n",
              "      background-color: #E2EBFA;\n",
              "      box-shadow: 0px 1px 2px rgba(60, 64, 67, 0.3), 0px 1px 3px 1px rgba(60, 64, 67, 0.15);\n",
              "      fill: #174EA6;\n",
              "    }\n",
              "\n",
              "    [theme=dark] .colab-df-convert {\n",
              "      background-color: #3B4455;\n",
              "      fill: #D2E3FC;\n",
              "    }\n",
              "\n",
              "    [theme=dark] .colab-df-convert:hover {\n",
              "      background-color: #434B5C;\n",
              "      box-shadow: 0px 1px 3px 1px rgba(0, 0, 0, 0.15);\n",
              "      filter: drop-shadow(0px 1px 2px rgba(0, 0, 0, 0.3));\n",
              "      fill: #FFFFFF;\n",
              "    }\n",
              "  </style>\n",
              "\n",
              "      <script>\n",
              "        const buttonEl =\n",
              "          document.querySelector('#df-6817bff4-751a-4139-b482-cb796aa8ebad button.colab-df-convert');\n",
              "        buttonEl.style.display =\n",
              "          google.colab.kernel.accessAllowed ? 'block' : 'none';\n",
              "\n",
              "        async function convertToInteractive(key) {\n",
              "          const element = document.querySelector('#df-6817bff4-751a-4139-b482-cb796aa8ebad');\n",
              "          const dataTable =\n",
              "            await google.colab.kernel.invokeFunction('convertToInteractive',\n",
              "                                                     [key], {});\n",
              "          if (!dataTable) return;\n",
              "\n",
              "          const docLinkHtml = 'Like what you see? Visit the ' +\n",
              "            '<a target=\"_blank\" href=https://colab.research.google.com/notebooks/data_table.ipynb>data table notebook</a>'\n",
              "            + ' to learn more about interactive tables.';\n",
              "          element.innerHTML = '';\n",
              "          dataTable['output_type'] = 'display_data';\n",
              "          await google.colab.output.renderOutput(dataTable, element);\n",
              "          const docLink = document.createElement('div');\n",
              "          docLink.innerHTML = docLinkHtml;\n",
              "          element.appendChild(docLink);\n",
              "        }\n",
              "      </script>\n",
              "    </div>\n",
              "  </div>\n",
              "  "
            ]
          },
          "metadata": {},
          "execution_count": 441
        }
      ],
      "source": [
        "from sklearn.preprocessing import LabelEncoder\n",
        "labelencoder = LabelEncoder()\n",
        "data3 = data2.drop('gender_y',axis=1)\n",
        "kolom = data3[['segment_churn','segment_first','segment_monetary','gender_x','season','masterCategory','subCategory','baseColour','usage','device_type','articleType']]\n",
        "for kol in kolom :\n",
        "  data3[kol] = labelencoder.fit_transform(data3[kol])\n",
        "data3.head()"
      ]
    },
    {
      "cell_type": "code",
      "execution_count": null,
      "metadata": {
        "id": "E_6_xtJbVqLF",
        "colab": {
          "base_uri": "https://localhost:8080/",
          "height": 609
        },
        "outputId": "5f704ec4-495d-420c-ed2d-6427a604c130"
      },
      "outputs": [
        {
          "output_type": "execute_result",
          "data": {
            "text/plain": [
              "Text(0.5, 1.0, 'Correlation Matrix')"
            ]
          },
          "metadata": {},
          "execution_count": 442
        },
        {
          "output_type": "display_data",
          "data": {
            "text/plain": [
              "<Figure size 720x576 with 2 Axes>"
            ],
            "image/png": "[encoded data removed]"
          },
          "metadata": {
            "needs_background": "light"
          }
        }
      ],
      "source": [
        "import seaborn as sns\n",
        "import matplotlib.pyplot as plt\n",
        "plt.figure(figsize=(10, 8))\n",
        "correlation_matrix = data3.corr().round(2)\n",
        "sns.heatmap(data=correlation_matrix, annot=True, cmap='coolwarm', linewidths=0.5, )\n",
        "plt.title(\"Correlation Matrix\", size=20)"
      ]
    },
    {
      "cell_type": "markdown",
      "metadata": {
        "id": "QmFwYC7AXUBG"
      },
      "source": [
        "## Feature Engineering"
      ]
    },
    {
      "cell_type": "markdown",
      "metadata": {
        "id": "gYhZXIQqfgXx"
      },
      "source": [
        "## Process Encoding"
      ]
    },
    {
      "cell_type": "code",
      "execution_count": null,
      "metadata": {
        "id": "yK2y6xV5fi33"
      },
      "outputs": [],
      "source": [
        "le = LabelEncoder()\n",
        "\n",
        "binary_cols = [col for col in data3.columns if data3[col].dtype not in [int, float]\n",
        "               and data3[col].nunique() == 2]"
      ]
    },
    {
      "cell_type": "code",
      "execution_count": null,
      "metadata": {
        "id": "rx7Cd-pvfpLK"
      },
      "outputs": [],
      "source": [
        "def label_encoder(dataframe, binary_col):\n",
        "    labelencoder = LabelEncoder()\n",
        "    dataframe[binary_col] = labelencoder.fit_transform(dataframe[binary_col])\n",
        "    return dataframe\n",
        "\n",
        "\n",
        "for col in binary_cols:\n",
        "    data3 = label_encoder(data3, col)"
      ]
    },
    {
      "cell_type": "code",
      "execution_count": null,
      "metadata": {
        "id": "QkGRHUx-fvxg",
        "colab": {
          "base_uri": "https://localhost:8080/"
        },
        "outputId": "5982a62f-0638-44bc-c8ca-53ccc1125863"
      },
      "outputs": [
        {
          "output_type": "stream",
          "name": "stdout",
          "text": [
            "<class 'pandas.core.frame.DataFrame'>\n",
            "Int64Index: 22702 entries, 0 to 22701\n",
            "Data columns (total 23 columns):\n",
            " #   Column              Non-Null Count  Dtype         \n",
            "---  ------              --------------  -----         \n",
            " 0   customer_id         22702 non-null  int64         \n",
            " 1   total_order         22495 non-null  float64       \n",
            " 2   total_sales         22495 non-null  float64       \n",
            " 3   basket_size         22495 non-null  float64       \n",
            " 4   last_trans          22702 non-null  object        \n",
            " 5   last_purchase       22702 non-null  int64         \n",
            " 6   segment_churn       22702 non-null  int64         \n",
            " 7   segment_monetary    22702 non-null  int64         \n",
            " 8   segment_first       22702 non-null  int64         \n",
            " 9   gender_x            22702 non-null  int64         \n",
            " 10  masterCategory      22702 non-null  int64         \n",
            " 11  subCategory         22702 non-null  int64         \n",
            " 12  articleType         22702 non-null  int64         \n",
            " 13  baseColour          22702 non-null  int64         \n",
            " 14  season              22702 non-null  int64         \n",
            " 15  year                22702 non-null  int64         \n",
            " 16  usage               22702 non-null  int64         \n",
            " 17  productDisplayName  22702 non-null  object        \n",
            " 18  device_type         22702 non-null  int64         \n",
            " 19  device_id           22702 non-null  object        \n",
            " 20  birthdate           22702 non-null  datetime64[ns]\n",
            " 21  home_location       22702 non-null  object        \n",
            " 22  first_join_date     22702 non-null  datetime64[ns]\n",
            "dtypes: datetime64[ns](2), float64(3), int64(14), object(4)\n",
            "memory usage: 4.2+ MB\n"
          ]
        }
      ],
      "source": [
        "data3.info()"
      ]
    },
    {
      "cell_type": "code",
      "execution_count": null,
      "metadata": {
        "id": "PFqdJpmBXtTD",
        "colab": {
          "base_uri": "https://localhost:8080/"
        },
        "outputId": "b8801117-5bfc-42ea-bd07-b4c7b561b914"
      },
      "outputs": [
        {
          "output_type": "stream",
          "name": "stdout",
          "text": [
            "             n_miss  ratio\n",
            "total_order     207   0.91\n",
            "total_sales     207   0.91\n",
            "basket_size     207   0.91\n"
          ]
        }
      ],
      "source": [
        "#Process misssing value\n",
        "def missing_values_table(dataframe, na_name=False):\n",
        "    na_columns = [col for col in dataframe.columns if dataframe[col].isnull().sum() > 0]\n",
        "\n",
        "    n_miss = dataframe[na_columns].isnull().sum().sort_values(ascending=False)\n",
        "    ratio = (dataframe[na_columns].isnull().sum() / dataframe.shape[0] * 100).sort_values(ascending=False)\n",
        "    missing_df = pd.concat([n_miss, np.round(ratio, 2)], axis=1, keys=['n_miss', 'ratio'])\n",
        "    print(missing_df, end=\"\\n\")\n",
        "\n",
        "    if na_name:\n",
        "        return na_columns\n",
        "\n",
        "missing_values_table(data3)"
      ]
    },
    {
      "cell_type": "code",
      "execution_count": null,
      "metadata": {
        "id": "T07RbX7Adjnp",
        "colab": {
          "base_uri": "https://localhost:8080/"
        },
        "outputId": "27db3e4d-a65e-43c9-e5c7-1959fb8aa6c1"
      },
      "outputs": [
        {
          "output_type": "execute_result",
          "data": {
            "text/plain": [
              "customer_id           0\n",
              "total_order           0\n",
              "total_sales           0\n",
              "basket_size           0\n",
              "last_trans            0\n",
              "last_purchase         0\n",
              "segment_churn         0\n",
              "segment_monetary      0\n",
              "segment_first         0\n",
              "gender_x              0\n",
              "masterCategory        0\n",
              "subCategory           0\n",
              "articleType           0\n",
              "baseColour            0\n",
              "season                0\n",
              "year                  0\n",
              "usage                 0\n",
              "productDisplayName    0\n",
              "device_type           0\n",
              "device_id             0\n",
              "birthdate             0\n",
              "home_location         0\n",
              "first_join_date       0\n",
              "dtype: int64"
            ]
          },
          "metadata": {},
          "execution_count": 447
        }
      ],
      "source": [
        "data3['total_order'].fillna(0,inplace=True)\n",
        "data3['total_sales'].fillna(0,inplace=True)\n",
        "data3['basket_size'].fillna(0,inplace=True)\n",
        "data3.isna().sum()"
      ]
    },
    {
      "cell_type": "markdown",
      "source": [
        "pemisah"
      ],
      "metadata": {
        "id": "OoZ1lG7XtVbQ"
      }
    },
    {
      "cell_type": "markdown",
      "source": [
        "#Baseline Model"
      ],
      "metadata": {
        "id": "94J0Pe361r_t"
      }
    },
    {
      "cell_type": "code",
      "source": [
        "data3.info()"
      ],
      "metadata": {
        "colab": {
          "base_uri": "https://localhost:8080/"
        },
        "id": "eQvIl9CKyNQu",
        "outputId": "e1e55168-7fbc-4824-c3f4-efe37ed9ea35"
      },
      "execution_count": null,
      "outputs": [
        {
          "output_type": "stream",
          "name": "stdout",
          "text": [
            "<class 'pandas.core.frame.DataFrame'>\n",
            "Int64Index: 22702 entries, 0 to 22701\n",
            "Data columns (total 23 columns):\n",
            " #   Column              Non-Null Count  Dtype         \n",
            "---  ------              --------------  -----         \n",
            " 0   customer_id         22702 non-null  int64         \n",
            " 1   total_order         22702 non-null  float64       \n",
            " 2   total_sales         22702 non-null  float64       \n",
            " 3   basket_size         22702 non-null  float64       \n",
            " 4   last_trans          22702 non-null  object        \n",
            " 5   last_purchase       22702 non-null  int64         \n",
            " 6   segment_churn       22702 non-null  int64         \n",
            " 7   segment_monetary    22702 non-null  int64         \n",
            " 8   segment_first       22702 non-null  int64         \n",
            " 9   gender_x            22702 non-null  int64         \n",
            " 10  masterCategory      22702 non-null  int64         \n",
            " 11  subCategory         22702 non-null  int64         \n",
            " 12  articleType         22702 non-null  int64         \n",
            " 13  baseColour          22702 non-null  int64         \n",
            " 14  season              22702 non-null  int64         \n",
            " 15  year                22702 non-null  int64         \n",
            " 16  usage               22702 non-null  int64         \n",
            " 17  productDisplayName  22702 non-null  object        \n",
            " 18  device_type         22702 non-null  int64         \n",
            " 19  device_id           22702 non-null  object        \n",
            " 20  birthdate           22702 non-null  datetime64[ns]\n",
            " 21  home_location       22702 non-null  object        \n",
            " 22  first_join_date     22702 non-null  datetime64[ns]\n",
            "dtypes: datetime64[ns](2), float64(3), int64(14), object(4)\n",
            "memory usage: 4.2+ MB\n"
          ]
        }
      ]
    },
    {
      "cell_type": "code",
      "source": [
        "y = data3['segment_churn']\n",
        "X = data3[['total_order','total_sales','basket_size','segment_first','segment_monetary']]\n",
        "X_train,X_test,y_train,y_test = train_test_split(X,y,random_state=27)"
      ],
      "metadata": {
        "id": "5D3CCaItuLzX"
      },
      "execution_count": null,
      "outputs": []
    },
    {
      "cell_type": "markdown",
      "source": [
        "## Logistic Regression"
      ],
      "metadata": {
        "id": "l0xXlKgf1wQ6"
      }
    },
    {
      "cell_type": "code",
      "source": [
        "#baseline model without sampling\n",
        "# train a logistic regression model on the training set\n",
        "from sklearn.linear_model import LogisticRegression\n",
        "logr = LogisticRegression(random_state=27)\n",
        "logr.fit(X_train, y_train)\n",
        "pred_test = logr.predict(X_test)\n",
        "pred_train = logr.predict(X_train)\n",
        "\n",
        "print('Training Data')\n",
        "#print(classification_report(y_train, pred_train))\n",
        "print(f'Accuracy : {accuracy_score(y_train, pred_train)}')\n",
        "print(f'Precision : {precision_score(y_train, pred_train)}')\n",
        "print(f'Recall : {recall_score(y_train, pred_train)}')\n",
        "print(f'F0.5 : {fbeta_score(y_train, pred_train, beta=0.5)}')\n",
        "\n",
        "print('\\nTesting Data')\n",
        "#print(classification_report(y_test, pred_test))\n",
        "print(f'Accuracy: {accuracy_score(y_test, pred_test)}')\n",
        "print(f'Precision: {precision_score(y_test, pred_test)}')\n",
        "print(f'Recall: {recall_score(y_test, pred_test)}')\n",
        "print(f'F0.5 : {fbeta_score(y_test, pred_test, beta=0.5)}')"
      ],
      "metadata": {
        "colab": {
          "base_uri": "https://localhost:8080/"
        },
        "id": "nWmwMe0s1yBp",
        "outputId": "14658dda-9707-4317-86b8-cd90554a336c"
      },
      "execution_count": null,
      "outputs": [
        {
          "output_type": "stream",
          "name": "stdout",
          "text": [
            "Training Data\n",
            "Accuracy : 0.8196875367085634\n",
            "Precision : 0.8702434757253243\n",
            "Recall : 0.7324825131918027\n",
            "F0.5 : 0.8386960798089083\n",
            "\n",
            "Testing Data\n",
            "Accuracy: 0.8146582100070472\n",
            "Precision: 0.865916955017301\n",
            "Recall: 0.7295918367346939\n",
            "F0.5 : 0.8347231487658439\n"
          ]
        }
      ]
    },
    {
      "cell_type": "code",
      "source": [
        "def plot_confusion_matrix(y, pred):\n",
        "    sns.heatmap(pd.DataFrame(confusion_matrix(y, pred), [\"Yes\",\"No\"], [\"Yes\",\"No\"]), annot=True, fmt=\".0f\", cbar=False)\n",
        "    plt.xlabel(\"Actual\")\n",
        "    plt.ylabel(\"Prediction\")\n",
        "    plt.show()\n",
        "    \n",
        "plot_confusion_matrix(y_test, pred_test)"
      ],
      "metadata": {
        "colab": {
          "base_uri": "https://localhost:8080/",
          "height": 279
        },
        "id": "jDWAaOud12B3",
        "outputId": "681f3544-7069-4cff-f841-b540acaed610"
      },
      "execution_count": null,
      "outputs": [
        {
          "output_type": "display_data",
          "data": {
            "text/plain": [
              "<Figure size 432x288 with 1 Axes>"
            ],
            "image/png": "[encoded data removed]"
          },
          "metadata": {
            "needs_background": "light"
          }
        }
      ]
    },
    {
      "cell_type": "code",
      "source": [
        "smote = SMOTE(random_state=27)\n",
        "X_resampled, y_resampled = smote.fit_resample(X_train, y_train)\n",
        "\n",
        "y_resampled.value_counts()"
      ],
      "metadata": {
        "colab": {
          "base_uri": "https://localhost:8080/"
        },
        "id": "kQ4IiQqw15tL",
        "outputId": "c2864e32-c1f6-4e6f-ed3e-5f6f56209068"
      },
      "execution_count": null,
      "outputs": [
        {
          "output_type": "execute_result",
          "data": {
            "text/plain": [
              "1    8877\n",
              "0    8877\n",
              "Name: segment_churn, dtype: int64"
            ]
          },
          "metadata": {},
          "execution_count": 452
        }
      ]
    },
    {
      "cell_type": "code",
      "source": [
        "#baseline model with sampling and scaling\n",
        "logr = LogisticRegression(random_state=27)\n",
        "logr.fit(X_resampled, y_resampled)\n",
        "pred_test = logr.predict(X_test)\n",
        "pred_train = logr.predict(X_resampled)\n",
        "\n",
        "print('Training Data')\n",
        "#print(classification_report(y_resampled, pred_train))\n",
        "print(f'Accuracy: {accuracy_score(y_resampled, pred_train)}')\n",
        "print(f'Precision: {precision_score(y_resampled, pred_train)}')\n",
        "print(f'Recall: {recall_score(y_resampled, pred_train)}')\n",
        "print(f'F0.5 : {fbeta_score(y_resampled, pred_train, beta=0.5)}')\n",
        "\n",
        "print('\\nTesting Data')\n",
        "#print(classification_report(y_test, pred_test))\n",
        "print(f'Accuracy: {accuracy_score(y_test, pred_test)}')\n",
        "print(f'Precision: {precision_score(y_test, pred_test)}')\n",
        "print(f'Recall: {recall_score(y_test, pred_test)}')\n",
        "print(f'F0.5 : {fbeta_score(y_test, pred_test, beta=0.5)}')"
      ],
      "metadata": {
        "colab": {
          "base_uri": "https://localhost:8080/"
        },
        "id": "1vDwcCRo19YU",
        "outputId": "394712ab-b158-4f90-fe96-c0b28513e979"
      },
      "execution_count": null,
      "outputs": [
        {
          "output_type": "stream",
          "name": "stdout",
          "text": [
            "Training Data\n",
            "Accuracy: 0.8198152529007547\n",
            "Precision: 0.8572866851245909\n",
            "Recall: 0.7673763658893771\n",
            "F0.5 : 0.8376577064017117\n",
            "\n",
            "Testing Data\n",
            "Accuracy: 0.8141296687808316\n",
            "Precision: 0.8384769539078156\n",
            "Recall: 0.7623906705539358\n",
            "F0.5 : 0.822068531908205\n"
          ]
        }
      ]
    },
    {
      "cell_type": "markdown",
      "source": [
        "## Ridge Classifier"
      ],
      "metadata": {
        "id": "wgtlvwNA2IR5"
      }
    },
    {
      "cell_type": "code",
      "source": [
        "#baseline model without sampling\n",
        "ridgec = RidgeClassifier(random_state=27)\n",
        "ridgec.fit(X_train, y_train)\n",
        "pred_test = ridgec.predict(X_test)\n",
        "pred_train = ridgec.predict(X_train)\n",
        "\n",
        "print('Training Data')\n",
        "#print(classification_report(y_train, pred_train))\n",
        "print(f'Accuracy : {accuracy_score(y_train, pred_train)}')\n",
        "print(f'Precision : {precision_score(y_train, pred_train)}')\n",
        "print(f'Recall : {recall_score(y_train, pred_train)}')\n",
        "print(f'F0.5 : {fbeta_score(y_train, pred_train, beta=0.5)}')\n",
        "\n",
        "print('\\nTesting Data')\n",
        "#print(classification_report(y_test, pred_test))\n",
        "print(f'Accuracy: {accuracy_score(y_test, pred_test)}')\n",
        "print(f'Precision: {precision_score(y_test, pred_test)}')\n",
        "print(f'Recall: {recall_score(y_test, pred_test)}')\n",
        "print(f'F0.5 : {fbeta_score(y_test, pred_test, beta=0.5)}')"
      ],
      "metadata": {
        "colab": {
          "base_uri": "https://localhost:8080/"
        },
        "id": "-SsyDOyw2J8y",
        "outputId": "194b46a5-6a1c-4939-b096-4e106e8b881f"
      },
      "execution_count": null,
      "outputs": [
        {
          "output_type": "stream",
          "name": "stdout",
          "text": [
            "Training Data\n",
            "Accuracy : 0.8668506989310466\n",
            "Precision : 0.798760666395774\n",
            "Recall : 0.9649036691618603\n",
            "F0.5 : 0.8272488164124143\n",
            "\n",
            "Testing Data\n",
            "Accuracy: 0.8601127554615927\n",
            "Precision: 0.7933212996389891\n",
            "Recall: 0.9610058309037901\n",
            "F0.5 : 0.822007481296758\n"
          ]
        }
      ]
    },
    {
      "cell_type": "code",
      "source": [
        "#baseline model with sampling and scaling\n",
        "ridgec = RidgeClassifier(random_state=27)\n",
        "ridgec.fit(X_resampled, y_resampled)\n",
        "pred_test = ridgec.predict(X_test)\n",
        "pred_train = ridgec.predict(X_resampled)\n",
        "\n",
        "print('Training Data')\n",
        "#print(classification_report(y_resampled, pred_train))\n",
        "print(f'Accuracy: {accuracy_score(y_resampled, pred_train)}')\n",
        "print(f'Precision: {precision_score(y_resampled, pred_train)}')\n",
        "print(f'Recall: {recall_score(y_resampled, pred_train)}')\n",
        "print(f'F0.5 : {fbeta_score(y_resampled, pred_train, beta=0.5)}')\n",
        "\n",
        "print('\\nTesting Data')\n",
        "#print(classification_report(y_test, pred_test))\n",
        "print(f'Accuracy: {accuracy_score(y_test, pred_test)}')\n",
        "print(f'Precision: {precision_score(y_test, pred_test)}')\n",
        "print(f'Recall: {recall_score(y_test, pred_test)}')\n",
        "print(f'F0.5 : {fbeta_score(y_test, pred_test, beta=0.5)}')"
      ],
      "metadata": {
        "colab": {
          "base_uri": "https://localhost:8080/"
        },
        "id": "x1hH7kX82O2S",
        "outputId": "73455b21-de1c-4b6b-ce5b-98197f49c025"
      },
      "execution_count": null,
      "outputs": [
        {
          "output_type": "stream",
          "name": "stdout",
          "text": [
            "Training Data\n",
            "Accuracy: 0.8701137771769742\n",
            "Precision: 0.8113922850914606\n",
            "Recall: 0.9644023881942098\n",
            "F0.5 : 0.8379828116129284\n",
            "\n",
            "Testing Data\n",
            "Accuracy: 0.8592318534179\n",
            "Precision: 0.7921297686993091\n",
            "Recall: 0.9610058309037901\n",
            "F0.5 : 0.8209838107098382\n"
          ]
        }
      ]
    },
    {
      "cell_type": "markdown",
      "source": [
        "## Random Forest"
      ],
      "metadata": {
        "id": "a4LqdvdW2Swi"
      }
    },
    {
      "cell_type": "code",
      "source": [
        "#baseline model without sampling\n",
        "randomf = RandomForestClassifier(random_state=27)\n",
        "randomf.fit(X_train, y_train)\n",
        "pred_test = randomf.predict(X_test)\n",
        "pred_train = randomf.predict(X_train)\n",
        "\n",
        "print('Training Data')\n",
        "#print(classification_report(y_train, pred_train))\n",
        "print(f'Accuracy : {accuracy_score(y_train, pred_train)}')\n",
        "print(f'Precision : {precision_score(y_train, pred_train)}')\n",
        "print(f'Recall : {recall_score(y_train, pred_train)}')\n",
        "print(f'F0.5 : {fbeta_score(y_train, pred_train, beta=0.5)}')\n",
        "\n",
        "print('\\nTesting Data')\n",
        "#print(classification_report(y_test, pred_test))\n",
        "print(f'Accuracy: {accuracy_score(y_test, pred_test)}')\n",
        "print(f'Precision: {precision_score(y_test, pred_test)}')\n",
        "print(f'Recall: {recall_score(y_test, pred_test)}')\n",
        "print(f'F0.5 : {fbeta_score(y_test, pred_test, beta=0.5)}')"
      ],
      "metadata": {
        "colab": {
          "base_uri": "https://localhost:8080/"
        },
        "id": "V0WqBPwf2Uyw",
        "outputId": "77a951e9-c8cf-44b6-f11c-6a7e11ef77fc"
      },
      "execution_count": null,
      "outputs": [
        {
          "output_type": "stream",
          "name": "stdout",
          "text": [
            "Training Data\n",
            "Accuracy : 0.9987665922706449\n",
            "Precision : 1.0\n",
            "Recall : 0.99742299668671\n",
            "F0.5 : 0.9994835345908857\n",
            "\n",
            "Testing Data\n",
            "Accuracy: 0.8340380549682875\n",
            "Precision: 0.8259768451519537\n",
            "Recall: 0.831997084548105\n",
            "F0.5 : 0.8271739130434782\n"
          ]
        }
      ]
    },
    {
      "cell_type": "code",
      "source": [
        "#baseline model with sampling and scaling\n",
        "randomf = RandomForestClassifier(random_state=27)\n",
        "randomf.fit(X_resampled, y_resampled)\n",
        "pred_test = randomf.predict(X_test)\n",
        "pred_train = randomf.predict(X_resampled)\n",
        "\n",
        "print('Training Data')\n",
        "#print(classification_report(y_resampled, pred_train))\n",
        "print(f'Accuracy: {accuracy_score(y_resampled, pred_train)}')\n",
        "print(f'Precision: {precision_score(y_resampled, pred_train)}')\n",
        "print(f'Recall: {recall_score(y_resampled, pred_train)}')\n",
        "print(f'F0.5 : {fbeta_score(y_resampled, pred_train, beta=0.5)}')\n",
        "\n",
        "print('\\nTesting Data')\n",
        "#print(classification_report(y_test, pred_test))\n",
        "print(f'Accuracy: {accuracy_score(y_test, pred_test)}')\n",
        "print(f'Precision: {precision_score(y_test, pred_test)}')\n",
        "print(f'Recall: {recall_score(y_test, pred_test)}')\n",
        "print(f'F0.5 : {fbeta_score(y_test, pred_test, beta=0.5)}')"
      ],
      "metadata": {
        "colab": {
          "base_uri": "https://localhost:8080/"
        },
        "id": "p2j4lAIV2Y2s",
        "outputId": "48358638-6a26-4433-9a67-33c8abc14e06"
      },
      "execution_count": null,
      "outputs": [
        {
          "output_type": "stream",
          "name": "stdout",
          "text": [
            "Training Data\n",
            "Accuracy: 0.9987045172918779\n",
            "Precision: 1.0\n",
            "Recall: 0.9974090345837557\n",
            "F0.5 : 0.9994807305894838\n",
            "\n",
            "Testing Data\n",
            "Accuracy: 0.8336856941508104\n",
            "Precision: 0.8249097472924187\n",
            "Recall: 0.8327259475218659\n",
            "F0.5 : 0.8264612268518519\n"
          ]
        }
      ]
    },
    {
      "cell_type": "markdown",
      "source": [
        "## Decision Tree"
      ],
      "metadata": {
        "id": "hVRepJsF2eBU"
      }
    },
    {
      "cell_type": "code",
      "source": [
        "#baseline model with sampling and scaling\n",
        "randomf = RandomForestClassifier(random_state=27)\n",
        "randomf.fit(X_resampled, y_resampled)\n",
        "pred_test = randomf.predict(X_test)\n",
        "pred_train = randomf.predict(X_resampled)\n",
        "\n",
        "print('Training Data')\n",
        "#print(classification_report(y_resampled, pred_train))\n",
        "print(f'Accuracy: {accuracy_score(y_resampled, pred_train)}')\n",
        "print(f'Precision: {precision_score(y_resampled, pred_train)}')\n",
        "print(f'Recall: {recall_score(y_resampled, pred_train)}')\n",
        "print(f'F0.5 : {fbeta_score(y_resampled, pred_train, beta=0.5)}')\n",
        "\n",
        "print('\\nTesting Data')\n",
        "#print(classification_report(y_test, pred_test))\n",
        "print(f'Accuracy: {accuracy_score(y_test, pred_test)}')\n",
        "print(f'Precision: {precision_score(y_test, pred_test)}')\n",
        "print(f'Recall: {recall_score(y_test, pred_test)}')\n",
        "print(f'F0.5 : {fbeta_score(y_test, pred_test, beta=0.5)}')"
      ],
      "metadata": {
        "colab": {
          "base_uri": "https://localhost:8080/"
        },
        "id": "4tVjrKT52gXa",
        "outputId": "08e8c5b9-ec67-4a0a-8e9e-fe24c4af479f"
      },
      "execution_count": null,
      "outputs": [
        {
          "output_type": "stream",
          "name": "stdout",
          "text": [
            "Training Data\n",
            "Accuracy: 0.9987045172918779\n",
            "Precision: 1.0\n",
            "Recall: 0.9974090345837557\n",
            "F0.5 : 0.9994807305894838\n",
            "\n",
            "Testing Data\n",
            "Accuracy: 0.8336856941508104\n",
            "Precision: 0.8249097472924187\n",
            "Recall: 0.8327259475218659\n",
            "F0.5 : 0.8264612268518519\n"
          ]
        }
      ]
    },
    {
      "cell_type": "code",
      "source": [
        "#baseline model with sampling and scaling\n",
        "decisiontree = DecisionTreeClassifier(random_state=27)\n",
        "decisiontree.fit(X_resampled, y_resampled)\n",
        "pred_test = decisiontree.predict(X_test)\n",
        "pred_train = decisiontree.predict(X_resampled)\n",
        "\n",
        "print('Training Data')\n",
        "#print(classification_report(y_resampled, pred_train))\n",
        "print(f'Accuracy: {accuracy_score(y_resampled, pred_train)}')\n",
        "print(f'Precision: {precision_score(y_resampled, pred_train)}')\n",
        "print(f'Recall: {recall_score(y_resampled, pred_train)}')\n",
        "print(f'F0.5 : {fbeta_score(y_resampled, pred_train, beta=0.5)}')\n",
        "\n",
        "print('\\nTesting Data')\n",
        "#print(classification_report(y_test, pred_test))\n",
        "print(f'Accuracy: {accuracy_score(y_test, pred_test)}')\n",
        "print(f'Precision: {precision_score(y_test, pred_test)}')\n",
        "print(f'Recall: {recall_score(y_test, pred_test)}')\n",
        "print(f'F0.5 : {fbeta_score(y_test, pred_test, beta=0.5)}')"
      ],
      "metadata": {
        "colab": {
          "base_uri": "https://localhost:8080/"
        },
        "id": "DRLRHpKm2krd",
        "outputId": "4c76bcea-759c-4fd7-d000-414bbfe60550"
      },
      "execution_count": null,
      "outputs": [
        {
          "output_type": "stream",
          "name": "stdout",
          "text": [
            "Training Data\n",
            "Accuracy: 0.9987608426270136\n",
            "Precision: 1.0\n",
            "Recall: 0.9975216852540273\n",
            "F0.5 : 0.9995033523714925\n",
            "\n",
            "Testing Data\n",
            "Accuracy: 0.8396758280479211\n",
            "Precision: 0.8305695746214852\n",
            "Recall: 0.8396501457725948\n",
            "F0.5 : 0.8323699421965319\n"
          ]
        }
      ]
    },
    {
      "cell_type": "markdown",
      "source": [
        "## Gradient Boosting"
      ],
      "metadata": {
        "id": "vgvQmrdwSfbn"
      }
    },
    {
      "cell_type": "code",
      "source": [
        "#baseline model without sampling\n",
        "gbc = GradientBoostingClassifier(random_state=27)\n",
        "gbc.fit(X_train, y_train)\n",
        "pred_test = gbc.predict(X_test)\n",
        "pred_train = gbc.predict(X_train)\n",
        "\n",
        "print('Training Data')\n",
        "#print(classification_report(y_train, pred_train))\n",
        "print(f'Accuracy : {accuracy_score(y_train, pred_train)}')\n",
        "print(f'Precision : {precision_score(y_train, pred_train)}')\n",
        "print(f'Recall : {recall_score(y_train, pred_train)}')\n",
        "print(f'F0.5 : {fbeta_score(y_train, pred_train, beta=0.5)}')\n",
        "\n",
        "print('\\nTesting Data')\n",
        "#print(classification_report(y_test, pred_test))\n",
        "print(f'Accuracy: {accuracy_score(y_test, pred_test)}')\n",
        "print(f'Precision: {precision_score(y_test, pred_test)}')\n",
        "print(f'Recall: {recall_score(y_test, pred_test)}')\n",
        "print(f'F0.5 : {fbeta_score(y_test, pred_test, beta=0.5)}')"
      ],
      "metadata": {
        "colab": {
          "base_uri": "https://localhost:8080/"
        },
        "id": "-t5ZUYxASlMN",
        "outputId": "99a7931b-b24c-4c6a-98c1-8965fb5b3c23"
      },
      "execution_count": null,
      "outputs": [
        {
          "output_type": "stream",
          "name": "stdout",
          "text": [
            "Training Data\n",
            "Accuracy : 0.8730177375778222\n",
            "Precision : 0.8002808706991674\n",
            "Recall : 0.9790158301632103\n",
            "F0.5 : 0.830609057782405\n",
            "\n",
            "Testing Data\n",
            "Accuracy: 0.8618745595489782\n",
            "Precision: 0.7923627684964201\n",
            "Recall: 0.967930029154519\n",
            "F0.5 : 0.8221892025755324\n"
          ]
        }
      ]
    },
    {
      "cell_type": "code",
      "source": [
        "#baseline model with sampling and scaling\n",
        "gbc = GradientBoostingClassifier(random_state=27)\n",
        "gbc.fit(X_resampled, y_resampled)\n",
        "pred_test = gbc.predict(X_test)\n",
        "pred_train = gbc.predict(X_resampled)\n",
        "\n",
        "print('Training Data')\n",
        "#print(classification_report(y_resampled, pred_train))\n",
        "print(f'Accuracy: {accuracy_score(y_resampled, pred_train)}')\n",
        "print(f'Precision: {precision_score(y_resampled, pred_train)}')\n",
        "print(f'Recall: {recall_score(y_resampled, pred_train)}')\n",
        "print(f'F0.5 : {fbeta_score(y_resampled, pred_train, beta=0.5)}')\n",
        "\n",
        "print('\\nTesting Data')\n",
        "#print(classification_report(y_test, pred_test))\n",
        "print(f'Accuracy: {accuracy_score(y_test, pred_test)}')\n",
        "print(f'Precision: {precision_score(y_test, pred_test)}')\n",
        "print(f'Recall: {recall_score(y_test, pred_test)}')\n",
        "print(f'F0.5 : {fbeta_score(y_test, pred_test, beta=0.5)}')"
      ],
      "metadata": {
        "colab": {
          "base_uri": "https://localhost:8080/"
        },
        "id": "stLmSL0iSr_2",
        "outputId": "51d34291-b9bd-41bf-9f24-33b0e50462af"
      },
      "execution_count": null,
      "outputs": [
        {
          "output_type": "stream",
          "name": "stdout",
          "text": [
            "Training Data\n",
            "Accuracy: 0.8776613720851639\n",
            "Precision: 0.8072587297222986\n",
            "Recall: 0.9922271037512673\n",
            "F0.5 : 0.8385217341634774\n",
            "\n",
            "Testing Data\n",
            "Accuracy: 0.8652219873150105\n",
            "Precision: 0.7889051094890511\n",
            "Recall: 0.9846938775510204\n",
            "F0.5 : 0.8215762588178059\n"
          ]
        }
      ]
    },
    {
      "cell_type": "markdown",
      "source": [
        "# Hyperparameter Tuning"
      ],
      "metadata": {
        "id": "vh-O3Bue2pZ_"
      }
    },
    {
      "cell_type": "markdown",
      "source": [
        "## Logistic Regression"
      ],
      "metadata": {
        "id": "eshfOgkS2rr3"
      }
    },
    {
      "cell_type": "code",
      "source": [
        "def objective_logr(params):\n",
        "    penalty=params[0]\n",
        "    C=params[1]\n",
        "    fit_intercept=params[2]\n",
        "    class_weight=params[3]\n",
        "    multi_class=params[4]\n",
        "    verbose=params[5]\n",
        "    warm_start=params[6]\n",
        "\n",
        "    model=LogisticRegression(\n",
        "        C=C,\n",
        "        penalty=penalty,\n",
        "        fit_intercept=fit_intercept,\n",
        "        class_weight=class_weight,\n",
        "        random_state=27,\n",
        "        multi_class = multi_class,\n",
        "        verbose = verbose,\n",
        "        warm_start = warm_start,\n",
        "        n_jobs=-1,\n",
        "    )\n",
        "    model.fit(X_train, y_train)\n",
        "    pred = model.predict(X_test)\n",
        "    metric_score = fbeta_score(y_test, pred, beta=0.5)\n",
        "    return 1.0 - metric_score"
      ],
      "metadata": {
        "id": "c3eodhR02xUH"
      },
      "execution_count": null,
      "outputs": []
    },
    {
      "cell_type": "code",
      "source": [
        "space = [\n",
        "    Categorical(['l2', 'none']),                      #penalty\n",
        "    Real(0.01,1),                                     #C\n",
        "    Categorical([True, False]),                       #fit_intercept\n",
        "    Categorical(['balanced', None]),                  #class_weight\n",
        "    Categorical(['auto', 'ovr', 'multinomial']),      #multi_class\n",
        "    Integer(1,10),                                    #verbose   \n",
        "    Categorical([True, False]),                       #warm_start\n",
        "]"
      ],
      "metadata": {
        "id": "6RmBBe4k2zoc"
      },
      "execution_count": null,
      "outputs": []
    },
    {
      "cell_type": "code",
      "source": [
        "r = gp_minimize(\n",
        "    objective_logr, space, n_calls=10, \n",
        "    random_state=27, verbose=True\n",
        ")"
      ],
      "metadata": {
        "colab": {
          "base_uri": "https://localhost:8080/"
        },
        "id": "QJ4RCOtm21w6",
        "outputId": "ba49c02f-57ea-40e4-d037-a0d6a45bd9e5"
      },
      "execution_count": null,
      "outputs": [
        {
          "output_type": "stream",
          "name": "stdout",
          "text": [
            "Iteration No: 1 started. Evaluating function at random point.\n",
            "Iteration No: 1 ended. Evaluation done at random point.\n",
            "Time taken: 0.1811\n",
            "Function value obtained: 0.1779\n",
            "Current minimum: 0.1779\n",
            "Iteration No: 2 started. Evaluating function at random point.\n"
          ]
        },
        {
          "output_type": "stream",
          "name": "stderr",
          "text": [
            "[Parallel(n_jobs=-1)]: Using backend LokyBackend with 2 concurrent workers.\n",
            "[Parallel(n_jobs=-1)]: Done   1 tasks      | elapsed:    0.2s\n",
            "[Parallel(n_jobs=-1)]: Done   1 out of   1 | elapsed:    0.2s finished\n",
            "[Parallel(n_jobs=-1)]: Using backend LokyBackend with 2 concurrent workers.\n"
          ]
        },
        {
          "output_type": "stream",
          "name": "stdout",
          "text": [
            "Iteration No: 2 ended. Evaluation done at random point.\n",
            "Time taken: 0.1228\n",
            "Function value obtained: 0.1779\n",
            "Current minimum: 0.1779\n",
            "Iteration No: 3 started. Evaluating function at random point.\n"
          ]
        },
        {
          "output_type": "stream",
          "name": "stderr",
          "text": [
            "[Parallel(n_jobs=-1)]: Done   1 out of   1 | elapsed:    0.1s finished\n",
            "[Parallel(n_jobs=-1)]: Using backend LokyBackend with 2 concurrent workers.\n",
            "[Parallel(n_jobs=-1)]: Done   1 tasks      | elapsed:    0.1s\n",
            "[Parallel(n_jobs=-1)]: Batch computation too fast (0.1338s.) Setting batch_size=2.\n",
            "[Parallel(n_jobs=-1)]: Done   1 out of   1 | elapsed:    0.1s finished\n",
            "[Parallel(n_jobs=-1)]: Using backend LokyBackend with 2 concurrent workers.\n"
          ]
        },
        {
          "output_type": "stream",
          "name": "stdout",
          "text": [
            "Iteration No: 3 ended. Evaluation done at random point.\n",
            "Time taken: 0.1608\n",
            "Function value obtained: 0.1653\n",
            "Current minimum: 0.1653\n",
            "Iteration No: 4 started. Evaluating function at random point.\n",
            "Iteration No: 4 ended. Evaluation done at random point.\n",
            "Time taken: 0.1550\n",
            "Function value obtained: 0.1779\n",
            "Current minimum: 0.1653\n",
            "Iteration No: 5 started. Evaluating function at random point.\n"
          ]
        },
        {
          "output_type": "stream",
          "name": "stderr",
          "text": [
            "[Parallel(n_jobs=-1)]: Done   1 out of   1 | elapsed:    0.1s finished\n",
            "[Parallel(n_jobs=-1)]: Using backend LokyBackend with 2 concurrent workers.\n",
            "[Parallel(n_jobs=-1)]: Done   1 tasks      | elapsed:    0.1s\n",
            "[Parallel(n_jobs=-1)]: Done   1 out of   1 | elapsed:    0.1s finished\n",
            "[Parallel(n_jobs=-1)]: Using backend LokyBackend with 2 concurrent workers.\n"
          ]
        },
        {
          "output_type": "stream",
          "name": "stdout",
          "text": [
            "Iteration No: 5 ended. Evaluation done at random point.\n",
            "Time taken: 0.1560\n",
            "Function value obtained: 0.1653\n",
            "Current minimum: 0.1653\n",
            "Iteration No: 6 started. Evaluating function at random point.\n",
            "Iteration No: 6 ended. Evaluation done at random point.\n",
            "Time taken: 0.1367\n",
            "Function value obtained: 0.1653\n",
            "Current minimum: 0.1653\n",
            "Iteration No: 7 started. Evaluating function at random point.\n"
          ]
        },
        {
          "output_type": "stream",
          "name": "stderr",
          "text": [
            "[Parallel(n_jobs=-1)]: Done   1 tasks      | elapsed:    0.1s\n",
            "[Parallel(n_jobs=-1)]: Done   1 out of   1 | elapsed:    0.1s finished\n",
            "[Parallel(n_jobs=-1)]: Using backend LokyBackend with 2 concurrent workers.\n",
            "[Parallel(n_jobs=-1)]: Done   1 out of   1 | elapsed:    0.1s finished\n",
            "[Parallel(n_jobs=-1)]: Using backend LokyBackend with 2 concurrent workers.\n"
          ]
        },
        {
          "output_type": "stream",
          "name": "stdout",
          "text": [
            "Iteration No: 7 ended. Evaluation done at random point.\n",
            "Time taken: 0.1514\n",
            "Function value obtained: 0.1779\n",
            "Current minimum: 0.1653\n",
            "Iteration No: 8 started. Evaluating function at random point.\n",
            "Iteration No: 8 ended. Evaluation done at random point.\n",
            "Time taken: 0.1457\n",
            "Function value obtained: 0.1779\n",
            "Current minimum: 0.1653\n",
            "Iteration No: 9 started. Evaluating function at random point.\n"
          ]
        },
        {
          "output_type": "stream",
          "name": "stderr",
          "text": [
            "[Parallel(n_jobs=-1)]: Done   1 out of   1 | elapsed:    0.1s finished\n",
            "[Parallel(n_jobs=-1)]: Using backend LokyBackend with 2 concurrent workers.\n",
            "[Parallel(n_jobs=-1)]: Done   1 out of   1 | elapsed:    0.1s finished\n",
            "[Parallel(n_jobs=-1)]: Using backend LokyBackend with 2 concurrent workers.\n"
          ]
        },
        {
          "output_type": "stream",
          "name": "stdout",
          "text": [
            "Iteration No: 9 ended. Evaluation done at random point.\n",
            "Time taken: 0.1070\n",
            "Function value obtained: 0.1653\n",
            "Current minimum: 0.1653\n",
            "Iteration No: 10 started. Evaluating function at random point.\n"
          ]
        },
        {
          "output_type": "stream",
          "name": "stderr",
          "text": [
            "[Parallel(n_jobs=-1)]: Done   1 tasks      | elapsed:    0.1s\n",
            "[Parallel(n_jobs=-1)]: Done   1 out of   1 | elapsed:    0.1s finished\n"
          ]
        },
        {
          "output_type": "stream",
          "name": "stdout",
          "text": [
            "Iteration No: 10 ended. Evaluation done at random point.\n",
            "Time taken: 0.6367\n",
            "Function value obtained: 0.1653\n",
            "Current minimum: 0.1653\n"
          ]
        }
      ]
    },
    {
      "cell_type": "code",
      "source": [
        "r.x"
      ],
      "metadata": {
        "id": "-EMjyhZn262K",
        "colab": {
          "base_uri": "https://localhost:8080/"
        },
        "outputId": "939009d0-4cd5-4ca5-aae1-5e769ec71ae7"
      },
      "execution_count": null,
      "outputs": [
        {
          "output_type": "execute_result",
          "data": {
            "text/plain": [
              "['l2', 0.07671322099274436, False, None, 'auto', 10, False]"
            ]
          },
          "metadata": {},
          "execution_count": 465
        }
      ]
    },
    {
      "cell_type": "code",
      "source": [
        "logr = LogisticRegression(penalty='none', C=0.8954896615626556, fit_intercept=False, \n",
        "                          class_weight='balanced', random_state=27, multi_class='auto', \n",
        "                          verbose=1, warm_start=True, n_jobs=-1,\n",
        "                          )\n",
        "logr.fit(X_train, y_train)\n",
        "pred_test = logr.predict(X_test)\n",
        "pred_train = logr.predict(X_train)\n",
        "\n",
        "print('Training Data')\n",
        "#print(classification_report(y_resampled, pred_train))\n",
        "print(f'Accuracy: {accuracy_score(y_train, pred_train)}')\n",
        "print(f'Precision: {precision_score(y_train, pred_train)}')\n",
        "print(f'Recall: {recall_score(y_train, pred_train)}')\n",
        "print(f'F0.5 : {fbeta_score(y_train, pred_train, beta=0.5)}')\n",
        "\n",
        "print('\\nTesting Data')\n",
        "#print(classification_report(y_test, pred_test))\n",
        "print(f'Accuracy: {accuracy_score(y_test, pred_test)}')\n",
        "print(f'Precision: {precision_score(y_test, pred_test)}')\n",
        "print(f'Recall: {recall_score(y_test, pred_test)}')\n",
        "print(f'F0.5 : {fbeta_score(y_test, pred_test, beta=0.5)}')"
      ],
      "metadata": {
        "id": "ceFgQA6a3aBh",
        "colab": {
          "base_uri": "https://localhost:8080/"
        },
        "outputId": "cd5e7f55-746c-4191-ab02-4a1c55608ee2"
      },
      "execution_count": null,
      "outputs": [
        {
          "output_type": "stream",
          "name": "stdout",
          "text": [
            "Training Data\n",
            "Accuracy: 0.8209796781393164\n",
            "Precision: 0.8461120911928348\n",
            "Recall: 0.7651245551601423\n",
            "F0.5 : 0.8285714285714284\n",
            "\n",
            "Testing Data\n",
            "Accuracy: 0.8141296687808316\n",
            "Precision: 0.8384769539078156\n",
            "Recall: 0.7623906705539358\n",
            "F0.5 : 0.822068531908205\n"
          ]
        },
        {
          "output_type": "stream",
          "name": "stderr",
          "text": [
            "[Parallel(n_jobs=-1)]: Using backend LokyBackend with 2 concurrent workers.\n",
            "[Parallel(n_jobs=-1)]: Done   1 out of   1 | elapsed:    0.1s finished\n"
          ]
        }
      ]
    },
    {
      "cell_type": "markdown",
      "source": [
        "Perbandingan Hasil"
      ],
      "metadata": {
        "id": "CFFEY2iH3kt5"
      }
    },
    {
      "cell_type": "code",
      "source": [
        "def objective_logr_resampled(params):\n",
        "    penalty=params[0]\n",
        "    C=params[1]\n",
        "    fit_intercept=params[2]\n",
        "    class_weight=params[3]\n",
        "    multi_class=params[4]\n",
        "    verbose=params[5]\n",
        "    warm_start=params[6]\n",
        "\n",
        "    model=LogisticRegression(\n",
        "        C=C,\n",
        "        penalty=penalty,\n",
        "        fit_intercept=fit_intercept,\n",
        "        class_weight=class_weight,\n",
        "        random_state=27,\n",
        "        multi_class = multi_class,\n",
        "        verbose = verbose,\n",
        "        warm_start = warm_start,\n",
        "        n_jobs=-1,\n",
        "    )\n",
        "    model.fit(X_resampled, y_resampled)\n",
        "    pred = model.predict(X_test)\n",
        "    metric_score = fbeta_score(y_test, pred, beta=0.5)\n",
        "    return 1.0 - metric_score"
      ],
      "metadata": {
        "id": "OS-Z3BKL3jc7"
      },
      "execution_count": null,
      "outputs": []
    },
    {
      "cell_type": "code",
      "source": [
        "r = gp_minimize(\n",
        "    objective_logr_resampled, space, n_calls=10, \n",
        "    random_state=27, verbose=True\n",
        ")"
      ],
      "metadata": {
        "id": "vyyprzY83sy3",
        "colab": {
          "base_uri": "https://localhost:8080/"
        },
        "outputId": "7b909705-53c3-40bf-a1e1-3da654584cde"
      },
      "execution_count": null,
      "outputs": [
        {
          "output_type": "stream",
          "name": "stderr",
          "text": [
            "[Parallel(n_jobs=-1)]: Using backend LokyBackend with 2 concurrent workers.\n"
          ]
        },
        {
          "output_type": "stream",
          "name": "stdout",
          "text": [
            "Iteration No: 1 started. Evaluating function at random point.\n",
            "Iteration No: 1 ended. Evaluation done at random point.\n",
            "Time taken: 0.1786\n",
            "Function value obtained: 0.1779\n",
            "Current minimum: 0.1779\n",
            "Iteration No: 2 started. Evaluating function at random point.\n"
          ]
        },
        {
          "output_type": "stream",
          "name": "stderr",
          "text": [
            "[Parallel(n_jobs=-1)]: Done   1 tasks      | elapsed:    0.2s\n",
            "[Parallel(n_jobs=-1)]: Done   1 out of   1 | elapsed:    0.2s finished\n",
            "[Parallel(n_jobs=-1)]: Using backend LokyBackend with 2 concurrent workers.\n",
            "[Parallel(n_jobs=-1)]: Done   1 out of   1 | elapsed:    0.1s finished\n",
            "[Parallel(n_jobs=-1)]: Using backend LokyBackend with 2 concurrent workers.\n"
          ]
        },
        {
          "output_type": "stream",
          "name": "stdout",
          "text": [
            "Iteration No: 2 ended. Evaluation done at random point.\n",
            "Time taken: 0.1300\n",
            "Function value obtained: 0.1779\n",
            "Current minimum: 0.1779\n",
            "Iteration No: 3 started. Evaluating function at random point.\n"
          ]
        },
        {
          "output_type": "stream",
          "name": "stderr",
          "text": [
            "[Parallel(n_jobs=-1)]: Done   1 tasks      | elapsed:    0.1s\n",
            "[Parallel(n_jobs=-1)]: Batch computation too fast (0.1148s.) Setting batch_size=2.\n",
            "[Parallel(n_jobs=-1)]: Done   1 out of   1 | elapsed:    0.1s finished\n",
            "[Parallel(n_jobs=-1)]: Using backend LokyBackend with 2 concurrent workers.\n"
          ]
        },
        {
          "output_type": "stream",
          "name": "stdout",
          "text": [
            "Iteration No: 3 ended. Evaluation done at random point.\n",
            "Time taken: 0.1369\n",
            "Function value obtained: 0.1779\n",
            "Current minimum: 0.1779\n",
            "Iteration No: 4 started. Evaluating function at random point.\n"
          ]
        },
        {
          "output_type": "stream",
          "name": "stderr",
          "text": [
            "[Parallel(n_jobs=-1)]: Done   1 out of   1 | elapsed:    0.1s finished\n",
            "[Parallel(n_jobs=-1)]: Using backend LokyBackend with 2 concurrent workers.\n"
          ]
        },
        {
          "output_type": "stream",
          "name": "stdout",
          "text": [
            "Iteration No: 4 ended. Evaluation done at random point.\n",
            "Time taken: 0.1531\n",
            "Function value obtained: 0.1779\n",
            "Current minimum: 0.1779\n",
            "Iteration No: 5 started. Evaluating function at random point.\n"
          ]
        },
        {
          "output_type": "stream",
          "name": "stderr",
          "text": [
            "[Parallel(n_jobs=-1)]: Done   1 tasks      | elapsed:    0.1s\n",
            "[Parallel(n_jobs=-1)]: Done   1 out of   1 | elapsed:    0.1s finished\n",
            "[Parallel(n_jobs=-1)]: Using backend LokyBackend with 2 concurrent workers.\n"
          ]
        },
        {
          "output_type": "stream",
          "name": "stdout",
          "text": [
            "Iteration No: 5 ended. Evaluation done at random point.\n",
            "Time taken: 0.1532\n",
            "Function value obtained: 0.1779\n",
            "Current minimum: 0.1779\n",
            "Iteration No: 6 started. Evaluating function at random point.\n"
          ]
        },
        {
          "output_type": "stream",
          "name": "stderr",
          "text": [
            "[Parallel(n_jobs=-1)]: Done   1 tasks      | elapsed:    0.1s\n",
            "[Parallel(n_jobs=-1)]: Done   1 out of   1 | elapsed:    0.1s finished\n",
            "[Parallel(n_jobs=-1)]: Using backend LokyBackend with 2 concurrent workers.\n"
          ]
        },
        {
          "output_type": "stream",
          "name": "stdout",
          "text": [
            "Iteration No: 6 ended. Evaluation done at random point.\n",
            "Time taken: 0.1640\n",
            "Function value obtained: 0.1779\n",
            "Current minimum: 0.1779\n",
            "Iteration No: 7 started. Evaluating function at random point.\n"
          ]
        },
        {
          "output_type": "stream",
          "name": "stderr",
          "text": [
            "[Parallel(n_jobs=-1)]: Done   1 out of   1 | elapsed:    0.1s finished\n",
            "[Parallel(n_jobs=-1)]: Using backend LokyBackend with 2 concurrent workers.\n"
          ]
        },
        {
          "output_type": "stream",
          "name": "stdout",
          "text": [
            "Iteration No: 7 ended. Evaluation done at random point.\n",
            "Time taken: 0.1436\n",
            "Function value obtained: 0.1779\n",
            "Current minimum: 0.1779\n",
            "Iteration No: 8 started. Evaluating function at random point.\n"
          ]
        },
        {
          "output_type": "stream",
          "name": "stderr",
          "text": [
            "[Parallel(n_jobs=-1)]: Done   1 out of   1 | elapsed:    0.1s finished\n",
            "[Parallel(n_jobs=-1)]: Using backend LokyBackend with 2 concurrent workers.\n"
          ]
        },
        {
          "output_type": "stream",
          "name": "stdout",
          "text": [
            "Iteration No: 8 ended. Evaluation done at random point.\n",
            "Time taken: 0.1271\n",
            "Function value obtained: 0.1779\n",
            "Current minimum: 0.1779\n",
            "Iteration No: 9 started. Evaluating function at random point.\n"
          ]
        },
        {
          "output_type": "stream",
          "name": "stderr",
          "text": [
            "[Parallel(n_jobs=-1)]: Done   1 out of   1 | elapsed:    0.1s finished\n",
            "[Parallel(n_jobs=-1)]: Using backend LokyBackend with 2 concurrent workers.\n"
          ]
        },
        {
          "output_type": "stream",
          "name": "stdout",
          "text": [
            "Iteration No: 9 ended. Evaluation done at random point.\n",
            "Time taken: 0.1366\n",
            "Function value obtained: 0.1779\n",
            "Current minimum: 0.1779\n",
            "Iteration No: 10 started. Evaluating function at random point.\n"
          ]
        },
        {
          "output_type": "stream",
          "name": "stderr",
          "text": [
            "[Parallel(n_jobs=-1)]: Done   1 tasks      | elapsed:    0.1s\n",
            "[Parallel(n_jobs=-1)]: Done   1 out of   1 | elapsed:    0.1s finished\n"
          ]
        },
        {
          "output_type": "stream",
          "name": "stdout",
          "text": [
            "Iteration No: 10 ended. Evaluation done at random point.\n",
            "Time taken: 0.6658\n",
            "Function value obtained: 0.1779\n",
            "Current minimum: 0.1779\n"
          ]
        }
      ]
    },
    {
      "cell_type": "code",
      "source": [
        "r.x"
      ],
      "metadata": {
        "id": "jdh5uAy_34Ff",
        "colab": {
          "base_uri": "https://localhost:8080/"
        },
        "outputId": "62de2587-ee3f-4e21-e114-228a52440ff7"
      },
      "execution_count": null,
      "outputs": [
        {
          "output_type": "execute_result",
          "data": {
            "text/plain": [
              "['l2', 0.9157712501886736, False, 'balanced', 'multinomial', 9, True]"
            ]
          },
          "metadata": {},
          "execution_count": 469
        }
      ]
    },
    {
      "cell_type": "code",
      "source": [
        "logr = LogisticRegression(penalty='none', C=0.3859051627311702, fit_intercept=False, \n",
        "                          class_weight=None, random_state=27, multi_class='multinomial',\n",
        "                          verbose=5, warm_start=True, n_jobs=-1,\n",
        "                          )\n",
        "logr.fit(X_resampled, y_resampled)\n",
        "pred_test = logr.predict(X_test)\n",
        "pred_train = logr.predict(X_resampled)\n",
        "\n",
        "print('Training Data')\n",
        "#print(classification_report(y_resampled, pred_train))\n",
        "print(f'Accuracy: {accuracy_score(y_resampled, pred_train)}')\n",
        "print(f'Precision: {precision_score(y_resampled, pred_train)}')\n",
        "print(f'Recall: {recall_score(y_resampled, pred_train)}')\n",
        "print(f'F0.5 : {fbeta_score(y_resampled, pred_train, beta=0.5)}')\n",
        "\n",
        "print('\\nTesting Data')\n",
        "#print(classification_report(y_test, pred_test))\n",
        "print(f'Accuracy: {accuracy_score(y_test, pred_test)}')\n",
        "print(f'Precision: {precision_score(y_test, pred_test)}')\n",
        "print(f'Recall: {recall_score(y_test, pred_test)}')\n",
        "print(f'F0.5 : {fbeta_score(y_test, pred_test, beta=0.5)}')"
      ],
      "metadata": {
        "id": "AvSbng0f4RJ8",
        "colab": {
          "base_uri": "https://localhost:8080/"
        },
        "outputId": "d7381eb7-04aa-45bb-f25f-0682fecaffdc"
      },
      "execution_count": null,
      "outputs": [
        {
          "output_type": "stream",
          "name": "stderr",
          "text": [
            "[Parallel(n_jobs=-1)]: Using backend LokyBackend with 2 concurrent workers.\n",
            "[Parallel(n_jobs=-1)]: Done   1 out of   1 | elapsed:    0.2s finished\n"
          ]
        },
        {
          "output_type": "stream",
          "name": "stdout",
          "text": [
            "Training Data\n",
            "Accuracy: 0.8198152529007547\n",
            "Precision: 0.8572866851245909\n",
            "Recall: 0.7673763658893771\n",
            "F0.5 : 0.8376577064017117\n",
            "\n",
            "Testing Data\n",
            "Accuracy: 0.8141296687808316\n",
            "Precision: 0.8384769539078156\n",
            "Recall: 0.7623906705539358\n",
            "F0.5 : 0.822068531908205\n"
          ]
        }
      ]
    },
    {
      "cell_type": "markdown",
      "source": [
        "Perbandingan Metrics"
      ],
      "metadata": {
        "id": "n77Vui783-yc"
      }
    },
    {
      "cell_type": "markdown",
      "source": [
        "## Ridge Classifier"
      ],
      "metadata": {
        "id": "5FiDDAQo4V2j"
      }
    },
    {
      "cell_type": "code",
      "source": [
        "def objective_rc(params):\n",
        "    alpha=params[0]\n",
        "    fit_intercept=params[1]\n",
        "    class_weight=params[2]\n",
        "    solver=params[3]\n",
        "\n",
        "    model=RidgeClassifier(\n",
        "        alpha=alpha,\n",
        "        fit_intercept=fit_intercept,\n",
        "        class_weight=class_weight,\n",
        "        solver=solver,\n",
        "        random_state=27,\n",
        "    )\n",
        "    model.fit(X_train, y_train)\n",
        "    pred = model.predict(X_test)\n",
        "    metric_score = fbeta_score(y_test, pred, beta=0.5)\n",
        "    return 1.0 - metric_score"
      ],
      "metadata": {
        "id": "BFhR0IlT46_E"
      },
      "execution_count": null,
      "outputs": []
    },
    {
      "cell_type": "code",
      "source": [
        "def objective_rc_resampled(params):\n",
        "    alpha=params[0]\n",
        "    fit_intercept=params[1]\n",
        "    class_weight=params[2]\n",
        "    solver=params[3]\n",
        "    \n",
        "    model=RidgeClassifier(\n",
        "        alpha=alpha,\n",
        "        fit_intercept=fit_intercept,\n",
        "        class_weight=class_weight,\n",
        "        solver=solver,\n",
        "        random_state=27,\n",
        "    )\n",
        "    model.fit(X_resampled, y_resampled)\n",
        "    pred = model.predict(X_test)\n",
        "    metric_score = fbeta_score(y_test, pred, beta=0.5)\n",
        "    return 1.0 - metric_score"
      ],
      "metadata": {
        "id": "8XanAaaP5CsC"
      },
      "execution_count": null,
      "outputs": []
    },
    {
      "cell_type": "code",
      "source": [
        "space = [\n",
        "    Real(1.00,5.00),                                   #alpha\n",
        "    Categorical([True, False]),                        #fit_intercept\n",
        "    Categorical(['balanced', None]),                   #class_weight\n",
        "    Categorical(['auto', 'svd', 'cholesky', \n",
        "                 'lsqr', 'sparse_cg', 'sag', 'saga'])  #solver\n",
        "]"
      ],
      "metadata": {
        "id": "fxA1Giuh5EmK"
      },
      "execution_count": null,
      "outputs": []
    },
    {
      "cell_type": "code",
      "source": [
        "r = gp_minimize(\n",
        "    objective_rc, space, n_calls=10, \n",
        "    random_state=27, verbose=True\n",
        ")"
      ],
      "metadata": {
        "id": "ReQwSAcK5GYC",
        "colab": {
          "base_uri": "https://localhost:8080/"
        },
        "outputId": "914c1362-19a4-4d99-ce66-59cf4ed54709"
      },
      "execution_count": null,
      "outputs": [
        {
          "output_type": "stream",
          "name": "stdout",
          "text": [
            "Iteration No: 1 started. Evaluating function at random point.\n",
            "Iteration No: 1 ended. Evaluation done at random point.\n",
            "Time taken: 0.0205\n",
            "Function value obtained: 0.1710\n",
            "Current minimum: 0.1710\n",
            "Iteration No: 2 started. Evaluating function at random point.\n",
            "Iteration No: 2 ended. Evaluation done at random point.\n",
            "Time taken: 1.7120\n",
            "Function value obtained: 0.2249\n",
            "Current minimum: 0.1710\n",
            "Iteration No: 3 started. Evaluating function at random point.\n",
            "Iteration No: 3 ended. Evaluation done at random point.\n",
            "Time taken: 0.0284\n",
            "Function value obtained: 0.1710\n",
            "Current minimum: 0.1710\n",
            "Iteration No: 4 started. Evaluating function at random point.\n",
            "Iteration No: 4 ended. Evaluation done at random point.\n",
            "Time taken: 0.0240\n",
            "Function value obtained: 0.1901\n",
            "Current minimum: 0.1710\n",
            "Iteration No: 5 started. Evaluating function at random point.\n",
            "Iteration No: 5 ended. Evaluation done at random point.\n",
            "Time taken: 0.0309\n",
            "Function value obtained: 0.1790\n",
            "Current minimum: 0.1710\n",
            "Iteration No: 6 started. Evaluating function at random point.\n",
            "Iteration No: 6 ended. Evaluation done at random point.\n",
            "Time taken: 1.5126\n",
            "Function value obtained: 0.1501\n",
            "Current minimum: 0.1501\n",
            "Iteration No: 7 started. Evaluating function at random point.\n",
            "Iteration No: 7 ended. Evaluation done at random point.\n",
            "Time taken: 1.6832\n",
            "Function value obtained: 0.1720\n",
            "Current minimum: 0.1501\n",
            "Iteration No: 8 started. Evaluating function at random point.\n",
            "Iteration No: 8 ended. Evaluation done at random point.\n",
            "Time taken: 1.0389\n",
            "Function value obtained: 0.1413\n",
            "Current minimum: 0.1413\n",
            "Iteration No: 9 started. Evaluating function at random point.\n",
            "Iteration No: 9 ended. Evaluation done at random point.\n",
            "Time taken: 1.7061\n",
            "Function value obtained: 0.1720\n",
            "Current minimum: 0.1413\n",
            "Iteration No: 10 started. Evaluating function at random point.\n",
            "Iteration No: 10 ended. Evaluation done at random point.\n",
            "Time taken: 0.7131\n",
            "Function value obtained: 0.1901\n",
            "Current minimum: 0.1413\n"
          ]
        }
      ]
    },
    {
      "cell_type": "code",
      "source": [
        "r.x"
      ],
      "metadata": {
        "id": "gxSKkceU5JKn",
        "colab": {
          "base_uri": "https://localhost:8080/"
        },
        "outputId": "ba4711bb-b160-4094-9873-75e09b753bde"
      },
      "execution_count": null,
      "outputs": [
        {
          "output_type": "execute_result",
          "data": {
            "text/plain": [
              "[3.0639798794261295, False, 'balanced', 'sag']"
            ]
          },
          "metadata": {},
          "execution_count": 475
        }
      ]
    },
    {
      "cell_type": "code",
      "source": [
        "ridgec = RidgeClassifier(alpha=1.3435359300562024, fit_intercept=False, \n",
        "                         class_weight='balanced', solver='lsqr', random_state=27)\n",
        "ridgec.fit(X_train, y_train)\n",
        "pred_test = ridgec.predict(X_test)\n",
        "pred_train = ridgec.predict(X_train)"
      ],
      "metadata": {
        "id": "ErTICaAG5fAV"
      },
      "execution_count": null,
      "outputs": []
    },
    {
      "cell_type": "markdown",
      "source": [
        "Perbandingan Metrics"
      ],
      "metadata": {
        "id": "0kBuHS3S5gHO"
      }
    },
    {
      "cell_type": "code",
      "source": [
        "r = gp_minimize(\n",
        "    objective_rc_resampled, space, n_calls=10, \n",
        "    n_initial_points=5, random_state=27, verbose=True\n",
        ")"
      ],
      "metadata": {
        "id": "77W8wLcw5p1W",
        "colab": {
          "base_uri": "https://localhost:8080/",
          "height": 404
        },
        "outputId": "38cf0d5d-0224-4dac-a739-85de4d52cddb"
      },
      "execution_count": null,
      "outputs": [
        {
          "output_type": "stream",
          "name": "stdout",
          "text": [
            "Iteration No: 1 started. Evaluating function at random point.\n"
          ]
        },
        {
          "output_type": "error",
          "ename": "TypeError",
          "evalue": "ignored",
          "traceback": [
            "\u001b[0;31m---------------------------------------------------------------------------\u001b[0m",
            "\u001b[0;31mTypeError\u001b[0m                                 Traceback (most recent call last)",
            "\u001b[0;32m<ipython-input-488-cac5054b15ca>\u001b[0m in \u001b[0;36m<module>\u001b[0;34m\u001b[0m\n\u001b[1;32m      1\u001b[0m r = gp_minimize(\n\u001b[1;32m      2\u001b[0m     \u001b[0mobjective_rc_resampled\u001b[0m\u001b[0;34m,\u001b[0m \u001b[0mspace\u001b[0m\u001b[0;34m,\u001b[0m \u001b[0mn_calls\u001b[0m\u001b[0;34m=\u001b[0m\u001b[0;36m10\u001b[0m\u001b[0;34m,\u001b[0m\u001b[0;34m\u001b[0m\u001b[0;34m\u001b[0m\u001b[0m\n\u001b[0;32m----> 3\u001b[0;31m     \u001b[0mn_initial_points\u001b[0m\u001b[0;34m=\u001b[0m\u001b[0;36m5\u001b[0m\u001b[0;34m,\u001b[0m \u001b[0mrandom_state\u001b[0m\u001b[0;34m=\u001b[0m\u001b[0;36m27\u001b[0m\u001b[0;34m,\u001b[0m \u001b[0mverbose\u001b[0m\u001b[0;34m=\u001b[0m\u001b[0;32mTrue\u001b[0m\u001b[0;34m\u001b[0m\u001b[0;34m\u001b[0m\u001b[0m\n\u001b[0m\u001b[1;32m      4\u001b[0m )\n",
            "\u001b[0;32m/usr/local/lib/python3.7/dist-packages/skopt/optimizer/gp.py\u001b[0m in \u001b[0;36mgp_minimize\u001b[0;34m(func, dimensions, base_estimator, n_calls, n_random_starts, n_initial_points, initial_point_generator, acq_func, acq_optimizer, x0, y0, random_state, verbose, callback, n_points, n_restarts_optimizer, xi, kappa, noise, n_jobs, model_queue_size)\u001b[0m\n\u001b[1;32m    266\u001b[0m         \u001b[0mn_restarts_optimizer\u001b[0m\u001b[0;34m=\u001b[0m\u001b[0mn_restarts_optimizer\u001b[0m\u001b[0;34m,\u001b[0m\u001b[0;34m\u001b[0m\u001b[0;34m\u001b[0m\u001b[0m\n\u001b[1;32m    267\u001b[0m         \u001b[0mx0\u001b[0m\u001b[0;34m=\u001b[0m\u001b[0mx0\u001b[0m\u001b[0;34m,\u001b[0m \u001b[0my0\u001b[0m\u001b[0;34m=\u001b[0m\u001b[0my0\u001b[0m\u001b[0;34m,\u001b[0m \u001b[0mrandom_state\u001b[0m\u001b[0;34m=\u001b[0m\u001b[0mrng\u001b[0m\u001b[0;34m,\u001b[0m \u001b[0mverbose\u001b[0m\u001b[0;34m=\u001b[0m\u001b[0mverbose\u001b[0m\u001b[0;34m,\u001b[0m\u001b[0;34m\u001b[0m\u001b[0;34m\u001b[0m\u001b[0m\n\u001b[0;32m--> 268\u001b[0;31m         callback=callback, n_jobs=n_jobs, model_queue_size=model_queue_size)\n\u001b[0m",
            "\u001b[0;32m/usr/local/lib/python3.7/dist-packages/skopt/optimizer/base.py\u001b[0m in \u001b[0;36mbase_minimize\u001b[0;34m(func, dimensions, base_estimator, n_calls, n_random_starts, n_initial_points, initial_point_generator, acq_func, acq_optimizer, x0, y0, random_state, verbose, callback, n_points, n_restarts_optimizer, xi, kappa, n_jobs, model_queue_size)\u001b[0m\n\u001b[1;32m    297\u001b[0m     \u001b[0;32mfor\u001b[0m \u001b[0mn\u001b[0m \u001b[0;32min\u001b[0m \u001b[0mrange\u001b[0m\u001b[0;34m(\u001b[0m\u001b[0mn_calls\u001b[0m\u001b[0;34m)\u001b[0m\u001b[0;34m:\u001b[0m\u001b[0;34m\u001b[0m\u001b[0;34m\u001b[0m\u001b[0m\n\u001b[1;32m    298\u001b[0m         \u001b[0mnext_x\u001b[0m \u001b[0;34m=\u001b[0m \u001b[0moptimizer\u001b[0m\u001b[0;34m.\u001b[0m\u001b[0mask\u001b[0m\u001b[0;34m(\u001b[0m\u001b[0;34m)\u001b[0m\u001b[0;34m\u001b[0m\u001b[0;34m\u001b[0m\u001b[0m\n\u001b[0;32m--> 299\u001b[0;31m         \u001b[0mnext_y\u001b[0m \u001b[0;34m=\u001b[0m \u001b[0mfunc\u001b[0m\u001b[0;34m(\u001b[0m\u001b[0mnext_x\u001b[0m\u001b[0;34m)\u001b[0m\u001b[0;34m\u001b[0m\u001b[0;34m\u001b[0m\u001b[0m\n\u001b[0m\u001b[1;32m    300\u001b[0m         \u001b[0mresult\u001b[0m \u001b[0;34m=\u001b[0m \u001b[0moptimizer\u001b[0m\u001b[0;34m.\u001b[0m\u001b[0mtell\u001b[0m\u001b[0;34m(\u001b[0m\u001b[0mnext_x\u001b[0m\u001b[0;34m,\u001b[0m \u001b[0mnext_y\u001b[0m\u001b[0;34m)\u001b[0m\u001b[0;34m\u001b[0m\u001b[0;34m\u001b[0m\u001b[0m\n\u001b[1;32m    301\u001b[0m         \u001b[0mresult\u001b[0m\u001b[0;34m.\u001b[0m\u001b[0mspecs\u001b[0m \u001b[0;34m=\u001b[0m \u001b[0mspecs\u001b[0m\u001b[0;34m\u001b[0m\u001b[0;34m\u001b[0m\u001b[0m\n",
            "\u001b[0;32m<ipython-input-472-0afad971e92f>\u001b[0m in \u001b[0;36mobjective_rc_resampled\u001b[0;34m(params)\u001b[0m\n\u001b[1;32m     12\u001b[0m         \u001b[0mrandom_state\u001b[0m\u001b[0;34m=\u001b[0m\u001b[0;36m27\u001b[0m\u001b[0;34m,\u001b[0m\u001b[0;34m\u001b[0m\u001b[0;34m\u001b[0m\u001b[0m\n\u001b[1;32m     13\u001b[0m     )\n\u001b[0;32m---> 14\u001b[0;31m     \u001b[0mmodel\u001b[0m\u001b[0;34m.\u001b[0m\u001b[0mfit\u001b[0m\u001b[0;34m(\u001b[0m\u001b[0mX_resampled\u001b[0m\u001b[0;34m,\u001b[0m \u001b[0my_resampled\u001b[0m\u001b[0;34m)\u001b[0m\u001b[0;34m\u001b[0m\u001b[0;34m\u001b[0m\u001b[0m\n\u001b[0m\u001b[1;32m     15\u001b[0m     \u001b[0mpred\u001b[0m \u001b[0;34m=\u001b[0m \u001b[0mmodel\u001b[0m\u001b[0;34m.\u001b[0m\u001b[0mpredict\u001b[0m\u001b[0;34m(\u001b[0m\u001b[0mX_test\u001b[0m\u001b[0;34m)\u001b[0m\u001b[0;34m\u001b[0m\u001b[0;34m\u001b[0m\u001b[0m\n\u001b[1;32m     16\u001b[0m     \u001b[0mmetric_score\u001b[0m \u001b[0;34m=\u001b[0m \u001b[0mfbeta_score\u001b[0m\u001b[0;34m(\u001b[0m\u001b[0my_test\u001b[0m\u001b[0;34m,\u001b[0m \u001b[0mpred\u001b[0m\u001b[0;34m,\u001b[0m \u001b[0mbeta\u001b[0m\u001b[0;34m=\u001b[0m\u001b[0;36m0.5\u001b[0m\u001b[0;34m)\u001b[0m\u001b[0;34m\u001b[0m\u001b[0;34m\u001b[0m\u001b[0m\n",
            "\u001b[0;32m/usr/local/lib/python3.7/dist-packages/sklearn/linear_model/_ridge.py\u001b[0m in \u001b[0;36mfit\u001b[0;34m(self, X, y, sample_weight)\u001b[0m\n\u001b[1;32m   1298\u001b[0m             \u001b[0mInstance\u001b[0m \u001b[0mof\u001b[0m \u001b[0mthe\u001b[0m \u001b[0mestimator\u001b[0m\u001b[0;34m.\u001b[0m\u001b[0;34m\u001b[0m\u001b[0;34m\u001b[0m\u001b[0m\n\u001b[1;32m   1299\u001b[0m         \"\"\"\n\u001b[0;32m-> 1300\u001b[0;31m         \u001b[0mX\u001b[0m\u001b[0;34m,\u001b[0m \u001b[0my\u001b[0m\u001b[0;34m,\u001b[0m \u001b[0msample_weight\u001b[0m\u001b[0;34m,\u001b[0m \u001b[0mY\u001b[0m \u001b[0;34m=\u001b[0m \u001b[0mself\u001b[0m\u001b[0;34m.\u001b[0m\u001b[0m_prepare_data\u001b[0m\u001b[0;34m(\u001b[0m\u001b[0mX\u001b[0m\u001b[0;34m,\u001b[0m \u001b[0my\u001b[0m\u001b[0;34m,\u001b[0m \u001b[0msample_weight\u001b[0m\u001b[0;34m,\u001b[0m \u001b[0mself\u001b[0m\u001b[0;34m.\u001b[0m\u001b[0msolver\u001b[0m\u001b[0;34m)\u001b[0m\u001b[0;34m\u001b[0m\u001b[0;34m\u001b[0m\u001b[0m\n\u001b[0m\u001b[1;32m   1301\u001b[0m \u001b[0;34m\u001b[0m\u001b[0m\n\u001b[1;32m   1302\u001b[0m         \u001b[0msuper\u001b[0m\u001b[0;34m(\u001b[0m\u001b[0;34m)\u001b[0m\u001b[0;34m.\u001b[0m\u001b[0mfit\u001b[0m\u001b[0;34m(\u001b[0m\u001b[0mX\u001b[0m\u001b[0;34m,\u001b[0m \u001b[0mY\u001b[0m\u001b[0;34m,\u001b[0m \u001b[0msample_weight\u001b[0m\u001b[0;34m=\u001b[0m\u001b[0msample_weight\u001b[0m\u001b[0;34m)\u001b[0m\u001b[0;34m\u001b[0m\u001b[0;34m\u001b[0m\u001b[0m\n",
            "\u001b[0;32m/usr/local/lib/python3.7/dist-packages/sklearn/linear_model/_ridge.py\u001b[0m in \u001b[0;36m_prepare_data\u001b[0;34m(self, X, y, sample_weight, solver)\u001b[0m\n\u001b[1;32m   1061\u001b[0m         \u001b[0msample_weight\u001b[0m \u001b[0;34m=\u001b[0m \u001b[0m_check_sample_weight\u001b[0m\u001b[0;34m(\u001b[0m\u001b[0msample_weight\u001b[0m\u001b[0;34m,\u001b[0m \u001b[0mX\u001b[0m\u001b[0;34m,\u001b[0m \u001b[0mdtype\u001b[0m\u001b[0;34m=\u001b[0m\u001b[0mX\u001b[0m\u001b[0;34m.\u001b[0m\u001b[0mdtype\u001b[0m\u001b[0;34m)\u001b[0m\u001b[0;34m\u001b[0m\u001b[0;34m\u001b[0m\u001b[0m\n\u001b[1;32m   1062\u001b[0m         \u001b[0;32mif\u001b[0m \u001b[0mself\u001b[0m\u001b[0;34m.\u001b[0m\u001b[0mclass_weight\u001b[0m\u001b[0;34m:\u001b[0m\u001b[0;34m\u001b[0m\u001b[0;34m\u001b[0m\u001b[0m\n\u001b[0;32m-> 1063\u001b[0;31m             \u001b[0msample_weight\u001b[0m \u001b[0;34m=\u001b[0m \u001b[0msample_weight\u001b[0m \u001b[0;34m*\u001b[0m \u001b[0mcompute_sample_weight\u001b[0m\u001b[0;34m(\u001b[0m\u001b[0mself\u001b[0m\u001b[0;34m.\u001b[0m\u001b[0mclass_weight\u001b[0m\u001b[0;34m,\u001b[0m \u001b[0my\u001b[0m\u001b[0;34m)\u001b[0m\u001b[0;34m\u001b[0m\u001b[0;34m\u001b[0m\u001b[0m\n\u001b[0m\u001b[1;32m   1064\u001b[0m         \u001b[0;32mreturn\u001b[0m \u001b[0mX\u001b[0m\u001b[0;34m,\u001b[0m \u001b[0my\u001b[0m\u001b[0;34m,\u001b[0m \u001b[0msample_weight\u001b[0m\u001b[0;34m,\u001b[0m \u001b[0mY\u001b[0m\u001b[0;34m\u001b[0m\u001b[0;34m\u001b[0m\u001b[0m\n\u001b[1;32m   1065\u001b[0m \u001b[0;34m\u001b[0m\u001b[0m\n",
            "\u001b[0;32m/usr/local/lib/python3.7/dist-packages/sklearn/utils/class_weight.py\u001b[0m in \u001b[0;36mcompute_sample_weight\u001b[0;34m(class_weight, y, indices)\u001b[0m\n\u001b[1;32m    166\u001b[0m         \u001b[0;32melse\u001b[0m\u001b[0;34m:\u001b[0m\u001b[0;34m\u001b[0m\u001b[0;34m\u001b[0m\u001b[0m\n\u001b[1;32m    167\u001b[0m             weight_k = compute_class_weight(\n\u001b[0;32m--> 168\u001b[0;31m                 \u001b[0mclass_weight_k\u001b[0m\u001b[0;34m,\u001b[0m \u001b[0mclasses\u001b[0m\u001b[0;34m=\u001b[0m\u001b[0mclasses_full\u001b[0m\u001b[0;34m,\u001b[0m \u001b[0my\u001b[0m\u001b[0;34m=\u001b[0m\u001b[0my_full\u001b[0m\u001b[0;34m\u001b[0m\u001b[0;34m\u001b[0m\u001b[0m\n\u001b[0m\u001b[1;32m    169\u001b[0m             )\n\u001b[1;32m    170\u001b[0m \u001b[0;34m\u001b[0m\u001b[0m\n",
            "\u001b[0;32m/usr/local/lib/python3.7/dist-packages/sklearn/utils/class_weight.py\u001b[0m in \u001b[0;36mcompute_class_weight\u001b[0;34m(class_weight, classes, y)\u001b[0m\n\u001b[1;32m     40\u001b[0m     \u001b[0;32mif\u001b[0m \u001b[0mset\u001b[0m\u001b[0;34m(\u001b[0m\u001b[0my\u001b[0m\u001b[0;34m)\u001b[0m \u001b[0;34m-\u001b[0m \u001b[0mset\u001b[0m\u001b[0;34m(\u001b[0m\u001b[0mclasses\u001b[0m\u001b[0;34m)\u001b[0m\u001b[0;34m:\u001b[0m\u001b[0;34m\u001b[0m\u001b[0;34m\u001b[0m\u001b[0m\n\u001b[1;32m     41\u001b[0m         \u001b[0;32mraise\u001b[0m \u001b[0mValueError\u001b[0m\u001b[0;34m(\u001b[0m\u001b[0;34m\"classes should include all valid labels that can be in y\"\u001b[0m\u001b[0;34m)\u001b[0m\u001b[0;34m\u001b[0m\u001b[0;34m\u001b[0m\u001b[0m\n\u001b[0;32m---> 42\u001b[0;31m     \u001b[0;32mif\u001b[0m \u001b[0mclass_weight\u001b[0m \u001b[0;32mis\u001b[0m \u001b[0;32mNone\u001b[0m \u001b[0;32mor\u001b[0m \u001b[0mlen\u001b[0m\u001b[0;34m(\u001b[0m\u001b[0mclass_weight\u001b[0m\u001b[0;34m)\u001b[0m \u001b[0;34m==\u001b[0m \u001b[0;36m0\u001b[0m\u001b[0;34m:\u001b[0m\u001b[0;34m\u001b[0m\u001b[0;34m\u001b[0m\u001b[0m\n\u001b[0m\u001b[1;32m     43\u001b[0m         \u001b[0;31m# uniform class weights\u001b[0m\u001b[0;34m\u001b[0m\u001b[0;34m\u001b[0m\u001b[0;34m\u001b[0m\u001b[0m\n\u001b[1;32m     44\u001b[0m         \u001b[0mweight\u001b[0m \u001b[0;34m=\u001b[0m \u001b[0mnp\u001b[0m\u001b[0;34m.\u001b[0m\u001b[0mones\u001b[0m\u001b[0;34m(\u001b[0m\u001b[0mclasses\u001b[0m\u001b[0;34m.\u001b[0m\u001b[0mshape\u001b[0m\u001b[0;34m[\u001b[0m\u001b[0;36m0\u001b[0m\u001b[0;34m]\u001b[0m\u001b[0;34m,\u001b[0m \u001b[0mdtype\u001b[0m\u001b[0;34m=\u001b[0m\u001b[0mnp\u001b[0m\u001b[0;34m.\u001b[0m\u001b[0mfloat64\u001b[0m\u001b[0;34m,\u001b[0m \u001b[0morder\u001b[0m\u001b[0;34m=\u001b[0m\u001b[0;34m\"C\"\u001b[0m\u001b[0;34m)\u001b[0m\u001b[0;34m\u001b[0m\u001b[0;34m\u001b[0m\u001b[0m\n",
            "\u001b[0;31mTypeError\u001b[0m: object of type 'numpy.int64' has no len()"
          ]
        }
      ]
    },
    {
      "cell_type": "code",
      "source": [
        "r.x"
      ],
      "metadata": {
        "id": "oLwiEtAD5slU",
        "colab": {
          "base_uri": "https://localhost:8080/"
        },
        "outputId": "b8a68e28-5e8b-4047-f7dd-25c3af6c7262"
      },
      "execution_count": null,
      "outputs": [
        {
          "output_type": "execute_result",
          "data": {
            "text/plain": [
              "[2.1753884845810125, True, None, 'saga']"
            ]
          },
          "metadata": {},
          "execution_count": 478
        }
      ]
    },
    {
      "cell_type": "code",
      "source": [
        "ridgec = RidgeClassifier(alpha=1.0196219345970365, fit_intercept=False, \n",
        "                         class_weight='balanced', solver='auto', random_state=27)\n",
        "ridgec.fit(X_resampled, y_resampled)\n",
        "pred_test = ridgec.predict(X_test)\n",
        "pred_train = ridgec.predict(X_resampled)\n",
        "\n",
        "print('Training Data')\n",
        "#print(classification_report(y_resampled, pred_train))\n",
        "print(f'Accuracy: {accuracy_score(y_resampled, pred_train)}')\n",
        "print(f'Precision: {precision_score(y_resampled, pred_train)}')\n",
        "print(f'Recall: {recall_score(y_resampled, pred_train)}')\n",
        "print(f'F0.5 : {fbeta_score(y_resampled, pred_train, beta=0.5)}')\n",
        "\n",
        "print('\\nTesting Data')\n",
        "#print(classification_report(y_test, pred_test))\n",
        "print(f'Accuracy: {accuracy_score(y_test, pred_test)}')\n",
        "print(f'Precision: {precision_score(y_test, pred_test)}')\n",
        "print(f'Recall: {recall_score(y_test, pred_test)}')\n",
        "print(f'F0.5 : {fbeta_score(y_test, pred_test, beta=0.5)}')"
      ],
      "metadata": {
        "id": "5STfxddH5vHU",
        "colab": {
          "base_uri": "https://localhost:8080/"
        },
        "outputId": "71dc0c2a-3707-4a0e-9741-8aa0816266a6"
      },
      "execution_count": null,
      "outputs": [
        {
          "output_type": "stream",
          "name": "stdout",
          "text": [
            "Training Data\n",
            "Accuracy: 0.8587923848146897\n",
            "Precision: 0.7967759970182632\n",
            "Recall: 0.9632758814914949\n",
            "F0.5 : 0.8253064376025481\n",
            "\n",
            "Testing Data\n",
            "Accuracy: 0.8486610288935871\n",
            "Precision: 0.7799227799227799\n",
            "Recall: 0.956997084548105\n",
            "F0.5 : 0.8098939057488279\n"
          ]
        }
      ]
    },
    {
      "cell_type": "markdown",
      "source": [
        "Perbandingan Hasil "
      ],
      "metadata": {
        "id": "T0NhbZE55vsr"
      }
    },
    {
      "cell_type": "markdown",
      "source": [
        "## Random Forest"
      ],
      "metadata": {
        "id": "FsuNcTa5T-GZ"
      }
    },
    {
      "cell_type": "code",
      "source": [
        "def objective_rf(params):\n",
        "  n_estimators=params[0]\n",
        "  criterion=params[1]\n",
        "  max_depth=params[2]\n",
        "  min_samples_split=params[3]\n",
        "  min_samples_leaf=params[4]\n",
        "  max_features=params[5]\n",
        "  bootstrap=params[6]\n",
        "  class_weight=params[7]\n",
        "    \n",
        "  model=RandomForestClassifier(\n",
        "\n",
        "    n_estimators = n_estimators,\n",
        "    max_depth = max_depth,\n",
        "    min_samples_split = min_samples_split,\n",
        "    min_samples_leaf = min_samples_leaf,\n",
        "    max_features = max_features,\n",
        "    bootstrap = bootstrap,\n",
        "    class_weight = class_weight,\n",
        "    criterion = criterion\n",
        "    )\n",
        "  model.fit(X_train, y_train)\n",
        "  pred = model.predict(X_test)\n",
        "  metric_score = fbeta_score(y_test, pred, beta=0.5)\n",
        "  return 1.0 - metric_score"
      ],
      "metadata": {
        "id": "2LxQqQcvUBqQ"
      },
      "execution_count": null,
      "outputs": []
    },
    {
      "cell_type": "code",
      "source": [
        "def objective_rf_resampled(params):\n",
        "  n_estimators=params[0]\n",
        "  criterion=params[1]\n",
        "  max_depth=params[2]\n",
        "  min_samples_split=params[3]\n",
        "  min_samples_leaf=params[4]\n",
        "  max_features=params[5]\n",
        "  bootstrap=params[6]\n",
        "  class_weight=params[7]\n",
        "    \n",
        "  model=RandomForestClassifier(\n",
        "\n",
        "    n_estimators = n_estimators,\n",
        "    max_depth = max_depth,\n",
        "    min_samples_split = min_samples_split,\n",
        "    min_samples_leaf = min_samples_leaf,\n",
        "    max_features = max_features,\n",
        "    bootstrap = bootstrap,\n",
        "    class_weight = class_weight,\n",
        "    criterion = criterion\n",
        "    )\n",
        "  model.fit(X_resampled, y_resampled)\n",
        "  pred = model.predict(X_test)\n",
        "  metric_score = fbeta_score(y_test, pred, beta=0.5)\n",
        "  return 1.0 - metric_score"
      ],
      "metadata": {
        "id": "BdnbtkiiUIEk"
      },
      "execution_count": null,
      "outputs": []
    },
    {
      "cell_type": "code",
      "source": [
        "space = [\n",
        "  Integer(100,500),                                 #n_estimators     \n",
        "  Categorical(['gini', 'entropy']),                 #criterion     \n",
        "  Integer(2,100),                                    #max_depth     \n",
        "  Integer(2,1000),                                  #min_samples_split     \n",
        "  Integer(2,100),                                   #min_samples_leaf\n",
        "  Categorical(['sqrt', 'log2', None]),              #max_features\n",
        "  Categorical([True, False]),                       #bootstrap\n",
        "  Categorical([None, 'balanced'])                   #class_weight\n",
        "]"
      ],
      "metadata": {
        "id": "NVDxrbD7UT0-"
      },
      "execution_count": null,
      "outputs": []
    },
    {
      "cell_type": "code",
      "source": [
        "r = gp_minimize(\n",
        "    objective_rf, space, n_calls=10, \n",
        "    random_state=27, verbose=True\n",
        ")"
      ],
      "metadata": {
        "id": "uadaoDNwUZoz",
        "colab": {
          "base_uri": "https://localhost:8080/"
        },
        "outputId": "de4b3bce-22cf-452b-9a1c-81d8095caff1"
      },
      "execution_count": null,
      "outputs": [
        {
          "output_type": "stream",
          "name": "stdout",
          "text": [
            "Iteration No: 1 started. Evaluating function at random point.\n",
            "Iteration No: 1 ended. Evaluation done at random point.\n",
            "Time taken: 11.1359\n",
            "Function value obtained: 0.1806\n",
            "Current minimum: 0.1806\n",
            "Iteration No: 2 started. Evaluating function at random point.\n",
            "Iteration No: 2 ended. Evaluation done at random point.\n",
            "Time taken: 4.6233\n",
            "Function value obtained: 0.1778\n",
            "Current minimum: 0.1778\n",
            "Iteration No: 3 started. Evaluating function at random point.\n",
            "Iteration No: 3 ended. Evaluation done at random point.\n",
            "Time taken: 2.1155\n",
            "Function value obtained: 0.1780\n",
            "Current minimum: 0.1778\n",
            "Iteration No: 4 started. Evaluating function at random point.\n",
            "Iteration No: 4 ended. Evaluation done at random point.\n",
            "Time taken: 3.3275\n",
            "Function value obtained: 0.1788\n",
            "Current minimum: 0.1778\n",
            "Iteration No: 5 started. Evaluating function at random point.\n",
            "Iteration No: 5 ended. Evaluation done at random point.\n",
            "Time taken: 5.0174\n",
            "Function value obtained: 0.1780\n",
            "Current minimum: 0.1778\n",
            "Iteration No: 6 started. Evaluating function at random point.\n",
            "Iteration No: 6 ended. Evaluation done at random point.\n",
            "Time taken: 7.2250\n",
            "Function value obtained: 0.1782\n",
            "Current minimum: 0.1778\n",
            "Iteration No: 7 started. Evaluating function at random point.\n",
            "Iteration No: 7 ended. Evaluation done at random point.\n",
            "Time taken: 11.8223\n",
            "Function value obtained: 0.1796\n",
            "Current minimum: 0.1778\n",
            "Iteration No: 8 started. Evaluating function at random point.\n",
            "Iteration No: 8 ended. Evaluation done at random point.\n",
            "Time taken: 4.8083\n",
            "Function value obtained: 0.1786\n",
            "Current minimum: 0.1778\n",
            "Iteration No: 9 started. Evaluating function at random point.\n",
            "Iteration No: 9 ended. Evaluation done at random point.\n",
            "Time taken: 4.9574\n",
            "Function value obtained: 0.1780\n",
            "Current minimum: 0.1778\n",
            "Iteration No: 10 started. Evaluating function at random point.\n",
            "Iteration No: 10 ended. Evaluation done at random point.\n",
            "Time taken: 7.2390\n",
            "Function value obtained: 0.1804\n",
            "Current minimum: 0.1778\n"
          ]
        }
      ]
    },
    {
      "cell_type": "code",
      "source": [
        "r.x"
      ],
      "metadata": {
        "id": "jWIhcQhuUfNg",
        "colab": {
          "base_uri": "https://localhost:8080/"
        },
        "outputId": "ab5d253a-785a-4e29-de33-fb5e0b83f586"
      },
      "execution_count": null,
      "outputs": [
        {
          "output_type": "execute_result",
          "data": {
            "text/plain": [
              "[261, 'gini', 36, 818, 2, 'log2', False, None]"
            ]
          },
          "metadata": {},
          "execution_count": 484
        }
      ]
    },
    {
      "cell_type": "code",
      "source": [
        "randomf = RandomForestClassifier(n_estimators=100, criterion='gini', max_depth=95, \n",
        "                                 min_samples_split=1000, min_samples_leaf=100, max_features='sqrt', \n",
        "                                 bootstrap=False, class_weight='balanced',random_state=27)\n",
        "randomf.fit(X_train, y_train)\n",
        "pred_test = randomf.predict(X_test)\n",
        "pred_train = randomf.predict(X_train)\n",
        "\n",
        "print('Training Data')\n",
        "#print(classification_report(y_resampled, pred_train))\n",
        "print(f'Accuracy: {accuracy_score(y_train, pred_train)}')\n",
        "print(f'Precision: {precision_score(y_train, pred_train)}')\n",
        "print(f'Recall: {recall_score(y_train, pred_train)}')\n",
        "print(f'F0.5 : {fbeta_score(y_train, pred_train, beta=0.5)}')\n",
        "\n",
        "print('\\nTesting Data')\n",
        "#print(classification_report(y_test, pred_test))\n",
        "print(f'Accuracy: {accuracy_score(y_test, pred_test)}')\n",
        "print(f'Precision: {precision_score(y_test, pred_test)}')\n",
        "print(f'Recall: {recall_score(y_test, pred_test)}')\n",
        "print(f'F0.5 : {fbeta_score(y_test, pred_test, beta=0.5)}')"
      ],
      "metadata": {
        "id": "FaOh_V8hUqwC",
        "colab": {
          "base_uri": "https://localhost:8080/"
        },
        "outputId": "dbb6ad63-bc2f-4044-ee5e-5adb94485230"
      },
      "execution_count": null,
      "outputs": [
        {
          "output_type": "stream",
          "name": "stdout",
          "text": [
            "Training Data\n",
            "Accuracy: 0.8669094326324445\n",
            "Precision: 0.7988418165193538\n",
            "Recall: 0.9649036691618603\n",
            "F0.5 : 0.827318448685844\n",
            "\n",
            "Testing Data\n",
            "Accuracy: 0.8601127554615927\n",
            "Precision: 0.7933212996389891\n",
            "Recall: 0.9610058309037901\n",
            "F0.5 : 0.822007481296758\n"
          ]
        }
      ]
    },
    {
      "cell_type": "markdown",
      "source": [
        "Hasil sebelum ditunning"
      ],
      "metadata": {
        "id": "oXDxjA6VU0Ri"
      }
    },
    {
      "cell_type": "code",
      "source": [
        "r = gp_minimize(\n",
        "    objective_rf_resampled, space, n_calls=10, \n",
        "    random_state=27, verbose=True\n",
        ")"
      ],
      "metadata": {
        "id": "L-w55LuuU2GN",
        "colab": {
          "base_uri": "https://localhost:8080/"
        },
        "outputId": "44c6f68f-2b40-44df-e7b0-28b45c2a12a0"
      },
      "execution_count": null,
      "outputs": [
        {
          "output_type": "stream",
          "name": "stdout",
          "text": [
            "Iteration No: 1 started. Evaluating function at random point.\n",
            "Iteration No: 1 ended. Evaluation done at random point.\n",
            "Time taken: 9.8381\n",
            "Function value obtained: 0.1805\n",
            "Current minimum: 0.1805\n",
            "Iteration No: 2 started. Evaluating function at random point.\n",
            "Iteration No: 2 ended. Evaluation done at random point.\n",
            "Time taken: 4.8710\n",
            "Function value obtained: 0.1788\n",
            "Current minimum: 0.1788\n",
            "Iteration No: 3 started. Evaluating function at random point.\n",
            "Iteration No: 3 ended. Evaluation done at random point.\n",
            "Time taken: 2.1550\n",
            "Function value obtained: 0.1780\n",
            "Current minimum: 0.1780\n",
            "Iteration No: 4 started. Evaluating function at random point.\n",
            "Iteration No: 4 ended. Evaluation done at random point.\n",
            "Time taken: 3.5016\n",
            "Function value obtained: 0.1788\n",
            "Current minimum: 0.1780\n",
            "Iteration No: 5 started. Evaluating function at random point.\n",
            "Iteration No: 5 ended. Evaluation done at random point.\n",
            "Time taken: 5.1878\n",
            "Function value obtained: 0.1780\n",
            "Current minimum: 0.1780\n",
            "Iteration No: 6 started. Evaluating function at random point.\n",
            "Iteration No: 6 ended. Evaluation done at random point.\n",
            "Time taken: 7.6929\n",
            "Function value obtained: 0.1787\n",
            "Current minimum: 0.1780\n",
            "Iteration No: 7 started. Evaluating function at random point.\n",
            "Iteration No: 7 ended. Evaluation done at random point.\n",
            "Time taken: 14.4120\n",
            "Function value obtained: 0.1805\n",
            "Current minimum: 0.1780\n",
            "Iteration No: 8 started. Evaluating function at random point.\n",
            "Iteration No: 8 ended. Evaluation done at random point.\n",
            "Time taken: 5.0545\n",
            "Function value obtained: 0.1793\n",
            "Current minimum: 0.1780\n",
            "Iteration No: 9 started. Evaluating function at random point.\n",
            "Iteration No: 9 ended. Evaluation done at random point.\n",
            "Time taken: 4.3687\n",
            "Function value obtained: 0.1780\n",
            "Current minimum: 0.1780\n",
            "Iteration No: 10 started. Evaluating function at random point.\n",
            "Iteration No: 10 ended. Evaluation done at random point.\n",
            "Time taken: 6.4823\n",
            "Function value obtained: 0.1804\n",
            "Current minimum: 0.1780\n"
          ]
        }
      ]
    },
    {
      "cell_type": "code",
      "source": [
        "r.x"
      ],
      "metadata": {
        "id": "ylkiz3csU6q2",
        "colab": {
          "base_uri": "https://localhost:8080/"
        },
        "outputId": "16411448-a236-4d92-c5e6-bfed9f0a44ac"
      },
      "execution_count": null,
      "outputs": [
        {
          "output_type": "execute_result",
          "data": {
            "text/plain": [
              "[182, 'gini', 19, 955, 25, 'sqrt', True, 'balanced']"
            ]
          },
          "metadata": {},
          "execution_count": 489
        }
      ]
    },
    {
      "cell_type": "code",
      "source": [
        "randomf = RandomForestClassifier(n_estimators=163, criterion='gini', max_depth=22, \n",
        "                                 min_samples_split=1000, min_samples_leaf=55, max_features='sqrt', \n",
        "                                 bootstrap=False, class_weight=None,random_state=27)\n",
        "randomf.fit(X_resampled, y_resampled)\n",
        "pred_test = randomf.predict(X_test)\n",
        "pred_train = randomf.predict(X_resampled)\n",
        "\n",
        "print('Training Data')\n",
        "#print(classification_report(y_resampled, pred_train))\n",
        "print(f'Accuracy: {accuracy_score(y_resampled, pred_train)}')\n",
        "print(f'Precision: {precision_score(y_resampled, pred_train)}')\n",
        "print(f'Recall: {recall_score(y_resampled, pred_train)}')\n",
        "print(f'F0.5 : {fbeta_score(y_resampled, pred_train, beta=0.5)}')\n",
        "\n",
        "print('\\nTesting Data')\n",
        "#print(classification_report(y_test, pred_test))\n",
        "print(f'Accuracy: {accuracy_score(y_test, pred_test)}')\n",
        "print(f'Precision: {precision_score(y_test, pred_test)}')\n",
        "print(f'Recall: {recall_score(y_test, pred_test)}')\n",
        "print(f'F0.5 : {fbeta_score(y_test, pred_test, beta=0.5)}')"
      ],
      "metadata": {
        "id": "CBjULwyCVTLM",
        "colab": {
          "base_uri": "https://localhost:8080/"
        },
        "outputId": "16148cb0-cb56-4320-c4db-da6734828a86"
      },
      "execution_count": null,
      "outputs": [
        {
          "output_type": "stream",
          "name": "stdout",
          "text": [
            "Training Data\n",
            "Accuracy: 0.8710713078742819\n",
            "Precision: 0.8121091529277998\n",
            "Recall: 0.9655288948969246\n",
            "F0.5 : 0.838764605718983\n",
            "\n",
            "Testing Data\n",
            "Accuracy: 0.8606412966878083\n",
            "Precision: 0.7933313307299489\n",
            "Recall: 0.9624635568513119\n",
            "F0.5 : 0.8222291407222914\n"
          ]
        }
      ]
    },
    {
      "cell_type": "markdown",
      "source": [
        "## Decision Tree"
      ],
      "metadata": {
        "id": "-Ij2_fO_Vdu0"
      }
    },
    {
      "cell_type": "code",
      "source": [
        "def objective_dt(params):\n",
        "  criterion=params[0]\n",
        "  splitter=params[1]\n",
        "  max_depth=params[2]\n",
        "  min_samples_split=params[3]\n",
        "  min_samples_leaf=params[4]\n",
        "  max_features=params[5]\n",
        "  class_weight=params[6]\n",
        "    \n",
        "  model=DecisionTreeClassifier(\n",
        "    criterion = criterion,\n",
        "    splitter = splitter,\n",
        "    max_depth=max_depth,\n",
        "    min_samples_split = min_samples_split,\n",
        "    min_samples_leaf = min_samples_leaf,\n",
        "    max_features = max_features,\n",
        "    class_weight = class_weight,\n",
        "    )\n",
        "  model.fit(X_train, y_train)\n",
        "  pred = model.predict(X_test)\n",
        "  metric_score = fbeta_score(y_test, pred, beta=0.5)\n",
        "  return 1.0 - metric_score"
      ],
      "metadata": {
        "id": "t_TyYiLSVgLu"
      },
      "execution_count": null,
      "outputs": []
    },
    {
      "cell_type": "code",
      "source": [
        "def objective_dt_resampled(params):\n",
        "  criterion=params[0]\n",
        "  splitter=params[1]\n",
        "  max_depth=params[2]\n",
        "  min_samples_split=params[3]\n",
        "  min_samples_leaf=params[4]\n",
        "  max_features=params[5]\n",
        "  class_weight=params[6]\n",
        "    \n",
        "  model=DecisionTreeClassifier(\n",
        "    criterion = criterion,\n",
        "    splitter = splitter,\n",
        "    max_depth=max_depth,\n",
        "    min_samples_split = min_samples_split,\n",
        "    min_samples_leaf = min_samples_leaf,\n",
        "    max_features = max_features,\n",
        "    class_weight = class_weight,\n",
        "    )\n",
        "  model.fit(X_resampled, y_resampled)\n",
        "  pred = model.predict(X_test)\n",
        "  metric_score = fbeta_score(y_test, pred, beta=0.5)\n",
        "  return 1.0 - metric_score"
      ],
      "metadata": {
        "id": "zHzAtdy0VmpN"
      },
      "execution_count": null,
      "outputs": []
    },
    {
      "cell_type": "code",
      "source": [
        "space = [\n",
        "    Categorical(['gini', 'entropy']),                 #criterion  \n",
        "    Categorical(['best', 'random']),                  #splitter\n",
        "    Integer(2,100),                                    #max_depth     \n",
        "    Integer(2,1000),                                  #min_samples_split     \n",
        "    Integer(2,100),                                   #min_samples_leaf\n",
        "    Categorical(['sqrt', 'log2', None]),              #max_features\n",
        "    Categorical([None, 'balanced'])                   #class_weight\n",
        "]"
      ],
      "metadata": {
        "id": "wfCvqKYAWOW8"
      },
      "execution_count": null,
      "outputs": []
    },
    {
      "cell_type": "code",
      "source": [
        "r = gp_minimize(\n",
        "    objective_dt, space, n_calls=10, \n",
        "    random_state=27, verbose=True\n",
        ")"
      ],
      "metadata": {
        "id": "L6wYzncAWXmi",
        "colab": {
          "base_uri": "https://localhost:8080/"
        },
        "outputId": "fd290db9-6a3a-4725-fda6-8e40970f42d1"
      },
      "execution_count": null,
      "outputs": [
        {
          "output_type": "stream",
          "name": "stdout",
          "text": [
            "Iteration No: 1 started. Evaluating function at random point.\n",
            "Iteration No: 1 ended. Evaluation done at random point.\n",
            "Time taken: 0.0180\n",
            "Function value obtained: 0.1804\n",
            "Current minimum: 0.1804\n",
            "Iteration No: 2 started. Evaluating function at random point.\n",
            "Iteration No: 2 ended. Evaluation done at random point.\n",
            "Time taken: 0.0219\n",
            "Function value obtained: 0.1797\n",
            "Current minimum: 0.1797\n",
            "Iteration No: 3 started. Evaluating function at random point.\n",
            "Iteration No: 3 ended. Evaluation done at random point.\n",
            "Time taken: 0.0557\n",
            "Function value obtained: 0.1794\n",
            "Current minimum: 0.1794\n",
            "Iteration No: 4 started. Evaluating function at random point.\n",
            "Iteration No: 4 ended. Evaluation done at random point.\n",
            "Time taken: 0.0144\n",
            "Function value obtained: 0.4609\n",
            "Current minimum: 0.1794\n",
            "Iteration No: 5 started. Evaluating function at random point.\n",
            "Iteration No: 5 ended. Evaluation done at random point.\n",
            "Time taken: 0.0407\n",
            "Function value obtained: 0.1765\n",
            "Current minimum: 0.1765\n",
            "Iteration No: 6 started. Evaluating function at random point.\n",
            "Iteration No: 6 ended. Evaluation done at random point.\n",
            "Time taken: 0.0460\n",
            "Function value obtained: 0.1803\n",
            "Current minimum: 0.1765\n",
            "Iteration No: 7 started. Evaluating function at random point.\n",
            "Iteration No: 7 ended. Evaluation done at random point.\n",
            "Time taken: 0.0197\n",
            "Function value obtained: 0.1810\n",
            "Current minimum: 0.1765\n",
            "Iteration No: 8 started. Evaluating function at random point.\n",
            "Iteration No: 8 ended. Evaluation done at random point.\n",
            "Time taken: 0.0128\n",
            "Function value obtained: 0.2870\n",
            "Current minimum: 0.1765\n",
            "Iteration No: 9 started. Evaluating function at random point.\n",
            "Iteration No: 9 ended. Evaluation done at random point.\n",
            "Time taken: 0.0121\n",
            "Function value obtained: 1.0000\n",
            "Current minimum: 0.1765\n",
            "Iteration No: 10 started. Evaluating function at random point.\n",
            "Iteration No: 10 ended. Evaluation done at random point.\n",
            "Time taken: 0.9606\n",
            "Function value obtained: 0.1804\n",
            "Current minimum: 0.1765\n"
          ]
        }
      ]
    },
    {
      "cell_type": "code",
      "source": [
        "r.x"
      ],
      "metadata": {
        "id": "lbbiilb1WYUN",
        "colab": {
          "base_uri": "https://localhost:8080/"
        },
        "outputId": "feb9864e-ab83-40e0-f9b0-79ed1a64843b"
      },
      "execution_count": null,
      "outputs": [
        {
          "output_type": "execute_result",
          "data": {
            "text/plain": [
              "['gini', 'best', 22, 584, 85, None, None]"
            ]
          },
          "metadata": {},
          "execution_count": 498
        }
      ]
    },
    {
      "cell_type": "code",
      "source": [
        "decisiontree = DecisionTreeClassifier(criterion='gini', splitter='best', max_depth=51, \n",
        "                                      min_samples_split=1000, min_samples_leaf=2, \n",
        "                                      max_features='sqrt', class_weight='balanced',random_state=27)\n",
        "decisiontree.fit(X_train, y_train)\n",
        "pred_test = decisiontree.predict(X_test)\n",
        "pred_train = decisiontree.predict(X_train)\n",
        "\n",
        "print('Training Data')\n",
        "#print(classification_report(y_resampled, pred_train))\n",
        "print(f'Accuracy: {accuracy_score(y_train, pred_train)}')\n",
        "print(f'Precision: {precision_score(y_train, pred_train)}')\n",
        "print(f'Recall: {recall_score(y_train, pred_train)}')\n",
        "print(f'F0.5 : {fbeta_score(y_train, pred_train, beta=0.5)}')\n",
        "\n",
        "print('\\nTesting Data')\n",
        "#print(classification_report(y_test, pred_test))\n",
        "print(f'Accuracy: {accuracy_score(y_test, pred_test)}')\n",
        "print(f'Precision: {precision_score(y_test, pred_test)}')\n",
        "print(f'Recall: {recall_score(y_test, pred_test)}')\n",
        "print(f'F0.5 : {fbeta_score(y_test, pred_test, beta=0.5)}')"
      ],
      "metadata": {
        "id": "Fv6EoHrpWd9U",
        "colab": {
          "base_uri": "https://localhost:8080/"
        },
        "outputId": "01c450c3-8bb1-41ae-ee66-0789e0fbee30"
      },
      "execution_count": null,
      "outputs": [
        {
          "output_type": "stream",
          "name": "stdout",
          "text": [
            "Training Data\n",
            "Accuracy: 0.8674967696464231\n",
            "Precision: 0.7901526341703594\n",
            "Recall: 0.9846606945637502\n",
            "F0.5 : 0.8226537349545817\n",
            "\n",
            "Testing Data\n",
            "Accuracy: 0.8629316420014095\n",
            "Precision: 0.7864219114219114\n",
            "Recall: 0.983600583090379\n",
            "F0.5 : 0.8192690626517727\n"
          ]
        }
      ]
    },
    {
      "cell_type": "markdown",
      "source": [
        "Hasil Sebelum dituning"
      ],
      "metadata": {
        "id": "Py5WY3N2WntF"
      }
    },
    {
      "cell_type": "code",
      "source": [
        "r = gp_minimize(\n",
        "    objective_dt_resampled, space, n_calls=10, \n",
        "    random_state=27, verbose=True\n",
        ")"
      ],
      "metadata": {
        "id": "YD2c3GePWj_F",
        "colab": {
          "base_uri": "https://localhost:8080/"
        },
        "outputId": "4f77829a-084f-4483-ccd0-1ad090cea3ee"
      },
      "execution_count": null,
      "outputs": [
        {
          "output_type": "stream",
          "name": "stdout",
          "text": [
            "Iteration No: 1 started. Evaluating function at random point.\n",
            "Iteration No: 1 ended. Evaluation done at random point.\n",
            "Time taken: 0.0838\n",
            "Function value obtained: 0.1801\n",
            "Current minimum: 0.1801\n",
            "Iteration No: 2 started. Evaluating function at random point.\n",
            "Iteration No: 2 ended. Evaluation done at random point.\n",
            "Time taken: 0.0583\n",
            "Function value obtained: 0.1762\n",
            "Current minimum: 0.1762\n",
            "Iteration No: 3 started. Evaluating function at random point.\n",
            "Iteration No: 3 ended. Evaluation done at random point.\n",
            "Time taken: 0.0972\n",
            "Function value obtained: 0.1779\n",
            "Current minimum: 0.1762\n",
            "Iteration No: 4 started. Evaluating function at random point.\n",
            "Iteration No: 4 ended. Evaluation done at random point.\n",
            "Time taken: 0.0192\n",
            "Function value obtained: 0.4437\n",
            "Current minimum: 0.1762\n",
            "Iteration No: 5 started. Evaluating function at random point.\n",
            "Iteration No: 5 ended. Evaluation done at random point.\n",
            "Time taken: 0.0569\n",
            "Function value obtained: 0.1773\n",
            "Current minimum: 0.1762\n",
            "Iteration No: 6 started. Evaluating function at random point.\n",
            "Iteration No: 6 ended. Evaluation done at random point.\n",
            "Time taken: 0.1377\n",
            "Function value obtained: 0.1800\n",
            "Current minimum: 0.1762\n",
            "Iteration No: 7 started. Evaluating function at random point.\n",
            "Iteration No: 7 ended. Evaluation done at random point.\n",
            "Time taken: 0.0273\n",
            "Function value obtained: 0.1834\n",
            "Current minimum: 0.1762\n",
            "Iteration No: 8 started. Evaluating function at random point.\n",
            "Iteration No: 8 ended. Evaluation done at random point.\n",
            "Time taken: 0.0163\n",
            "Function value obtained: 0.1811\n",
            "Current minimum: 0.1762\n",
            "Iteration No: 9 started. Evaluating function at random point.\n",
            "Iteration No: 9 ended. Evaluation done at random point.\n",
            "Time taken: 0.0158\n",
            "Function value obtained: 0.1780\n",
            "Current minimum: 0.1762\n",
            "Iteration No: 10 started. Evaluating function at random point.\n",
            "Iteration No: 10 ended. Evaluation done at random point.\n",
            "Time taken: 1.2166\n",
            "Function value obtained: 0.1773\n",
            "Current minimum: 0.1762\n"
          ]
        }
      ]
    },
    {
      "cell_type": "code",
      "source": [
        "r.x"
      ],
      "metadata": {
        "id": "16OgKYwaWrM0",
        "colab": {
          "base_uri": "https://localhost:8080/"
        },
        "outputId": "c67d5d22-5ec0-4284-ea1a-d38ceb74784a"
      },
      "execution_count": null,
      "outputs": [
        {
          "output_type": "execute_result",
          "data": {
            "text/plain": [
              "['gini', 'best', 64, 350, 82, 'sqrt', None]"
            ]
          },
          "metadata": {},
          "execution_count": 502
        }
      ]
    },
    {
      "cell_type": "code",
      "source": [
        "decisiontree = DecisionTreeClassifier(criterion='entropy', splitter='best', max_depth=35, \n",
        "                                      min_samples_split=1000, min_samples_leaf=21, \n",
        "                                      max_features='sqrt', class_weight='balanced',random_state=27)\n",
        "decisiontree.fit(X_resampled, y_resampled)\n",
        "pred_test = decisiontree.predict(X_test)\n",
        "pred_train = decisiontree.predict(X_resampled)\n",
        "\n",
        "print('Training Data')\n",
        "#print(classification_report(y_resampled, pred_train))\n",
        "print(f'Accuracy: {accuracy_score(y_resampled, pred_train)}')\n",
        "print(f'Precision: {precision_score(y_resampled, pred_train)}')\n",
        "print(f'Recall: {recall_score(y_resampled, pred_train)}')\n",
        "print(f'F0.5 : {fbeta_score(y_resampled, pred_train, beta=0.5)}')\n",
        "\n",
        "print('\\nTesting Data')\n",
        "#print(classification_report(y_test, pred_test))\n",
        "print(f'Accuracy: {accuracy_score(y_test, pred_test)}')\n",
        "print(f'Precision: {precision_score(y_test, pred_test)}')\n",
        "print(f'Recall: {recall_score(y_test, pred_test)}')\n",
        "print(f'F0.5 : {fbeta_score(y_test, pred_test, beta=0.5)}')"
      ],
      "metadata": {
        "id": "3u2fSKYwWt60",
        "colab": {
          "base_uri": "https://localhost:8080/"
        },
        "outputId": "7baac61a-941e-430d-d23b-c7576ca7c020"
      },
      "execution_count": null,
      "outputs": [
        {
          "output_type": "stream",
          "name": "stdout",
          "text": [
            "Training Data\n",
            "Accuracy: 0.8680860651120874\n",
            "Precision: 0.7999632791701092\n",
            "Recall: 0.9816379407457474\n",
            "F0.5 : 0.8307117390226696\n",
            "\n",
            "Testing Data\n",
            "Accuracy: 0.8574700493305144\n",
            "Precision: 0.783641160949868\n",
            "Recall: 0.9741253644314869\n",
            "F0.5 : 0.8155357578716134\n"
          ]
        }
      ]
    },
    {
      "cell_type": "markdown",
      "source": [
        "## Gradient Boosting"
      ],
      "metadata": {
        "id": "aBzkxIJbWxKZ"
      }
    },
    {
      "cell_type": "code",
      "source": [
        "def objective_gbc(params):\n",
        "  loss=params[0]\n",
        "  learning_rate=params[1]\n",
        "  n_estimators=params[2]\n",
        "  min_samples_split=params[3]\n",
        "  min_samples_leaf=params[4]\n",
        "  max_depth=params[5]\n",
        "  max_features=params[6]\n",
        "    \n",
        "  model=GradientBoostingClassifier(\n",
        "    loss=loss,\n",
        "    learning_rate=learning_rate,\n",
        "    n_estimators=n_estimators,\n",
        "    min_samples_split=min_samples_split,\n",
        "    min_samples_leaf=min_samples_leaf,\n",
        "    max_depth=max_depth,\n",
        "    max_features=max_features,\n",
        "    )\n",
        "  model.fit(X_train, y_train)\n",
        "  pred = model.predict(X_test)\n",
        "  metric_score = fbeta_score(y_test, pred, beta=0.5)\n",
        "  return 1.0 - metric_score"
      ],
      "metadata": {
        "id": "Jqg-pBlnW6vL"
      },
      "execution_count": null,
      "outputs": []
    },
    {
      "cell_type": "code",
      "source": [
        "def objective_gbc_resampled(params):\n",
        "  loss=params[0]\n",
        "  learning_rate=params[1]\n",
        "  n_estimators=params[2]\n",
        "  min_samples_split=params[3]\n",
        "  min_samples_leaf=params[4]\n",
        "  max_depth=params[5]\n",
        "  max_features=params[6]\n",
        "    \n",
        "  model=GradientBoostingClassifier(\n",
        "    loss=loss,\n",
        "    learning_rate=learning_rate,\n",
        "    n_estimators=n_estimators,\n",
        "    min_samples_split=min_samples_split,\n",
        "    min_samples_leaf=min_samples_leaf,\n",
        "    max_depth=max_depth,\n",
        "    max_features=max_features,\n",
        "    )\n",
        "  model.fit(X_resampled, y_resampled)\n",
        "  pred = model.predict(X_test)\n",
        "  metric_score = fbeta_score(y_test, pred, beta=0.5)\n",
        "  return 1.0 - metric_score"
      ],
      "metadata": {
        "id": "5cQJ5ot5W9P-"
      },
      "execution_count": null,
      "outputs": []
    },
    {
      "cell_type": "code",
      "source": [
        "space = [\n",
        "    Categorical(['deviance', 'exponential']),         #loss  \n",
        "    Real(0.1,10.0),                                   #learning_rate\n",
        "    Integer(100,500),                                 #n_estimators\n",
        "    Integer(2,1000),                                  #min_samples_split     \n",
        "    Integer(2,100),                                   #min_samples_leaf\n",
        "    Integer(2,100),                                   #max_depth\n",
        "    Categorical([None, 'sqrt', 'log2'])               #max_features\n",
        "]"
      ],
      "metadata": {
        "id": "eqX0_fT7XB9j"
      },
      "execution_count": null,
      "outputs": []
    },
    {
      "cell_type": "code",
      "source": [
        "r = gp_minimize(\n",
        "    objective_gbc, space, n_calls=10, \n",
        "    random_state=27, verbose=True\n",
        ")"
      ],
      "metadata": {
        "id": "0nY2koUwXCRY",
        "colab": {
          "base_uri": "https://localhost:8080/"
        },
        "outputId": "6c7f0239-3344-4bc6-9208-a36a1f4d3228"
      },
      "execution_count": null,
      "outputs": [
        {
          "output_type": "stream",
          "name": "stdout",
          "text": [
            "Iteration No: 1 started. Evaluating function at random point.\n",
            "Iteration No: 1 ended. Evaluation done at random point.\n",
            "Time taken: 6.2756\n",
            "Function value obtained: 0.3078\n",
            "Current minimum: 0.3078\n",
            "Iteration No: 2 started. Evaluating function at random point.\n",
            "Iteration No: 2 ended. Evaluation done at random point.\n",
            "Time taken: 3.3280\n",
            "Function value obtained: 0.1915\n",
            "Current minimum: 0.1915\n",
            "Iteration No: 3 started. Evaluating function at random point.\n",
            "Iteration No: 3 ended. Evaluation done at random point.\n",
            "Time taken: 52.0680\n",
            "Function value obtained: 0.1712\n",
            "Current minimum: 0.1712\n",
            "Iteration No: 4 started. Evaluating function at random point.\n",
            "Iteration No: 4 ended. Evaluation done at random point.\n",
            "Time taken: 7.5390\n",
            "Function value obtained: 0.3359\n",
            "Current minimum: 0.1712\n",
            "Iteration No: 5 started. Evaluating function at random point.\n",
            "Iteration No: 5 ended. Evaluation done at random point.\n",
            "Time taken: 5.9560\n",
            "Function value obtained: 0.1804\n",
            "Current minimum: 0.1712\n",
            "Iteration No: 6 started. Evaluating function at random point.\n",
            "Iteration No: 6 ended. Evaluation done at random point.\n",
            "Time taken: 6.6300\n",
            "Function value obtained: 0.1677\n",
            "Current minimum: 0.1677\n",
            "Iteration No: 7 started. Evaluating function at random point.\n",
            "Iteration No: 7 ended. Evaluation done at random point.\n",
            "Time taken: 7.5155\n",
            "Function value obtained: 0.4014\n",
            "Current minimum: 0.1677\n",
            "Iteration No: 8 started. Evaluating function at random point.\n",
            "Iteration No: 8 ended. Evaluation done at random point.\n",
            "Time taken: 15.0176\n",
            "Function value obtained: 0.1802\n",
            "Current minimum: 0.1677\n",
            "Iteration No: 9 started. Evaluating function at random point.\n",
            "Iteration No: 9 ended. Evaluation done at random point.\n",
            "Time taken: 7.9679\n",
            "Function value obtained: 0.2452\n",
            "Current minimum: 0.1677\n",
            "Iteration No: 10 started. Evaluating function at random point.\n",
            "Iteration No: 10 ended. Evaluation done at random point.\n",
            "Time taken: 11.1086\n",
            "Function value obtained: 0.1763\n",
            "Current minimum: 0.1677\n"
          ]
        }
      ]
    },
    {
      "cell_type": "code",
      "source": [
        "r.x"
      ],
      "metadata": {
        "id": "CvOjJPcOXC-a",
        "colab": {
          "base_uri": "https://localhost:8080/"
        },
        "outputId": "ca242fdd-4b57-4134-bc03-09ea80e6752a"
      },
      "execution_count": null,
      "outputs": [
        {
          "output_type": "execute_result",
          "data": {
            "text/plain": [
              "['exponential', 0.27884514768235896, 151, 737, 22, 89, 'sqrt']"
            ]
          },
          "metadata": {},
          "execution_count": 508
        }
      ]
    },
    {
      "cell_type": "code",
      "source": [
        "gbc = GradientBoostingClassifier(loss='deviance', learning_rate=0.32462369934974167, \n",
        "                                 n_estimators=253, min_samples_split=564, \n",
        "                                 min_samples_leaf=100, max_depth=2 , \n",
        "                                 max_features='sqrt', random_state=27)\n",
        "gbc.fit(X_train, y_train)\n",
        "pred_test = gbc.predict(X_test)\n",
        "pred_train = gbc.predict(X_train)\n",
        "\n",
        "print('Training Data')\n",
        "#print(classification_report(y_train, pred_train))\n",
        "print(f'Accuracy: {accuracy_score(y_train, pred_train)}')\n",
        "print(f'Precision: {precision_score(y_train, pred_train)}')\n",
        "print(f'Recall: {recall_score(y_train, pred_train)}')\n",
        "print(f'F0.5 : {fbeta_score(y_train, pred_train, beta=0.5)}')\n",
        "\n",
        "print('\\nTesting Data')\n",
        "#print(classification_report(y_test, pred_test))\n",
        "print(f'Accuracy: {accuracy_score(y_test, pred_test)}')\n",
        "print(f'Precision: {precision_score(y_test, pred_test)}')\n",
        "print(f'Recall: {recall_score(y_test, pred_test)}')\n",
        "print(f'F0.5 : {fbeta_score(y_test, pred_test, beta=0.5)}')"
      ],
      "metadata": {
        "id": "UFFScFnOXC1v",
        "colab": {
          "base_uri": "https://localhost:8080/"
        },
        "outputId": "8fa3cc97-12df-4a70-f723-e56c5a55172c"
      },
      "execution_count": null,
      "outputs": [
        {
          "output_type": "stream",
          "name": "stdout",
          "text": [
            "Training Data\n",
            "Accuracy: 0.8796546458357806\n",
            "Precision: 0.8117334423548651\n",
            "Recall: 0.9745981101975703\n",
            "F0.5 : 0.8398012054562758\n",
            "\n",
            "Testing Data\n",
            "Accuracy: 0.8604651162790697\n",
            "Precision: 0.7955784373107208\n",
            "Recall: 0.9573615160349854\n",
            "F0.5 : 0.8234077231695086\n"
          ]
        }
      ]
    },
    {
      "cell_type": "markdown",
      "source": [
        "Sebelum tunning"
      ],
      "metadata": {
        "id": "g9zPVwztXYhL"
      }
    },
    {
      "cell_type": "code",
      "source": [
        "r = gp_minimize(\n",
        "    objective_gbc_resampled, space, n_calls=10, \n",
        "    random_state=27, verbose=True\n",
        ")"
      ],
      "metadata": {
        "id": "1htiyGuiXCtC",
        "colab": {
          "base_uri": "https://localhost:8080/"
        },
        "outputId": "f802c430-a8f5-410a-e87f-75ee8dd6b705"
      },
      "execution_count": null,
      "outputs": [
        {
          "output_type": "stream",
          "name": "stdout",
          "text": [
            "Iteration No: 1 started. Evaluating function at random point.\n",
            "Iteration No: 1 ended. Evaluation done at random point.\n",
            "Time taken: 14.9188\n",
            "Function value obtained: 0.5192\n",
            "Current minimum: 0.5192\n",
            "Iteration No: 2 started. Evaluating function at random point.\n",
            "Iteration No: 2 ended. Evaluation done at random point.\n",
            "Time taken: 2.7482\n",
            "Function value obtained: 0.1972\n",
            "Current minimum: 0.1972\n",
            "Iteration No: 3 started. Evaluating function at random point.\n",
            "Iteration No: 3 ended. Evaluation done at random point.\n",
            "Time taken: 55.5048\n",
            "Function value obtained: 0.1725\n",
            "Current minimum: 0.1725\n",
            "Iteration No: 4 started. Evaluating function at random point.\n",
            "Iteration No: 4 ended. Evaluation done at random point.\n",
            "Time taken: 7.8135\n",
            "Function value obtained: 0.3482\n",
            "Current minimum: 0.1725\n",
            "Iteration No: 5 started. Evaluating function at random point.\n",
            "Iteration No: 5 ended. Evaluation done at random point.\n",
            "Time taken: 6.3136\n",
            "Function value obtained: 0.1804\n",
            "Current minimum: 0.1725\n",
            "Iteration No: 6 started. Evaluating function at random point.\n",
            "Iteration No: 6 ended. Evaluation done at random point.\n",
            "Time taken: 6.9875\n",
            "Function value obtained: 0.1716\n",
            "Current minimum: 0.1716\n",
            "Iteration No: 7 started. Evaluating function at random point.\n",
            "Iteration No: 7 ended. Evaluation done at random point.\n",
            "Time taken: 8.3067\n",
            "Function value obtained: 0.2417\n",
            "Current minimum: 0.1716\n",
            "Iteration No: 8 started. Evaluating function at random point.\n",
            "Iteration No: 8 ended. Evaluation done at random point.\n",
            "Time taken: 21.2247\n",
            "Function value obtained: 0.1794\n",
            "Current minimum: 0.1716\n",
            "Iteration No: 9 started. Evaluating function at random point.\n",
            "Iteration No: 9 ended. Evaluation done at random point.\n",
            "Time taken: 8.8896\n",
            "Function value obtained: 0.2445\n",
            "Current minimum: 0.1716\n",
            "Iteration No: 10 started. Evaluating function at random point.\n",
            "Iteration No: 10 ended. Evaluation done at random point.\n",
            "Time taken: 11.1088\n",
            "Function value obtained: 0.1856\n",
            "Current minimum: 0.1716\n"
          ]
        }
      ]
    },
    {
      "cell_type": "code",
      "source": [
        "r.x"
      ],
      "metadata": {
        "id": "515yCA3hXazj",
        "colab": {
          "base_uri": "https://localhost:8080/"
        },
        "outputId": "d7313cb5-51ba-4ab4-ee89-9813c2f57501"
      },
      "execution_count": null,
      "outputs": [
        {
          "output_type": "execute_result",
          "data": {
            "text/plain": [
              "['exponential', 0.27884514768235896, 151, 737, 22, 89, 'sqrt']"
            ]
          },
          "metadata": {},
          "execution_count": 513
        }
      ]
    },
    {
      "cell_type": "code",
      "source": [
        "gbc = GradientBoostingClassifier(loss='deviance', learning_rate=0.1125630205638218, \n",
        "                                 n_estimators=500, min_samples_split=2, \n",
        "                                 min_samples_leaf=72, max_depth=2, \n",
        "                                 max_features='log2' ,random_state=27)\n",
        "gbc.fit(X_resampled, y_resampled)\n",
        "pred_test = gbc.predict(X_test)\n",
        "pred_train = gbc.predict(X_resampled)\n",
        "\n",
        "print('Training Data')\n",
        "#print(classification_report(y_resampled, pred_train))\n",
        "print(f'Accuracy: {accuracy_score(y_resampled, pred_train)}')\n",
        "print(f'Precision: {precision_score(y_resampled, pred_train)}')\n",
        "print(f'Recall: {recall_score(y_resampled, pred_train)}')\n",
        "print(f'F0.5 : {fbeta_score(y_resampled, pred_train, beta=0.5)}')\n",
        "\n",
        "print('\\nTesting Data')\n",
        "#print(classification_report(y_test, pred_test))\n",
        "print(f'Accuracy: {accuracy_score(y_test, pred_test)}')\n",
        "print(f'Precision: {precision_score(y_test, pred_test)}')\n",
        "print(f'Recall: {recall_score(y_test, pred_test)}')\n",
        "print(f'F0.5 : {fbeta_score(y_test, pred_test, beta=0.5)}')"
      ],
      "metadata": {
        "id": "Zfg8hOw3Xd0f",
        "colab": {
          "base_uri": "https://localhost:8080/"
        },
        "outputId": "7a282a86-f77b-420c-ad3f-1ff463c2f83c"
      },
      "execution_count": null,
      "outputs": [
        {
          "output_type": "stream",
          "name": "stdout",
          "text": [
            "Training Data\n",
            "Accuracy: 0.8809282415230371\n",
            "Precision: 0.8134210770228937\n",
            "Recall: 0.9886222823025796\n",
            "F0.5 : 0.8433109757269425\n",
            "\n",
            "Testing Data\n",
            "Accuracy: 0.8638125440451022\n",
            "Precision: 0.7909654561558902\n",
            "Recall: 0.9763119533527697\n",
            "F0.5 : 0.8221826663393076\n"
          ]
        }
      ]
    },
    {
      "cell_type": "markdown",
      "source": [
        "# Compare Models"
      ],
      "metadata": {
        "id": "ItAMY91U5z20"
      }
    },
    {
      "cell_type": "code",
      "source": [
        "model1 = LogisticRegression()\n",
        "model2 = RidgeClassifier()\n",
        "model3 = RandomForestClassifier()\n",
        "model4 = DecisionTreeClassifier()\n",
        "model5 = GradientBoostingClassifier()\n",
        "\n",
        "param1 = {}\n",
        "param1['classifier__penalty'] = ['none']\n",
        "param1['classifier__C'] = [0.8954896615626556]\n",
        "param1['classifier__fit_intercept'] = [False]\n",
        "param1['classifier__class_weight'] = ['balanced']\n",
        "param1['classifier__random_state'] = [27]\n",
        "param1['classifier__multi_class'] = ['auto']\n",
        "param1['classifier__verbose'] = [1]\n",
        "param1['classifier__warm_start'] = [True]\n",
        "param1['classifier__n_jobs'] = [-1]\n",
        "param1['classifier'] = [model1]\n",
        "\n",
        "param2 = {}\n",
        "param2['classifier__alpha'] = [1.3435359300562024]\n",
        "param2['classifier__fit_intercept'] = [False]\n",
        "param2['classifier__class_weight'] = ['balanced']\n",
        "param2['classifier__solver'] = ['lsqr']\n",
        "param2['classifier__random_state'] = [27]\n",
        "param2['classifier'] = [model2]\n",
        "\n",
        "param3 = {}\n",
        "param3['classifier__n_estimators'] = [100]\n",
        "param3['classifier__criterion'] = ['gini']\n",
        "param3['classifier__max_depth'] = [95]\n",
        "param3['classifier__min_samples_split'] = [1000]\n",
        "param3['classifier__min_samples_leaf'] = [100]\n",
        "param3['classifier__max_features'] = ['sqrt']\n",
        "param3['classifier__bootstrap'] = [False]\n",
        "param3['classifier__class_weight'] = ['balanced']\n",
        "param3['classifier__random_state'] = [27]\n",
        "param3['classifier__n_jobs'] = [-1]\n",
        "param3['classifier'] = [model3]\n",
        "\n",
        "param4 = {}\n",
        "param4['classifier__criterion'] = ['gini']\n",
        "param4['classifier__splitter'] = ['best']\n",
        "param4['classifier__max_depth'] = [51]\n",
        "param4['classifier__min_samples_split'] = [1000]\n",
        "param4['classifier__min_samples_leaf'] = [2]\n",
        "param4['classifier__max_features'] = ['sqrt']\n",
        "param4['classifier__class_weight'] = ['balanced']\n",
        "param4['classifier__random_state'] = [27]\n",
        "param4['classifier'] = [model4]\n",
        "\n",
        "param5 = {}\n",
        "param5['classifier__loss'] = ['deviance']\n",
        "param5['classifier__learning_rate'] = [0.32462369934974167]\n",
        "param5['classifier__n_estimators'] = [253]\n",
        "param5['classifier__min_samples_split'] = [564]\n",
        "param5['classifier__min_samples_leaf'] = [100]\n",
        "param5['classifier__max_depth'] = [2]\n",
        "param5['classifier__max_features'] = ['sqrt']\n",
        "param5['classifier__random_state'] = [27]\n",
        "param5['classifier'] = [model5]"
      ],
      "metadata": {
        "id": "b--uT2JoX1mm"
      },
      "execution_count": null,
      "outputs": []
    },
    {
      "cell_type": "code",
      "source": [
        "pipeline = Pipeline([('classifier', model5)])\n",
        "params = [param1, param2, param3, param4, param5]\n",
        "f05 = make_scorer(fbeta_score, beta=0.5)"
      ],
      "metadata": {
        "id": "gJbV1l1tX3Bf"
      },
      "execution_count": null,
      "outputs": []
    },
    {
      "cell_type": "code",
      "source": [
        "paramr1 = {}\n",
        "paramr1['classifier__penalty'] = ['none']\n",
        "paramr1['classifier__C'] = [0.3859051627311702]\n",
        "paramr1['classifier__fit_intercept'] = [False]\n",
        "paramr1['classifier__class_weight'] = [None]\n",
        "paramr1['classifier__random_state'] = [27]\n",
        "paramr1['classifier__multi_class'] = ['multinomial']\n",
        "paramr1['classifier__verbose'] = [5]\n",
        "paramr1['classifier__warm_start'] = [True]\n",
        "paramr1['classifier__n_jobs'] = [-1]\n",
        "paramr1['classifier'] = [model1]\n",
        "\n",
        "paramr2 = {}\n",
        "paramr2['classifier__alpha'] = [1.0196219345970365]\n",
        "paramr2['classifier__fit_intercept'] = [False]\n",
        "paramr2['classifier__class_weight'] = ['balanced']\n",
        "paramr2['classifier__solver'] = ['auto']\n",
        "paramr2['classifier__random_state'] = [27]\n",
        "paramr2['classifier'] = [model2]\n",
        "\n",
        "paramr3 = {}\n",
        "paramr3['classifier__n_estimators'] = [163]\n",
        "paramr3['classifier__criterion'] = ['gini']\n",
        "paramr3['classifier__max_depth'] = [22]\n",
        "paramr3['classifier__min_samples_split'] = [1000]\n",
        "paramr3['classifier__min_samples_leaf'] = [55]\n",
        "paramr3['classifier__max_features'] = ['sqrt']\n",
        "paramr3['classifier__bootstrap'] = [False]\n",
        "paramr3['classifier__class_weight'] = [None]\n",
        "paramr3['classifier__random_state'] = [27]\n",
        "paramr3['classifier__n_jobs'] = [-1]\n",
        "paramr3['classifier'] = [model3]\n",
        "\n",
        "paramr4 = {}\n",
        "paramr4['classifier__criterion'] = ['entropy']\n",
        "paramr4['classifier__splitter'] = ['best']\n",
        "paramr4['classifier__max_depth'] = [35]\n",
        "paramr4['classifier__min_samples_split'] = [1000]\n",
        "paramr4['classifier__min_samples_leaf'] = [21]\n",
        "paramr4['classifier__max_features'] = ['sqrt']\n",
        "paramr4['classifier__class_weight'] = ['balanced']\n",
        "paramr4['classifier__random_state'] = [27]\n",
        "paramr4['classifier'] = [model4]\n",
        "\n",
        "paramr5 = {}\n",
        "paramr5['classifier__loss'] = ['deviance']\n",
        "paramr5['classifier__learning_rate'] = [0.1125630205638218]\n",
        "paramr5['classifier__n_estimators'] = [500]\n",
        "paramr5['classifier__min_samples_split'] = [2]\n",
        "paramr5['classifier__min_samples_leaf'] = [72]\n",
        "paramr5['classifier__max_depth'] = [2]\n",
        "paramr5['classifier__max_features'] = ['log2']\n",
        "paramr5['classifier__random_state'] = [27]\n",
        "paramr5['classifier'] = [model5]"
      ],
      "metadata": {
        "id": "C_5Qsh_QYD1B"
      },
      "execution_count": null,
      "outputs": []
    },
    {
      "cell_type": "code",
      "source": [
        "pipeline = Pipeline([('classifier', model5)])\n",
        "params_resampled = [paramr1, paramr2, paramr3, paramr4, paramr5]"
      ],
      "metadata": {
        "id": "qsa79T1QYKX0"
      },
      "execution_count": null,
      "outputs": []
    },
    {
      "cell_type": "code",
      "source": [
        "gs = GridSearchCV(pipeline, params_resampled, cv=3, n_jobs=-1, scoring=f05).fit(X_resampled, y_resampled)"
      ],
      "metadata": {
        "id": "yQdHSinSYKRh"
      },
      "execution_count": null,
      "outputs": []
    },
    {
      "cell_type": "code",
      "source": [
        "gs.best_params_"
      ],
      "metadata": {
        "id": "p22BS0sEYQgY",
        "colab": {
          "base_uri": "https://localhost:8080/"
        },
        "outputId": "11af9d69-e1e4-4b8b-92f4-cc6298854875"
      },
      "execution_count": null,
      "outputs": [
        {
          "output_type": "execute_result",
          "data": {
            "text/plain": [
              "{'classifier': RandomForestClassifier(bootstrap=False, max_depth=22, max_features='sqrt',\n",
              "                        min_samples_leaf=55, min_samples_split=1000,\n",
              "                        n_estimators=163, n_jobs=-1, random_state=27),\n",
              " 'classifier__bootstrap': False,\n",
              " 'classifier__class_weight': None,\n",
              " 'classifier__criterion': 'gini',\n",
              " 'classifier__max_depth': 22,\n",
              " 'classifier__max_features': 'sqrt',\n",
              " 'classifier__min_samples_leaf': 55,\n",
              " 'classifier__min_samples_split': 1000,\n",
              " 'classifier__n_estimators': 163,\n",
              " 'classifier__n_jobs': -1,\n",
              " 'classifier__random_state': 27}"
            ]
          },
          "metadata": {},
          "execution_count": 520
        }
      ]
    },
    {
      "cell_type": "code",
      "source": [
        "randomf = RandomForestClassifier(n_estimators=163, criterion='gini', max_depth=22, \n",
        "                                 min_samples_split=1000, min_samples_leaf=55, max_features='sqrt', \n",
        "                                 bootstrap=False, class_weight=None, n_jobs=-1, random_state=27)\n",
        "randomf.fit(X_resampled, y_resampled)\n",
        "pred_test = randomf.predict(X_test)\n",
        "pred_train = randomf.predict(X_resampled)\n",
        "\n",
        "print('Training Data')\n",
        "#print(classification_report(y_resampled, pred_train))\n",
        "print(f'Accuracy: {accuracy_score(y_resampled, pred_train)}')\n",
        "print(f'Precision: {precision_score(y_resampled, pred_train)}')\n",
        "print(f'Recall: {recall_score(y_resampled, pred_train)}')\n",
        "print(f'F0.5 : {fbeta_score(y_resampled, pred_train, beta=0.5)}')\n",
        "\n",
        "print('\\nTesting Data')\n",
        "#print(classification_report(y_test, pred_test))\n",
        "print(f'Accuracy: {accuracy_score(y_test, pred_test)}')\n",
        "print(f'Precision: {precision_score(y_test, pred_test)}')\n",
        "print(f'Recall: {recall_score(y_test, pred_test)}')\n",
        "print(f'F0.5 : {fbeta_score(y_test, pred_test, beta=0.5)}')"
      ],
      "metadata": {
        "id": "W3L9YfTbYS7S",
        "colab": {
          "base_uri": "https://localhost:8080/"
        },
        "outputId": "98c1d0cb-4e4b-4c50-8ef1-433edca34428"
      },
      "execution_count": null,
      "outputs": [
        {
          "output_type": "stream",
          "name": "stdout",
          "text": [
            "Training Data\n",
            "Accuracy: 0.8710713078742819\n",
            "Precision: 0.8121091529277998\n",
            "Recall: 0.9655288948969246\n",
            "F0.5 : 0.838764605718983\n",
            "\n",
            "Testing Data\n",
            "Accuracy: 0.8606412966878083\n",
            "Precision: 0.7933313307299489\n",
            "Recall: 0.9624635568513119\n",
            "F0.5 : 0.8222291407222914\n"
          ]
        }
      ]
    },
    {
      "cell_type": "code",
      "source": [
        "from sklearn.model_selection import KFold\n",
        "from sklearn.model_selection import cross_val_score\n",
        "\n",
        "cv = KFold(n_splits=10, random_state=27, shuffle=True)\n",
        "# create model\n",
        "model = RandomForestClassifier(n_estimators=100, \n",
        "                                 criterion='gini', max_depth=95, min_samples_split=1000, \n",
        "                                 min_samples_leaf=100, max_features='sqrt', bootstrap=False, \n",
        "                                 class_weight='balanced', n_jobs=-1, random_state=27)\n",
        "# evaluate model\n",
        "scores = cross_val_score(model, X_train, y_train, scoring=f05, cv=cv, n_jobs=-1)\n",
        "# report performance\n",
        "print('\\n\\nCross-Validation accuracy: %.3f +/- %.3f' %(np.mean(scores), np.std(scores)))"
      ],
      "metadata": {
        "id": "ud5j18FnYYIh",
        "colab": {
          "base_uri": "https://localhost:8080/"
        },
        "outputId": "7e70bc77-c3e4-4c65-e296-d6253c27d764"
      },
      "execution_count": null,
      "outputs": [
        {
          "output_type": "stream",
          "name": "stdout",
          "text": [
            "\n",
            "\n",
            "Cross-Validation accuracy: 0.827 +/- 0.014\n"
          ]
        }
      ]
    },
    {
      "cell_type": "code",
      "source": [
        "from yellowbrick.model_selection import LearningCurve\n",
        "\n",
        "sizes = np.linspace(0.3, 1.0, 10)\n",
        "visualizer = LearningCurve(\n",
        "    model, cv=cv, scoring=f05, train_sizes=sizes, \n",
        ")\n",
        "\n",
        "visualizer.fit(X_train, y_train)        # Fit the data to the visualizer\n",
        "visualizer.show()           # Finalize and render the figure"
      ],
      "metadata": {
        "id": "R9jvexrxYsP3",
        "colab": {
          "base_uri": "https://localhost:8080/",
          "height": 394
        },
        "outputId": "9f4a802d-4a8e-43d3-d4ba-6f8433e9edc5"
      },
      "execution_count": null,
      "outputs": [
        {
          "output_type": "display_data",
          "data": {
            "text/plain": [
              "<Figure size 576x396 with 1 Axes>"
            ],
            "image/png": "[encoded data removed]"
          },
          "metadata": {}
        },
        {
          "output_type": "execute_result",
          "data": {
            "text/plain": [
              "<matplotlib.axes._subplots.AxesSubplot at 0x7f9f06383a50>"
            ]
          },
          "metadata": {},
          "execution_count": 524
        }
      ]
    },
    {
      "cell_type": "code",
      "source": [
        "visualizer = LearningCurve(\n",
        "    model, cv=cv, scoring=f05, train_sizes=sizes, \n",
        ")\n",
        "\n",
        "visualizer.fit(X_test, y_test)        # Fit the data to the visualizer\n",
        "visualizer.show()           # Finalize and render the figure"
      ],
      "metadata": {
        "id": "gA1uyrYsYsHO",
        "colab": {
          "base_uri": "https://localhost:8080/",
          "height": 394
        },
        "outputId": "8728ed6d-fd96-441f-afea-1ef77abd7d8f"
      },
      "execution_count": null,
      "outputs": [
        {
          "output_type": "display_data",
          "data": {
            "text/plain": [
              "<Figure size 576x396 with 1 Axes>"
            ],
            "image/png": "[encoded data removed]"
          },
          "metadata": {}
        },
        {
          "output_type": "execute_result",
          "data": {
            "text/plain": [
              "<matplotlib.axes._subplots.AxesSubplot at 0x7f9f06361050>"
            ]
          },
          "metadata": {},
          "execution_count": 526
        }
      ]
    },
    {
      "cell_type": "markdown",
      "source": [
        "#Feature Importance"
      ],
      "metadata": {
        "id": "tEZyg5xX7IL-"
      }
    },
    {
      "cell_type": "code",
      "source": [
        "\n",
        "models=[LogisticRegressionCV,RidgeClassifierCV,RandomForestClassifier,DecisionTreeClassifier,GradientBoostingClassifier]\n",
        "for i in models:\n",
        "    model = i().fit(X_train, y_train)\n",
        "    y_predict = model.predict(X_test)\n",
        "    print(classification_report(y_test, y_predict))\n",
        "    imb_rf = roc_auc_score(y_test, y_predict)\n",
        "    print('ROC-AUC Score: ',model,imb_rf)"
      ],
      "metadata": {
        "id": "1sXoEszz_pqW",
        "colab": {
          "base_uri": "https://localhost:8080/"
        },
        "outputId": "dd69b0d4-5781-4ad5-ddfc-5df3d44f40e7"
      },
      "execution_count": null,
      "outputs": [
        {
          "output_type": "stream",
          "name": "stdout",
          "text": [
            "              precision    recall  f1-score   support\n",
            "\n",
            "           0       0.78      0.89      0.83      2932\n",
            "           1       0.87      0.73      0.79      2744\n",
            "\n",
            "    accuracy                           0.81      5676\n",
            "   macro avg       0.82      0.81      0.81      5676\n",
            "weighted avg       0.82      0.81      0.81      5676\n",
            "\n",
            "ROC-AUC Score:  LogisticRegressionCV() 0.8119309797588885\n",
            "              precision    recall  f1-score   support\n",
            "\n",
            "           0       0.05      0.02      0.03      2932\n",
            "           1       0.34      0.53      0.41      2744\n",
            "\n",
            "    accuracy                           0.27      5676\n",
            "   macro avg       0.19      0.27      0.22      5676\n",
            "weighted avg       0.19      0.27      0.21      5676\n",
            "\n",
            "ROC-AUC Score:  RidgeClassifierCV(alphas=array([ 0.1,  1. , 10. ])) 0.27437464948949764\n",
            "              precision    recall  f1-score   support\n",
            "\n",
            "           0       0.84      0.84      0.84      2932\n",
            "           1       0.83      0.83      0.83      2744\n",
            "\n",
            "    accuracy                           0.83      5676\n",
            "   macro avg       0.83      0.83      0.83      5676\n",
            "weighted avg       0.83      0.83      0.83      5676\n",
            "\n",
            "ROC-AUC Score:  RandomForestClassifier() 0.8336081899140478\n",
            "              precision    recall  f1-score   support\n",
            "\n",
            "           0       0.85      0.84      0.84      2932\n",
            "           1       0.83      0.84      0.83      2744\n",
            "\n",
            "    accuracy                           0.84      5676\n",
            "   macro avg       0.84      0.84      0.84      5676\n",
            "weighted avg       0.84      0.84      0.84      5676\n",
            "\n",
            "ROC-AUC Score:  DecisionTreeClassifier() 0.8372174537326136\n",
            "              precision    recall  f1-score   support\n",
            "\n",
            "           0       0.96      0.76      0.85      2932\n",
            "           1       0.79      0.97      0.87      2744\n",
            "\n",
            "    accuracy                           0.86      5676\n",
            "   macro avg       0.88      0.86      0.86      5676\n",
            "weighted avg       0.88      0.86      0.86      5676\n",
            "\n",
            "ROC-AUC Score:  GradientBoostingClassifier() 0.8649102693113886\n"
          ]
        }
      ]
    },
    {
      "cell_type": "code",
      "source": [
        "y_pred = randomf.predict(X_test)"
      ],
      "metadata": {
        "id": "afzfVzTlWHIb"
      },
      "execution_count": null,
      "outputs": []
    },
    {
      "cell_type": "code",
      "source": [
        "# Instantiate the best model after hyperparameter tuning\n",
        "rf = RandomForestClassifier(criterion = 'entropy', max_depth = 10, min_samples_leaf = 50)\n",
        "\n",
        "# Fit the model\n",
        "rf.fit(X_train, y_train)\n",
        "\n",
        "# Predict probabilities\n",
        "y_pred_probs = rf.predict_proba(X_test)[:, 1]\n",
        "\n",
        "print(y_pred_probs[:10])"
      ],
      "metadata": {
        "colab": {
          "base_uri": "https://localhost:8080/"
        },
        "id": "k8THBEI0NT8Q",
        "outputId": "1fd881ed-418a-43cd-f6c8-7c7e97727b29"
      },
      "execution_count": null,
      "outputs": [
        {
          "output_type": "stream",
          "name": "stdout",
          "text": [
            "[0.99747401 0.62356526 0.0149986  0.55647941 0.65209507 0.00202331\n",
            " 0.98190442 0.00290661 0.00309446 0.60497708]\n"
          ]
        }
      ]
    },
    {
      "cell_type": "code",
      "source": [
        "# Import roc_curve\n",
        "from sklearn.metrics import roc_curve\n",
        "\n",
        "# Generate ROC curve values: fpr, tpr, thresholds\n",
        "fpr, tpr, thresholds = roc_curve(y_test, y_pred_probs)\n",
        "\n",
        "plt.plot([0, 1], [0, 1], 'k--')\n",
        "\n",
        "# Plot tpr against fpr\n",
        "plt.plot(fpr, tpr)\n",
        "plt.xlabel('False Positive Rate')\n",
        "plt.ylabel('True Positive Rate')\n",
        "plt.title('ROC Curve for Churn Prediction')\n",
        "plt.show()"
      ],
      "metadata": {
        "colab": {
          "base_uri": "https://localhost:8080/",
          "height": 386
        },
        "id": "cxmwVU11PQM0",
        "outputId": "e48c8c60-ce88-4aee-8a48-680baa4497fd"
      },
      "execution_count": null,
      "outputs": [
        {
          "output_type": "display_data",
          "data": {
            "text/plain": [
              "<Figure size 576x396 with 1 Axes>"
            ],
            "image/png": "[encoded data removed]"
          },
          "metadata": {}
        }
      ]
    },
    {
      "cell_type": "code",
      "source": [
        "# Import roc_auc_score\n",
        "from sklearn.metrics import roc_auc_score\n",
        "\n",
        "# Calculate roc_auc_score\n",
        "print(roc_auc_score(y_test, y_pred_probs))\n",
        "\n",
        "# Calculate the confusion matrix\n",
        "print(confusion_matrix(y_test, y_pred))\n",
        "\n",
        "# Calculate the classification report\n",
        "print(classification_report(y_test, y_pred))"
      ],
      "metadata": {
        "colab": {
          "base_uri": "https://localhost:8080/"
        },
        "id": "IfDwHdmrPVIK",
        "outputId": "db79b953-4b7d-4edc-925c-bdd2958d8091"
      },
      "execution_count": null,
      "outputs": [
        {
          "output_type": "stream",
          "name": "stdout",
          "text": [
            "0.9454106615848444\n",
            "[[2244  688]\n",
            " [ 103 2641]]\n",
            "              precision    recall  f1-score   support\n",
            "\n",
            "           0       0.96      0.77      0.85      2932\n",
            "           1       0.79      0.96      0.87      2744\n",
            "\n",
            "    accuracy                           0.86      5676\n",
            "   macro avg       0.87      0.86      0.86      5676\n",
            "weighted avg       0.88      0.86      0.86      5676\n",
            "\n"
          ]
        }
      ]
    },
    {
      "cell_type": "code",
      "source": [
        "rf.feature_importances_"
      ],
      "metadata": {
        "colab": {
          "base_uri": "https://localhost:8080/"
        },
        "id": "fLuFIWZIXjDs",
        "outputId": "12927a58-beb1-4836-f2aa-17d4b902204d"
      },
      "execution_count": null,
      "outputs": [
        {
          "output_type": "execute_result",
          "data": {
            "text/plain": [
              "array([0.30965332, 0.13886048, 0.02952124, 0.51926718, 0.00269778])"
            ]
          },
          "metadata": {},
          "execution_count": 539
        }
      ]
    },
    {
      "cell_type": "code",
      "source": [
        "fitur = pd.DataFrame({'feature':X_train.columns, 'coef':rf.feature_importances_})"
      ],
      "metadata": {
        "id": "e1I8FEysaOEf"
      },
      "execution_count": null,
      "outputs": []
    },
    {
      "cell_type": "code",
      "source": [
        "fitur.sort_values(by='coef').sort_values(by='coef', ascending=False)"
      ],
      "metadata": {
        "colab": {
          "base_uri": "https://localhost:8080/",
          "height": 206
        },
        "id": "DgBdRiqEaRZZ",
        "outputId": "5131d205-c0bc-45c2-ba8e-f30dac3f6ecc"
      },
      "execution_count": null,
      "outputs": [
        {
          "output_type": "execute_result",
          "data": {
            "text/plain": [
              "            feature      coef\n",
              "3     segment_first  0.519267\n",
              "0       total_order  0.309653\n",
              "1       total_sales  0.138860\n",
              "2       basket_size  0.029521\n",
              "4  segment_monetary  0.002698"
            ],
            "text/html": [
              "\n",
              "  <div id=\"df-aa7656ee-fc62-4135-8041-07ec2ebcdcc7\">\n",
              "    <div class=\"colab-df-container\">\n",
              "      <div>\n",
              "<style scoped>\n",
              "    .dataframe tbody tr th:only-of-type {\n",
              "        vertical-align: middle;\n",
              "    }\n",
              "\n",
              "    .dataframe tbody tr th {\n",
              "        vertical-align: top;\n",
              "    }\n",
              "\n",
              "    .dataframe thead th {\n",
              "        text-align: right;\n",
              "    }\n",
              "</style>\n",
              "<table border=\"1\" class=\"dataframe\">\n",
              "  <thead>\n",
              "    <tr style=\"text-align: right;\">\n",
              "      <th></th>\n",
              "      <th>feature</th>\n",
              "      <th>coef</th>\n",
              "    </tr>\n",
              "  </thead>\n",
              "  <tbody>\n",
              "    <tr>\n",
              "      <th>3</th>\n",
              "      <td>segment_first</td>\n",
              "      <td>0.519267</td>\n",
              "    </tr>\n",
              "    <tr>\n",
              "      <th>0</th>\n",
              "      <td>total_order</td>\n",
              "      <td>0.309653</td>\n",
              "    </tr>\n",
              "    <tr>\n",
              "      <th>1</th>\n",
              "      <td>total_sales</td>\n",
              "      <td>0.138860</td>\n",
              "    </tr>\n",
              "    <tr>\n",
              "      <th>2</th>\n",
              "      <td>basket_size</td>\n",
              "      <td>0.029521</td>\n",
              "    </tr>\n",
              "    <tr>\n",
              "      <th>4</th>\n",
              "      <td>segment_monetary</td>\n",
              "      <td>0.002698</td>\n",
              "    </tr>\n",
              "  </tbody>\n",
              "</table>\n",
              "</div>\n",
              "      <button class=\"colab-df-convert\" onclick=\"convertToInteractive('df-aa7656ee-fc62-4135-8041-07ec2ebcdcc7')\"\n",
              "              title=\"Convert this dataframe to an interactive table.\"\n",
              "              style=\"display:none;\">\n",
              "        \n",
              "  <svg xmlns=\"http://www.w3.org/2000/svg\" height=\"24px\"viewBox=\"0 0 24 24\"\n",
              "       width=\"24px\">\n",
              "    <path d=\"M0 0h24v24H0V0z\" fill=\"none\"/>\n",
              "    <path d=\"M18.56 5.44l.94 2.06.94-2.06 2.06-.94-2.06-.94-.94-2.06-.94 2.06-2.06.94zm-11 1L8.5 8.5l.94-2.06 2.06-.94-2.06-.94L8.5 2.5l-.94 2.06-2.06.94zm10 10l.94 2.06.94-2.06 2.06-.94-2.06-.94-.94-2.06-.94 2.06-2.06.94z\"/><path d=\"M17.41 7.96l-1.37-1.37c-.4-.4-.92-.59-1.43-.59-.52 0-1.04.2-1.43.59L10.3 9.45l-7.72 7.72c-.78.78-.78 2.05 0 2.83L4 21.41c.39.39.9.59 1.41.59.51 0 1.02-.2 1.41-.59l7.78-7.78 2.81-2.81c.8-.78.8-2.07 0-2.86zM5.41 20L4 18.59l7.72-7.72 1.47 1.35L5.41 20z\"/>\n",
              "  </svg>\n",
              "      </button>\n",
              "      \n",
              "  <style>\n",
              "    .colab-df-container {\n",
              "      display:flex;\n",
              "      flex-wrap:wrap;\n",
              "      gap: 12px;\n",
              "    }\n",
              "\n",
              "    .colab-df-convert {\n",
              "      background-color: #E8F0FE;\n",
              "      border: none;\n",
              "      border-radius: 50%;\n",
              "      cursor: pointer;\n",
              "      display: none;\n",
              "      fill: #1967D2;\n",
              "      height: 32px;\n",
              "      padding: 0 0 0 0;\n",
              "      width: 32px;\n",
              "    }\n",
              "\n",
              "    .colab-df-convert:hover {\n",
              "      background-color: #E2EBFA;\n",
              "      box-shadow: 0px 1px 2px rgba(60, 64, 67, 0.3), 0px 1px 3px 1px rgba(60, 64, 67, 0.15);\n",
              "      fill: #174EA6;\n",
              "    }\n",
              "\n",
              "    [theme=dark] .colab-df-convert {\n",
              "      background-color: #3B4455;\n",
              "      fill: #D2E3FC;\n",
              "    }\n",
              "\n",
              "    [theme=dark] .colab-df-convert:hover {\n",
              "      background-color: #434B5C;\n",
              "      box-shadow: 0px 1px 3px 1px rgba(0, 0, 0, 0.15);\n",
              "      filter: drop-shadow(0px 1px 2px rgba(0, 0, 0, 0.3));\n",
              "      fill: #FFFFFF;\n",
              "    }\n",
              "  </style>\n",
              "\n",
              "      <script>\n",
              "        const buttonEl =\n",
              "          document.querySelector('#df-aa7656ee-fc62-4135-8041-07ec2ebcdcc7 button.colab-df-convert');\n",
              "        buttonEl.style.display =\n",
              "          google.colab.kernel.accessAllowed ? 'block' : 'none';\n",
              "\n",
              "        async function convertToInteractive(key) {\n",
              "          const element = document.querySelector('#df-aa7656ee-fc62-4135-8041-07ec2ebcdcc7');\n",
              "          const dataTable =\n",
              "            await google.colab.kernel.invokeFunction('convertToInteractive',\n",
              "                                                     [key], {});\n",
              "          if (!dataTable) return;\n",
              "\n",
              "          const docLinkHtml = 'Like what you see? Visit the ' +\n",
              "            '<a target=\"_blank\" href=https://colab.research.google.com/notebooks/data_table.ipynb>data table notebook</a>'\n",
              "            + ' to learn more about interactive tables.';\n",
              "          element.innerHTML = '';\n",
              "          dataTable['output_type'] = 'display_data';\n",
              "          await google.colab.output.renderOutput(dataTable, element);\n",
              "          const docLink = document.createElement('div');\n",
              "          docLink.innerHTML = docLinkHtml;\n",
              "          element.appendChild(docLink);\n",
              "        }\n",
              "      </script>\n",
              "    </div>\n",
              "  </div>\n",
              "  "
            ]
          },
          "metadata": {},
          "execution_count": 541
        }
      ]
    },
    {
      "cell_type": "code",
      "source": [
        "plt.figure(figsize=(12,10))\n",
        "sns.barplot(data=fitur.sort_values(by='coef', ascending=False), y=\"feature\", x=\"coef\")"
      ],
      "metadata": {
        "colab": {
          "base_uri": "https://localhost:8080/",
          "height": 633
        },
        "id": "7NPg-AZ6aaBN",
        "outputId": "7031c6ad-080d-4d0c-e35e-303a5af38991"
      },
      "execution_count": null,
      "outputs": [
        {
          "output_type": "execute_result",
          "data": {
            "text/plain": [
              "<matplotlib.axes._subplots.AxesSubplot at 0x7f9ef88b6d50>"
            ]
          },
          "metadata": {},
          "execution_count": 543
        },
        {
          "output_type": "display_data",
          "data": {
            "text/plain": [
              "<Figure size 864x720 with 1 Axes>"
            ],
            "image/png": "[encoded data removed]"
          },
          "metadata": {}
        }
      ]
    },
    {
      "cell_type": "markdown",
      "source": [
        "# Feature Selection"
      ],
      "metadata": {
        "id": "LoeP3Ab4cqPy"
      }
    },
    {
      "cell_type": "code",
      "source": [
        "from sklearn.feature_selection import RFE\n",
        "rfe = RFE(rf, step = 15)\n",
        "rfe = rfe.fit(X, y)"
      ],
      "metadata": {
        "id": "rAuupRsrbkR7"
      },
      "execution_count": null,
      "outputs": []
    },
    {
      "cell_type": "code",
      "source": [
        "# Getting the predicted values on the full dataset\n",
        "y_train_pred = rf.predict(X)\n",
        "y_train_pred[:10]"
      ],
      "metadata": {
        "colab": {
          "base_uri": "https://localhost:8080/"
        },
        "id": "CbdldIpFcy0o",
        "outputId": "1acfc311-7ade-4592-b4c2-d3487efbe16a"
      },
      "execution_count": null,
      "outputs": [
        {
          "output_type": "execute_result",
          "data": {
            "text/plain": [
              "array([1, 1, 0, 0, 0, 1, 1, 1, 1, 1])"
            ]
          },
          "metadata": {},
          "execution_count": 563
        }
      ]
    },
    {
      "cell_type": "code",
      "source": [
        "rfe.support_"
      ],
      "metadata": {
        "colab": {
          "base_uri": "https://localhost:8080/"
        },
        "id": "pysDaH0Rc1sK",
        "outputId": "0edb6d6a-7b6e-43e8-f6ce-7d40b463efc2"
      },
      "execution_count": null,
      "outputs": [
        {
          "output_type": "execute_result",
          "data": {
            "text/plain": [
              "array([ True, False, False,  True, False])"
            ]
          },
          "metadata": {},
          "execution_count": 564
        }
      ]
    },
    {
      "cell_type": "code",
      "source": [
        "list(zip(X.columns, rfe.support_, rfe.ranking_))"
      ],
      "metadata": {
        "colab": {
          "base_uri": "https://localhost:8080/"
        },
        "id": "jtzpFFpPc4qs",
        "outputId": "4e0a3e2d-e93f-4b42-e228-c6382b11f1fe"
      },
      "execution_count": null,
      "outputs": [
        {
          "output_type": "execute_result",
          "data": {
            "text/plain": [
              "[('total_order', True, 1),\n",
              " ('total_sales', False, 2),\n",
              " ('basket_size', False, 2),\n",
              " ('segment_first', True, 1),\n",
              " ('segment_monetary', False, 2)]"
            ]
          },
          "metadata": {},
          "execution_count": 565
        }
      ]
    },
    {
      "cell_type": "code",
      "source": [
        "# col = X_train.columns[rfe.support_]\n",
        "col = X.columns\n",
        "X.columns[~rfe.support_]"
      ],
      "metadata": {
        "colab": {
          "base_uri": "https://localhost:8080/"
        },
        "id": "3ofWUKD3c8SF",
        "outputId": "18910b2f-2e35-4cc0-b01e-64e748a8051b"
      },
      "execution_count": null,
      "outputs": [
        {
          "output_type": "execute_result",
          "data": {
            "text/plain": [
              "Index(['total_sales', 'basket_size', 'segment_monetary'], dtype='object')"
            ]
          },
          "metadata": {},
          "execution_count": 566
        }
      ]
    },
    {
      "cell_type": "code",
      "source": [
        "import statsmodels.api as sm\n",
        "X_sm = sm.add_constant(X[col])\n",
        "logm2 = sm.GLM(y,X_sm, family = sm.families.Binomial())\n",
        "res = logm2.fit()\n",
        "res.summary()"
      ],
      "metadata": {
        "colab": {
          "base_uri": "https://localhost:8080/",
          "height": 380
        },
        "id": "cFUX2Yulc_UJ",
        "outputId": "11b234c7-87a1-4949-9caa-e756a5aa43df"
      },
      "execution_count": null,
      "outputs": [
        {
          "output_type": "execute_result",
          "data": {
            "text/plain": [
              "<class 'statsmodels.iolib.summary.Summary'>\n",
              "\"\"\"\n",
              "                 Generalized Linear Model Regression Results                  \n",
              "==============================================================================\n",
              "Dep. Variable:          segment_churn   No. Observations:                22702\n",
              "Model:                            GLM   Df Residuals:                    22696\n",
              "Model Family:                Binomial   Df Model:                            5\n",
              "Link Function:                  logit   Scale:                          1.0000\n",
              "Method:                          IRLS   Log-Likelihood:                -7447.4\n",
              "Date:                Sun, 20 Nov 2022   Deviance:                       14895.\n",
              "Time:                        14:43:00   Pearson chi2:                 1.35e+16\n",
              "No. Iterations:                    10                                         \n",
              "Covariance Type:            nonrobust                                         \n",
              "====================================================================================\n",
              "                       coef    std err          z      P>|z|      [0.025      0.975]\n",
              "------------------------------------------------------------------------------------\n",
              "const               -0.1842      0.075     -2.470      0.014      -0.330      -0.038\n",
              "total_order          0.0824      0.007     11.366      0.000       0.068       0.097\n",
              "total_sales       5.021e-08   1.22e-08      4.114      0.000    2.63e-08    7.41e-08\n",
              "basket_size      -3.317e-07   9.68e-08     -3.427      0.001   -5.21e-07   -1.42e-07\n",
              "segment_first       -1.4482      0.034    -42.267      0.000      -1.515      -1.381\n",
              "segment_monetary     0.0414      0.035      1.170      0.242      -0.028       0.111\n",
              "====================================================================================\n",
              "\"\"\""
            ],
            "text/html": [
              "<table class=\"simpletable\">\n",
              "<caption>Generalized Linear Model Regression Results</caption>\n",
              "<tr>\n",
              "  <th>Dep. Variable:</th>     <td>segment_churn</td>  <th>  No. Observations:  </th>  <td> 22702</td> \n",
              "</tr>\n",
              "<tr>\n",
              "  <th>Model:</th>                  <td>GLM</td>       <th>  Df Residuals:      </th>  <td> 22696</td> \n",
              "</tr>\n",
              "<tr>\n",
              "  <th>Model Family:</th>        <td>Binomial</td>     <th>  Df Model:          </th>  <td>     5</td> \n",
              "</tr>\n",
              "<tr>\n",
              "  <th>Link Function:</th>         <td>logit</td>      <th>  Scale:             </th> <td>  1.0000</td>\n",
              "</tr>\n",
              "<tr>\n",
              "  <th>Method:</th>                <td>IRLS</td>       <th>  Log-Likelihood:    </th> <td> -7447.4</td>\n",
              "</tr>\n",
              "<tr>\n",
              "  <th>Date:</th>            <td>Sun, 20 Nov 2022</td> <th>  Deviance:          </th> <td>  14895.</td>\n",
              "</tr>\n",
              "<tr>\n",
              "  <th>Time:</th>                <td>14:43:00</td>     <th>  Pearson chi2:      </th> <td>1.35e+16</td>\n",
              "</tr>\n",
              "<tr>\n",
              "  <th>No. Iterations:</th>         <td>10</td>        <th>                     </th>     <td> </td>   \n",
              "</tr>\n",
              "<tr>\n",
              "  <th>Covariance Type:</th>     <td>nonrobust</td>    <th>                     </th>     <td> </td>   \n",
              "</tr>\n",
              "</table>\n",
              "<table class=\"simpletable\">\n",
              "<tr>\n",
              "          <td></td>            <th>coef</th>     <th>std err</th>      <th>z</th>      <th>P>|z|</th>  <th>[0.025</th>    <th>0.975]</th>  \n",
              "</tr>\n",
              "<tr>\n",
              "  <th>const</th>            <td>   -0.1842</td> <td>    0.075</td> <td>   -2.470</td> <td> 0.014</td> <td>   -0.330</td> <td>   -0.038</td>\n",
              "</tr>\n",
              "<tr>\n",
              "  <th>total_order</th>      <td>    0.0824</td> <td>    0.007</td> <td>   11.366</td> <td> 0.000</td> <td>    0.068</td> <td>    0.097</td>\n",
              "</tr>\n",
              "<tr>\n",
              "  <th>total_sales</th>      <td> 5.021e-08</td> <td> 1.22e-08</td> <td>    4.114</td> <td> 0.000</td> <td> 2.63e-08</td> <td> 7.41e-08</td>\n",
              "</tr>\n",
              "<tr>\n",
              "  <th>basket_size</th>      <td>-3.317e-07</td> <td> 9.68e-08</td> <td>   -3.427</td> <td> 0.001</td> <td>-5.21e-07</td> <td>-1.42e-07</td>\n",
              "</tr>\n",
              "<tr>\n",
              "  <th>segment_first</th>    <td>   -1.4482</td> <td>    0.034</td> <td>  -42.267</td> <td> 0.000</td> <td>   -1.515</td> <td>   -1.381</td>\n",
              "</tr>\n",
              "<tr>\n",
              "  <th>segment_monetary</th> <td>    0.0414</td> <td>    0.035</td> <td>    1.170</td> <td> 0.242</td> <td>   -0.028</td> <td>    0.111</td>\n",
              "</tr>\n",
              "</table>"
            ]
          },
          "metadata": {},
          "execution_count": 567
        }
      ]
    },
    {
      "cell_type": "code",
      "source": [
        "# Getting the predicted values on the train set\n",
        "y_full_pred = res.predict(X_sm)\n",
        "y_full_pred[:10]"
      ],
      "metadata": {
        "colab": {
          "base_uri": "https://localhost:8080/"
        },
        "id": "8mNXw-aydHO9",
        "outputId": "83c8e709-4d02-4489-b21d-c29caf62ce76"
      },
      "execution_count": null,
      "outputs": [
        {
          "output_type": "execute_result",
          "data": {
            "text/plain": [
              "0    0.540049\n",
              "1    0.764332\n",
              "2    0.320085\n",
              "3    0.011071\n",
              "4    0.011442\n",
              "5    0.562085\n",
              "6    0.973501\n",
              "7    0.691651\n",
              "8    0.753099\n",
              "9    0.787618\n",
              "dtype: float64"
            ]
          },
          "metadata": {},
          "execution_count": 568
        }
      ]
    },
    {
      "cell_type": "code",
      "source": [
        "y_full_pred = y_full_pred.values.reshape(-1)\n",
        "y_full_pred[:10]"
      ],
      "metadata": {
        "colab": {
          "base_uri": "https://localhost:8080/"
        },
        "id": "MpJLejygdKDM",
        "outputId": "7fcd7803-04f4-4f85-feac-25b015e86c96"
      },
      "execution_count": null,
      "outputs": [
        {
          "output_type": "execute_result",
          "data": {
            "text/plain": [
              "array([0.54004887, 0.7643318 , 0.32008476, 0.0110712 , 0.01144155,\n",
              "       0.56208476, 0.973501  , 0.69165126, 0.75309884, 0.78761801])"
            ]
          },
          "metadata": {},
          "execution_count": 569
        }
      ]
    },
    {
      "cell_type": "code",
      "source": [
        "y_full_pred_final = pd.DataFrame({'Churn':y.values, 'Churn_Prob':y_full_pred})\n",
        "y_full_pred_final['customer_id'] = segm_raw['customer_id']\n",
        "y_full_pred_final"
      ],
      "metadata": {
        "colab": {
          "base_uri": "https://localhost:8080/",
          "height": 423
        },
        "id": "flZTsrdydN5c",
        "outputId": "8e37962d-45e1-47f1-f8a7-a11153daeeb8"
      },
      "execution_count": null,
      "outputs": [
        {
          "output_type": "execute_result",
          "data": {
            "text/plain": [
              "       Churn  Churn_Prob  customer_id\n",
              "0          1    0.540049            3\n",
              "1          0    0.764332            8\n",
              "2          0    0.320085            9\n",
              "3          0    0.011071           11\n",
              "4          0    0.011442           15\n",
              "...      ...         ...          ...\n",
              "22697      1    0.003110        44872\n",
              "22698      1    0.003110        44874\n",
              "22699      1    0.003110        44875\n",
              "22700      1    0.003110        44876\n",
              "22701      1    0.003110        44880\n",
              "\n",
              "[22702 rows x 3 columns]"
            ],
            "text/html": [
              "\n",
              "  <div id=\"df-8334e5e5-094c-4046-9007-7cf3e6a0ace3\">\n",
              "    <div class=\"colab-df-container\">\n",
              "      <div>\n",
              "<style scoped>\n",
              "    .dataframe tbody tr th:only-of-type {\n",
              "        vertical-align: middle;\n",
              "    }\n",
              "\n",
              "    .dataframe tbody tr th {\n",
              "        vertical-align: top;\n",
              "    }\n",
              "\n",
              "    .dataframe thead th {\n",
              "        text-align: right;\n",
              "    }\n",
              "</style>\n",
              "<table border=\"1\" class=\"dataframe\">\n",
              "  <thead>\n",
              "    <tr style=\"text-align: right;\">\n",
              "      <th></th>\n",
              "      <th>Churn</th>\n",
              "      <th>Churn_Prob</th>\n",
              "      <th>customer_id</th>\n",
              "    </tr>\n",
              "  </thead>\n",
              "  <tbody>\n",
              "    <tr>\n",
              "      <th>0</th>\n",
              "      <td>1</td>\n",
              "      <td>0.540049</td>\n",
              "      <td>3</td>\n",
              "    </tr>\n",
              "    <tr>\n",
              "      <th>1</th>\n",
              "      <td>0</td>\n",
              "      <td>0.764332</td>\n",
              "      <td>8</td>\n",
              "    </tr>\n",
              "    <tr>\n",
              "      <th>2</th>\n",
              "      <td>0</td>\n",
              "      <td>0.320085</td>\n",
              "      <td>9</td>\n",
              "    </tr>\n",
              "    <tr>\n",
              "      <th>3</th>\n",
              "      <td>0</td>\n",
              "      <td>0.011071</td>\n",
              "      <td>11</td>\n",
              "    </tr>\n",
              "    <tr>\n",
              "      <th>4</th>\n",
              "      <td>0</td>\n",
              "      <td>0.011442</td>\n",
              "      <td>15</td>\n",
              "    </tr>\n",
              "    <tr>\n",
              "      <th>...</th>\n",
              "      <td>...</td>\n",
              "      <td>...</td>\n",
              "      <td>...</td>\n",
              "    </tr>\n",
              "    <tr>\n",
              "      <th>22697</th>\n",
              "      <td>1</td>\n",
              "      <td>0.003110</td>\n",
              "      <td>44872</td>\n",
              "    </tr>\n",
              "    <tr>\n",
              "      <th>22698</th>\n",
              "      <td>1</td>\n",
              "      <td>0.003110</td>\n",
              "      <td>44874</td>\n",
              "    </tr>\n",
              "    <tr>\n",
              "      <th>22699</th>\n",
              "      <td>1</td>\n",
              "      <td>0.003110</td>\n",
              "      <td>44875</td>\n",
              "    </tr>\n",
              "    <tr>\n",
              "      <th>22700</th>\n",
              "      <td>1</td>\n",
              "      <td>0.003110</td>\n",
              "      <td>44876</td>\n",
              "    </tr>\n",
              "    <tr>\n",
              "      <th>22701</th>\n",
              "      <td>1</td>\n",
              "      <td>0.003110</td>\n",
              "      <td>44880</td>\n",
              "    </tr>\n",
              "  </tbody>\n",
              "</table>\n",
              "<p>22702 rows × 3 columns</p>\n",
              "</div>\n",
              "      <button class=\"colab-df-convert\" onclick=\"convertToInteractive('df-8334e5e5-094c-4046-9007-7cf3e6a0ace3')\"\n",
              "              title=\"Convert this dataframe to an interactive table.\"\n",
              "              style=\"display:none;\">\n",
              "        \n",
              "  <svg xmlns=\"http://www.w3.org/2000/svg\" height=\"24px\"viewBox=\"0 0 24 24\"\n",
              "       width=\"24px\">\n",
              "    <path d=\"M0 0h24v24H0V0z\" fill=\"none\"/>\n",
              "    <path d=\"M18.56 5.44l.94 2.06.94-2.06 2.06-.94-2.06-.94-.94-2.06-.94 2.06-2.06.94zm-11 1L8.5 8.5l.94-2.06 2.06-.94-2.06-.94L8.5 2.5l-.94 2.06-2.06.94zm10 10l.94 2.06.94-2.06 2.06-.94-2.06-.94-.94-2.06-.94 2.06-2.06.94z\"/><path d=\"M17.41 7.96l-1.37-1.37c-.4-.4-.92-.59-1.43-.59-.52 0-1.04.2-1.43.59L10.3 9.45l-7.72 7.72c-.78.78-.78 2.05 0 2.83L4 21.41c.39.39.9.59 1.41.59.51 0 1.02-.2 1.41-.59l7.78-7.78 2.81-2.81c.8-.78.8-2.07 0-2.86zM5.41 20L4 18.59l7.72-7.72 1.47 1.35L5.41 20z\"/>\n",
              "  </svg>\n",
              "      </button>\n",
              "      \n",
              "  <style>\n",
              "    .colab-df-container {\n",
              "      display:flex;\n",
              "      flex-wrap:wrap;\n",
              "      gap: 12px;\n",
              "    }\n",
              "\n",
              "    .colab-df-convert {\n",
              "      background-color: #E8F0FE;\n",
              "      border: none;\n",
              "      border-radius: 50%;\n",
              "      cursor: pointer;\n",
              "      display: none;\n",
              "      fill: #1967D2;\n",
              "      height: 32px;\n",
              "      padding: 0 0 0 0;\n",
              "      width: 32px;\n",
              "    }\n",
              "\n",
              "    .colab-df-convert:hover {\n",
              "      background-color: #E2EBFA;\n",
              "      box-shadow: 0px 1px 2px rgba(60, 64, 67, 0.3), 0px 1px 3px 1px rgba(60, 64, 67, 0.15);\n",
              "      fill: #174EA6;\n",
              "    }\n",
              "\n",
              "    [theme=dark] .colab-df-convert {\n",
              "      background-color: #3B4455;\n",
              "      fill: #D2E3FC;\n",
              "    }\n",
              "\n",
              "    [theme=dark] .colab-df-convert:hover {\n",
              "      background-color: #434B5C;\n",
              "      box-shadow: 0px 1px 3px 1px rgba(0, 0, 0, 0.15);\n",
              "      filter: drop-shadow(0px 1px 2px rgba(0, 0, 0, 0.3));\n",
              "      fill: #FFFFFF;\n",
              "    }\n",
              "  </style>\n",
              "\n",
              "      <script>\n",
              "        const buttonEl =\n",
              "          document.querySelector('#df-8334e5e5-094c-4046-9007-7cf3e6a0ace3 button.colab-df-convert');\n",
              "        buttonEl.style.display =\n",
              "          google.colab.kernel.accessAllowed ? 'block' : 'none';\n",
              "\n",
              "        async function convertToInteractive(key) {\n",
              "          const element = document.querySelector('#df-8334e5e5-094c-4046-9007-7cf3e6a0ace3');\n",
              "          const dataTable =\n",
              "            await google.colab.kernel.invokeFunction('convertToInteractive',\n",
              "                                                     [key], {});\n",
              "          if (!dataTable) return;\n",
              "\n",
              "          const docLinkHtml = 'Like what you see? Visit the ' +\n",
              "            '<a target=\"_blank\" href=https://colab.research.google.com/notebooks/data_table.ipynb>data table notebook</a>'\n",
              "            + ' to learn more about interactive tables.';\n",
              "          element.innerHTML = '';\n",
              "          dataTable['output_type'] = 'display_data';\n",
              "          await google.colab.output.renderOutput(dataTable, element);\n",
              "          const docLink = document.createElement('div');\n",
              "          docLink.innerHTML = docLinkHtml;\n",
              "          element.appendChild(docLink);\n",
              "        }\n",
              "      </script>\n",
              "    </div>\n",
              "  </div>\n",
              "  "
            ]
          },
          "metadata": {},
          "execution_count": 608
        }
      ]
    },
    {
      "cell_type": "code",
      "source": [
        "y_full_pred_final['predicted'] = y_full_pred_final.Churn_Prob.map(lambda x: 1 if x > 0.3 else 0)\n",
        "\n",
        "# Let's see the head\n",
        "y_full_pred_final.head()"
      ],
      "metadata": {
        "colab": {
          "base_uri": "https://localhost:8080/",
          "height": 206
        },
        "id": "J2jVGh_OfpTI",
        "outputId": "10495b50-d5a2-444f-edb1-436236577f38"
      },
      "execution_count": null,
      "outputs": [
        {
          "output_type": "execute_result",
          "data": {
            "text/plain": [
              "   Churn  Churn_Prob  customer_id  predicted\n",
              "0      1    0.540049            3          1\n",
              "1      0    0.764332            8          1\n",
              "2      0    0.320085            9          1\n",
              "3      0    0.011071           11          0\n",
              "4      0    0.011442           15          0"
            ],
            "text/html": [
              "\n",
              "  <div id=\"df-ab36ed09-53d8-4a21-9e2c-43dfefba04e6\">\n",
              "    <div class=\"colab-df-container\">\n",
              "      <div>\n",
              "<style scoped>\n",
              "    .dataframe tbody tr th:only-of-type {\n",
              "        vertical-align: middle;\n",
              "    }\n",
              "\n",
              "    .dataframe tbody tr th {\n",
              "        vertical-align: top;\n",
              "    }\n",
              "\n",
              "    .dataframe thead th {\n",
              "        text-align: right;\n",
              "    }\n",
              "</style>\n",
              "<table border=\"1\" class=\"dataframe\">\n",
              "  <thead>\n",
              "    <tr style=\"text-align: right;\">\n",
              "      <th></th>\n",
              "      <th>Churn</th>\n",
              "      <th>Churn_Prob</th>\n",
              "      <th>customer_id</th>\n",
              "      <th>predicted</th>\n",
              "    </tr>\n",
              "  </thead>\n",
              "  <tbody>\n",
              "    <tr>\n",
              "      <th>0</th>\n",
              "      <td>1</td>\n",
              "      <td>0.540049</td>\n",
              "      <td>3</td>\n",
              "      <td>1</td>\n",
              "    </tr>\n",
              "    <tr>\n",
              "      <th>1</th>\n",
              "      <td>0</td>\n",
              "      <td>0.764332</td>\n",
              "      <td>8</td>\n",
              "      <td>1</td>\n",
              "    </tr>\n",
              "    <tr>\n",
              "      <th>2</th>\n",
              "      <td>0</td>\n",
              "      <td>0.320085</td>\n",
              "      <td>9</td>\n",
              "      <td>1</td>\n",
              "    </tr>\n",
              "    <tr>\n",
              "      <th>3</th>\n",
              "      <td>0</td>\n",
              "      <td>0.011071</td>\n",
              "      <td>11</td>\n",
              "      <td>0</td>\n",
              "    </tr>\n",
              "    <tr>\n",
              "      <th>4</th>\n",
              "      <td>0</td>\n",
              "      <td>0.011442</td>\n",
              "      <td>15</td>\n",
              "      <td>0</td>\n",
              "    </tr>\n",
              "  </tbody>\n",
              "</table>\n",
              "</div>\n",
              "      <button class=\"colab-df-convert\" onclick=\"convertToInteractive('df-ab36ed09-53d8-4a21-9e2c-43dfefba04e6')\"\n",
              "              title=\"Convert this dataframe to an interactive table.\"\n",
              "              style=\"display:none;\">\n",
              "        \n",
              "  <svg xmlns=\"http://www.w3.org/2000/svg\" height=\"24px\"viewBox=\"0 0 24 24\"\n",
              "       width=\"24px\">\n",
              "    <path d=\"M0 0h24v24H0V0z\" fill=\"none\"/>\n",
              "    <path d=\"M18.56 5.44l.94 2.06.94-2.06 2.06-.94-2.06-.94-.94-2.06-.94 2.06-2.06.94zm-11 1L8.5 8.5l.94-2.06 2.06-.94-2.06-.94L8.5 2.5l-.94 2.06-2.06.94zm10 10l.94 2.06.94-2.06 2.06-.94-2.06-.94-.94-2.06-.94 2.06-2.06.94z\"/><path d=\"M17.41 7.96l-1.37-1.37c-.4-.4-.92-.59-1.43-.59-.52 0-1.04.2-1.43.59L10.3 9.45l-7.72 7.72c-.78.78-.78 2.05 0 2.83L4 21.41c.39.39.9.59 1.41.59.51 0 1.02-.2 1.41-.59l7.78-7.78 2.81-2.81c.8-.78.8-2.07 0-2.86zM5.41 20L4 18.59l7.72-7.72 1.47 1.35L5.41 20z\"/>\n",
              "  </svg>\n",
              "      </button>\n",
              "      \n",
              "  <style>\n",
              "    .colab-df-container {\n",
              "      display:flex;\n",
              "      flex-wrap:wrap;\n",
              "      gap: 12px;\n",
              "    }\n",
              "\n",
              "    .colab-df-convert {\n",
              "      background-color: #E8F0FE;\n",
              "      border: none;\n",
              "      border-radius: 50%;\n",
              "      cursor: pointer;\n",
              "      display: none;\n",
              "      fill: #1967D2;\n",
              "      height: 32px;\n",
              "      padding: 0 0 0 0;\n",
              "      width: 32px;\n",
              "    }\n",
              "\n",
              "    .colab-df-convert:hover {\n",
              "      background-color: #E2EBFA;\n",
              "      box-shadow: 0px 1px 2px rgba(60, 64, 67, 0.3), 0px 1px 3px 1px rgba(60, 64, 67, 0.15);\n",
              "      fill: #174EA6;\n",
              "    }\n",
              "\n",
              "    [theme=dark] .colab-df-convert {\n",
              "      background-color: #3B4455;\n",
              "      fill: #D2E3FC;\n",
              "    }\n",
              "\n",
              "    [theme=dark] .colab-df-convert:hover {\n",
              "      background-color: #434B5C;\n",
              "      box-shadow: 0px 1px 3px 1px rgba(0, 0, 0, 0.15);\n",
              "      filter: drop-shadow(0px 1px 2px rgba(0, 0, 0, 0.3));\n",
              "      fill: #FFFFFF;\n",
              "    }\n",
              "  </style>\n",
              "\n",
              "      <script>\n",
              "        const buttonEl =\n",
              "          document.querySelector('#df-ab36ed09-53d8-4a21-9e2c-43dfefba04e6 button.colab-df-convert');\n",
              "        buttonEl.style.display =\n",
              "          google.colab.kernel.accessAllowed ? 'block' : 'none';\n",
              "\n",
              "        async function convertToInteractive(key) {\n",
              "          const element = document.querySelector('#df-ab36ed09-53d8-4a21-9e2c-43dfefba04e6');\n",
              "          const dataTable =\n",
              "            await google.colab.kernel.invokeFunction('convertToInteractive',\n",
              "                                                     [key], {});\n",
              "          if (!dataTable) return;\n",
              "\n",
              "          const docLinkHtml = 'Like what you see? Visit the ' +\n",
              "            '<a target=\"_blank\" href=https://colab.research.google.com/notebooks/data_table.ipynb>data table notebook</a>'\n",
              "            + ' to learn more about interactive tables.';\n",
              "          element.innerHTML = '';\n",
              "          dataTable['output_type'] = 'display_data';\n",
              "          await google.colab.output.renderOutput(dataTable, element);\n",
              "          const docLink = document.createElement('div');\n",
              "          docLink.innerHTML = docLinkHtml;\n",
              "          element.appendChild(docLink);\n",
              "        }\n",
              "      </script>\n",
              "    </div>\n",
              "  </div>\n",
              "  "
            ]
          },
          "metadata": {},
          "execution_count": 571
        }
      ]
    },
    {
      "cell_type": "code",
      "source": [
        "# Let's check the overall accuracy.\n",
        "print(metrics.accuracy_score(y_full_pred_final.Churn, y_full_pred_final.predicted))"
      ],
      "metadata": {
        "colab": {
          "base_uri": "https://localhost:8080/"
        },
        "id": "BuwvHpmkfwNi",
        "outputId": "426ef56a-d5d6-4c59-bda1-1eaa75e2817a"
      },
      "execution_count": null,
      "outputs": [
        {
          "output_type": "stream",
          "name": "stdout",
          "text": [
            "0.8556514844507092\n"
          ]
        }
      ]
    },
    {
      "cell_type": "code",
      "source": [
        "predictions = pd.DataFrame()\n",
        "predictions['true'] = y_train\n",
        "predictions['preds'] = rf.predict(X_train)"
      ],
      "metadata": {
        "id": "04AZ-65-f2am"
      },
      "execution_count": null,
      "outputs": []
    },
    {
      "cell_type": "code",
      "source": [
        "predictions_test = pd.DataFrame()\n",
        "predictions_test['true'] = y_test\n",
        "predictions_test['preds'] = rf.predict(X_test)"
      ],
      "metadata": {
        "id": "1uEi77fQf8Vz"
      },
      "execution_count": null,
      "outputs": []
    },
    {
      "cell_type": "code",
      "source": [
        "from sklearn.metrics import classification_report, accuracy_score\n",
        "train_acc = accuracy_score(predictions.true, predictions.preds)\n",
        "test_acc = accuracy_score(predictions_test.true, predictions_test.preds)\n",
        "\n",
        "print(f\"Train Acc: {train_acc:.4f}, Test Acc: {test_acc:.4f}\")"
      ],
      "metadata": {
        "colab": {
          "base_uri": "https://localhost:8080/"
        },
        "id": "fhEuHNGNgAml",
        "outputId": "ea71482e-90d0-4bd9-ae4f-5c88d287b100"
      },
      "execution_count": null,
      "outputs": [
        {
          "output_type": "stream",
          "name": "stdout",
          "text": [
            "Train Acc: 0.8729, Test Acc: 0.8606\n"
          ]
        }
      ]
    },
    {
      "cell_type": "code",
      "source": [
        "print(classification_report(predictions.true, predictions.preds))"
      ],
      "metadata": {
        "colab": {
          "base_uri": "https://localhost:8080/"
        },
        "id": "P1ixMzqEgERK",
        "outputId": "7278dbb6-cfb3-4c9d-fea6-c60924554408"
      },
      "execution_count": null,
      "outputs": [
        {
          "output_type": "stream",
          "name": "stdout",
          "text": [
            "              precision    recall  f1-score   support\n",
            "\n",
            "           0       0.96      0.79      0.87      8877\n",
            "           1       0.81      0.96      0.88      8149\n",
            "\n",
            "    accuracy                           0.87     17026\n",
            "   macro avg       0.88      0.88      0.87     17026\n",
            "weighted avg       0.89      0.87      0.87     17026\n",
            "\n"
          ]
        }
      ]
    },
    {
      "cell_type": "code",
      "source": [
        "print(classification_report(predictions_test.true, predictions_test.preds))"
      ],
      "metadata": {
        "colab": {
          "base_uri": "https://localhost:8080/"
        },
        "id": "atdSEoOmgHC3",
        "outputId": "32d0614e-8d11-474c-ba09-2fd1c3af50c4"
      },
      "execution_count": null,
      "outputs": [
        {
          "output_type": "stream",
          "name": "stdout",
          "text": [
            "              precision    recall  f1-score   support\n",
            "\n",
            "           0       0.95      0.77      0.85      2932\n",
            "           1       0.80      0.95      0.87      2744\n",
            "\n",
            "    accuracy                           0.86      5676\n",
            "   macro avg       0.87      0.86      0.86      5676\n",
            "weighted avg       0.87      0.86      0.86      5676\n",
            "\n"
          ]
        }
      ]
    },
    {
      "cell_type": "code",
      "source": [
        "probs = rf.predict_proba(X_test)[:, 1]\n",
        "probs"
      ],
      "metadata": {
        "colab": {
          "base_uri": "https://localhost:8080/"
        },
        "id": "PmDc7I7XgKHi",
        "outputId": "914b55a1-01d2-472b-d540-d63d421ba9bc"
      },
      "execution_count": null,
      "outputs": [
        {
          "output_type": "execute_result",
          "data": {
            "text/plain": [
              "array([0.99747401, 0.62356526, 0.0149986 , ..., 0.03316835, 0.00413851,\n",
              "       0.0225599 ])"
            ]
          },
          "metadata": {},
          "execution_count": 581
        }
      ]
    },
    {
      "cell_type": "code",
      "source": [
        "from matplotlib.pyplot import figure\n",
        "plt.figure(figsize=(12, 8))\n",
        "\n",
        "plt.hist(probs, bins = int(180/6))\n",
        "plt.title('Probability Distribution of Churn Risk')\n",
        "plt.xlabel('Churn Risk')\n",
        "plt.ylabel('# Customers')\n",
        "plt.show()"
      ],
      "metadata": {
        "colab": {
          "base_uri": "https://localhost:8080/",
          "height": 522
        },
        "id": "8fqh7zHUgN-1",
        "outputId": "52df9c77-9698-43ae-c2e6-5eef0617882d"
      },
      "execution_count": null,
      "outputs": [
        {
          "output_type": "display_data",
          "data": {
            "text/plain": [
              "<Figure size 864x576 with 1 Axes>"
            ],
            "image/png": "[encoded data removed]"
          },
          "metadata": {}
        }
      ]
    },
    {
      "cell_type": "markdown",
      "source": [
        "# Merge Prediction Table "
      ],
      "metadata": {
        "id": "WR6SEI7agZeP"
      }
    },
    {
      "cell_type": "code",
      "source": [
        "y_full_pred_final"
      ],
      "metadata": {
        "colab": {
          "base_uri": "https://localhost:8080/",
          "height": 423
        },
        "id": "9Xz6mz6-gbEW",
        "outputId": "3d6570ae-4162-40dc-a5a1-694bbe9ace95"
      },
      "execution_count": null,
      "outputs": [
        {
          "output_type": "execute_result",
          "data": {
            "text/plain": [
              "       Churn  Churn_Prob  customer_id  predicted\n",
              "0          1    0.540049            3          1\n",
              "1          0    0.764332            8          1\n",
              "2          0    0.320085            9          1\n",
              "3          0    0.011071           11          0\n",
              "4          0    0.011442           15          0\n",
              "...      ...         ...          ...        ...\n",
              "22697      1    0.003110        44872          0\n",
              "22698      1    0.003110        44874          0\n",
              "22699      1    0.003110        44875          0\n",
              "22700      1    0.003110        44876          0\n",
              "22701      1    0.003110        44880          0\n",
              "\n",
              "[22702 rows x 4 columns]"
            ],
            "text/html": [
              "\n",
              "  <div id=\"df-73938e7d-3cba-4613-9678-ad592d6888b7\">\n",
              "    <div class=\"colab-df-container\">\n",
              "      <div>\n",
              "<style scoped>\n",
              "    .dataframe tbody tr th:only-of-type {\n",
              "        vertical-align: middle;\n",
              "    }\n",
              "\n",
              "    .dataframe tbody tr th {\n",
              "        vertical-align: top;\n",
              "    }\n",
              "\n",
              "    .dataframe thead th {\n",
              "        text-align: right;\n",
              "    }\n",
              "</style>\n",
              "<table border=\"1\" class=\"dataframe\">\n",
              "  <thead>\n",
              "    <tr style=\"text-align: right;\">\n",
              "      <th></th>\n",
              "      <th>Churn</th>\n",
              "      <th>Churn_Prob</th>\n",
              "      <th>customer_id</th>\n",
              "      <th>predicted</th>\n",
              "    </tr>\n",
              "  </thead>\n",
              "  <tbody>\n",
              "    <tr>\n",
              "      <th>0</th>\n",
              "      <td>1</td>\n",
              "      <td>0.540049</td>\n",
              "      <td>3</td>\n",
              "      <td>1</td>\n",
              "    </tr>\n",
              "    <tr>\n",
              "      <th>1</th>\n",
              "      <td>0</td>\n",
              "      <td>0.764332</td>\n",
              "      <td>8</td>\n",
              "      <td>1</td>\n",
              "    </tr>\n",
              "    <tr>\n",
              "      <th>2</th>\n",
              "      <td>0</td>\n",
              "      <td>0.320085</td>\n",
              "      <td>9</td>\n",
              "      <td>1</td>\n",
              "    </tr>\n",
              "    <tr>\n",
              "      <th>3</th>\n",
              "      <td>0</td>\n",
              "      <td>0.011071</td>\n",
              "      <td>11</td>\n",
              "      <td>0</td>\n",
              "    </tr>\n",
              "    <tr>\n",
              "      <th>4</th>\n",
              "      <td>0</td>\n",
              "      <td>0.011442</td>\n",
              "      <td>15</td>\n",
              "      <td>0</td>\n",
              "    </tr>\n",
              "    <tr>\n",
              "      <th>...</th>\n",
              "      <td>...</td>\n",
              "      <td>...</td>\n",
              "      <td>...</td>\n",
              "      <td>...</td>\n",
              "    </tr>\n",
              "    <tr>\n",
              "      <th>22697</th>\n",
              "      <td>1</td>\n",
              "      <td>0.003110</td>\n",
              "      <td>44872</td>\n",
              "      <td>0</td>\n",
              "    </tr>\n",
              "    <tr>\n",
              "      <th>22698</th>\n",
              "      <td>1</td>\n",
              "      <td>0.003110</td>\n",
              "      <td>44874</td>\n",
              "      <td>0</td>\n",
              "    </tr>\n",
              "    <tr>\n",
              "      <th>22699</th>\n",
              "      <td>1</td>\n",
              "      <td>0.003110</td>\n",
              "      <td>44875</td>\n",
              "      <td>0</td>\n",
              "    </tr>\n",
              "    <tr>\n",
              "      <th>22700</th>\n",
              "      <td>1</td>\n",
              "      <td>0.003110</td>\n",
              "      <td>44876</td>\n",
              "      <td>0</td>\n",
              "    </tr>\n",
              "    <tr>\n",
              "      <th>22701</th>\n",
              "      <td>1</td>\n",
              "      <td>0.003110</td>\n",
              "      <td>44880</td>\n",
              "      <td>0</td>\n",
              "    </tr>\n",
              "  </tbody>\n",
              "</table>\n",
              "<p>22702 rows × 4 columns</p>\n",
              "</div>\n",
              "      <button class=\"colab-df-convert\" onclick=\"convertToInteractive('df-73938e7d-3cba-4613-9678-ad592d6888b7')\"\n",
              "              title=\"Convert this dataframe to an interactive table.\"\n",
              "              style=\"display:none;\">\n",
              "        \n",
              "  <svg xmlns=\"http://www.w3.org/2000/svg\" height=\"24px\"viewBox=\"0 0 24 24\"\n",
              "       width=\"24px\">\n",
              "    <path d=\"M0 0h24v24H0V0z\" fill=\"none\"/>\n",
              "    <path d=\"M18.56 5.44l.94 2.06.94-2.06 2.06-.94-2.06-.94-.94-2.06-.94 2.06-2.06.94zm-11 1L8.5 8.5l.94-2.06 2.06-.94-2.06-.94L8.5 2.5l-.94 2.06-2.06.94zm10 10l.94 2.06.94-2.06 2.06-.94-2.06-.94-.94-2.06-.94 2.06-2.06.94z\"/><path d=\"M17.41 7.96l-1.37-1.37c-.4-.4-.92-.59-1.43-.59-.52 0-1.04.2-1.43.59L10.3 9.45l-7.72 7.72c-.78.78-.78 2.05 0 2.83L4 21.41c.39.39.9.59 1.41.59.51 0 1.02-.2 1.41-.59l7.78-7.78 2.81-2.81c.8-.78.8-2.07 0-2.86zM5.41 20L4 18.59l7.72-7.72 1.47 1.35L5.41 20z\"/>\n",
              "  </svg>\n",
              "      </button>\n",
              "      \n",
              "  <style>\n",
              "    .colab-df-container {\n",
              "      display:flex;\n",
              "      flex-wrap:wrap;\n",
              "      gap: 12px;\n",
              "    }\n",
              "\n",
              "    .colab-df-convert {\n",
              "      background-color: #E8F0FE;\n",
              "      border: none;\n",
              "      border-radius: 50%;\n",
              "      cursor: pointer;\n",
              "      display: none;\n",
              "      fill: #1967D2;\n",
              "      height: 32px;\n",
              "      padding: 0 0 0 0;\n",
              "      width: 32px;\n",
              "    }\n",
              "\n",
              "    .colab-df-convert:hover {\n",
              "      background-color: #E2EBFA;\n",
              "      box-shadow: 0px 1px 2px rgba(60, 64, 67, 0.3), 0px 1px 3px 1px rgba(60, 64, 67, 0.15);\n",
              "      fill: #174EA6;\n",
              "    }\n",
              "\n",
              "    [theme=dark] .colab-df-convert {\n",
              "      background-color: #3B4455;\n",
              "      fill: #D2E3FC;\n",
              "    }\n",
              "\n",
              "    [theme=dark] .colab-df-convert:hover {\n",
              "      background-color: #434B5C;\n",
              "      box-shadow: 0px 1px 3px 1px rgba(0, 0, 0, 0.15);\n",
              "      filter: drop-shadow(0px 1px 2px rgba(0, 0, 0, 0.3));\n",
              "      fill: #FFFFFF;\n",
              "    }\n",
              "  </style>\n",
              "\n",
              "      <script>\n",
              "        const buttonEl =\n",
              "          document.querySelector('#df-73938e7d-3cba-4613-9678-ad592d6888b7 button.colab-df-convert');\n",
              "        buttonEl.style.display =\n",
              "          google.colab.kernel.accessAllowed ? 'block' : 'none';\n",
              "\n",
              "        async function convertToInteractive(key) {\n",
              "          const element = document.querySelector('#df-73938e7d-3cba-4613-9678-ad592d6888b7');\n",
              "          const dataTable =\n",
              "            await google.colab.kernel.invokeFunction('convertToInteractive',\n",
              "                                                     [key], {});\n",
              "          if (!dataTable) return;\n",
              "\n",
              "          const docLinkHtml = 'Like what you see? Visit the ' +\n",
              "            '<a target=\"_blank\" href=https://colab.research.google.com/notebooks/data_table.ipynb>data table notebook</a>'\n",
              "            + ' to learn more about interactive tables.';\n",
              "          element.innerHTML = '';\n",
              "          dataTable['output_type'] = 'display_data';\n",
              "          await google.colab.output.renderOutput(dataTable, element);\n",
              "          const docLink = document.createElement('div');\n",
              "          docLink.innerHTML = docLinkHtml;\n",
              "          element.appendChild(docLink);\n",
              "        }\n",
              "      </script>\n",
              "    </div>\n",
              "  </div>\n",
              "  "
            ]
          },
          "metadata": {},
          "execution_count": 583
        }
      ]
    },
    {
      "cell_type": "code",
      "source": [
        "merged_all = segm_raw.merge(y_full_pred_final, on='customer_id', how='inner')\n",
        "merged_all.drop('segment_churn', axis=1)"
      ],
      "metadata": {
        "colab": {
          "base_uri": "https://localhost:8080/",
          "height": 487
        },
        "id": "gYCuB221gkGK",
        "outputId": "8d8f4e15-0efd-41cb-b85f-31db2195c140"
      },
      "execution_count": null,
      "outputs": [
        {
          "output_type": "execute_result",
          "data": {
            "text/plain": [
              "       customer_id  total_order  total_sales  basket_size  last_trans  \\\n",
              "0                3         49.0   20891374.0     426354.0  2022-06-26   \n",
              "1                8          7.0    3898561.0     556937.0  2022-05-15   \n",
              "2                9          6.0    2638665.0     439777.0  2022-05-28   \n",
              "3               11          1.0     197533.0     197533.0  2022-03-07   \n",
              "4               15          5.0    2134870.0     426974.0  2022-01-05   \n",
              "...            ...          ...          ...          ...         ...   \n",
              "22697        44872         21.0    5694642.0     271173.0  2022-07-20   \n",
              "22698        44874        127.0   78615783.0     619021.0  2022-07-27   \n",
              "22699        44875          1.0     305707.0     305707.0  2022-05-28   \n",
              "22700        44876         54.0   37951270.0     702801.0  2022-06-09   \n",
              "22701        44880         61.0   27388646.0     448994.0  2022-07-02   \n",
              "\n",
              "       last_purchase segment_monetary segment_first  Churn  Churn_Prob  \n",
              "0                 36           Normal        Active      1    0.540049  \n",
              "1                 78           Normal        Active      0    0.764332  \n",
              "2                 65           Normal        Active      0    0.320085  \n",
              "3                147      Low Spender   First Timer      0    0.011071  \n",
              "4                208           Normal     Defecting      0    0.011442  \n",
              "...              ...              ...           ...    ...         ...  \n",
              "22697             12      Low Spender        Active      1    0.003110  \n",
              "22698              5           Normal        Active      1    0.003110  \n",
              "22699             65           Normal   First Timer      1    0.003110  \n",
              "22700             53           Normal        Active      1    0.003110  \n",
              "22701             30           Normal        Active      1    0.003110  \n",
              "\n",
              "[22702 rows x 10 columns]"
            ],
            "text/html": [
              "\n",
              "  <div id=\"df-ea9b0424-0fe4-474e-9ea0-b087bb6447b3\">\n",
              "    <div class=\"colab-df-container\">\n",
              "      <div>\n",
              "<style scoped>\n",
              "    .dataframe tbody tr th:only-of-type {\n",
              "        vertical-align: middle;\n",
              "    }\n",
              "\n",
              "    .dataframe tbody tr th {\n",
              "        vertical-align: top;\n",
              "    }\n",
              "\n",
              "    .dataframe thead th {\n",
              "        text-align: right;\n",
              "    }\n",
              "</style>\n",
              "<table border=\"1\" class=\"dataframe\">\n",
              "  <thead>\n",
              "    <tr style=\"text-align: right;\">\n",
              "      <th></th>\n",
              "      <th>customer_id</th>\n",
              "      <th>total_order</th>\n",
              "      <th>total_sales</th>\n",
              "      <th>basket_size</th>\n",
              "      <th>last_trans</th>\n",
              "      <th>last_purchase</th>\n",
              "      <th>segment_monetary</th>\n",
              "      <th>segment_first</th>\n",
              "      <th>Churn</th>\n",
              "      <th>Churn_Prob</th>\n",
              "    </tr>\n",
              "  </thead>\n",
              "  <tbody>\n",
              "    <tr>\n",
              "      <th>0</th>\n",
              "      <td>3</td>\n",
              "      <td>49.0</td>\n",
              "      <td>20891374.0</td>\n",
              "      <td>426354.0</td>\n",
              "      <td>2022-06-26</td>\n",
              "      <td>36</td>\n",
              "      <td>Normal</td>\n",
              "      <td>Active</td>\n",
              "      <td>1</td>\n",
              "      <td>0.540049</td>\n",
              "    </tr>\n",
              "    <tr>\n",
              "      <th>1</th>\n",
              "      <td>8</td>\n",
              "      <td>7.0</td>\n",
              "      <td>3898561.0</td>\n",
              "      <td>556937.0</td>\n",
              "      <td>2022-05-15</td>\n",
              "      <td>78</td>\n",
              "      <td>Normal</td>\n",
              "      <td>Active</td>\n",
              "      <td>0</td>\n",
              "      <td>0.764332</td>\n",
              "    </tr>\n",
              "    <tr>\n",
              "      <th>2</th>\n",
              "      <td>9</td>\n",
              "      <td>6.0</td>\n",
              "      <td>2638665.0</td>\n",
              "      <td>439777.0</td>\n",
              "      <td>2022-05-28</td>\n",
              "      <td>65</td>\n",
              "      <td>Normal</td>\n",
              "      <td>Active</td>\n",
              "      <td>0</td>\n",
              "      <td>0.320085</td>\n",
              "    </tr>\n",
              "    <tr>\n",
              "      <th>3</th>\n",
              "      <td>11</td>\n",
              "      <td>1.0</td>\n",
              "      <td>197533.0</td>\n",
              "      <td>197533.0</td>\n",
              "      <td>2022-03-07</td>\n",
              "      <td>147</td>\n",
              "      <td>Low Spender</td>\n",
              "      <td>First Timer</td>\n",
              "      <td>0</td>\n",
              "      <td>0.011071</td>\n",
              "    </tr>\n",
              "    <tr>\n",
              "      <th>4</th>\n",
              "      <td>15</td>\n",
              "      <td>5.0</td>\n",
              "      <td>2134870.0</td>\n",
              "      <td>426974.0</td>\n",
              "      <td>2022-01-05</td>\n",
              "      <td>208</td>\n",
              "      <td>Normal</td>\n",
              "      <td>Defecting</td>\n",
              "      <td>0</td>\n",
              "      <td>0.011442</td>\n",
              "    </tr>\n",
              "    <tr>\n",
              "      <th>...</th>\n",
              "      <td>...</td>\n",
              "      <td>...</td>\n",
              "      <td>...</td>\n",
              "      <td>...</td>\n",
              "      <td>...</td>\n",
              "      <td>...</td>\n",
              "      <td>...</td>\n",
              "      <td>...</td>\n",
              "      <td>...</td>\n",
              "      <td>...</td>\n",
              "    </tr>\n",
              "    <tr>\n",
              "      <th>22697</th>\n",
              "      <td>44872</td>\n",
              "      <td>21.0</td>\n",
              "      <td>5694642.0</td>\n",
              "      <td>271173.0</td>\n",
              "      <td>2022-07-20</td>\n",
              "      <td>12</td>\n",
              "      <td>Low Spender</td>\n",
              "      <td>Active</td>\n",
              "      <td>1</td>\n",
              "      <td>0.003110</td>\n",
              "    </tr>\n",
              "    <tr>\n",
              "      <th>22698</th>\n",
              "      <td>44874</td>\n",
              "      <td>127.0</td>\n",
              "      <td>78615783.0</td>\n",
              "      <td>619021.0</td>\n",
              "      <td>2022-07-27</td>\n",
              "      <td>5</td>\n",
              "      <td>Normal</td>\n",
              "      <td>Active</td>\n",
              "      <td>1</td>\n",
              "      <td>0.003110</td>\n",
              "    </tr>\n",
              "    <tr>\n",
              "      <th>22699</th>\n",
              "      <td>44875</td>\n",
              "      <td>1.0</td>\n",
              "      <td>305707.0</td>\n",
              "      <td>305707.0</td>\n",
              "      <td>2022-05-28</td>\n",
              "      <td>65</td>\n",
              "      <td>Normal</td>\n",
              "      <td>First Timer</td>\n",
              "      <td>1</td>\n",
              "      <td>0.003110</td>\n",
              "    </tr>\n",
              "    <tr>\n",
              "      <th>22700</th>\n",
              "      <td>44876</td>\n",
              "      <td>54.0</td>\n",
              "      <td>37951270.0</td>\n",
              "      <td>702801.0</td>\n",
              "      <td>2022-06-09</td>\n",
              "      <td>53</td>\n",
              "      <td>Normal</td>\n",
              "      <td>Active</td>\n",
              "      <td>1</td>\n",
              "      <td>0.003110</td>\n",
              "    </tr>\n",
              "    <tr>\n",
              "      <th>22701</th>\n",
              "      <td>44880</td>\n",
              "      <td>61.0</td>\n",
              "      <td>27388646.0</td>\n",
              "      <td>448994.0</td>\n",
              "      <td>2022-07-02</td>\n",
              "      <td>30</td>\n",
              "      <td>Normal</td>\n",
              "      <td>Active</td>\n",
              "      <td>1</td>\n",
              "      <td>0.003110</td>\n",
              "    </tr>\n",
              "  </tbody>\n",
              "</table>\n",
              "<p>22702 rows × 10 columns</p>\n",
              "</div>\n",
              "      <button class=\"colab-df-convert\" onclick=\"convertToInteractive('df-ea9b0424-0fe4-474e-9ea0-b087bb6447b3')\"\n",
              "              title=\"Convert this dataframe to an interactive table.\"\n",
              "              style=\"display:none;\">\n",
              "        \n",
              "  <svg xmlns=\"http://www.w3.org/2000/svg\" height=\"24px\"viewBox=\"0 0 24 24\"\n",
              "       width=\"24px\">\n",
              "    <path d=\"M0 0h24v24H0V0z\" fill=\"none\"/>\n",
              "    <path d=\"M18.56 5.44l.94 2.06.94-2.06 2.06-.94-2.06-.94-.94-2.06-.94 2.06-2.06.94zm-11 1L8.5 8.5l.94-2.06 2.06-.94-2.06-.94L8.5 2.5l-.94 2.06-2.06.94zm10 10l.94 2.06.94-2.06 2.06-.94-2.06-.94-.94-2.06-.94 2.06-2.06.94z\"/><path d=\"M17.41 7.96l-1.37-1.37c-.4-.4-.92-.59-1.43-.59-.52 0-1.04.2-1.43.59L10.3 9.45l-7.72 7.72c-.78.78-.78 2.05 0 2.83L4 21.41c.39.39.9.59 1.41.59.51 0 1.02-.2 1.41-.59l7.78-7.78 2.81-2.81c.8-.78.8-2.07 0-2.86zM5.41 20L4 18.59l7.72-7.72 1.47 1.35L5.41 20z\"/>\n",
              "  </svg>\n",
              "      </button>\n",
              "      \n",
              "  <style>\n",
              "    .colab-df-container {\n",
              "      display:flex;\n",
              "      flex-wrap:wrap;\n",
              "      gap: 12px;\n",
              "    }\n",
              "\n",
              "    .colab-df-convert {\n",
              "      background-color: #E8F0FE;\n",
              "      border: none;\n",
              "      border-radius: 50%;\n",
              "      cursor: pointer;\n",
              "      display: none;\n",
              "      fill: #1967D2;\n",
              "      height: 32px;\n",
              "      padding: 0 0 0 0;\n",
              "      width: 32px;\n",
              "    }\n",
              "\n",
              "    .colab-df-convert:hover {\n",
              "      background-color: #E2EBFA;\n",
              "      box-shadow: 0px 1px 2px rgba(60, 64, 67, 0.3), 0px 1px 3px 1px rgba(60, 64, 67, 0.15);\n",
              "      fill: #174EA6;\n",
              "    }\n",
              "\n",
              "    [theme=dark] .colab-df-convert {\n",
              "      background-color: #3B4455;\n",
              "      fill: #D2E3FC;\n",
              "    }\n",
              "\n",
              "    [theme=dark] .colab-df-convert:hover {\n",
              "      background-color: #434B5C;\n",
              "      box-shadow: 0px 1px 3px 1px rgba(0, 0, 0, 0.15);\n",
              "      filter: drop-shadow(0px 1px 2px rgba(0, 0, 0, 0.3));\n",
              "      fill: #FFFFFF;\n",
              "    }\n",
              "  </style>\n",
              "\n",
              "      <script>\n",
              "        const buttonEl =\n",
              "          document.querySelector('#df-ea9b0424-0fe4-474e-9ea0-b087bb6447b3 button.colab-df-convert');\n",
              "        buttonEl.style.display =\n",
              "          google.colab.kernel.accessAllowed ? 'block' : 'none';\n",
              "\n",
              "        async function convertToInteractive(key) {\n",
              "          const element = document.querySelector('#df-ea9b0424-0fe4-474e-9ea0-b087bb6447b3');\n",
              "          const dataTable =\n",
              "            await google.colab.kernel.invokeFunction('convertToInteractive',\n",
              "                                                     [key], {});\n",
              "          if (!dataTable) return;\n",
              "\n",
              "          const docLinkHtml = 'Like what you see? Visit the ' +\n",
              "            '<a target=\"_blank\" href=https://colab.research.google.com/notebooks/data_table.ipynb>data table notebook</a>'\n",
              "            + ' to learn more about interactive tables.';\n",
              "          element.innerHTML = '';\n",
              "          dataTable['output_type'] = 'display_data';\n",
              "          await google.colab.output.renderOutput(dataTable, element);\n",
              "          const docLink = document.createElement('div');\n",
              "          docLink.innerHTML = docLinkHtml;\n",
              "          element.appendChild(docLink);\n",
              "        }\n",
              "      </script>\n",
              "    </div>\n",
              "  </div>\n",
              "  "
            ]
          },
          "metadata": {},
          "execution_count": 609
        }
      ]
    },
    {
      "cell_type": "code",
      "source": [
        "merged_all['segment_churn'].value_counts()"
      ],
      "metadata": {
        "colab": {
          "base_uri": "https://localhost:8080/"
        },
        "id": "aJP8B3PniDst",
        "outputId": "e391b024-d2b3-4465-abf8-2801e2f93598"
      },
      "execution_count": null,
      "outputs": [
        {
          "output_type": "execute_result",
          "data": {
            "text/plain": [
              "Churn        11752\n",
              "Non Churn    10950\n",
              "Name: segment_churn, dtype: int64"
            ]
          },
          "metadata": {},
          "execution_count": 614
        }
      ]
    },
    {
      "cell_type": "code",
      "source": [
        "merged_all.to_csv('Final Banget.csv',index=False)"
      ],
      "metadata": {
        "id": "bigYO5EXnhvB"
      },
      "execution_count": null,
      "outputs": []
    }
  ]
}